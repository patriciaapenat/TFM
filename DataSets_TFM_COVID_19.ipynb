{
 "cells": [
  {
   "cell_type": "markdown",
   "metadata": {
    "id": "rMDCXP8at6us"
   },
   "source": [
    "### **Fuente de Datos - Ficheros WHO OMS**\n",
    "**https://covid19.who.int/data**<br>\n",
    "**https://ourworldindata.org/coronavirus#coronavirus-country-profiles**<br>\n",
    "\n",
    "\n",
    "#### Descarga de datos\n",
    "\n",
    "**1.- Casos diarios y muertes por fecha notificados a la OMS:** https://covid19.who.int/WHO-COVID-19-global-data.csv<br>\n",
    "**2.- Últimos recuentos informados de casos y muertes:** https://covid19.who.int/WHO-COVID-19-global-table-data.csv<br>\n",
    "**3.- Datos de vacunación:** https://covid19.who.int/who-data/vaccination-data.csv<br>\n",
    "**4.- Metadatos de vacunación:**https://covid19.who.int/who-data/vaccination-metadata.csv<br>\n"
   ]
  },
  {
   "cell_type": "markdown",
   "metadata": {
    "id": "719dxmDl21d-"
   },
   "source": [
    "**🧾Informacion del Dataset**<br>\n",
    "*  Los usuarios deben tener en cuenta que, además de capturar nuevos casos y muertes notificadas en un día determinado, las actualizaciones se realizan retrospectivamente para corregir los recuentos de días anteriores según sea necesario en función de la información recibida posteriormente. Consulte \"Datos agregados diarios de recuento de casos y muertes\" más arriba para obtener más detalles sobre el cálculo de nuevos casos/muertes."
   ]
  },
  {
   "cell_type": "markdown",
   "metadata": {},
   "source": [
    "****Resumen de la Información COVID 19<br>****\n",
    "En todo el mundo , a las 15:49 CEST del **24 de mayo de 2023** , ha habido **766.895.075 casos confirmados de COVID-19**, incluidas **6.935.889 muertes** , notificadas a la OMS. A **23 May 2023** se han administrado un total de **13.355.264.024 dosis de vacunas**\n",
    "import pandas as pd\n",
    "import numpy as np\n",
    "from datetime import datetime\n",
    "El Fichero **WHO-COVID-19-global-table-data.csv** en ocasiones no está actualizado y no se puede descargar de la página Web.\n",
    "# Acceso a los datasets de la OMS:"
   ]
  },
  {
   "cell_type": "markdown",
   "metadata": {},
   "source": [
    "Exloración e Información del DataFrame **df_vacunation**"
   ]
  },
  {
   "cell_type": "code",
   "execution_count": 2,
   "metadata": {},
   "outputs": [],
   "source": [
    "import pandas as pd"
   ]
  },
  {
   "cell_type": "code",
   "execution_count": 9,
   "metadata": {},
   "outputs": [
    {
     "data": {
      "text/html": [
       "<div>\n",
       "<style scoped>\n",
       "    .dataframe tbody tr th:only-of-type {\n",
       "        vertical-align: middle;\n",
       "    }\n",
       "\n",
       "    .dataframe tbody tr th {\n",
       "        vertical-align: top;\n",
       "    }\n",
       "\n",
       "    .dataframe thead th {\n",
       "        text-align: right;\n",
       "    }\n",
       "</style>\n",
       "<table border=\"1\" class=\"dataframe\">\n",
       "  <thead>\n",
       "    <tr style=\"text-align: right;\">\n",
       "      <th></th>\n",
       "      <th>entity</th>\n",
       "      <th>iso_code</th>\n",
       "      <th>date</th>\n",
       "      <th>indicator</th>\n",
       "      <th>value</th>\n",
       "    </tr>\n",
       "  </thead>\n",
       "  <tbody>\n",
       "    <tr>\n",
       "      <th>0</th>\n",
       "      <td>Algeria</td>\n",
       "      <td>DZA</td>\n",
       "      <td>2020-07-17</td>\n",
       "      <td>Daily ICU occupancy</td>\n",
       "      <td>62.000</td>\n",
       "    </tr>\n",
       "    <tr>\n",
       "      <th>1</th>\n",
       "      <td>Algeria</td>\n",
       "      <td>DZA</td>\n",
       "      <td>2020-07-17</td>\n",
       "      <td>Daily ICU occupancy per million</td>\n",
       "      <td>1.381</td>\n",
       "    </tr>\n",
       "    <tr>\n",
       "      <th>2</th>\n",
       "      <td>Algeria</td>\n",
       "      <td>DZA</td>\n",
       "      <td>2020-07-18</td>\n",
       "      <td>Daily ICU occupancy</td>\n",
       "      <td>67.000</td>\n",
       "    </tr>\n",
       "    <tr>\n",
       "      <th>3</th>\n",
       "      <td>Algeria</td>\n",
       "      <td>DZA</td>\n",
       "      <td>2020-07-18</td>\n",
       "      <td>Daily ICU occupancy per million</td>\n",
       "      <td>1.492</td>\n",
       "    </tr>\n",
       "    <tr>\n",
       "      <th>4</th>\n",
       "      <td>Algeria</td>\n",
       "      <td>DZA</td>\n",
       "      <td>2020-07-20</td>\n",
       "      <td>Daily ICU occupancy</td>\n",
       "      <td>64.000</td>\n",
       "    </tr>\n",
       "    <tr>\n",
       "      <th>...</th>\n",
       "      <td>...</td>\n",
       "      <td>...</td>\n",
       "      <td>...</td>\n",
       "      <td>...</td>\n",
       "      <td>...</td>\n",
       "    </tr>\n",
       "    <tr>\n",
       "      <th>211473</th>\n",
       "      <td>Wales</td>\n",
       "      <td>OWID_WLS</td>\n",
       "      <td>2023-06-14</td>\n",
       "      <td>Daily ICU occupancy per million</td>\n",
       "      <td>0.315</td>\n",
       "    </tr>\n",
       "    <tr>\n",
       "      <th>211474</th>\n",
       "      <td>Wales</td>\n",
       "      <td>OWID_WLS</td>\n",
       "      <td>2023-06-14</td>\n",
       "      <td>Daily hospital occupancy</td>\n",
       "      <td>222.000</td>\n",
       "    </tr>\n",
       "    <tr>\n",
       "      <th>211475</th>\n",
       "      <td>Wales</td>\n",
       "      <td>OWID_WLS</td>\n",
       "      <td>2023-06-14</td>\n",
       "      <td>Daily hospital occupancy per million</td>\n",
       "      <td>70.032</td>\n",
       "    </tr>\n",
       "    <tr>\n",
       "      <th>211476</th>\n",
       "      <td>Wales</td>\n",
       "      <td>OWID_WLS</td>\n",
       "      <td>2023-06-14</td>\n",
       "      <td>Weekly new hospital admissions</td>\n",
       "      <td>6.000</td>\n",
       "    </tr>\n",
       "    <tr>\n",
       "      <th>211477</th>\n",
       "      <td>Wales</td>\n",
       "      <td>OWID_WLS</td>\n",
       "      <td>2023-06-14</td>\n",
       "      <td>Weekly new hospital admissions per million</td>\n",
       "      <td>1.893</td>\n",
       "    </tr>\n",
       "  </tbody>\n",
       "</table>\n",
       "<p>211478 rows × 5 columns</p>\n",
       "</div>"
      ],
      "text/plain": [
       "         entity  iso_code        date  \\\n",
       "0       Algeria       DZA  2020-07-17   \n",
       "1       Algeria       DZA  2020-07-17   \n",
       "2       Algeria       DZA  2020-07-18   \n",
       "3       Algeria       DZA  2020-07-18   \n",
       "4       Algeria       DZA  2020-07-20   \n",
       "...         ...       ...         ...   \n",
       "211473    Wales  OWID_WLS  2023-06-14   \n",
       "211474    Wales  OWID_WLS  2023-06-14   \n",
       "211475    Wales  OWID_WLS  2023-06-14   \n",
       "211476    Wales  OWID_WLS  2023-06-14   \n",
       "211477    Wales  OWID_WLS  2023-06-14   \n",
       "\n",
       "                                         indicator    value  \n",
       "0                              Daily ICU occupancy   62.000  \n",
       "1                  Daily ICU occupancy per million    1.381  \n",
       "2                              Daily ICU occupancy   67.000  \n",
       "3                  Daily ICU occupancy per million    1.492  \n",
       "4                              Daily ICU occupancy   64.000  \n",
       "...                                            ...      ...  \n",
       "211473             Daily ICU occupancy per million    0.315  \n",
       "211474                    Daily hospital occupancy  222.000  \n",
       "211475        Daily hospital occupancy per million   70.032  \n",
       "211476              Weekly new hospital admissions    6.000  \n",
       "211477  Weekly new hospital admissions per million    1.893  \n",
       "\n",
       "[211478 rows x 5 columns]"
      ]
     },
     "execution_count": 9,
     "metadata": {},
     "output_type": "execute_result"
    }
   ],
   "source": [
    "df_covid_daily = pd.read_csv('https://covid19.who.int/WHO-COVID-19-global-data.csv')\n",
    "dv_covid_global =pd.read_csv('WHO-COVID-19-global-table-data.csv')\n",
    "df_vacunation =pd.read_csv ('https://covid19.who.int/who-data/vaccination-data.csv')\n",
    "df_vacunation_Meta =pd.read_csv ('https://covid19.who.int/who-data/vaccination-metadata.csv')\n",
    "df_hos_UCI = pd.read_csv('https://raw.githubusercontent.com/owid/covid-19-data/master/public/data/hospitalizations/covid-hospitalizations.csv')\n",
    "df_hos_test =pd.read_csv('https://raw.githubusercontent.com/owid/covid-19-data/master/public/data/testing/covid-testing-all-observations.csv')\n",
    "df_hos_UCI"
   ]
  },
  {
   "cell_type": "markdown",
   "metadata": {},
   "source": [
    "Lambda que exporta el CSV en la misma ubicación que el original"
   ]
  },
  {
   "cell_type": "code",
   "execution_count": 10,
   "metadata": {},
   "outputs": [],
   "source": [
    "import os\n",
    "(lambda df, nombre_archivo: df.to_csv(os.path.join(os.path.dirname(os.path.abspath(\"df_hos_UCI.csv\")), nombre_archivo), index=False))(df_vacunation, \"DEF_df_vacunation.csv\")"
   ]
  },
  {
   "cell_type": "code",
   "execution_count": null,
   "metadata": {},
   "outputs": [],
   "source": []
  }
 ],
 "metadata": {
  "colab": {
   "authorship_tag": "ABX9TyN+vE3FVeYLsZoKwpePi8db",
   "collapsed_sections": [],
   "include_colab_link": true,
   "mount_file_id": "1e8_Ocqw-PXiIQ5NB5yEhisSTztddXrF4",
   "name": "Cleaning_data_Python.ipynb",
   "provenance": [],
   "toc_visible": true
  },
  "kernelspec": {
   "display_name": "Python 3 (ipykernel)",
   "language": "python",
   "name": "python3"
  },
  "language_info": {
   "codemirror_mode": {
    "name": "ipython",
    "version": 3
   },
   "file_extension": ".py",
   "mimetype": "text/x-python",
   "name": "python",
   "nbconvert_exporter": "python",
   "pygments_lexer": "ipython3",
   "version": "3.9.13"
  }
 },
 "nbformat": 4,
 "nbformat_minor": 1
}
