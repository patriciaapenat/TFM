{
 "cells": [
  {
   "cell_type": "markdown",
   "id": "304d7cfe",
   "metadata": {},
   "source": [
    "# Cómo hacerle merge a un montón de CSV"
   ]
  },
  {
   "cell_type": "markdown",
   "id": "284d4941",
   "metadata": {},
   "source": [
    "## Primero abre unos cuantos y revisa que efectivamente son iguales"
   ]
  },
  {
   "cell_type": "markdown",
   "id": "157e0be8",
   "metadata": {},
   "source": [
    "## Revisa que tengas instaladas las librerías pandas y zipfile, la segunda debería estar por defecto pero revísalo "
   ]
  },
  {
   "cell_type": "code",
   "execution_count": 8,
   "id": "6193c111",
   "metadata": {},
   "outputs": [],
   "source": [
    "\n",
    "import pandas as pd\n",
    "import os\n",
    "import zipfile"
   ]
  },
  {
   "cell_type": "markdown",
   "id": "08b4f571",
   "metadata": {},
   "source": [
    "## Ahora, tienes que tener todo lo que quieres unir en un zip, es importante que sea el único zip en la ruta, simplemente crea otro carpeta!\n",
    "Ahora, sustituye ruta por tu ruta, no tiene pérdida, acuérdate que si estás desde windows tienes que darle la vuelta a los palitos, lo de la última línea es importante es el nombre que le pondrá, a mi me lo lanza siempre en el usuario!"
   ]
  },
  {
   "cell_type": "code",
   "execution_count": 11,
   "id": "34a4127b",
   "metadata": {},
   "outputs": [],
   "source": [
    "import pandas as pd\n",
    "import os\n",
    "import zipfile\n",
    "\n",
    "# Ruta de la carpeta o del archivo ZIP que contiene los archivos CSV\n",
    "ruta = 'C:/Users/fasch/Downloads/pybooks/patri/csse_covid_19_daily_reports_us'\n",
    "\n",
    "# Lista de los archivos CSV en la carpeta o en el archivo ZIP\n",
    "archivos_csv = []\n",
    "\n",
    "if ruta.endswith('.zip'):\n",
    "    # Acceder a los archivos en un archivo ZIP\n",
    "    with zipfile.ZipFile(ruta) as archivo_zip:\n",
    "        for archivo in archivo_zip.namelist():\n",
    "            if archivo.endswith('.csv'):\n",
    "                # Leer el archivo CSV y añadirlo a la lista de archivos CSV\n",
    "                with archivo_zip.open(archivo) as archivo_csv:\n",
    "                    archivos_csv.append(pd.read_csv(archivo_csv))\n",
    "else:\n",
    "    # Acceder a los archivos en una carpeta\n",
    "    for archivo in os.listdir(ruta):\n",
    "        if archivo.endswith('.csv'):\n",
    "            # Leer el archivo CSV y añadirlo a la lista de archivos CSV\n",
    "            archivos_csv.append(pd.read_csv(os.path.join(ruta, archivo)))\n",
    "\n",
    "# Combinar los archivos CSV en una sola base de datos usando la columna \"fecha\"\n",
    "datos_combinados = pd.concat(archivos_csv, ignore_index=True)\n",
    "\n",
    "# Guardar los datos combinados en un archivo CSV\n",
    "datos_combinados.to_csv('datos_combinados_csse_covid_19_daily_reports_us.csv', index=False)"
   ]
  },
  {
   "cell_type": "code",
   "execution_count": null,
   "id": "6dc5173b",
   "metadata": {},
   "outputs": [],
   "source": []
  }
 ],
 "metadata": {
  "kernelspec": {
   "display_name": "Python 3 (ipykernel)",
   "language": "python",
   "name": "python3"
  },
  "language_info": {
   "codemirror_mode": {
    "name": "ipython",
    "version": 3
   },
   "file_extension": ".py",
   "mimetype": "text/x-python",
   "name": "python",
   "nbconvert_exporter": "python",
   "pygments_lexer": "ipython3",
   "version": "3.9.13"
  }
 },
 "nbformat": 4,
 "nbformat_minor": 5
}
