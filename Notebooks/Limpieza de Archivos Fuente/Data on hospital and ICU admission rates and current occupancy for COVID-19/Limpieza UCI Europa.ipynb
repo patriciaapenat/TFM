{
 "cells": [
  {
   "cell_type": "code",
   "execution_count": 2,
   "id": "bf857ded",
   "metadata": {},
   "outputs": [
    {
     "ename": "SyntaxError",
     "evalue": "invalid syntax (501567693.py, line 3)",
     "output_type": "error",
     "traceback": [
      "\u001b[1;36m  File \u001b[1;32m\"C:\\Users\\Amaia Miranda\\AppData\\Local\\Temp\\ipykernel_12484\\501567693.py\"\u001b[1;36m, line \u001b[1;32m3\u001b[0m\n\u001b[1;33m    Enlace de descarga: https://www.ecdc.europa.eu/en/publications-data/download-data-hospital-and-icu-admission-rates-and-current-occupancy-covid-19\u001b[0m\n\u001b[1;37m           ^\u001b[0m\n\u001b[1;31mSyntaxError\u001b[0m\u001b[1;31m:\u001b[0m invalid syntax\n"
     ]
    }
   ],
   "source": [
    "### ** TFM COVID-19 **\n",
    "\n",
    "Enlace de descarga: https://www.ecdc.europa.eu/en/publications-data/download-data-hospital-and-icu-admission-rates-and-current-occupancy-covid-19\n",
    "\n",
    "Ubicacion: Otros Datasets\n",
    "    \n",
    "Nombre:   Data on hospital and ICU admission rates and current occupancy for COVID-19\n",
    "Ultima fecha de modificaciòn: 24 mayo 2023  \n",
    "\n",
    "A continuacion vamos a trabajar sobre un dataset que contiene datos nulos, al cual le vamos a aplicar tecnicas de limpieza como:\n",
    "\n",
    "✔️Identificar y eliminar casos nulos<br>\n"
   ]
  },
  {
   "cell_type": "code",
   "execution_count": 3,
   "id": "872975c8",
   "metadata": {},
   "outputs": [
    {
     "ename": "SyntaxError",
     "evalue": "invalid syntax (102449352.py, line 1)",
     "output_type": "error",
     "traceback": [
      "\u001b[1;36m  File \u001b[1;32m\"C:\\Users\\Amaia Miranda\\AppData\\Local\\Temp\\ipykernel_12484\\102449352.py\"\u001b[1;36m, line \u001b[1;32m1\u001b[0m\n\u001b[1;33m    **🧾Informacion del Dataset**<br>\u001b[0m\n\u001b[1;37m    ^\u001b[0m\n\u001b[1;31mSyntaxError\u001b[0m\u001b[1;31m:\u001b[0m invalid syntax\n"
     ]
    }
   ],
   "source": [
    "**🧾Informacion del Dataset**<br>\n",
    "El dataset que estaremos trabajando contiene Informacion acerca de Ocupación diaria del hospital, Ocupación diaria de la UCI,\n",
    "Nuevos ingresos hospitalarios semanales por 100k,\n",
    "Nuevas admisiones semanales en UCI por 100k\n",
    "(Daily hospital occupancy,Daily ICU occupancy, Weekly new hospital admissions per 100k, ,Weekly new ICU admissions per 100k) \n",
    "en paises europeos.\n",
    "\n",
    "Columnas: \n",
    "country, indicator, date, year_week, value, source, url\n"
   ]
  },
  {
   "cell_type": "code",
   "execution_count": 4,
   "id": "30363458",
   "metadata": {},
   "outputs": [],
   "source": [
    "import ydata_profiling\n"
   ]
  },
  {
   "cell_type": "code",
   "execution_count": 5,
   "id": "eded1f58",
   "metadata": {},
   "outputs": [
    {
     "ename": "ModuleNotFoundError",
     "evalue": "No module named 'ypandas_profiling'",
     "output_type": "error",
     "traceback": [
      "\u001b[1;31m---------------------------------------------------------------------------\u001b[0m",
      "\u001b[1;31mModuleNotFoundError\u001b[0m                       Traceback (most recent call last)",
      "\u001b[1;32m~\\AppData\\Local\\Temp\\ipykernel_12908\\3426114430.py\u001b[0m in \u001b[0;36m<module>\u001b[1;34m\u001b[0m\n\u001b[0;32m      2\u001b[0m \u001b[1;32mimport\u001b[0m \u001b[0mnumpy\u001b[0m \u001b[1;32mas\u001b[0m \u001b[0mnp\u001b[0m\u001b[1;33m\u001b[0m\u001b[1;33m\u001b[0m\u001b[0m\n\u001b[0;32m      3\u001b[0m \u001b[1;32mimport\u001b[0m \u001b[0mdatetime\u001b[0m\u001b[1;33m\u001b[0m\u001b[1;33m\u001b[0m\u001b[0m\n\u001b[1;32m----> 4\u001b[1;33m \u001b[1;32mimport\u001b[0m \u001b[0mypandas_profiling\u001b[0m\u001b[1;33m\u001b[0m\u001b[1;33m\u001b[0m\u001b[0m\n\u001b[0m",
      "\u001b[1;31mModuleNotFoundError\u001b[0m: No module named 'ypandas_profiling'"
     ]
    }
   ],
   "source": [
    "import pandas as pd\n",
    "import numpy as np\n",
    "import datetime\n",
    "import ypandas_profiling\n"
   ]
  },
  {
   "cell_type": "code",
   "execution_count": 6,
   "id": "f47cb47b",
   "metadata": {
    "scrolled": false
   },
   "outputs": [
    {
     "name": "stdout",
     "output_type": "stream",
     "text": [
      "<class 'pandas.core.frame.DataFrame'>\n",
      "RangeIndex: 24760 entries, 0 to 24759\n",
      "Data columns (total 7 columns):\n",
      " #   Column     Non-Null Count  Dtype  \n",
      "---  ------     --------------  -----  \n",
      " 0   country    24760 non-null  object \n",
      " 1   indicator  24760 non-null  object \n",
      " 2   date       24760 non-null  object \n",
      " 3   year_week  24760 non-null  object \n",
      " 4   value      24760 non-null  float64\n",
      " 5   source     24760 non-null  object \n",
      " 6   url        0 non-null      float64\n",
      "dtypes: float64(2), object(5)\n",
      "memory usage: 1.3+ MB\n"
     ]
    }
   ],
   "source": [
    "df_uci = pd.read_csv('D:/PERSONAL AMAIA/master/master/TFM/Data on hospital and ICU admission rates and current occupancy for COVID-19.csv')\n",
    "\n",
    "df_uci.info()"
   ]
  },
  {
   "cell_type": "code",
   "execution_count": 15,
   "id": "b5eeea41",
   "metadata": {},
   "outputs": [
    {
     "data": {
      "text/plain": [
       "(24760, 7)"
      ]
     },
     "execution_count": 15,
     "metadata": {},
     "output_type": "execute_result"
    }
   ],
   "source": [
    "df_uci.shape"
   ]
  },
  {
   "cell_type": "code",
   "execution_count": null,
   "id": "efc73d1d",
   "metadata": {},
   "outputs": [],
   "source": []
  },
  {
   "cell_type": "code",
   "execution_count": 7,
   "id": "152377fb",
   "metadata": {},
   "outputs": [
    {
     "data": {
      "text/html": [
       "<div>\n",
       "<style scoped>\n",
       "    .dataframe tbody tr th:only-of-type {\n",
       "        vertical-align: middle;\n",
       "    }\n",
       "\n",
       "    .dataframe tbody tr th {\n",
       "        vertical-align: top;\n",
       "    }\n",
       "\n",
       "    .dataframe thead th {\n",
       "        text-align: right;\n",
       "    }\n",
       "</style>\n",
       "<table border=\"1\" class=\"dataframe\">\n",
       "  <thead>\n",
       "    <tr style=\"text-align: right;\">\n",
       "      <th></th>\n",
       "      <th>country</th>\n",
       "      <th>indicator</th>\n",
       "      <th>date</th>\n",
       "      <th>year_week</th>\n",
       "      <th>value</th>\n",
       "      <th>source</th>\n",
       "      <th>url</th>\n",
       "    </tr>\n",
       "  </thead>\n",
       "  <tbody>\n",
       "    <tr>\n",
       "      <th>0</th>\n",
       "      <td>False</td>\n",
       "      <td>False</td>\n",
       "      <td>False</td>\n",
       "      <td>False</td>\n",
       "      <td>False</td>\n",
       "      <td>False</td>\n",
       "      <td>True</td>\n",
       "    </tr>\n",
       "    <tr>\n",
       "      <th>1</th>\n",
       "      <td>False</td>\n",
       "      <td>False</td>\n",
       "      <td>False</td>\n",
       "      <td>False</td>\n",
       "      <td>False</td>\n",
       "      <td>False</td>\n",
       "      <td>True</td>\n",
       "    </tr>\n",
       "    <tr>\n",
       "      <th>2</th>\n",
       "      <td>False</td>\n",
       "      <td>False</td>\n",
       "      <td>False</td>\n",
       "      <td>False</td>\n",
       "      <td>False</td>\n",
       "      <td>False</td>\n",
       "      <td>True</td>\n",
       "    </tr>\n",
       "    <tr>\n",
       "      <th>3</th>\n",
       "      <td>False</td>\n",
       "      <td>False</td>\n",
       "      <td>False</td>\n",
       "      <td>False</td>\n",
       "      <td>False</td>\n",
       "      <td>False</td>\n",
       "      <td>True</td>\n",
       "    </tr>\n",
       "    <tr>\n",
       "      <th>4</th>\n",
       "      <td>False</td>\n",
       "      <td>False</td>\n",
       "      <td>False</td>\n",
       "      <td>False</td>\n",
       "      <td>False</td>\n",
       "      <td>False</td>\n",
       "      <td>True</td>\n",
       "    </tr>\n",
       "    <tr>\n",
       "      <th>...</th>\n",
       "      <td>...</td>\n",
       "      <td>...</td>\n",
       "      <td>...</td>\n",
       "      <td>...</td>\n",
       "      <td>...</td>\n",
       "      <td>...</td>\n",
       "      <td>...</td>\n",
       "    </tr>\n",
       "    <tr>\n",
       "      <th>24755</th>\n",
       "      <td>False</td>\n",
       "      <td>False</td>\n",
       "      <td>False</td>\n",
       "      <td>False</td>\n",
       "      <td>False</td>\n",
       "      <td>False</td>\n",
       "      <td>True</td>\n",
       "    </tr>\n",
       "    <tr>\n",
       "      <th>24756</th>\n",
       "      <td>False</td>\n",
       "      <td>False</td>\n",
       "      <td>False</td>\n",
       "      <td>False</td>\n",
       "      <td>False</td>\n",
       "      <td>False</td>\n",
       "      <td>True</td>\n",
       "    </tr>\n",
       "    <tr>\n",
       "      <th>24757</th>\n",
       "      <td>False</td>\n",
       "      <td>False</td>\n",
       "      <td>False</td>\n",
       "      <td>False</td>\n",
       "      <td>False</td>\n",
       "      <td>False</td>\n",
       "      <td>True</td>\n",
       "    </tr>\n",
       "    <tr>\n",
       "      <th>24758</th>\n",
       "      <td>False</td>\n",
       "      <td>False</td>\n",
       "      <td>False</td>\n",
       "      <td>False</td>\n",
       "      <td>False</td>\n",
       "      <td>False</td>\n",
       "      <td>True</td>\n",
       "    </tr>\n",
       "    <tr>\n",
       "      <th>24759</th>\n",
       "      <td>False</td>\n",
       "      <td>False</td>\n",
       "      <td>False</td>\n",
       "      <td>False</td>\n",
       "      <td>False</td>\n",
       "      <td>False</td>\n",
       "      <td>True</td>\n",
       "    </tr>\n",
       "  </tbody>\n",
       "</table>\n",
       "<p>24760 rows × 7 columns</p>\n",
       "</div>"
      ],
      "text/plain": [
       "       country  indicator   date  year_week  value  source   url\n",
       "0        False      False  False      False  False   False  True\n",
       "1        False      False  False      False  False   False  True\n",
       "2        False      False  False      False  False   False  True\n",
       "3        False      False  False      False  False   False  True\n",
       "4        False      False  False      False  False   False  True\n",
       "...        ...        ...    ...        ...    ...     ...   ...\n",
       "24755    False      False  False      False  False   False  True\n",
       "24756    False      False  False      False  False   False  True\n",
       "24757    False      False  False      False  False   False  True\n",
       "24758    False      False  False      False  False   False  True\n",
       "24759    False      False  False      False  False   False  True\n",
       "\n",
       "[24760 rows x 7 columns]"
      ]
     },
     "execution_count": 7,
     "metadata": {},
     "output_type": "execute_result"
    }
   ],
   "source": [
    "df_uci.isnull()\n"
   ]
  },
  {
   "cell_type": "code",
   "execution_count": 8,
   "id": "1e18cc62",
   "metadata": {},
   "outputs": [
    {
     "data": {
      "text/plain": [
       "country          0\n",
       "indicator        0\n",
       "date             0\n",
       "year_week        0\n",
       "value            0\n",
       "source           0\n",
       "url          24760\n",
       "dtype: int64"
      ]
     },
     "execution_count": 8,
     "metadata": {},
     "output_type": "execute_result"
    }
   ],
   "source": [
    "df_uci.isnull().sum() #contar nulos"
   ]
  },
  {
   "cell_type": "code",
   "execution_count": 9,
   "id": "fc66db25",
   "metadata": {},
   "outputs": [],
   "source": [
    "# elimina columnas en las que todos los valores son nulos\n",
    "df_uci2 = df_uci.dropna(axis=1, how='all') "
   ]
  },
  {
   "cell_type": "code",
   "execution_count": 10,
   "id": "337968fc",
   "metadata": {},
   "outputs": [
    {
     "data": {
      "text/plain": [
       "country      0\n",
       "indicator    0\n",
       "date         0\n",
       "year_week    0\n",
       "value        0\n",
       "source       0\n",
       "dtype: int64"
      ]
     },
     "execution_count": 10,
     "metadata": {},
     "output_type": "execute_result"
    }
   ],
   "source": [
    "df_uci2.isnull().sum() #contar nulos\n"
   ]
  },
  {
   "cell_type": "code",
   "execution_count": 11,
   "id": "1437cc97",
   "metadata": {},
   "outputs": [
    {
     "data": {
      "text/plain": [
       "0        False\n",
       "1        False\n",
       "2        False\n",
       "3        False\n",
       "4        False\n",
       "         ...  \n",
       "24755    False\n",
       "24756    False\n",
       "24757    False\n",
       "24758    False\n",
       "24759    False\n",
       "Length: 24760, dtype: bool"
      ]
     },
     "execution_count": 11,
     "metadata": {},
     "output_type": "execute_result"
    }
   ],
   "source": [
    "df_uci2.dtypes\n",
    "df_uci2.duplicated()"
   ]
  },
  {
   "cell_type": "code",
   "execution_count": 13,
   "id": "924400af",
   "metadata": {},
   "outputs": [
    {
     "data": {
      "text/plain": [
       "country      0\n",
       "indicator    0\n",
       "date         0\n",
       "year_week    0\n",
       "value        0\n",
       "source       0\n",
       "dtype: int64"
      ]
     },
     "execution_count": 13,
     "metadata": {},
     "output_type": "execute_result"
    }
   ],
   "source": [
    "df_uci2.isnull().sum()"
   ]
  },
  {
   "cell_type": "code",
   "execution_count": 18,
   "id": "de1fda7e",
   "metadata": {},
   "outputs": [],
   "source": [
    "df_uci['date']= pd.to_datetime(df_uci2['date'])"
   ]
  },
  {
   "cell_type": "code",
   "execution_count": 21,
   "id": "61f6fede",
   "metadata": {},
   "outputs": [
    {
     "name": "stdout",
     "output_type": "stream",
     "text": [
      "<class 'pandas.core.frame.DataFrame'>\n",
      "RangeIndex: 24760 entries, 0 to 24759\n",
      "Data columns (total 6 columns):\n",
      " #   Column     Non-Null Count  Dtype         \n",
      "---  ------     --------------  -----         \n",
      " 0   country    24760 non-null  object        \n",
      " 1   indicator  24760 non-null  object        \n",
      " 2   date       24760 non-null  datetime64[ns]\n",
      " 3   year_week  24760 non-null  object        \n",
      " 4   value      24760 non-null  float64       \n",
      " 5   source     24760 non-null  object        \n",
      "dtypes: datetime64[ns](1), float64(1), object(4)\n",
      "memory usage: 1.1+ MB\n"
     ]
    }
   ],
   "source": [
    "\n",
    "df_uci2.info()\n"
   ]
  },
  {
   "cell_type": "code",
   "execution_count": 22,
   "id": "f6091a56",
   "metadata": {},
   "outputs": [
    {
     "data": {
      "text/plain": [
       "False"
      ]
     },
     "execution_count": 22,
     "metadata": {},
     "output_type": "execute_result"
    }
   ],
   "source": [
    "df_uci2.isnull().values.any()"
   ]
  },
  {
   "cell_type": "code",
   "execution_count": null,
   "id": "62ced324",
   "metadata": {},
   "outputs": [],
   "source": []
  }
 ],
 "metadata": {
  "kernelspec": {
   "display_name": "Python 3 (ipykernel)",
   "language": "python",
   "name": "python3"
  },
  "language_info": {
   "codemirror_mode": {
    "name": "ipython",
    "version": 3
   },
   "file_extension": ".py",
   "mimetype": "text/x-python",
   "name": "python",
   "nbconvert_exporter": "python",
   "pygments_lexer": "ipython3",
   "version": "3.9.13"
  }
 },
 "nbformat": 4,
 "nbformat_minor": 5
}
