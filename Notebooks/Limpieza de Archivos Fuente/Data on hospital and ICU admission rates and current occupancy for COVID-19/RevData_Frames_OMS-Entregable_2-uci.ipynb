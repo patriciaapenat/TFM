{
 "cells": [
  {
   "cell_type": "markdown",
   "metadata": {
    "id": "rMDCXP8at6us"
   },
   "source": [
    "### **Fuente de Datos - Ficheros WHO OMS**\n",
    "**https://www.ecdc.europa.eu/en/publications-data/download-data-hospital-and-icu-admission-rates-and-current-occupancy-covid-19\n",
    "**<br>\n",
    "\n",
    "\n",
    "#### Descarga de datos\n",
    "\n",
    "**1.- Ingresos en hospital UCI fueron registrados?:** https://www.ecdc.europa.eu/en/publications-data/download-data-hospital-and-icu-admission-rates-and-current-occupancy-covid-19<br>\n",
    "\n",
    "Enlace de descarga: https://www.ecdc.europa.eu/en/publications-data/download-data-hospital-and-icu-admission-rates-and-current-occupancy-covid-19\n",
    "\n",
    "Ubicacion: Otros Datasets\n",
    "    \n",
    "Nombre:   Data on hospital and ICU admission rates and current occupancy for COVID-19\n",
    "\n"
   ]
  },
  {
   "cell_type": "markdown",
   "metadata": {
    "id": "719dxmDl21d-"
   },
   "source": [
    "**🧾Informacion del Dataset**<br>\n",
    "*  Los usuarios deben tener en cuenta que los archivos de datos descargables contienen información sobre las tasas de admisión de hospitalización y Unidad de Cuidados Intensivos (UCI) y la ocupación actual para COVID-19 por fecha y país. Cada fila contiene los datos correspondientes a una determinada fecha (día o semana) y por país. El archivo se actualiza semanalmente. Puede utilizar los datos de acuerdo con la política de derechos de autor del ECDC.\n",
    "\n",
    "El dataset que estaremos trabajando contiene Informacion acerca de Ocupación diaria del hospital, Ocupación diaria de la UCI,\n",
    "Nuevos ingresos hospitalarios semanales por 100k,\n",
    "Nuevas admisiones semanales en UCI por 100k\n",
    "(Daily hospital occupancy,Daily ICU occupancy, Weekly new hospital admissions per 100k, ,Weekly new ICU admissions per 100k) \n",
    "en paises europeos.\n",
    "\n",
    "Columnas: \n",
    "country, indicator, date, year_week, value, source, url\n"
   ]
  },
  {
   "cell_type": "markdown",
   "metadata": {},
   "source": [
    "# Acceso a los datasets de la ECDC:"
   ]
  },
  {
   "cell_type": "markdown",
   "metadata": {},
   "source": [
    "Exloración e Información del DataFrame **df_uci**"
   ]
  },
  {
   "cell_type": "code",
   "execution_count": 100,
   "metadata": {},
   "outputs": [],
   "source": [
    "import pandas as pd"
   ]
  },
  {
   "cell_type": "code",
   "execution_count": 101,
   "metadata": {},
   "outputs": [
    {
     "name": "stdout",
     "output_type": "stream",
     "text": [
      "<class 'pandas.core.frame.DataFrame'>\n",
      "RangeIndex: 27277 entries, 0 to 27276\n",
      "Data columns (total 7 columns):\n",
      " #   Column     Non-Null Count  Dtype  \n",
      "---  ------     --------------  -----  \n",
      " 0   country    27277 non-null  object \n",
      " 1   indicator  27277 non-null  object \n",
      " 2   date       27277 non-null  object \n",
      " 3   year_week  27277 non-null  object \n",
      " 4   value      27277 non-null  float64\n",
      " 5   source     27277 non-null  object \n",
      " 6   url        0 non-null      float64\n",
      "dtypes: float64(2), object(5)\n",
      "memory usage: 1.5+ MB\n"
     ]
    }
   ],
   "source": [
    "df_uci = pd.read_csv('D:/PERSONAL AMAIA/master/master/TFM/Data on hospital and ICU admission rates and current occupancy for COVID-19.csv')\n",
    "\n",
    "df_uci.info()"
   ]
  },
  {
   "cell_type": "code",
   "execution_count": 102,
   "metadata": {},
   "outputs": [
    {
     "data": {
      "text/html": [
       "<div>\n",
       "<style scoped>\n",
       "    .dataframe tbody tr th:only-of-type {\n",
       "        vertical-align: middle;\n",
       "    }\n",
       "\n",
       "    .dataframe tbody tr th {\n",
       "        vertical-align: top;\n",
       "    }\n",
       "\n",
       "    .dataframe thead th {\n",
       "        text-align: right;\n",
       "    }\n",
       "</style>\n",
       "<table border=\"1\" class=\"dataframe\">\n",
       "  <thead>\n",
       "    <tr style=\"text-align: right;\">\n",
       "      <th></th>\n",
       "      <th>country</th>\n",
       "      <th>indicator</th>\n",
       "      <th>date</th>\n",
       "      <th>year_week</th>\n",
       "      <th>value</th>\n",
       "      <th>source</th>\n",
       "      <th>url</th>\n",
       "    </tr>\n",
       "  </thead>\n",
       "  <tbody>\n",
       "    <tr>\n",
       "      <th>0</th>\n",
       "      <td>Austria</td>\n",
       "      <td>Daily hospital occupancy</td>\n",
       "      <td>2020-04-01</td>\n",
       "      <td>2020-W14</td>\n",
       "      <td>856.0</td>\n",
       "      <td>Country_Website</td>\n",
       "      <td>NaN</td>\n",
       "    </tr>\n",
       "    <tr>\n",
       "      <th>1</th>\n",
       "      <td>Austria</td>\n",
       "      <td>Daily hospital occupancy</td>\n",
       "      <td>2020-04-02</td>\n",
       "      <td>2020-W14</td>\n",
       "      <td>823.0</td>\n",
       "      <td>Country_Website</td>\n",
       "      <td>NaN</td>\n",
       "    </tr>\n",
       "    <tr>\n",
       "      <th>2</th>\n",
       "      <td>Austria</td>\n",
       "      <td>Daily hospital occupancy</td>\n",
       "      <td>2020-04-03</td>\n",
       "      <td>2020-W14</td>\n",
       "      <td>829.0</td>\n",
       "      <td>Country_Website</td>\n",
       "      <td>NaN</td>\n",
       "    </tr>\n",
       "    <tr>\n",
       "      <th>3</th>\n",
       "      <td>Austria</td>\n",
       "      <td>Daily hospital occupancy</td>\n",
       "      <td>2020-04-04</td>\n",
       "      <td>2020-W14</td>\n",
       "      <td>826.0</td>\n",
       "      <td>Country_Website</td>\n",
       "      <td>NaN</td>\n",
       "    </tr>\n",
       "    <tr>\n",
       "      <th>4</th>\n",
       "      <td>Austria</td>\n",
       "      <td>Daily hospital occupancy</td>\n",
       "      <td>2020-04-05</td>\n",
       "      <td>2020-W14</td>\n",
       "      <td>712.0</td>\n",
       "      <td>Country_Website</td>\n",
       "      <td>NaN</td>\n",
       "    </tr>\n",
       "  </tbody>\n",
       "</table>\n",
       "</div>"
      ],
      "text/plain": [
       "   country                 indicator        date year_week  value  \\\n",
       "0  Austria  Daily hospital occupancy  2020-04-01  2020-W14  856.0   \n",
       "1  Austria  Daily hospital occupancy  2020-04-02  2020-W14  823.0   \n",
       "2  Austria  Daily hospital occupancy  2020-04-03  2020-W14  829.0   \n",
       "3  Austria  Daily hospital occupancy  2020-04-04  2020-W14  826.0   \n",
       "4  Austria  Daily hospital occupancy  2020-04-05  2020-W14  712.0   \n",
       "\n",
       "            source  url  \n",
       "0  Country_Website  NaN  \n",
       "1  Country_Website  NaN  \n",
       "2  Country_Website  NaN  \n",
       "3  Country_Website  NaN  \n",
       "4  Country_Website  NaN  "
      ]
     },
     "execution_count": 102,
     "metadata": {},
     "output_type": "execute_result"
    }
   ],
   "source": [
    "df_uci.head()"
   ]
  },
  {
   "cell_type": "code",
   "execution_count": 103,
   "metadata": {},
   "outputs": [
    {
     "data": {
      "text/plain": [
       "(27277, 7)"
      ]
     },
     "execution_count": 103,
     "metadata": {},
     "output_type": "execute_result"
    }
   ],
   "source": [
    "df_uci.shape"
   ]
  },
  {
   "cell_type": "code",
   "execution_count": 104,
   "metadata": {},
   "outputs": [
    {
     "name": "stdout",
     "output_type": "stream",
     "text": [
      "<class 'pandas.core.frame.DataFrame'>\n",
      "RangeIndex: 27277 entries, 0 to 27276\n",
      "Data columns (total 7 columns):\n",
      " #   Column     Non-Null Count  Dtype  \n",
      "---  ------     --------------  -----  \n",
      " 0   country    27277 non-null  object \n",
      " 1   indicator  27277 non-null  object \n",
      " 2   date       27277 non-null  object \n",
      " 3   year_week  27277 non-null  object \n",
      " 4   value      27277 non-null  float64\n",
      " 5   source     27277 non-null  object \n",
      " 6   url        0 non-null      float64\n",
      "dtypes: float64(2), object(5)\n",
      "memory usage: 1.5+ MB\n"
     ]
    }
   ],
   "source": [
    "df_uci.info()"
   ]
  },
  {
   "cell_type": "markdown",
   "metadata": {},
   "source": [
    "Transformamos los **campos de fecha** que aparecen con tipo de datos cadena de caracteres a formato fecha<br>\n",
    "\n",
    "1.- date<br>\n",
    "2.- year_week<br>"
   ]
  },
  {
   "cell_type": "code",
   "execution_count": 106,
   "metadata": {},
   "outputs": [],
   "source": [
    "df_uci['Date']= pd.to_datetime(df_uci['date'])"
   ]
  },
  {
   "cell_type": "code",
   "execution_count": null,
   "metadata": {},
   "outputs": [],
   "source": []
  },
  {
   "cell_type": "code",
   "execution_count": null,
   "metadata": {},
   "outputs": [],
   "source": []
  },
  {
   "cell_type": "markdown",
   "metadata": {},
   "source": [
    "Verificamos que se han modificado el tipo de datos en ambas variables de fecha"
   ]
  },
  {
   "cell_type": "code",
   "execution_count": 75,
   "metadata": {
    "scrolled": true
   },
   "outputs": [
    {
     "name": "stdout",
     "output_type": "stream",
     "text": [
      "<class 'pandas.core.frame.DataFrame'>\n",
      "RangeIndex: 27277 entries, 0 to 27276\n",
      "Data columns (total 7 columns):\n",
      " #   Column     Non-Null Count  Dtype         \n",
      "---  ------     --------------  -----         \n",
      " 0   country    27277 non-null  object        \n",
      " 1   indicator  27277 non-null  object        \n",
      " 2   date       27277 non-null  datetime64[ns]\n",
      " 3   year_week  27277 non-null  object        \n",
      " 4   value      27277 non-null  float64       \n",
      " 5   source     27277 non-null  object        \n",
      " 6   url        0 non-null      float64       \n",
      "dtypes: datetime64[ns](1), float64(2), object(4)\n",
      "memory usage: 1.5+ MB\n"
     ]
    }
   ],
   "source": [
    "df_uci.info()"
   ]
  },
  {
   "cell_type": "markdown",
   "metadata": {},
   "source": [
    "Transformamos los **campos numéricos** que aparecen como tipo de datos cadena de caracteres \"Object\" a formato numérico <br>"
   ]
  },
  {
   "cell_type": "code",
   "execution_count": 76,
   "metadata": {},
   "outputs": [],
   "source": [
    "df_uci['value']= pd.to_numeric(df_uci['value'], downcast='signed')"
   ]
  },
  {
   "cell_type": "markdown",
   "metadata": {},
   "source": [
    "Verificamos que se ha modificado el tipo de datos a numérico."
   ]
  },
  {
   "cell_type": "code",
   "execution_count": 77,
   "metadata": {},
   "outputs": [
    {
     "name": "stdout",
     "output_type": "stream",
     "text": [
      "<class 'pandas.core.frame.DataFrame'>\n",
      "RangeIndex: 27277 entries, 0 to 27276\n",
      "Data columns (total 7 columns):\n",
      " #   Column     Non-Null Count  Dtype         \n",
      "---  ------     --------------  -----         \n",
      " 0   country    27277 non-null  object        \n",
      " 1   indicator  27277 non-null  object        \n",
      " 2   date       27277 non-null  datetime64[ns]\n",
      " 3   year_week  27277 non-null  object        \n",
      " 4   value      27277 non-null  float64       \n",
      " 5   source     27277 non-null  object        \n",
      " 6   url        0 non-null      float64       \n",
      "dtypes: datetime64[ns](1), float64(2), object(4)\n",
      "memory usage: 1.5+ MB\n"
     ]
    }
   ],
   "source": [
    "df_uci.info()"
   ]
  },
  {
   "cell_type": "markdown",
   "metadata": {},
   "source": [
    "Observamos que no hay **ningún valor duplicado**"
   ]
  },
  {
   "cell_type": "code",
   "execution_count": 78,
   "metadata": {},
   "outputs": [
    {
     "data": {
      "text/plain": [
       "False"
      ]
     },
     "execution_count": 78,
     "metadata": {},
     "output_type": "execute_result"
    }
   ],
   "source": [
    "df_uci.duplicated().values.any()"
   ]
  },
  {
   "cell_type": "markdown",
   "metadata": {},
   "source": [
    "Observamos que hay **27277 valores nulos**"
   ]
  },
  {
   "cell_type": "code",
   "execution_count": 79,
   "metadata": {
    "scrolled": true
   },
   "outputs": [
    {
     "data": {
      "text/plain": [
       "27277"
      ]
     },
     "execution_count": 79,
     "metadata": {},
     "output_type": "execute_result"
    }
   ],
   "source": [
    "df_uci.isnull().values.sum()"
   ]
  },
  {
   "cell_type": "markdown",
   "metadata": {},
   "source": [
    "Identificamos en que **Variable** y la **suma de valores nulos**"
   ]
  },
  {
   "cell_type": "code",
   "execution_count": 80,
   "metadata": {
    "scrolled": false
   },
   "outputs": [
    {
     "data": {
      "text/plain": [
       "country          0\n",
       "indicator        0\n",
       "date             0\n",
       "year_week        0\n",
       "value            0\n",
       "source           0\n",
       "url          27277\n",
       "dtype: int64"
      ]
     },
     "execution_count": 80,
     "metadata": {},
     "output_type": "execute_result"
    }
   ],
   "source": [
    "df_uci.isnull().sum()"
   ]
  },
  {
   "cell_type": "markdown",
   "metadata": {},
   "source": [
    "Identificamos **el/los registros** donde se ecuentran los **valores nulos**<br>\n",
    "\n",
    "1.-URL<br>"
   ]
  },
  {
   "cell_type": "code",
   "execution_count": 81,
   "metadata": {},
   "outputs": [
    {
     "data": {
      "text/html": [
       "<div>\n",
       "<style scoped>\n",
       "    .dataframe tbody tr th:only-of-type {\n",
       "        vertical-align: middle;\n",
       "    }\n",
       "\n",
       "    .dataframe tbody tr th {\n",
       "        vertical-align: top;\n",
       "    }\n",
       "\n",
       "    .dataframe thead th {\n",
       "        text-align: right;\n",
       "    }\n",
       "</style>\n",
       "<table border=\"1\" class=\"dataframe\">\n",
       "  <thead>\n",
       "    <tr style=\"text-align: right;\">\n",
       "      <th></th>\n",
       "      <th>country</th>\n",
       "      <th>indicator</th>\n",
       "      <th>date</th>\n",
       "      <th>year_week</th>\n",
       "      <th>value</th>\n",
       "      <th>source</th>\n",
       "      <th>url</th>\n",
       "    </tr>\n",
       "  </thead>\n",
       "  <tbody>\n",
       "    <tr>\n",
       "      <th>0</th>\n",
       "      <td>Austria</td>\n",
       "      <td>Daily hospital occupancy</td>\n",
       "      <td>2020-04-01</td>\n",
       "      <td>2020-W14</td>\n",
       "      <td>856.000000</td>\n",
       "      <td>Country_Website</td>\n",
       "      <td>NaN</td>\n",
       "    </tr>\n",
       "    <tr>\n",
       "      <th>1</th>\n",
       "      <td>Austria</td>\n",
       "      <td>Daily hospital occupancy</td>\n",
       "      <td>2020-04-02</td>\n",
       "      <td>2020-W14</td>\n",
       "      <td>823.000000</td>\n",
       "      <td>Country_Website</td>\n",
       "      <td>NaN</td>\n",
       "    </tr>\n",
       "    <tr>\n",
       "      <th>2</th>\n",
       "      <td>Austria</td>\n",
       "      <td>Daily hospital occupancy</td>\n",
       "      <td>2020-04-03</td>\n",
       "      <td>2020-W14</td>\n",
       "      <td>829.000000</td>\n",
       "      <td>Country_Website</td>\n",
       "      <td>NaN</td>\n",
       "    </tr>\n",
       "    <tr>\n",
       "      <th>3</th>\n",
       "      <td>Austria</td>\n",
       "      <td>Daily hospital occupancy</td>\n",
       "      <td>2020-04-04</td>\n",
       "      <td>2020-W14</td>\n",
       "      <td>826.000000</td>\n",
       "      <td>Country_Website</td>\n",
       "      <td>NaN</td>\n",
       "    </tr>\n",
       "    <tr>\n",
       "      <th>4</th>\n",
       "      <td>Austria</td>\n",
       "      <td>Daily hospital occupancy</td>\n",
       "      <td>2020-04-05</td>\n",
       "      <td>2020-W14</td>\n",
       "      <td>712.000000</td>\n",
       "      <td>Country_Website</td>\n",
       "      <td>NaN</td>\n",
       "    </tr>\n",
       "    <tr>\n",
       "      <th>...</th>\n",
       "      <td>...</td>\n",
       "      <td>...</td>\n",
       "      <td>...</td>\n",
       "      <td>...</td>\n",
       "      <td>...</td>\n",
       "      <td>...</td>\n",
       "      <td>...</td>\n",
       "    </tr>\n",
       "    <tr>\n",
       "      <th>27272</th>\n",
       "      <td>Sweden</td>\n",
       "      <td>Weekly new ICU admissions per 100k</td>\n",
       "      <td>2023-04-23</td>\n",
       "      <td>2023-W16</td>\n",
       "      <td>0.172210</td>\n",
       "      <td>TESSy COVID-19 combined sources</td>\n",
       "      <td>NaN</td>\n",
       "    </tr>\n",
       "    <tr>\n",
       "      <th>27273</th>\n",
       "      <td>Sweden</td>\n",
       "      <td>Weekly new ICU admissions per 100k</td>\n",
       "      <td>2023-04-30</td>\n",
       "      <td>2023-W17</td>\n",
       "      <td>0.162643</td>\n",
       "      <td>TESSy COVID-19 combined sources</td>\n",
       "      <td>NaN</td>\n",
       "    </tr>\n",
       "    <tr>\n",
       "      <th>27274</th>\n",
       "      <td>Sweden</td>\n",
       "      <td>Weekly new ICU admissions per 100k</td>\n",
       "      <td>2023-05-07</td>\n",
       "      <td>2023-W18</td>\n",
       "      <td>0.095672</td>\n",
       "      <td>TESSy COVID-19 combined sources</td>\n",
       "      <td>NaN</td>\n",
       "    </tr>\n",
       "    <tr>\n",
       "      <th>27275</th>\n",
       "      <td>Sweden</td>\n",
       "      <td>Weekly new ICU admissions per 100k</td>\n",
       "      <td>2023-05-14</td>\n",
       "      <td>2023-W19</td>\n",
       "      <td>0.095672</td>\n",
       "      <td>TESSy COVID-19 combined sources</td>\n",
       "      <td>NaN</td>\n",
       "    </tr>\n",
       "    <tr>\n",
       "      <th>27276</th>\n",
       "      <td>Sweden</td>\n",
       "      <td>Weekly new ICU admissions per 100k</td>\n",
       "      <td>2023-05-21</td>\n",
       "      <td>2023-W20</td>\n",
       "      <td>0.086105</td>\n",
       "      <td>TESSy COVID-19 combined sources</td>\n",
       "      <td>NaN</td>\n",
       "    </tr>\n",
       "  </tbody>\n",
       "</table>\n",
       "<p>27277 rows × 7 columns</p>\n",
       "</div>"
      ],
      "text/plain": [
       "       country                           indicator       date year_week  \\\n",
       "0      Austria            Daily hospital occupancy 2020-04-01  2020-W14   \n",
       "1      Austria            Daily hospital occupancy 2020-04-02  2020-W14   \n",
       "2      Austria            Daily hospital occupancy 2020-04-03  2020-W14   \n",
       "3      Austria            Daily hospital occupancy 2020-04-04  2020-W14   \n",
       "4      Austria            Daily hospital occupancy 2020-04-05  2020-W14   \n",
       "...        ...                                 ...        ...       ...   \n",
       "27272   Sweden  Weekly new ICU admissions per 100k 2023-04-23  2023-W16   \n",
       "27273   Sweden  Weekly new ICU admissions per 100k 2023-04-30  2023-W17   \n",
       "27274   Sweden  Weekly new ICU admissions per 100k 2023-05-07  2023-W18   \n",
       "27275   Sweden  Weekly new ICU admissions per 100k 2023-05-14  2023-W19   \n",
       "27276   Sweden  Weekly new ICU admissions per 100k 2023-05-21  2023-W20   \n",
       "\n",
       "            value                           source  url  \n",
       "0      856.000000                  Country_Website  NaN  \n",
       "1      823.000000                  Country_Website  NaN  \n",
       "2      829.000000                  Country_Website  NaN  \n",
       "3      826.000000                  Country_Website  NaN  \n",
       "4      712.000000                  Country_Website  NaN  \n",
       "...           ...                              ...  ...  \n",
       "27272    0.172210  TESSy COVID-19 combined sources  NaN  \n",
       "27273    0.162643  TESSy COVID-19 combined sources  NaN  \n",
       "27274    0.095672  TESSy COVID-19 combined sources  NaN  \n",
       "27275    0.095672  TESSy COVID-19 combined sources  NaN  \n",
       "27276    0.086105  TESSy COVID-19 combined sources  NaN  \n",
       "\n",
       "[27277 rows x 7 columns]"
      ]
     },
     "execution_count": 81,
     "metadata": {},
     "output_type": "execute_result"
    }
   ],
   "source": [
    "df_uci[df_uci['url'].isnull()]"
   ]
  },
  {
   "cell_type": "markdown",
   "metadata": {},
   "source": [
    "Sustituimos los valores **NaN** por valores **Null**<br>"
   ]
  },
  {
   "cell_type": "code",
   "execution_count": 82,
   "metadata": {},
   "outputs": [],
   "source": [
    "df_uci.dropna(axis=0, inplace=True)"
   ]
  },
  {
   "cell_type": "markdown",
   "metadata": {},
   "source": [
    "Verificamos la instrucción y observamos que **no existen valores nulos**"
   ]
  },
  {
   "cell_type": "code",
   "execution_count": 83,
   "metadata": {
    "scrolled": true
   },
   "outputs": [
    {
     "data": {
      "text/plain": [
       "country      0.0\n",
       "indicator    0.0\n",
       "date         0.0\n",
       "year_week    0.0\n",
       "value        0.0\n",
       "source       0.0\n",
       "url          0.0\n",
       "dtype: float64"
      ]
     },
     "execution_count": 83,
     "metadata": {},
     "output_type": "execute_result"
    }
   ],
   "source": [
    "df_uci.isnull().sum()"
   ]
  },
  {
   "cell_type": "markdown",
   "metadata": {},
   "source": [
    "Mediante la función **.columns** obtenemos el orden y el nombre de las columnas del **df_uci**"
   ]
  },
  {
   "cell_type": "code",
   "execution_count": 84,
   "metadata": {
    "scrolled": true
   },
   "outputs": [
    {
     "data": {
      "text/plain": [
       "Index(['country', 'indicator', 'date', 'year_week', 'value', 'source', 'url'], dtype='object')"
      ]
     },
     "execution_count": 84,
     "metadata": {},
     "output_type": "execute_result"
    }
   ],
   "source": [
    "df_uci.columns"
   ]
  },
  {
   "cell_type": "code",
   "execution_count": 85,
   "metadata": {},
   "outputs": [
    {
     "data": {
      "text/plain": [
       "(0, 7)"
      ]
     },
     "execution_count": 85,
     "metadata": {},
     "output_type": "execute_result"
    }
   ],
   "source": [
    "df_uci.shape"
   ]
  },
  {
   "cell_type": "markdown",
   "metadata": {},
   "source": [
    "Renombramos el nombre de las Columnas del **df_uci**"
   ]
  },
  {
   "cell_type": "code",
   "execution_count": 86,
   "metadata": {},
   "outputs": [],
   "source": [
    "df_uci.columns =['PAIS', 'INDICADOR', 'FECHA', 'ANO_SEMANA', 'VALOR',\n",
    "       'FUENTE', 'URL']"
   ]
  },
  {
   "cell_type": "code",
   "execution_count": 28,
   "metadata": {},
   "outputs": [
    {
     "name": "stdout",
     "output_type": "stream",
     "text": [
      "<class 'pandas.core.frame.DataFrame'>\n",
      "Int64Index: 0 entries\n",
      "Data columns (total 7 columns):\n",
      " #   Column      Non-Null Count  Dtype         \n",
      "---  ------      --------------  -----         \n",
      " 0   PAIS        0 non-null      object        \n",
      " 1   INDICADOR   0 non-null      object        \n",
      " 2   FECHA       0 non-null      datetime64[ns]\n",
      " 3   ANO_SEMANA  0 non-null      object        \n",
      " 4   VALOR       0 non-null      float64       \n",
      " 5   FUENTE      0 non-null      object        \n",
      " 6   URL         0 non-null      float64       \n",
      "dtypes: datetime64[ns](1), float64(2), object(4)\n",
      "memory usage: 0.0+ bytes\n"
     ]
    }
   ],
   "source": [
    "df_uci.columns\n",
    "df_uci.info()"
   ]
  },
  {
   "cell_type": "code",
   "execution_count": 87,
   "metadata": {
    "scrolled": true
   },
   "outputs": [
    {
     "data": {
      "text/plain": [
       "0"
      ]
     },
     "execution_count": 87,
     "metadata": {},
     "output_type": "execute_result"
    }
   ],
   "source": [
    "df_uci['PAIS'].unique()\n",
    "len(df_uci['PAIS'].unique())"
   ]
  },
  {
   "cell_type": "code",
   "execution_count": 110,
   "metadata": {},
   "outputs": [
    {
     "ename": "KeyError",
     "evalue": "'PAIS'",
     "output_type": "error",
     "traceback": [
      "\u001b[1;31m---------------------------------------------------------------------------\u001b[0m",
      "\u001b[1;31mKeyError\u001b[0m                                  Traceback (most recent call last)",
      "\u001b[1;32m~\\anaconda3\\lib\\site-packages\\pandas\\core\\indexes\\base.py\u001b[0m in \u001b[0;36mget_loc\u001b[1;34m(self, key, method, tolerance)\u001b[0m\n\u001b[0;32m   3628\u001b[0m             \u001b[1;32mtry\u001b[0m\u001b[1;33m:\u001b[0m\u001b[1;33m\u001b[0m\u001b[1;33m\u001b[0m\u001b[0m\n\u001b[1;32m-> 3629\u001b[1;33m                 \u001b[1;32mreturn\u001b[0m \u001b[0mself\u001b[0m\u001b[1;33m.\u001b[0m\u001b[0m_engine\u001b[0m\u001b[1;33m.\u001b[0m\u001b[0mget_loc\u001b[0m\u001b[1;33m(\u001b[0m\u001b[0mcasted_key\u001b[0m\u001b[1;33m)\u001b[0m\u001b[1;33m\u001b[0m\u001b[1;33m\u001b[0m\u001b[0m\n\u001b[0m\u001b[0;32m   3630\u001b[0m             \u001b[1;32mexcept\u001b[0m \u001b[0mKeyError\u001b[0m \u001b[1;32mas\u001b[0m \u001b[0merr\u001b[0m\u001b[1;33m:\u001b[0m\u001b[1;33m\u001b[0m\u001b[1;33m\u001b[0m\u001b[0m\n",
      "\u001b[1;32m~\\anaconda3\\lib\\site-packages\\pandas\\_libs\\index.pyx\u001b[0m in \u001b[0;36mpandas._libs.index.IndexEngine.get_loc\u001b[1;34m()\u001b[0m\n",
      "\u001b[1;32m~\\anaconda3\\lib\\site-packages\\pandas\\_libs\\index.pyx\u001b[0m in \u001b[0;36mpandas._libs.index.IndexEngine.get_loc\u001b[1;34m()\u001b[0m\n",
      "\u001b[1;32mpandas\\_libs\\hashtable_class_helper.pxi\u001b[0m in \u001b[0;36mpandas._libs.hashtable.PyObjectHashTable.get_item\u001b[1;34m()\u001b[0m\n",
      "\u001b[1;32mpandas\\_libs\\hashtable_class_helper.pxi\u001b[0m in \u001b[0;36mpandas._libs.hashtable.PyObjectHashTable.get_item\u001b[1;34m()\u001b[0m\n",
      "\u001b[1;31mKeyError\u001b[0m: 'PAIS'",
      "\nThe above exception was the direct cause of the following exception:\n",
      "\u001b[1;31mKeyError\u001b[0m                                  Traceback (most recent call last)",
      "\u001b[1;32m~\\AppData\\Local\\Temp\\ipykernel_6844\\3090315889.py\u001b[0m in \u001b[0;36m<module>\u001b[1;34m\u001b[0m\n\u001b[1;32m----> 1\u001b[1;33m \u001b[0mdf_uci\u001b[0m\u001b[1;33m[\u001b[0m\u001b[1;34m'PAIS'\u001b[0m\u001b[1;33m]\u001b[0m\u001b[1;33m\u001b[0m\u001b[1;33m\u001b[0m\u001b[0m\n\u001b[0m",
      "\u001b[1;32m~\\anaconda3\\lib\\site-packages\\pandas\\core\\frame.py\u001b[0m in \u001b[0;36m__getitem__\u001b[1;34m(self, key)\u001b[0m\n\u001b[0;32m   3503\u001b[0m             \u001b[1;32mif\u001b[0m \u001b[0mself\u001b[0m\u001b[1;33m.\u001b[0m\u001b[0mcolumns\u001b[0m\u001b[1;33m.\u001b[0m\u001b[0mnlevels\u001b[0m \u001b[1;33m>\u001b[0m \u001b[1;36m1\u001b[0m\u001b[1;33m:\u001b[0m\u001b[1;33m\u001b[0m\u001b[1;33m\u001b[0m\u001b[0m\n\u001b[0;32m   3504\u001b[0m                 \u001b[1;32mreturn\u001b[0m \u001b[0mself\u001b[0m\u001b[1;33m.\u001b[0m\u001b[0m_getitem_multilevel\u001b[0m\u001b[1;33m(\u001b[0m\u001b[0mkey\u001b[0m\u001b[1;33m)\u001b[0m\u001b[1;33m\u001b[0m\u001b[1;33m\u001b[0m\u001b[0m\n\u001b[1;32m-> 3505\u001b[1;33m             \u001b[0mindexer\u001b[0m \u001b[1;33m=\u001b[0m \u001b[0mself\u001b[0m\u001b[1;33m.\u001b[0m\u001b[0mcolumns\u001b[0m\u001b[1;33m.\u001b[0m\u001b[0mget_loc\u001b[0m\u001b[1;33m(\u001b[0m\u001b[0mkey\u001b[0m\u001b[1;33m)\u001b[0m\u001b[1;33m\u001b[0m\u001b[1;33m\u001b[0m\u001b[0m\n\u001b[0m\u001b[0;32m   3506\u001b[0m             \u001b[1;32mif\u001b[0m \u001b[0mis_integer\u001b[0m\u001b[1;33m(\u001b[0m\u001b[0mindexer\u001b[0m\u001b[1;33m)\u001b[0m\u001b[1;33m:\u001b[0m\u001b[1;33m\u001b[0m\u001b[1;33m\u001b[0m\u001b[0m\n\u001b[0;32m   3507\u001b[0m                 \u001b[0mindexer\u001b[0m \u001b[1;33m=\u001b[0m \u001b[1;33m[\u001b[0m\u001b[0mindexer\u001b[0m\u001b[1;33m]\u001b[0m\u001b[1;33m\u001b[0m\u001b[1;33m\u001b[0m\u001b[0m\n",
      "\u001b[1;32m~\\anaconda3\\lib\\site-packages\\pandas\\core\\indexes\\base.py\u001b[0m in \u001b[0;36mget_loc\u001b[1;34m(self, key, method, tolerance)\u001b[0m\n\u001b[0;32m   3629\u001b[0m                 \u001b[1;32mreturn\u001b[0m \u001b[0mself\u001b[0m\u001b[1;33m.\u001b[0m\u001b[0m_engine\u001b[0m\u001b[1;33m.\u001b[0m\u001b[0mget_loc\u001b[0m\u001b[1;33m(\u001b[0m\u001b[0mcasted_key\u001b[0m\u001b[1;33m)\u001b[0m\u001b[1;33m\u001b[0m\u001b[1;33m\u001b[0m\u001b[0m\n\u001b[0;32m   3630\u001b[0m             \u001b[1;32mexcept\u001b[0m \u001b[0mKeyError\u001b[0m \u001b[1;32mas\u001b[0m \u001b[0merr\u001b[0m\u001b[1;33m:\u001b[0m\u001b[1;33m\u001b[0m\u001b[1;33m\u001b[0m\u001b[0m\n\u001b[1;32m-> 3631\u001b[1;33m                 \u001b[1;32mraise\u001b[0m \u001b[0mKeyError\u001b[0m\u001b[1;33m(\u001b[0m\u001b[0mkey\u001b[0m\u001b[1;33m)\u001b[0m \u001b[1;32mfrom\u001b[0m \u001b[0merr\u001b[0m\u001b[1;33m\u001b[0m\u001b[1;33m\u001b[0m\u001b[0m\n\u001b[0m\u001b[0;32m   3632\u001b[0m             \u001b[1;32mexcept\u001b[0m \u001b[0mTypeError\u001b[0m\u001b[1;33m:\u001b[0m\u001b[1;33m\u001b[0m\u001b[1;33m\u001b[0m\u001b[0m\n\u001b[0;32m   3633\u001b[0m                 \u001b[1;31m# If we have a listlike key, _check_indexing_error will raise\u001b[0m\u001b[1;33m\u001b[0m\u001b[1;33m\u001b[0m\u001b[0m\n",
      "\u001b[1;31mKeyError\u001b[0m: 'PAIS'"
     ]
    }
   ],
   "source": [
    "df_uci['PAIS']"
   ]
  },
  {
   "cell_type": "markdown",
   "metadata": {},
   "source": [
    "Con el módulo **pycountry** obtenemos datos adicionales para el dataframe y se renombran las columnas con la función **.columns** ACA NO SE SI TENGO QUE HACERLO... \n"
   ]
  },
  {
   "cell_type": "code",
   "execution_count": 28,
   "metadata": {
    "scrolled": false
   },
   "outputs": [],
   "source": [
    "import pycountry_convert as pc\n",
    "\n",
    "def obtener_continente_ISO3(codigo_ISO3):\n",
    "    try:\n",
    "        continente_code = pc.country_alpha3_to_country_alpha2(codigo_ISO3)\n",
    "        continente = pc.country_alpha2_to_continent_code(continente_code)\n",
    "        continente_nombre = pc.convert_continent_code_to_continent_name(continente)\n",
    "        return continente_nombre, continente\n",
    "    except:\n",
    "        return None, None\n",
    "\n",
    "df_vacunation[['Continente', 'ISO_continente']] = df_vacunation['ISO3'].apply(obtener_continente_ISO3).apply(pd.Series)\n",
    "\n",
    "indice_ISO3 = df_vacunation.columns.get_loc(\"ISO3\")\n",
    "\n",
    "df_vacunation.insert(indice_ISO3 + 1, \"Continente\", df_vacunation.pop(\"Continente\"))\n",
    "df_vacunation.insert(indice_ISO3 + 2, \"ISO_continente\", df_vacunation.pop(\"ISO_continente\"))"
   ]
  },
  {
   "cell_type": "code",
   "execution_count": 89,
   "metadata": {},
   "outputs": [
    {
     "data": {
      "text/html": [
       "<div>\n",
       "<style scoped>\n",
       "    .dataframe tbody tr th:only-of-type {\n",
       "        vertical-align: middle;\n",
       "    }\n",
       "\n",
       "    .dataframe tbody tr th {\n",
       "        vertical-align: top;\n",
       "    }\n",
       "\n",
       "    .dataframe thead th {\n",
       "        text-align: right;\n",
       "    }\n",
       "</style>\n",
       "<table border=\"1\" class=\"dataframe\">\n",
       "  <thead>\n",
       "    <tr style=\"text-align: right;\">\n",
       "      <th></th>\n",
       "      <th>PAIS</th>\n",
       "      <th>INDICADOR</th>\n",
       "      <th>FECHA</th>\n",
       "      <th>ANO_SEMANA</th>\n",
       "      <th>VALOR</th>\n",
       "      <th>FUENTE</th>\n",
       "      <th>URL</th>\n",
       "    </tr>\n",
       "  </thead>\n",
       "  <tbody>\n",
       "  </tbody>\n",
       "</table>\n",
       "</div>"
      ],
      "text/plain": [
       "Empty DataFrame\n",
       "Columns: [PAIS, INDICADOR, FECHA, ANO_SEMANA, VALOR, FUENTE, URL]\n",
       "Index: []"
      ]
     },
     "execution_count": 89,
     "metadata": {},
     "output_type": "execute_result"
    }
   ],
   "source": [
    "df_uci"
   ]
  },
  {
   "cell_type": "code",
   "execution_count": 90,
   "metadata": {
    "scrolled": true
   },
   "outputs": [
    {
     "name": "stdout",
     "output_type": "stream",
     "text": [
      "<class 'pandas.core.frame.DataFrame'>\n",
      "Int64Index: 0 entries\n",
      "Data columns (total 7 columns):\n",
      " #   Column      Non-Null Count  Dtype         \n",
      "---  ------      --------------  -----         \n",
      " 0   PAIS        0 non-null      object        \n",
      " 1   INDICADOR   0 non-null      object        \n",
      " 2   FECHA       0 non-null      datetime64[ns]\n",
      " 3   ANO_SEMANA  0 non-null      object        \n",
      " 4   VALOR       0 non-null      float64       \n",
      " 5   FUENTE      0 non-null      object        \n",
      " 6   URL         0 non-null      float64       \n",
      "dtypes: datetime64[ns](1), float64(2), object(4)\n",
      "memory usage: 0.0+ bytes\n"
     ]
    }
   ],
   "source": [
    "df_uci.info()"
   ]
  },
  {
   "cell_type": "markdown",
   "metadata": {},
   "source": [
    "Se corrige el tipo de la columna y se modifica el formato"
   ]
  },
  {
   "cell_type": "markdown",
   "metadata": {},
   "source": [
    "Hacemos una última revisión"
   ]
  },
  {
   "cell_type": "code",
   "execution_count": 91,
   "metadata": {},
   "outputs": [
    {
     "data": {
      "text/plain": [
       "False"
      ]
     },
     "execution_count": 91,
     "metadata": {},
     "output_type": "execute_result"
    }
   ],
   "source": [
    "df_uci.duplicated().values.any()"
   ]
  },
  {
   "cell_type": "code",
   "execution_count": 92,
   "metadata": {},
   "outputs": [
    {
     "data": {
      "text/plain": [
       "PAIS          0.0\n",
       "INDICADOR     0.0\n",
       "FECHA         0.0\n",
       "ANO_SEMANA    0.0\n",
       "VALOR         0.0\n",
       "FUENTE        0.0\n",
       "URL           0.0\n",
       "dtype: float64"
      ]
     },
     "execution_count": 92,
     "metadata": {},
     "output_type": "execute_result"
    }
   ],
   "source": [
    "df_uci.isnull().sum()"
   ]
  },
  {
   "cell_type": "markdown",
   "metadata": {},
   "source": []
  },
  {
   "cell_type": "code",
   "execution_count": 39,
   "metadata": {
    "scrolled": true
   },
   "outputs": [
    {
     "data": {
      "text/html": [
       "<div>\n",
       "<style scoped>\n",
       "    .dataframe tbody tr th:only-of-type {\n",
       "        vertical-align: middle;\n",
       "    }\n",
       "\n",
       "    .dataframe tbody tr th {\n",
       "        vertical-align: top;\n",
       "    }\n",
       "\n",
       "    .dataframe thead th {\n",
       "        text-align: right;\n",
       "    }\n",
       "</style>\n",
       "<table border=\"1\" class=\"dataframe\">\n",
       "  <thead>\n",
       "    <tr style=\"text-align: right;\">\n",
       "      <th></th>\n",
       "      <th>PAIS</th>\n",
       "      <th>INDICADOR</th>\n",
       "      <th>FECHA</th>\n",
       "      <th>ANO_SEMANA</th>\n",
       "      <th>VALOR</th>\n",
       "      <th>FUENTE</th>\n",
       "      <th>URL</th>\n",
       "    </tr>\n",
       "  </thead>\n",
       "  <tbody>\n",
       "  </tbody>\n",
       "</table>\n",
       "</div>"
      ],
      "text/plain": [
       "Empty DataFrame\n",
       "Columns: [PAIS, INDICADOR, FECHA, ANO_SEMANA, VALOR, FUENTE, URL]\n",
       "Index: []"
      ]
     },
     "execution_count": 39,
     "metadata": {},
     "output_type": "execute_result"
    }
   ],
   "source": [
    "df_uci.head()"
   ]
  },
  {
   "cell_type": "code",
   "execution_count": 37,
   "metadata": {},
   "outputs": [],
   "source": []
  },
  {
   "cell_type": "markdown",
   "metadata": {},
   "source": [
    "Lambda que exporta el CSV en la misma ubicación que el original"
   ]
  },
  {
   "cell_type": "code",
   "execution_count": 38,
   "metadata": {},
   "outputs": [],
   "source": [
    "import os\n",
    "(lambda df, nombre_archivo: df.to_csv(os.path.join(os.path.dirname(os.path.abspath(\"df_vacunation.csv\")), nombre_archivo), index=False))(df_vacunation, \"DEF_df_vacunation.csv\")"
   ]
  }
 ],
 "metadata": {
  "colab": {
   "authorship_tag": "ABX9TyN+vE3FVeYLsZoKwpePi8db",
   "collapsed_sections": [],
   "include_colab_link": true,
   "mount_file_id": "1e8_Ocqw-PXiIQ5NB5yEhisSTztddXrF4",
   "name": "Cleaning_data_Python.ipynb",
   "provenance": [],
   "toc_visible": true
  },
  "kernelspec": {
   "display_name": "Python 3 (ipykernel)",
   "language": "python",
   "name": "python3"
  },
  "language_info": {
   "codemirror_mode": {
    "name": "ipython",
    "version": 3
   },
   "file_extension": ".py",
   "mimetype": "text/x-python",
   "name": "python",
   "nbconvert_exporter": "python",
   "pygments_lexer": "ipython3",
   "version": "3.9.13"
  }
 },
 "nbformat": 4,
 "nbformat_minor": 1
}
