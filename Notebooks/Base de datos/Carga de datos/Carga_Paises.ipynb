{
    "metadata": {
        "kernelspec": {
            "name": "python3",
            "display_name": "Python 3",
            "language": "python"
        },
        "language_info": {
            "name": "python",
            "version": "3.8.10",
            "mimetype": "text/x-python",
            "codemirror_mode": {
                "name": "ipython",
                "version": 3
            },
            "pygments_lexer": "ipython3",
            "nbconvert_exporter": "python",
            "file_extension": ".py"
        },
        "colab": {
            "provenance": [],
            "authorship_tag": "ABX9TyNmhRdSCztdI1/eYa1Gqv0g",
            "include_colab_link": true
        }
    },
    "nbformat_minor": 2,
    "nbformat": 4,
    "cells": [
        {
            "cell_type": "markdown",
            "source": [
                "<a href=\"https://colab.research.google.com/github/patriciaapenat/TFM/blob/main/Notebooks/prueba.ipynb\" target=\"_parent\"><img src=\"https://colab.research.google.com/assets/colab-badge.svg\" alt=\"Open In Colab\"/></a>"
            ],
            "metadata": {
                "id": "view-in-github",
                "colab_type": "text",
                "azdata_cell_guid": "0ee9d4f2-543e-4bfe-bf2b-5c0a3059f07a"
            }
        },
        {
            "cell_type": "code",
            "source": [
                "import pandas as pd\r\n",
                "import mysql.connector"
            ],
            "metadata": {
                "id": "TZu9Is8JK_OF",
                "azdata_cell_guid": "e3514dcc-0f42-4a1e-a5fc-7a4779546147",
                "language": "python"
            },
            "outputs": [],
            "execution_count": 167
        },
        {
            "cell_type": "code",
            "source": [
                "df_paises= pd.read_csv('C:/Users/joschava/Dropbox/TFM COVID/Entregables/2023.10 Entrega Final/Tablas Soporte/paises.csv')\r\n",
                "df_paises"
            ],
            "metadata": {
                "id": "ryYmGTcvLkli",
                "azdata_cell_guid": "1f1da414-c9c0-4f6e-b553-622f0617fac4",
                "language": "python",
                "tags": []
            },
            "outputs": [
                {
                    "data": {
                        "text/plain": "    PAIS_ISO3 PAIS_ISO2                          PAIS_NOM COD_CONTINENTE  \\\n0         AGO        AO                            Angola             AF   \n1         BDI        BI                           Burundi             AF   \n2         BEN        BJ                             Benin             AF   \n3         BFA        BF                      Burkina Faso             AF   \n4         BWA        BW                          Botswana             AF   \n..        ...       ...                               ...            ...   \n244       VCT        VC  Saint Vincent and the Grenadines            NaN   \n245       VGB        VG            British Virgin Islands            NaN   \n246       BLM        BL                     San Bartolomé            NaN   \n247       MAF        MF                        San Martín            NaN   \n248       SXM        SX                        San Martín            NaN   \n\n        CONTINENTE OMS_REGION DESC_OMS_REGION  \\\n0           Africa       AFRO          Africa   \n1           Africa       AFRO          Africa   \n2           Africa       AFRO          Africa   \n3           Africa       AFRO          Africa   \n4           Africa       AFRO          Africa   \n..             ...        ...             ...   \n244  North America       AMRO         América   \n245  North America       AMRO         América   \n246  North America       AMRO         América   \n247  North America       AMRO         América   \n248  North America       AMRO         América   \n\n                           PAIS_NOM_2 country_code_x  longitude_x  ...  \\\n0                              Angola             AO    17.873887  ...   \n1                             Burundi             BI    29.918886  ...   \n2                               Benin             BJ     2.315834  ...   \n3                        Burkina Faso             BF    -1.561593  ...   \n4                            Botswana             BW    24.684866  ...   \n..                                ...            ...          ...  ...   \n244  Saint Vincent and the Grenadines             VC   -61.287228  ...   \n245            British Virgin Islands             VG   -64.639968  ...   \n246                  Saint Barthélemy            NaN   -62.830000  ...   \n247                      Saint Martin            NaN          NaN  ...   \n248                        San Martín            NaN          NaN  ...   \n\n     latitude_y  GDP per capita (current US$)  \\\n0    -11.202692                   1502.950754   \n1     -3.373056                    216.827417   \n2      9.307690                   1237.949295   \n3     12.238333                    833.244336   \n4    -22.328474                   5875.070606   \n..          ...                           ...   \n244   12.984305                   8306.367581   \n245   18.420695                           NaN   \n246         NaN                           NaN   \n247         NaN                           NaN   \n248         NaN                  29314.094295   \n\n    Individuals using the Internet (% of population)  \\\n0                                          32.550147   \n1                                           3.787954   \n2                                          28.229154   \n3                                          13.937972   \n4                                          72.748020   \n..                                               ...   \n244                                        80.429529   \n245                                              NaN   \n246                                              NaN   \n247                                              NaN   \n248                                              NaN   \n\n     People using at least basic drinking water services (% of population)  \\\n0                                            57.167738                       \n1                                            62.207122                       \n2                                            65.414123                       \n3                                            47.214854                       \n4                                            92.213563                       \n..                                                 ...                       \n244                                                NaN                       \n245                                          99.864384                       \n246                                                NaN                       \n247                                          99.999271                       \n248                                                NaN                       \n\n     People using at least basic sanitation services (% of population)  \\\n0                                            51.660329                   \n1                                            45.727511                   \n2                                            16.962884                   \n3                                            21.664373                   \n4                                            80.026243                   \n..                                                 ...                   \n244                                                NaN                   \n245                                                NaN                   \n246                                                NaN                   \n247                                         100.000000                   \n248                                                NaN                   \n\n     Population density (people per sq. km of land area)  \\\n0                                            26.813577     \n1                                           475.865537     \n2                                           112.124184     \n3                                            78.664569     \n4                                             4.493148     \n..                                                 ...     \n244                                         268.287179     \n245                                         206.066667     \n246                                                NaN     \n247                                         651.060000     \n248                                        1244.411765     \n\n     Rural population (% of total population)  \\\n0                                      33.175   \n1                                      86.292   \n2                                      51.585   \n3                                      69.393   \n4                                      29.123   \n..                                        ...   \n244                                    46.968   \n245                                    51.485   \n246                                       NaN   \n247                                       NaN   \n248                                     0.000   \n\n     Urban population (% of total population)  AverageTemperature  \\\n0                                      66.825           22.508965   \n1                                      13.708           20.816609   \n2                                      48.415           27.937785   \n3                                      30.607           28.909989   \n4                                      70.877           22.505484   \n..                                        ...                 ...   \n244                                    53.032                 NaN   \n245                                    48.515           27.242333   \n246                                       NaN                 NaN   \n247                                       NaN                 NaN   \n248                                   100.000                 NaN   \n\n     Altura Promedio  \n0             1112.0  \n1             1504.0  \n2              273.0  \n3              297.0  \n4             1013.0  \n..               ...  \n244              NaN  \n245              NaN  \n246              NaN  \n247              NaN  \n248              NaN  \n\n[249 rows x 24 columns]",
                        "text/html": "<div>\n<style scoped>\n    .dataframe tbody tr th:only-of-type {\n        vertical-align: middle;\n    }\n\n    .dataframe tbody tr th {\n        vertical-align: top;\n    }\n\n    .dataframe thead th {\n        text-align: right;\n    }\n</style>\n<table border=\"1\" class=\"dataframe\">\n  <thead>\n    <tr style=\"text-align: right;\">\n      <th></th>\n      <th>PAIS_ISO3</th>\n      <th>PAIS_ISO2</th>\n      <th>PAIS_NOM</th>\n      <th>COD_CONTINENTE</th>\n      <th>CONTINENTE</th>\n      <th>OMS_REGION</th>\n      <th>DESC_OMS_REGION</th>\n      <th>PAIS_NOM_2</th>\n      <th>country_code_x</th>\n      <th>longitude_x</th>\n      <th>...</th>\n      <th>latitude_y</th>\n      <th>GDP per capita (current US$)</th>\n      <th>Individuals using the Internet (% of population)</th>\n      <th>People using at least basic drinking water services (% of population)</th>\n      <th>People using at least basic sanitation services (% of population)</th>\n      <th>Population density (people per sq. km of land area)</th>\n      <th>Rural population (% of total population)</th>\n      <th>Urban population (% of total population)</th>\n      <th>AverageTemperature</th>\n      <th>Altura Promedio</th>\n    </tr>\n  </thead>\n  <tbody>\n    <tr>\n      <th>0</th>\n      <td>AGO</td>\n      <td>AO</td>\n      <td>Angola</td>\n      <td>AF</td>\n      <td>Africa</td>\n      <td>AFRO</td>\n      <td>Africa</td>\n      <td>Angola</td>\n      <td>AO</td>\n      <td>17.873887</td>\n      <td>...</td>\n      <td>-11.202692</td>\n      <td>1502.950754</td>\n      <td>32.550147</td>\n      <td>57.167738</td>\n      <td>51.660329</td>\n      <td>26.813577</td>\n      <td>33.175</td>\n      <td>66.825</td>\n      <td>22.508965</td>\n      <td>1112.0</td>\n    </tr>\n    <tr>\n      <th>1</th>\n      <td>BDI</td>\n      <td>BI</td>\n      <td>Burundi</td>\n      <td>AF</td>\n      <td>Africa</td>\n      <td>AFRO</td>\n      <td>Africa</td>\n      <td>Burundi</td>\n      <td>BI</td>\n      <td>29.918886</td>\n      <td>...</td>\n      <td>-3.373056</td>\n      <td>216.827417</td>\n      <td>3.787954</td>\n      <td>62.207122</td>\n      <td>45.727511</td>\n      <td>475.865537</td>\n      <td>86.292</td>\n      <td>13.708</td>\n      <td>20.816609</td>\n      <td>1504.0</td>\n    </tr>\n    <tr>\n      <th>2</th>\n      <td>BEN</td>\n      <td>BJ</td>\n      <td>Benin</td>\n      <td>AF</td>\n      <td>Africa</td>\n      <td>AFRO</td>\n      <td>Africa</td>\n      <td>Benin</td>\n      <td>BJ</td>\n      <td>2.315834</td>\n      <td>...</td>\n      <td>9.307690</td>\n      <td>1237.949295</td>\n      <td>28.229154</td>\n      <td>65.414123</td>\n      <td>16.962884</td>\n      <td>112.124184</td>\n      <td>51.585</td>\n      <td>48.415</td>\n      <td>27.937785</td>\n      <td>273.0</td>\n    </tr>\n    <tr>\n      <th>3</th>\n      <td>BFA</td>\n      <td>BF</td>\n      <td>Burkina Faso</td>\n      <td>AF</td>\n      <td>Africa</td>\n      <td>AFRO</td>\n      <td>Africa</td>\n      <td>Burkina Faso</td>\n      <td>BF</td>\n      <td>-1.561593</td>\n      <td>...</td>\n      <td>12.238333</td>\n      <td>833.244336</td>\n      <td>13.937972</td>\n      <td>47.214854</td>\n      <td>21.664373</td>\n      <td>78.664569</td>\n      <td>69.393</td>\n      <td>30.607</td>\n      <td>28.909989</td>\n      <td>297.0</td>\n    </tr>\n    <tr>\n      <th>4</th>\n      <td>BWA</td>\n      <td>BW</td>\n      <td>Botswana</td>\n      <td>AF</td>\n      <td>Africa</td>\n      <td>AFRO</td>\n      <td>Africa</td>\n      <td>Botswana</td>\n      <td>BW</td>\n      <td>24.684866</td>\n      <td>...</td>\n      <td>-22.328474</td>\n      <td>5875.070606</td>\n      <td>72.748020</td>\n      <td>92.213563</td>\n      <td>80.026243</td>\n      <td>4.493148</td>\n      <td>29.123</td>\n      <td>70.877</td>\n      <td>22.505484</td>\n      <td>1013.0</td>\n    </tr>\n    <tr>\n      <th>...</th>\n      <td>...</td>\n      <td>...</td>\n      <td>...</td>\n      <td>...</td>\n      <td>...</td>\n      <td>...</td>\n      <td>...</td>\n      <td>...</td>\n      <td>...</td>\n      <td>...</td>\n      <td>...</td>\n      <td>...</td>\n      <td>...</td>\n      <td>...</td>\n      <td>...</td>\n      <td>...</td>\n      <td>...</td>\n      <td>...</td>\n      <td>...</td>\n      <td>...</td>\n      <td>...</td>\n    </tr>\n    <tr>\n      <th>244</th>\n      <td>VCT</td>\n      <td>VC</td>\n      <td>Saint Vincent and the Grenadines</td>\n      <td>NaN</td>\n      <td>North America</td>\n      <td>AMRO</td>\n      <td>América</td>\n      <td>Saint Vincent and the Grenadines</td>\n      <td>VC</td>\n      <td>-61.287228</td>\n      <td>...</td>\n      <td>12.984305</td>\n      <td>8306.367581</td>\n      <td>80.429529</td>\n      <td>NaN</td>\n      <td>NaN</td>\n      <td>268.287179</td>\n      <td>46.968</td>\n      <td>53.032</td>\n      <td>NaN</td>\n      <td>NaN</td>\n    </tr>\n    <tr>\n      <th>245</th>\n      <td>VGB</td>\n      <td>VG</td>\n      <td>British Virgin Islands</td>\n      <td>NaN</td>\n      <td>North America</td>\n      <td>AMRO</td>\n      <td>América</td>\n      <td>British Virgin Islands</td>\n      <td>VG</td>\n      <td>-64.639968</td>\n      <td>...</td>\n      <td>18.420695</td>\n      <td>NaN</td>\n      <td>NaN</td>\n      <td>99.864384</td>\n      <td>NaN</td>\n      <td>206.066667</td>\n      <td>51.485</td>\n      <td>48.515</td>\n      <td>27.242333</td>\n      <td>NaN</td>\n    </tr>\n    <tr>\n      <th>246</th>\n      <td>BLM</td>\n      <td>BL</td>\n      <td>San Bartolomé</td>\n      <td>NaN</td>\n      <td>North America</td>\n      <td>AMRO</td>\n      <td>América</td>\n      <td>Saint Barthélemy</td>\n      <td>NaN</td>\n      <td>-62.830000</td>\n      <td>...</td>\n      <td>NaN</td>\n      <td>NaN</td>\n      <td>NaN</td>\n      <td>NaN</td>\n      <td>NaN</td>\n      <td>NaN</td>\n      <td>NaN</td>\n      <td>NaN</td>\n      <td>NaN</td>\n      <td>NaN</td>\n    </tr>\n    <tr>\n      <th>247</th>\n      <td>MAF</td>\n      <td>MF</td>\n      <td>San Martín</td>\n      <td>NaN</td>\n      <td>North America</td>\n      <td>AMRO</td>\n      <td>América</td>\n      <td>Saint Martin</td>\n      <td>NaN</td>\n      <td>NaN</td>\n      <td>...</td>\n      <td>NaN</td>\n      <td>NaN</td>\n      <td>NaN</td>\n      <td>99.999271</td>\n      <td>100.000000</td>\n      <td>651.060000</td>\n      <td>NaN</td>\n      <td>NaN</td>\n      <td>NaN</td>\n      <td>NaN</td>\n    </tr>\n    <tr>\n      <th>248</th>\n      <td>SXM</td>\n      <td>SX</td>\n      <td>San Martín</td>\n      <td>NaN</td>\n      <td>North America</td>\n      <td>AMRO</td>\n      <td>América</td>\n      <td>San Martín</td>\n      <td>NaN</td>\n      <td>NaN</td>\n      <td>...</td>\n      <td>NaN</td>\n      <td>29314.094295</td>\n      <td>NaN</td>\n      <td>NaN</td>\n      <td>NaN</td>\n      <td>1244.411765</td>\n      <td>0.000</td>\n      <td>100.000</td>\n      <td>NaN</td>\n      <td>NaN</td>\n    </tr>\n  </tbody>\n</table>\n<p>249 rows × 24 columns</p>\n</div>"
                    },
                    "metadata": {},
                    "execution_count": 168,
                    "output_type": "execute_result"
                }
            ],
            "execution_count": 168
        },
        {
            "cell_type": "code",
            "source": [
                "df_paises.drop(['country_code_x','country_code_y','longitude_x','latitude_x'], axis=1, inplace=True)\r\n",
                "df_paises"
            ],
            "metadata": {
                "colab": {
                    "base_uri": "https://localhost:8080/",
                    "height": 424
                },
                "id": "yhqWmnKaLy4P",
                "outputId": "173f1d1d-a737-4115-9148-e9c485527f29",
                "azdata_cell_guid": "1afa2678-8fcf-4bdf-a7d4-4c7ed9682dbf",
                "language": "python"
            },
            "outputs": [
                {
                    "data": {
                        "text/plain": "    PAIS_ISO3 PAIS_ISO2                          PAIS_NOM COD_CONTINENTE  \\\n0         AGO        AO                            Angola             AF   \n1         BDI        BI                           Burundi             AF   \n2         BEN        BJ                             Benin             AF   \n3         BFA        BF                      Burkina Faso             AF   \n4         BWA        BW                          Botswana             AF   \n..        ...       ...                               ...            ...   \n244       VCT        VC  Saint Vincent and the Grenadines            NaN   \n245       VGB        VG            British Virgin Islands            NaN   \n246       BLM        BL                     San Bartolomé            NaN   \n247       MAF        MF                        San Martín            NaN   \n248       SXM        SX                        San Martín            NaN   \n\n        CONTINENTE OMS_REGION DESC_OMS_REGION  \\\n0           Africa       AFRO          Africa   \n1           Africa       AFRO          Africa   \n2           Africa       AFRO          Africa   \n3           Africa       AFRO          Africa   \n4           Africa       AFRO          Africa   \n..             ...        ...             ...   \n244  North America       AMRO         América   \n245  North America       AMRO         América   \n246  North America       AMRO         América   \n247  North America       AMRO         América   \n248  North America       AMRO         América   \n\n                           PAIS_NOM_2   POBLACION  longitude_y  latitude_y  \\\n0                              Angola  35588987.0    17.873887  -11.202692   \n1                             Burundi  12889576.0    29.918886   -3.373056   \n2                               Benin  13352864.0     2.315834    9.307690   \n3                        Burkina Faso  22673762.0    -1.561593   12.238333   \n4                            Botswana   2630296.0    24.684866  -22.328474   \n..                                ...         ...          ...         ...   \n244  Saint Vincent and the Grenadines    103948.0   -61.287228   12.984305   \n245            British Virgin Islands     31305.0   -64.639968   18.420695   \n246                  Saint Barthélemy         NaN          NaN         NaN   \n247                      Saint Martin     31791.0          NaN         NaN   \n248                        San Martín     43389.0          NaN         NaN   \n\n     GDP per capita (current US$)  \\\n0                     1502.950754   \n1                      216.827417   \n2                     1237.949295   \n3                      833.244336   \n4                     5875.070606   \n..                            ...   \n244                   8306.367581   \n245                           NaN   \n246                           NaN   \n247                           NaN   \n248                  29314.094295   \n\n     Individuals using the Internet (% of population)  \\\n0                                           32.550147   \n1                                            3.787954   \n2                                           28.229154   \n3                                           13.937972   \n4                                           72.748020   \n..                                                ...   \n244                                         80.429529   \n245                                               NaN   \n246                                               NaN   \n247                                               NaN   \n248                                               NaN   \n\n     People using at least basic drinking water services (% of population)  \\\n0                                            57.167738                       \n1                                            62.207122                       \n2                                            65.414123                       \n3                                            47.214854                       \n4                                            92.213563                       \n..                                                 ...                       \n244                                                NaN                       \n245                                          99.864384                       \n246                                                NaN                       \n247                                          99.999271                       \n248                                                NaN                       \n\n     People using at least basic sanitation services (% of population)  \\\n0                                            51.660329                   \n1                                            45.727511                   \n2                                            16.962884                   \n3                                            21.664373                   \n4                                            80.026243                   \n..                                                 ...                   \n244                                                NaN                   \n245                                                NaN                   \n246                                                NaN                   \n247                                         100.000000                   \n248                                                NaN                   \n\n     Population density (people per sq. km of land area)  \\\n0                                            26.813577     \n1                                           475.865537     \n2                                           112.124184     \n3                                            78.664569     \n4                                             4.493148     \n..                                                 ...     \n244                                         268.287179     \n245                                         206.066667     \n246                                                NaN     \n247                                         651.060000     \n248                                        1244.411765     \n\n     Rural population (% of total population)  \\\n0                                      33.175   \n1                                      86.292   \n2                                      51.585   \n3                                      69.393   \n4                                      29.123   \n..                                        ...   \n244                                    46.968   \n245                                    51.485   \n246                                       NaN   \n247                                       NaN   \n248                                     0.000   \n\n     Urban population (% of total population)  AverageTemperature  \\\n0                                      66.825           22.508965   \n1                                      13.708           20.816609   \n2                                      48.415           27.937785   \n3                                      30.607           28.909989   \n4                                      70.877           22.505484   \n..                                        ...                 ...   \n244                                    53.032                 NaN   \n245                                    48.515           27.242333   \n246                                       NaN                 NaN   \n247                                       NaN                 NaN   \n248                                   100.000                 NaN   \n\n     Altura Promedio  \n0             1112.0  \n1             1504.0  \n2              273.0  \n3              297.0  \n4             1013.0  \n..               ...  \n244              NaN  \n245              NaN  \n246              NaN  \n247              NaN  \n248              NaN  \n\n[249 rows x 20 columns]",
                        "text/html": "<div>\n<style scoped>\n    .dataframe tbody tr th:only-of-type {\n        vertical-align: middle;\n    }\n\n    .dataframe tbody tr th {\n        vertical-align: top;\n    }\n\n    .dataframe thead th {\n        text-align: right;\n    }\n</style>\n<table border=\"1\" class=\"dataframe\">\n  <thead>\n    <tr style=\"text-align: right;\">\n      <th></th>\n      <th>PAIS_ISO3</th>\n      <th>PAIS_ISO2</th>\n      <th>PAIS_NOM</th>\n      <th>COD_CONTINENTE</th>\n      <th>CONTINENTE</th>\n      <th>OMS_REGION</th>\n      <th>DESC_OMS_REGION</th>\n      <th>PAIS_NOM_2</th>\n      <th>POBLACION</th>\n      <th>longitude_y</th>\n      <th>latitude_y</th>\n      <th>GDP per capita (current US$)</th>\n      <th>Individuals using the Internet (% of population)</th>\n      <th>People using at least basic drinking water services (% of population)</th>\n      <th>People using at least basic sanitation services (% of population)</th>\n      <th>Population density (people per sq. km of land area)</th>\n      <th>Rural population (% of total population)</th>\n      <th>Urban population (% of total population)</th>\n      <th>AverageTemperature</th>\n      <th>Altura Promedio</th>\n    </tr>\n  </thead>\n  <tbody>\n    <tr>\n      <th>0</th>\n      <td>AGO</td>\n      <td>AO</td>\n      <td>Angola</td>\n      <td>AF</td>\n      <td>Africa</td>\n      <td>AFRO</td>\n      <td>Africa</td>\n      <td>Angola</td>\n      <td>35588987.0</td>\n      <td>17.873887</td>\n      <td>-11.202692</td>\n      <td>1502.950754</td>\n      <td>32.550147</td>\n      <td>57.167738</td>\n      <td>51.660329</td>\n      <td>26.813577</td>\n      <td>33.175</td>\n      <td>66.825</td>\n      <td>22.508965</td>\n      <td>1112.0</td>\n    </tr>\n    <tr>\n      <th>1</th>\n      <td>BDI</td>\n      <td>BI</td>\n      <td>Burundi</td>\n      <td>AF</td>\n      <td>Africa</td>\n      <td>AFRO</td>\n      <td>Africa</td>\n      <td>Burundi</td>\n      <td>12889576.0</td>\n      <td>29.918886</td>\n      <td>-3.373056</td>\n      <td>216.827417</td>\n      <td>3.787954</td>\n      <td>62.207122</td>\n      <td>45.727511</td>\n      <td>475.865537</td>\n      <td>86.292</td>\n      <td>13.708</td>\n      <td>20.816609</td>\n      <td>1504.0</td>\n    </tr>\n    <tr>\n      <th>2</th>\n      <td>BEN</td>\n      <td>BJ</td>\n      <td>Benin</td>\n      <td>AF</td>\n      <td>Africa</td>\n      <td>AFRO</td>\n      <td>Africa</td>\n      <td>Benin</td>\n      <td>13352864.0</td>\n      <td>2.315834</td>\n      <td>9.307690</td>\n      <td>1237.949295</td>\n      <td>28.229154</td>\n      <td>65.414123</td>\n      <td>16.962884</td>\n      <td>112.124184</td>\n      <td>51.585</td>\n      <td>48.415</td>\n      <td>27.937785</td>\n      <td>273.0</td>\n    </tr>\n    <tr>\n      <th>3</th>\n      <td>BFA</td>\n      <td>BF</td>\n      <td>Burkina Faso</td>\n      <td>AF</td>\n      <td>Africa</td>\n      <td>AFRO</td>\n      <td>Africa</td>\n      <td>Burkina Faso</td>\n      <td>22673762.0</td>\n      <td>-1.561593</td>\n      <td>12.238333</td>\n      <td>833.244336</td>\n      <td>13.937972</td>\n      <td>47.214854</td>\n      <td>21.664373</td>\n      <td>78.664569</td>\n      <td>69.393</td>\n      <td>30.607</td>\n      <td>28.909989</td>\n      <td>297.0</td>\n    </tr>\n    <tr>\n      <th>4</th>\n      <td>BWA</td>\n      <td>BW</td>\n      <td>Botswana</td>\n      <td>AF</td>\n      <td>Africa</td>\n      <td>AFRO</td>\n      <td>Africa</td>\n      <td>Botswana</td>\n      <td>2630296.0</td>\n      <td>24.684866</td>\n      <td>-22.328474</td>\n      <td>5875.070606</td>\n      <td>72.748020</td>\n      <td>92.213563</td>\n      <td>80.026243</td>\n      <td>4.493148</td>\n      <td>29.123</td>\n      <td>70.877</td>\n      <td>22.505484</td>\n      <td>1013.0</td>\n    </tr>\n    <tr>\n      <th>...</th>\n      <td>...</td>\n      <td>...</td>\n      <td>...</td>\n      <td>...</td>\n      <td>...</td>\n      <td>...</td>\n      <td>...</td>\n      <td>...</td>\n      <td>...</td>\n      <td>...</td>\n      <td>...</td>\n      <td>...</td>\n      <td>...</td>\n      <td>...</td>\n      <td>...</td>\n      <td>...</td>\n      <td>...</td>\n      <td>...</td>\n      <td>...</td>\n      <td>...</td>\n    </tr>\n    <tr>\n      <th>244</th>\n      <td>VCT</td>\n      <td>VC</td>\n      <td>Saint Vincent and the Grenadines</td>\n      <td>NaN</td>\n      <td>North America</td>\n      <td>AMRO</td>\n      <td>América</td>\n      <td>Saint Vincent and the Grenadines</td>\n      <td>103948.0</td>\n      <td>-61.287228</td>\n      <td>12.984305</td>\n      <td>8306.367581</td>\n      <td>80.429529</td>\n      <td>NaN</td>\n      <td>NaN</td>\n      <td>268.287179</td>\n      <td>46.968</td>\n      <td>53.032</td>\n      <td>NaN</td>\n      <td>NaN</td>\n    </tr>\n    <tr>\n      <th>245</th>\n      <td>VGB</td>\n      <td>VG</td>\n      <td>British Virgin Islands</td>\n      <td>NaN</td>\n      <td>North America</td>\n      <td>AMRO</td>\n      <td>América</td>\n      <td>British Virgin Islands</td>\n      <td>31305.0</td>\n      <td>-64.639968</td>\n      <td>18.420695</td>\n      <td>NaN</td>\n      <td>NaN</td>\n      <td>99.864384</td>\n      <td>NaN</td>\n      <td>206.066667</td>\n      <td>51.485</td>\n      <td>48.515</td>\n      <td>27.242333</td>\n      <td>NaN</td>\n    </tr>\n    <tr>\n      <th>246</th>\n      <td>BLM</td>\n      <td>BL</td>\n      <td>San Bartolomé</td>\n      <td>NaN</td>\n      <td>North America</td>\n      <td>AMRO</td>\n      <td>América</td>\n      <td>Saint Barthélemy</td>\n      <td>NaN</td>\n      <td>NaN</td>\n      <td>NaN</td>\n      <td>NaN</td>\n      <td>NaN</td>\n      <td>NaN</td>\n      <td>NaN</td>\n      <td>NaN</td>\n      <td>NaN</td>\n      <td>NaN</td>\n      <td>NaN</td>\n      <td>NaN</td>\n    </tr>\n    <tr>\n      <th>247</th>\n      <td>MAF</td>\n      <td>MF</td>\n      <td>San Martín</td>\n      <td>NaN</td>\n      <td>North America</td>\n      <td>AMRO</td>\n      <td>América</td>\n      <td>Saint Martin</td>\n      <td>31791.0</td>\n      <td>NaN</td>\n      <td>NaN</td>\n      <td>NaN</td>\n      <td>NaN</td>\n      <td>99.999271</td>\n      <td>100.000000</td>\n      <td>651.060000</td>\n      <td>NaN</td>\n      <td>NaN</td>\n      <td>NaN</td>\n      <td>NaN</td>\n    </tr>\n    <tr>\n      <th>248</th>\n      <td>SXM</td>\n      <td>SX</td>\n      <td>San Martín</td>\n      <td>NaN</td>\n      <td>North America</td>\n      <td>AMRO</td>\n      <td>América</td>\n      <td>San Martín</td>\n      <td>43389.0</td>\n      <td>NaN</td>\n      <td>NaN</td>\n      <td>29314.094295</td>\n      <td>NaN</td>\n      <td>NaN</td>\n      <td>NaN</td>\n      <td>1244.411765</td>\n      <td>0.000</td>\n      <td>100.000</td>\n      <td>NaN</td>\n      <td>NaN</td>\n    </tr>\n  </tbody>\n</table>\n<p>249 rows × 20 columns</p>\n</div>"
                    },
                    "metadata": {},
                    "execution_count": 169,
                    "output_type": "execute_result"
                }
            ],
            "execution_count": 169
        },
        {
            "cell_type": "code",
            "source": [
                "df_paises.isnull().values.sum()"
            ],
            "metadata": {
                "id": "U7NLbw5YL0mj",
                "azdata_cell_guid": "fa66ae53-294b-40e9-86c0-a4018a926c5f",
                "language": "python"
            },
            "outputs": [
                {
                    "data": {
                        "text/plain": "553"
                    },
                    "metadata": {},
                    "execution_count": 170,
                    "output_type": "execute_result"
                }
            ],
            "execution_count": 170
        },
        {
            "cell_type": "code",
            "source": [
                "df_paises.isnull().sum()"
            ],
            "metadata": {
                "language": "python",
                "azdata_cell_guid": "c938cd9c-d014-4858-abe1-be4f657fee46"
            },
            "outputs": [
                {
                    "data": {
                        "text/plain": "PAIS_ISO3                                                                 0\nPAIS_ISO2                                                                 0\nPAIS_NOM                                                                  0\nCOD_CONTINENTE                                                           39\nCONTINENTE                                                                0\nOMS_REGION                                                                0\nDESC_OMS_REGION                                                           0\nPAIS_NOM_2                                                                0\nPOBLACION                                                                34\nlongitude_y                                                               8\nlatitude_y                                                                8\nGDP per capita (current US$)                                             41\nIndividuals using the Internet (% of population)                         64\nPeople using at least basic drinking water services (% of population)    52\nPeople using at least basic sanitation services (% of population)        61\nPopulation density (people per sq. km of land area)                      34\nRural population (% of total population)                                 35\nUrban population (% of total population)                                 35\nAverageTemperature                                                       50\nAltura Promedio                                                          92\ndtype: int64"
                    },
                    "metadata": {},
                    "execution_count": 171,
                    "output_type": "execute_result"
                }
            ],
            "execution_count": 171
        },
        {
            "cell_type": "code",
            "source": [
                "df_paises= df_paises.fillna(0)\r\n",
                "df_paises.head(10)"
            ],
            "metadata": {
                "language": "python",
                "azdata_cell_guid": "a0925c2b-eb7c-4554-8774-336df59d3e85"
            },
            "outputs": [
                {
                    "data": {
                        "text/plain": "  PAIS_ISO3 PAIS_ISO2                  PAIS_NOM COD_CONTINENTE CONTINENTE  \\\n0       AGO        AO                    Angola             AF     Africa   \n1       BDI        BI                   Burundi             AF     Africa   \n2       BEN        BJ                     Benin             AF     Africa   \n3       BFA        BF              Burkina Faso             AF     Africa   \n4       BWA        BW                  Botswana             AF     Africa   \n5       CAF        CF  Central African Republic             AF     Africa   \n6       CIV        CI             Cote d'Ivoire             AF     Africa   \n7       CMR        CM                  Cameroon             AF     Africa   \n8       COD        CD          Congo (Kinshasa)             AF     Africa   \n9       COG        CG       Congo (Brazzaville)             AF     Africa   \n\n  OMS_REGION DESC_OMS_REGION                        PAIS_NOM_2   POBLACION  \\\n0       AFRO          Africa                            Angola  35588987.0   \n1       AFRO          Africa                           Burundi  12889576.0   \n2       AFRO          Africa                             Benin  13352864.0   \n3       AFRO          Africa                      Burkina Faso  22673762.0   \n4       AFRO          Africa                          Botswana   2630296.0   \n5       AFRO          Africa          Central African Republic   5579144.0   \n6       AFRO          Africa                     Côte d’Ivoire  28160542.0   \n7       AFRO          Africa                          Cameroon  27914536.0   \n8       AFRO          Africa  Democratic Republic of the Congo  99010212.0   \n9       AFRO          Africa                             Congo   5970424.0   \n\n   longitude_y  latitude_y  GDP per capita (current US$)  \\\n0    17.873887  -11.202692                   1502.950754   \n1    29.918886   -3.373056                    216.827417   \n2     2.315834    9.307690                   1237.949295   \n3    -1.561593   12.238333                    833.244336   \n4    24.684866  -22.328474                   5875.070606   \n5    20.939444    6.611111                    435.469248   \n6    -5.547080    7.539989                   2349.069882   \n7    12.354722    7.369722                   1539.130547   \n8    21.758664   -4.038333                    524.666686   \n9    15.827659   -0.228021                   1838.448124   \n\n   Individuals using the Internet (% of population)  \\\n0                                         32.550147   \n1                                          3.787954   \n2                                         28.229154   \n3                                         13.937972   \n4                                         72.748020   \n5                                          8.565672   \n6                                         41.373605   \n7                                         45.529223   \n8                                         22.864948   \n9                                          0.000000   \n\n   People using at least basic drinking water services (% of population)  \\\n0                                          57.167738                       \n1                                          62.207122                       \n2                                          65.414123                       \n3                                          47.214854                       \n4                                          92.213563                       \n5                                          37.202402                       \n6                                          70.909070                       \n7                                          65.720418                       \n8                                          45.952127                       \n9                                          73.784512                       \n\n   People using at least basic sanitation services (% of population)  \\\n0                                          51.660329                   \n1                                          45.727511                   \n2                                          16.962884                   \n3                                          21.664373                   \n4                                          80.026243                   \n5                                          14.118635                   \n6                                          34.565962                   \n7                                          44.631124                   \n8                                          15.388672                   \n9                                          20.459746                   \n\n   Population density (people per sq. km of land area)  \\\n0                                          26.813577     \n1                                         475.865537     \n2                                         112.124184     \n3                                          78.664569     \n4                                           4.493148     \n5                                           8.576551     \n6                                          84.313805     \n7                                          56.040886     \n8                                          40.957705     \n9                                          16.697435     \n\n   Rural population (% of total population)  \\\n0                                    33.175   \n1                                    86.292   \n2                                    51.585   \n3                                    69.393   \n4                                    29.123   \n5                                    57.802   \n6                                    48.294   \n7                                    42.440   \n8                                    54.362   \n9                                    32.171   \n\n   Urban population (% of total population)  AverageTemperature  \\\n0                                    66.825           22.508965   \n1                                    13.708           20.816609   \n2                                    48.415           27.937785   \n3                                    30.607           28.909989   \n4                                    70.877           22.505484   \n5                                    42.198           25.987834   \n6                                    51.706            0.000000   \n7                                    57.560           25.067210   \n8                                    45.638            0.000000   \n9                                    67.829            0.000000   \n\n   Altura Promedio  \n0           1112.0  \n1           1504.0  \n2            273.0  \n3            297.0  \n4           1013.0  \n5              0.0  \n6            250.0  \n7            667.0  \n8            726.0  \n9            430.0  ",
                        "text/html": "<div>\n<style scoped>\n    .dataframe tbody tr th:only-of-type {\n        vertical-align: middle;\n    }\n\n    .dataframe tbody tr th {\n        vertical-align: top;\n    }\n\n    .dataframe thead th {\n        text-align: right;\n    }\n</style>\n<table border=\"1\" class=\"dataframe\">\n  <thead>\n    <tr style=\"text-align: right;\">\n      <th></th>\n      <th>PAIS_ISO3</th>\n      <th>PAIS_ISO2</th>\n      <th>PAIS_NOM</th>\n      <th>COD_CONTINENTE</th>\n      <th>CONTINENTE</th>\n      <th>OMS_REGION</th>\n      <th>DESC_OMS_REGION</th>\n      <th>PAIS_NOM_2</th>\n      <th>POBLACION</th>\n      <th>longitude_y</th>\n      <th>latitude_y</th>\n      <th>GDP per capita (current US$)</th>\n      <th>Individuals using the Internet (% of population)</th>\n      <th>People using at least basic drinking water services (% of population)</th>\n      <th>People using at least basic sanitation services (% of population)</th>\n      <th>Population density (people per sq. km of land area)</th>\n      <th>Rural population (% of total population)</th>\n      <th>Urban population (% of total population)</th>\n      <th>AverageTemperature</th>\n      <th>Altura Promedio</th>\n    </tr>\n  </thead>\n  <tbody>\n    <tr>\n      <th>0</th>\n      <td>AGO</td>\n      <td>AO</td>\n      <td>Angola</td>\n      <td>AF</td>\n      <td>Africa</td>\n      <td>AFRO</td>\n      <td>Africa</td>\n      <td>Angola</td>\n      <td>35588987.0</td>\n      <td>17.873887</td>\n      <td>-11.202692</td>\n      <td>1502.950754</td>\n      <td>32.550147</td>\n      <td>57.167738</td>\n      <td>51.660329</td>\n      <td>26.813577</td>\n      <td>33.175</td>\n      <td>66.825</td>\n      <td>22.508965</td>\n      <td>1112.0</td>\n    </tr>\n    <tr>\n      <th>1</th>\n      <td>BDI</td>\n      <td>BI</td>\n      <td>Burundi</td>\n      <td>AF</td>\n      <td>Africa</td>\n      <td>AFRO</td>\n      <td>Africa</td>\n      <td>Burundi</td>\n      <td>12889576.0</td>\n      <td>29.918886</td>\n      <td>-3.373056</td>\n      <td>216.827417</td>\n      <td>3.787954</td>\n      <td>62.207122</td>\n      <td>45.727511</td>\n      <td>475.865537</td>\n      <td>86.292</td>\n      <td>13.708</td>\n      <td>20.816609</td>\n      <td>1504.0</td>\n    </tr>\n    <tr>\n      <th>2</th>\n      <td>BEN</td>\n      <td>BJ</td>\n      <td>Benin</td>\n      <td>AF</td>\n      <td>Africa</td>\n      <td>AFRO</td>\n      <td>Africa</td>\n      <td>Benin</td>\n      <td>13352864.0</td>\n      <td>2.315834</td>\n      <td>9.307690</td>\n      <td>1237.949295</td>\n      <td>28.229154</td>\n      <td>65.414123</td>\n      <td>16.962884</td>\n      <td>112.124184</td>\n      <td>51.585</td>\n      <td>48.415</td>\n      <td>27.937785</td>\n      <td>273.0</td>\n    </tr>\n    <tr>\n      <th>3</th>\n      <td>BFA</td>\n      <td>BF</td>\n      <td>Burkina Faso</td>\n      <td>AF</td>\n      <td>Africa</td>\n      <td>AFRO</td>\n      <td>Africa</td>\n      <td>Burkina Faso</td>\n      <td>22673762.0</td>\n      <td>-1.561593</td>\n      <td>12.238333</td>\n      <td>833.244336</td>\n      <td>13.937972</td>\n      <td>47.214854</td>\n      <td>21.664373</td>\n      <td>78.664569</td>\n      <td>69.393</td>\n      <td>30.607</td>\n      <td>28.909989</td>\n      <td>297.0</td>\n    </tr>\n    <tr>\n      <th>4</th>\n      <td>BWA</td>\n      <td>BW</td>\n      <td>Botswana</td>\n      <td>AF</td>\n      <td>Africa</td>\n      <td>AFRO</td>\n      <td>Africa</td>\n      <td>Botswana</td>\n      <td>2630296.0</td>\n      <td>24.684866</td>\n      <td>-22.328474</td>\n      <td>5875.070606</td>\n      <td>72.748020</td>\n      <td>92.213563</td>\n      <td>80.026243</td>\n      <td>4.493148</td>\n      <td>29.123</td>\n      <td>70.877</td>\n      <td>22.505484</td>\n      <td>1013.0</td>\n    </tr>\n    <tr>\n      <th>5</th>\n      <td>CAF</td>\n      <td>CF</td>\n      <td>Central African Republic</td>\n      <td>AF</td>\n      <td>Africa</td>\n      <td>AFRO</td>\n      <td>Africa</td>\n      <td>Central African Republic</td>\n      <td>5579144.0</td>\n      <td>20.939444</td>\n      <td>6.611111</td>\n      <td>435.469248</td>\n      <td>8.565672</td>\n      <td>37.202402</td>\n      <td>14.118635</td>\n      <td>8.576551</td>\n      <td>57.802</td>\n      <td>42.198</td>\n      <td>25.987834</td>\n      <td>0.0</td>\n    </tr>\n    <tr>\n      <th>6</th>\n      <td>CIV</td>\n      <td>CI</td>\n      <td>Cote d'Ivoire</td>\n      <td>AF</td>\n      <td>Africa</td>\n      <td>AFRO</td>\n      <td>Africa</td>\n      <td>Côte d’Ivoire</td>\n      <td>28160542.0</td>\n      <td>-5.547080</td>\n      <td>7.539989</td>\n      <td>2349.069882</td>\n      <td>41.373605</td>\n      <td>70.909070</td>\n      <td>34.565962</td>\n      <td>84.313805</td>\n      <td>48.294</td>\n      <td>51.706</td>\n      <td>0.000000</td>\n      <td>250.0</td>\n    </tr>\n    <tr>\n      <th>7</th>\n      <td>CMR</td>\n      <td>CM</td>\n      <td>Cameroon</td>\n      <td>AF</td>\n      <td>Africa</td>\n      <td>AFRO</td>\n      <td>Africa</td>\n      <td>Cameroon</td>\n      <td>27914536.0</td>\n      <td>12.354722</td>\n      <td>7.369722</td>\n      <td>1539.130547</td>\n      <td>45.529223</td>\n      <td>65.720418</td>\n      <td>44.631124</td>\n      <td>56.040886</td>\n      <td>42.440</td>\n      <td>57.560</td>\n      <td>25.067210</td>\n      <td>667.0</td>\n    </tr>\n    <tr>\n      <th>8</th>\n      <td>COD</td>\n      <td>CD</td>\n      <td>Congo (Kinshasa)</td>\n      <td>AF</td>\n      <td>Africa</td>\n      <td>AFRO</td>\n      <td>Africa</td>\n      <td>Democratic Republic of the Congo</td>\n      <td>99010212.0</td>\n      <td>21.758664</td>\n      <td>-4.038333</td>\n      <td>524.666686</td>\n      <td>22.864948</td>\n      <td>45.952127</td>\n      <td>15.388672</td>\n      <td>40.957705</td>\n      <td>54.362</td>\n      <td>45.638</td>\n      <td>0.000000</td>\n      <td>726.0</td>\n    </tr>\n    <tr>\n      <th>9</th>\n      <td>COG</td>\n      <td>CG</td>\n      <td>Congo (Brazzaville)</td>\n      <td>AF</td>\n      <td>Africa</td>\n      <td>AFRO</td>\n      <td>Africa</td>\n      <td>Congo</td>\n      <td>5970424.0</td>\n      <td>15.827659</td>\n      <td>-0.228021</td>\n      <td>1838.448124</td>\n      <td>0.000000</td>\n      <td>73.784512</td>\n      <td>20.459746</td>\n      <td>16.697435</td>\n      <td>32.171</td>\n      <td>67.829</td>\n      <td>0.000000</td>\n      <td>430.0</td>\n    </tr>\n  </tbody>\n</table>\n</div>"
                    },
                    "metadata": {},
                    "execution_count": 172,
                    "output_type": "execute_result"
                }
            ],
            "execution_count": 172
        },
        {
            "cell_type": "code",
            "source": [
                "df_paises.isnull().sum()"
            ],
            "metadata": {
                "language": "python",
                "azdata_cell_guid": "36bb6706-e831-4681-835b-0861c873d441"
            },
            "outputs": [
                {
                    "data": {
                        "text/plain": "PAIS_ISO3                                                                0\nPAIS_ISO2                                                                0\nPAIS_NOM                                                                 0\nCOD_CONTINENTE                                                           0\nCONTINENTE                                                               0\nOMS_REGION                                                               0\nDESC_OMS_REGION                                                          0\nPAIS_NOM_2                                                               0\nPOBLACION                                                                0\nlongitude_y                                                              0\nlatitude_y                                                               0\nGDP per capita (current US$)                                             0\nIndividuals using the Internet (% of population)                         0\nPeople using at least basic drinking water services (% of population)    0\nPeople using at least basic sanitation services (% of population)        0\nPopulation density (people per sq. km of land area)                      0\nRural population (% of total population)                                 0\nUrban population (% of total population)                                 0\nAverageTemperature                                                       0\nAltura Promedio                                                          0\ndtype: int64"
                    },
                    "metadata": {},
                    "execution_count": 173,
                    "output_type": "execute_result"
                }
            ],
            "execution_count": 173
        },
        {
            "cell_type": "code",
            "source": [
                "df_paises.info()"
            ],
            "metadata": {
                "language": "python",
                "azdata_cell_guid": "334d8d5f-f088-43d0-af3a-8a06afa4dcab"
            },
            "outputs": [
                {
                    "name": "stdout",
                    "text": "<class 'pandas.core.frame.DataFrame'>\nRangeIndex: 249 entries, 0 to 248\nData columns (total 20 columns):\n #   Column                                                                 Non-Null Count  Dtype  \n---  ------                                                                 --------------  -----  \n 0   PAIS_ISO3                                                              249 non-null    object \n 1   PAIS_ISO2                                                              249 non-null    object \n 2   PAIS_NOM                                                               249 non-null    object \n 3   COD_CONTINENTE                                                         249 non-null    object \n 4   CONTINENTE                                                             249 non-null    object \n 5   OMS_REGION                                                             249 non-null    object \n 6   DESC_OMS_REGION                                                        249 non-null    object \n 7   PAIS_NOM_2                                                             249 non-null    object \n 8   POBLACION                                                              249 non-null    float64\n 9   longitude_y                                                            249 non-null    float64\n 10  latitude_y                                                             249 non-null    float64\n 11  GDP per capita (current US$)                                           249 non-null    float64\n 12  Individuals using the Internet (% of population)                       249 non-null    float64\n 13  People using at least basic drinking water services (% of population)  249 non-null    float64\n 14  People using at least basic sanitation services (% of population)      249 non-null    float64\n 15  Population density (people per sq. km of land area)                    249 non-null    float64\n 16  Rural population (% of total population)                               249 non-null    float64\n 17  Urban population (% of total population)                               249 non-null    float64\n 18  AverageTemperature                                                     249 non-null    float64\n 19  Altura Promedio                                                        249 non-null    float64\ndtypes: float64(12), object(8)\nmemory usage: 39.0+ KB\n",
                    "output_type": "stream"
                }
            ],
            "execution_count": 174
        },
        {
            "cell_type": "code",
            "source": [
                "df_paises = df_paises.reindex(columns =['PAIS_ISO3','PAIS_ISO2','PAIS_NOM','COD_CONTINENTE','CONTINENTE','OMS_REGION','DESC_OMS_REGION','PAIS_NOM_2','POBLACION','longitude_y','latitude_y','GDP per capita (current US$)','Individuals using the Internet (% of population)','People using at least basic drinking water services (% of population)','People using at least basic sanitation services (% of population)','Population density (people per sq. km of land area)','Rural population (% of total population)','Urban population (% of total population)','AverageTemperature','Altura Promedio'])"
            ],
            "metadata": {
                "language": "python",
                "azdata_cell_guid": "9f607228-7944-4cb6-a809-958fb652015d"
            },
            "outputs": [],
            "execution_count": 175
        },
        {
            "cell_type": "code",
            "source": [
                "df_paises.columns =['PAIS_ISO3','PAIS_ISO2','PAIS_NOM','COD_CONTINENTE','CONTINENTE','OMS_REGION','DESC_OMS_REGION','PAIS_NOM_2','POBLACION','LONGITUD','LATITUD','GDP_PER_CAPITA','USO_INDIVIDUAL_INTERNET','USO_DE_AGUA_POTABLE','USO_DE_SERVICIOS_BASICOS_SANEAMIENTO','DENSIDAD_DE_POBLACION_X_KM2','POBLACION_RURAL','POBLACION_URBANA','TEMPERATURA_PROMEDIO','ALTURA_PROMEDIO',]"
            ],
            "metadata": {
                "language": "python",
                "azdata_cell_guid": "8a4dd1e2-b809-4e50-9591-1149b400774e"
            },
            "outputs": [],
            "execution_count": 176
        },
        {
            "cell_type": "code",
            "source": [
                "df_paises['LONGITUD'] = pd.to_numeric(df_paises['LONGITUD'], errors=\"coerce\")\r\n",
                "df_paises['LATITUD'] = pd.to_numeric(df_paises['LATITUD'], errors=\"coerce\")\r\n",
                "df_paises['POBLACION'] = pd.to_numeric(df_paises['POBLACION'], errors=\"coerce\")\r\n",
                "df_paises['USO_INDIVIDUAL_INTERNET'] = pd.to_numeric(df_paises['USO_INDIVIDUAL_INTERNET'], errors=\"coerce\")\r\n",
                "df_paises['USO_DE_AGUA_POTABLE'] = pd.to_numeric(df_paises['USO_DE_AGUA_POTABLE'], errors=\"coerce\")\r\n",
                "df_paises['USO_DE_SERVICIOS_BASICOS_SANEAMIENTO'] = pd.to_numeric(df_paises['USO_DE_SERVICIOS_BASICOS_SANEAMIENTO'], errors=\"coerce\")\r\n",
                "df_paises['DENSIDAD_DE_POBLACION_X_KM2'] = pd.to_numeric(df_paises['DENSIDAD_DE_POBLACION_X_KM2'], errors=\"coerce\")\r\n",
                "df_paises['POBLACION_RURAL'] = pd.to_numeric(df_paises['POBLACION_RURAL'], errors=\"coerce\")\r\n",
                "df_paises['POBLACION_URBANA'] = pd.to_numeric(df_paises['POBLACION_URBANA'], errors=\"coerce\")\r\n",
                "df_paises['ALTURA_PROMEDIO'] = pd.to_numeric(df_paises['ALTURA_PROMEDIO'], errors=\"coerce\")\r\n",
                "df_paises['TEMPERATURA_PROMEDIO'] = pd.to_numeric(df_paises['TEMPERATURA_PROMEDIO'], errors=\"coerce\")\r\n",
                "df_paises['GDP_PER_CAPITA'] = pd.to_numeric(df_paises['GDP_PER_CAPITA'], errors=\"coerce\")"
            ],
            "metadata": {
                "language": "python",
                "azdata_cell_guid": "4de22cc6-0ce9-4401-980a-a522d0d29a30"
            },
            "outputs": [],
            "execution_count": 177
        },
        {
            "cell_type": "code",
            "source": [
                "df_paises.info()"
            ],
            "metadata": {
                "language": "python",
                "azdata_cell_guid": "a2ca980d-fa8e-4319-8de1-4bf9d267d51a"
            },
            "outputs": [
                {
                    "name": "stdout",
                    "text": "<class 'pandas.core.frame.DataFrame'>\nRangeIndex: 249 entries, 0 to 248\nData columns (total 20 columns):\n #   Column                                Non-Null Count  Dtype  \n---  ------                                --------------  -----  \n 0   PAIS_ISO3                             249 non-null    object \n 1   PAIS_ISO2                             249 non-null    object \n 2   PAIS_NOM                              249 non-null    object \n 3   COD_CONTINENTE                        249 non-null    object \n 4   CONTINENTE                            249 non-null    object \n 5   OMS_REGION                            249 non-null    object \n 6   DESC_OMS_REGION                       249 non-null    object \n 7   PAIS_NOM_2                            249 non-null    object \n 8   POBLACION                             249 non-null    float64\n 9   LONGITUD                              249 non-null    float64\n 10  LATITUD                               249 non-null    float64\n 11  GDP_PER_CAPITA                        249 non-null    float64\n 12  USO_INDIVIDUAL_INTERNET               249 non-null    float64\n 13  USO_DE_AGUA_POTABLE                   249 non-null    float64\n 14  USO_DE_SERVICIOS_BASICOS_SANEAMIENTO  249 non-null    float64\n 15  DENSIDAD_DE_POBLACION_X_KM2           249 non-null    float64\n 16  POBLACION_RURAL                       249 non-null    float64\n 17  POBLACION_URBANA                      249 non-null    float64\n 18  TEMPERATURA_PROMEDIO                  249 non-null    float64\n 19  ALTURA_PROMEDIO                       249 non-null    float64\ndtypes: float64(12), object(8)\nmemory usage: 39.0+ KB\n",
                    "output_type": "stream"
                }
            ],
            "execution_count": 178
        },
        {
            "cell_type": "code",
            "source": [
                "df_paises[df_paises.select_dtypes(include='object').columns] = df_paises.select_dtypes(include='object').astype('str')\r\n",
                "df_paises.info()"
            ],
            "metadata": {
                "language": "python",
                "azdata_cell_guid": "9df7ab70-e710-45aa-bfeb-0c1b53bf6009"
            },
            "outputs": [
                {
                    "name": "stdout",
                    "text": "<class 'pandas.core.frame.DataFrame'>\nRangeIndex: 249 entries, 0 to 248\nData columns (total 20 columns):\n #   Column                                Non-Null Count  Dtype  \n---  ------                                --------------  -----  \n 0   PAIS_ISO3                             249 non-null    object \n 1   PAIS_ISO2                             249 non-null    object \n 2   PAIS_NOM                              249 non-null    object \n 3   COD_CONTINENTE                        249 non-null    object \n 4   CONTINENTE                            249 non-null    object \n 5   OMS_REGION                            249 non-null    object \n 6   DESC_OMS_REGION                       249 non-null    object \n 7   PAIS_NOM_2                            249 non-null    object \n 8   POBLACION                             249 non-null    float64\n 9   LONGITUD                              249 non-null    float64\n 10  LATITUD                               249 non-null    float64\n 11  GDP_PER_CAPITA                        249 non-null    float64\n 12  USO_INDIVIDUAL_INTERNET               249 non-null    float64\n 13  USO_DE_AGUA_POTABLE                   249 non-null    float64\n 14  USO_DE_SERVICIOS_BASICOS_SANEAMIENTO  249 non-null    float64\n 15  DENSIDAD_DE_POBLACION_X_KM2           249 non-null    float64\n 16  POBLACION_RURAL                       249 non-null    float64\n 17  POBLACION_URBANA                      249 non-null    float64\n 18  TEMPERATURA_PROMEDIO                  249 non-null    float64\n 19  ALTURA_PROMEDIO                       249 non-null    float64\ndtypes: float64(12), object(8)\nmemory usage: 39.0+ KB\n",
                    "output_type": "stream"
                }
            ],
            "execution_count": 179
        },
        {
            "cell_type": "code",
            "source": [
                "import pyodbc\r\n",
                "server = 'servidortfmcovid-v2.database.windows.net'\r\n",
                "database = 'basedatostfmcovid-v2'\r\n",
                "username = 'admintfmcovid_v2'\r\n",
                "password = 'TFMcovid2023!_v2'\r\n",
                "cnxn = pyodbc.connect('DRIVER={SQL Server};SERVER='+server+';DATABASE='+database+';UID='+username+';PWD='+ password)\r\n",
                "cursor = cnxn.cursor()\r\n",
                "\r\n",
                "# Nombre de la tabla en la base de datos\r\n",
                "nombre_de_tabla = 'dbo.PAISES'  # Reemplaza 'MiTabla' por el nombre de tu tabla\r\n",
                "\r\n",
                "# Eliminar registros\r\n",
                "cursor.execute(f\"DELETE FROM {nombre_de_tabla}\")\r\n",
                "\r\n",
                "# Inserta los datos del DataFrame en la tabla\r\n",
                "for index, row in df_paises.iterrows():\r\n",
                "    insert_query = f\"INSERT INTO {nombre_de_tabla} ({', '.join(df_paises.columns)}) VALUES ({', '.join(['?'] * len(df_paises.columns))})\"\r\n",
                "    cursor.execute(insert_query, tuple(row))\r\n",
                "    cnxn.commit()\r\n",
                "\r\n",
                "# Cierra la conexión\r\n",
                "cnxn.close()"
            ],
            "metadata": {
                "language": "python",
                "azdata_cell_guid": "8524cd46-4bd9-4a1b-a859-651f1d36a783"
            },
            "outputs": [],
            "execution_count": 180
        }
    ]
}