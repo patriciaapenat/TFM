{
 "cells": [
  {
   "cell_type": "markdown",
   "metadata": {
    "id": "rMDCXP8at6us"
   },
   "source": [
    "### Ficheros de la Organizacion Mundial de la Salud\n",
    "**https://covid19.who.int/data**<br>\n",
    "**https://ourworldindata.org/coronavirus#coronavirus-country-profiles**<br>\n",
    "\n",
    "\n",
    "#### Descarga de datos\n",
    "- Ultimo reporte de casos y muertes notificados a la OMS:** https://covid19.who.int/WHO-COVID-19-global-table-data.csv<br>"
   ]
  },
  {
   "cell_type": "markdown",
   "metadata": {
    "id": "719dxmDl21d-"
   },
   "source": [
    "#### Información del Dataset\n",
    "- Los usuarios deben tener en cuenta que, además de capturar nuevos casos y muertes notificadas en un día determinado, las actualizaciones se realizan retrospectivamente para corregir los recuentos de días anteriores según sea necesario en función de la información recibida posteriormente. Consulte \"Datos agregados diarios de recuento de casos y muertes\" más arriba para obtener más detalles sobre el cálculo de nuevos casos/muertes."
   ]
  },
  {
   "cell_type": "markdown",
   "metadata": {},
   "source": [
    "#### Exploración\n",
    "- Exloración del último reporte de casos y muertes notificados a la OMS.\n",
    "- Al dataframe lo llamaremos \"df_latest_covid\"."
   ]
  },
  {
   "cell_type": "code",
   "execution_count": null,
   "metadata": {},
   "outputs": [],
   "source": [
    "import pandas as pd"
   ]
  },
  {
   "cell_type": "code",
   "execution_count": null,
   "metadata": {},
   "outputs": [],
   "source": [
    "df_latests_covid = pd.read_csv(\"Latest reported counts of cases and deaths.csv\", sep=',', header='infer', index_col=False)\n",
    "df_latests_covid.head()"
   ]
  },
  {
   "cell_type": "markdown",
   "metadata": {},
   "source": [
    "df_latests_covid = pd.read_csv('https://covid19.who.int/WHO-COVID-19-global-table-data.csv', sep=',', header='infer', index_col=False)\n",
    "df_latests_covid.head()"
   ]
  },
  {
   "cell_type": "code",
   "execution_count": null,
   "metadata": {
    "scrolled": false
   },
   "outputs": [],
   "source": [
    "df_latests_covid.shape"
   ]
  },
  {
   "cell_type": "code",
   "execution_count": null,
   "metadata": {
    "scrolled": true
   },
   "outputs": [],
   "source": [
    "df_latests_covid.info()"
   ]
  },
  {
   "cell_type": "markdown",
   "metadata": {},
   "source": [
    "#### Exploración\n",
    "- Observamos si tenemos valores duplicados"
   ]
  },
  {
   "cell_type": "code",
   "execution_count": null,
   "metadata": {
    "scrolled": true
   },
   "outputs": [],
   "source": [
    "df_latests_covid.duplicated().values.any()"
   ]
  },
  {
   "cell_type": "markdown",
   "metadata": {},
   "source": [
    "#### Exploración\n",
    "- Observamos si tenemos valores nulos"
   ]
  },
  {
   "cell_type": "code",
   "execution_count": null,
   "metadata": {
    "scrolled": true
   },
   "outputs": [],
   "source": [
    "df_latests_covid.isnull().values.sum()"
   ]
  },
  {
   "cell_type": "markdown",
   "metadata": {},
   "source": [
    "#### Exploración\n",
    "- Identificamos adónde están los valores nulos"
   ]
  },
  {
   "cell_type": "code",
   "execution_count": null,
   "metadata": {
    "scrolled": true
   },
   "outputs": [],
   "source": [
    "df_latests_covid.isnull().sum()"
   ]
  },
  {
   "cell_type": "code",
   "execution_count": null,
   "metadata": {
    "scrolled": true
   },
   "outputs": [],
   "source": [
    "df_covid_final_NaN = df_latests_covid[df_latests_covid.isnull().any(axis=1)]\n",
    "df_covid_final_NaN"
   ]
  },
  {
   "cell_type": "markdown",
   "metadata": {},
   "source": [
    "#### Transformación\n",
    "- Ambas líneas podemos eliminarlas de nuestro DF por ser \"total\" y \"otros\" (no podremos analizar o extraer nada de esta informacion)."
   ]
  },
  {
   "cell_type": "code",
   "execution_count": null,
   "metadata": {
    "scrolled": true
   },
   "outputs": [],
   "source": [
    "df_latest_covid_transformed = df_latests_covid.dropna()\n",
    "df_latest_covid_transformed"
   ]
  },
  {
   "cell_type": "markdown",
   "metadata": {},
   "source": [
    "#### Transformación\n",
    "- Validamos"
   ]
  },
  {
   "cell_type": "code",
   "execution_count": null,
   "metadata": {
    "scrolled": true
   },
   "outputs": [],
   "source": [
    "df_latest_covid_transformed[df_latest_covid_transformed.isnull().any(axis=1)]"
   ]
  },
  {
   "cell_type": "markdown",
   "metadata": {},
   "source": [
    "#### Transformación\n",
    "- Llamamos tabla de paises para obtener ISO3"
   ]
  },
  {
   "cell_type": "code",
   "execution_count": null,
   "metadata": {
    "scrolled": true
   },
   "outputs": [],
   "source": [
    "df_country = pd.read_csv(\"paises_region_oms_v2.csv\")\n",
    "df_country"
   ]
  },
  {
   "cell_type": "markdown",
   "metadata": {},
   "source": [
    "#### Transformación\n",
    "- Cruzamos las tablas y luego limpiamos los registros"
   ]
  },
  {
   "cell_type": "code",
   "execution_count": null,
   "metadata": {
    "scrolled": true
   },
   "outputs": [],
   "source": [
    "df_latest_covid_transformed_merge = pd.merge(left=df_latest_covid_transformed, right=df_country, how='left', left_on='Name', right_on='PAIS_NOM_2')\n",
    "df_latest_covid_transformed_merge"
   ]
  },
  {
   "cell_type": "code",
   "execution_count": null,
   "metadata": {},
   "outputs": [],
   "source": [
    "df_latest_covid_transformed_merge['PAIS_ISO3'].fillna('Z99', inplace=True)\n",
    "df_latest_covid_transformed_merge['PAIS_ISO2'].fillna('Z9', inplace=True)\n",
    "df_latest_covid_transformed_merge['PAIS_NOM'].fillna('Otros', inplace=True)"
   ]
  },
  {
   "cell_type": "code",
   "execution_count": null,
   "metadata": {
    "scrolled": true
   },
   "outputs": [],
   "source": [
    "df_latest_covid_final = df_latest_covid_transformed_merge[['PAIS_ISO3', 'WHO Region','Cases - cumulative total','Cases - cumulative total per 100000 population', 'Cases - newly reported in last 7 days', 'Cases - newly reported in last 7 days per 100000 population', 'Cases - newly reported in last 24 hours', 'Deaths - cumulative total', 'Deaths - cumulative total per 100000 population', 'Deaths - newly reported in last 7 days', 'Deaths - newly reported in last 7 days per 100000 population', 'Deaths - newly reported in last 24 hours']]\n",
    "df_latest_covid_final"
   ]
  },
  {
   "cell_type": "code",
   "execution_count": null,
   "metadata": {},
   "outputs": [],
   "source": [
    "df_latest_covid_final.columns =['PAIS_ISO3','OMS_REGION','CASOS_ACUM_TOTAL','CASOS_ACUM_TOTAL_POR_100000_HAB', 'CASOS_NUEVOS_INFORMADOS_ULT_7_DIAS',\n",
    "       'CASOS_NUEVOS_INFORMADOS_ULT_7_DIAS_POR_100000_HAB', 'CASOS_NUEVOS_INFORMADOS_ULT_24H',\n",
    "       'MUERTES_ACUM_INFORMADAS_ULT_7_DIAS', 'MUERTES_ACUM_TOTAL_POR_100000_HAB',\n",
    "       'MUERTES_NUEVAS_INFORMADAS_ULT_7_DIAS', 'MUERTES_NUEVAS_INFORMADAS_ULT_7_DIAS_POR_100000_HAB','MUERTES_NUEVAS_INFORMADAS_ULT_24H']"
   ]
  },
  {
   "cell_type": "code",
   "execution_count": null,
   "metadata": {
    "scrolled": true
   },
   "outputs": [],
   "source": [
    "df_latest_covid_final.to_csv(\"df_latest_reported_counts_of_cases_and_deaths.csv\", index=False)"
   ]
  }
 ],
 "metadata": {
  "colab": {
   "authorship_tag": "ABX9TyN+vE3FVeYLsZoKwpePi8db",
   "collapsed_sections": [],
   "include_colab_link": true,
   "mount_file_id": "1e8_Ocqw-PXiIQ5NB5yEhisSTztddXrF4",
   "name": "Cleaning_data_Python.ipynb",
   "provenance": [],
   "toc_visible": true
  },
  "kernelspec": {
   "display_name": "Python 3 (ipykernel)",
   "language": "python",
   "name": "python3"
  },
  "language_info": {
   "codemirror_mode": {
    "name": "ipython",
    "version": 3
   },
   "file_extension": ".py",
   "mimetype": "text/x-python",
   "name": "python",
   "nbconvert_exporter": "python",
   "pygments_lexer": "ipython3",
   "version": "3.9.13"
  }
 },
 "nbformat": 4,
 "nbformat_minor": 1
}
