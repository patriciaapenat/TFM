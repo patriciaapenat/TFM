{
  "cells": [
    {
      "cell_type": "code",
      "source": [
        "! git clone https://github.com/patriciaapenat/TFM.git"
      ],
      "metadata": {
        "id": "dj98drOTkZX9",
        "outputId": "6fc35f77-0641-4303-b744-e6f35285c182",
        "colab": {
          "base_uri": "https://localhost:8080/"
        }
      },
      "id": "dj98drOTkZX9",
      "execution_count": 1,
      "outputs": [
        {
          "output_type": "stream",
          "name": "stdout",
          "text": [
            "Cloning into 'TFM'...\n",
            "remote: Enumerating objects: 209, done.\u001b[K\n",
            "remote: Counting objects: 100% (105/105), done.\u001b[K\n",
            "remote: Compressing objects: 100% (60/60), done.\u001b[K\n",
            "remote: Total 209 (delta 59), reused 79 (delta 44), pack-reused 104\u001b[K\n",
            "Receiving objects: 100% (209/209), 10.23 MiB | 7.09 MiB/s, done.\n",
            "Resolving deltas: 100% (104/104), done.\n"
          ]
        }
      ]
    },
    {
      "cell_type": "markdown",
      "id": "a6261c9a",
      "metadata": {
        "id": "a6261c9a"
      },
      "source": [
        "# Data on testing for COVID-19 by week and country"
      ]
    },
    {
      "cell_type": "markdown",
      "id": "7af50e62",
      "metadata": {
        "id": "7af50e62"
      },
      "source": [
        "Las cifras que se muestran para la tasa de pruebas semanales por cada 100 000 habitantes y la positividad de las pruebas semanales (%) se basan en varias fuentes de datos.\n",
        "\n",
        "El número de casos semanales por utilizado para estimar la positividad de la prueba semanal por país o región subnacional se basa en los datos recopilados por ECDC Epidemic Intelligence. Las fuentes de información son Ministerios de Salud o Institutos Nacionales de Salud Pública (sitios web, cuentas oficiales de twitter o cuentas oficiales de Facebook), y los datos obtenidos se cotejan sistemáticamente con datos de OMS. Hay más información disponible en [este enlace](https://www.ecdc.europa.eu/en/covid-19/data-collection).\n",
        "\n",
        "La fuente principal del total de pruebas por país o región subnacional por semana son los datos agregados presentados por los Estados miembros a TESSy. Sin embargo, cuando no estaba disponible, como solía ser el caso antes de la pandemia, el ECDC recopiló datos de fuentes públicas en línea. Estos datos se han recuperado automática o manualmente (\"web-scraped\") diariamente de fuentes públicas en línea nacionales/oficiales de países de la UE/EEE. Cabe señalar que existen varias limitaciones para este tipo de datos. Los datos raspados no están disponibles para todas las variables y/o países debido a la variabilidad del contenido en los sitios web nacionales.\n",
        "\n",
        "Además, el proceso de recopilación de datos requiere una adaptación constante para evitar series temporales interrumpidas (es decir, debido a la modificación de las páginas del sitio web, tipos de datos).\n",
        "\n",
        "La tasa de notificación de 14 días de nuevos casos de COVID-19 se basa en los datos recopilados por ECDC Epidemic Intelligence de varias fuentes y se ve afectada por la estrategia de prueba local, la capacidad del laboratorio y la eficacia de los sistemas de vigilancia. Por lo tanto, la comparación de la situación epidemiológica de la COVID-19 entre países no debe basarse únicamente en estas tasas. Sin embargo, a nivel de país individual o regional, este indicador puede ser útil para monitorear la situación nacional a lo largo del tiempo.\n",
        "\n",
        "Las políticas de pruebas y el número de pruebas realizadas por cada 100 000 personas varían notablemente a lo largo del UE/EEE y presumiblemente aún más entre terceros países. Las pruebas más exhaustivas conducirán inevitablemente a la detección de más casos.\n",
        "\n",
        "La tasa de notificación de 14 días de nuevos casos de COVID-19 debe usarse en combinación con otros factores, incluidas las políticas de prueba, la cantidad de pruebas realizadas, la positividad de la prueba, el exceso de mortalidad y las tasas de ingresos hospitalarios y en la Unidad de Cuidados Intensivos (UCI), al analizar el epidemiológico situación en un país. La mayoría de estos indicadores se presentan para los Estados miembros de la UE/EEE en el informe Panorama general del país.\n",
        "\n",
        "Incluso cuando se utilizan varios indicadores en combinación, las comparaciones entre países deben hacerse con cautela y experiencia epidemiológica relevante.\n",
        "\n",
        "Información obtenida de: [Data dictionary on COVID-19 testing](https://www.ecdc.europa.eu/sites/default/files/documents/covid-19-variable-dictionary-and-disclaimer-weekly-testing-data.pdf).\n"
      ]
    },
    {
      "cell_type": "code",
      "execution_count": 2,
      "id": "ffe1a20b",
      "metadata": {
        "id": "ffe1a20b"
      },
      "outputs": [],
      "source": [
        "data_dict = {\n",
        "    \"country\": \"String\",\n",
        "    \"country_code\": \"2-letter ISO country code\",\n",
        "    \"year_week\": \"yyyy-Www\",\n",
        "    \"level\": \"National (archived dataset with national subnational data to week 36, 2022 is available on ECDC’s website)\",\n",
        "    \"region\": \"2-letter ISO country code where level is national\",\n",
        "    \"region_name\": \"Country name where level is national\",\n",
        "    \"new_cases\": \"Number of new confirmed cases\",\n",
        "    \"tests_done\": \"Number of tests done\",\n",
        "    \"population\": \"Numeric\",\n",
        "    \"testing_rate\": \"Testing rate per 100,000 population\",\n",
        "    \"positivity_rate\": \"Weekly test positivity (%): 100 x Number of new confirmed cases/number of tests done per week\",\n",
        "    \"testing_data_source\": [\n",
        "        \"Country API\",\n",
        "        \"Country GitHub\",\n",
        "        \"Country website\",\n",
        "        \"Manual webscraping\",\n",
        "        \"Other\",\n",
        "        \"Survey\",\n",
        "        \"TESSy: data provided directly by Member States to ECDC via TESSy\"\n",
        "    ]\n",
        "}"
      ]
    },
    {
      "cell_type": "markdown",
      "id": "82e23f1c",
      "metadata": {
        "id": "82e23f1c"
      },
      "source": [
        "### Cargamos el dataset y configuramos el notebook"
      ]
    },
    {
      "cell_type": "code",
      "execution_count": 3,
      "id": "dca8f647",
      "metadata": {
        "id": "dca8f647"
      },
      "outputs": [],
      "source": [
        "# importar paquetes\n",
        "import pandas as pd\n",
        "import numpy as np\n",
        "import datetime as dt\n",
        "import pandas as pd\n",
        "import matplotlib.pyplot as plt\n",
        "import seaborn as sns"
      ]
    },
    {
      "cell_type": "code",
      "source": [
        "#!pip install pycountry==20.7.3\n",
        "#!pip install pycountry-convert==0.7.2"
      ],
      "metadata": {
        "id": "9GSAIUDplBuS"
      },
      "id": "9GSAIUDplBuS",
      "execution_count": 15,
      "outputs": []
    },
    {
      "cell_type": "code",
      "execution_count": 4,
      "id": "5f55ba23",
      "metadata": {
        "id": "5f55ba23"
      },
      "outputs": [],
      "source": [
        "# configurar los gráficos\n",
        "sns.set_style('whitegrid')\n",
        "sns.set_palette('flare')"
      ]
    },
    {
      "cell_type": "code",
      "execution_count": 5,
      "id": "44927188",
      "metadata": {
        "id": "44927188",
        "outputId": "e60e9ce2-ac3a-40d4-d6ce-b61d193caff5",
        "colab": {
          "base_uri": "https://localhost:8080/",
          "height": 206
        }
      },
      "outputs": [
        {
          "output_type": "execute_result",
          "data": {
            "text/plain": [
              "   country country_code year_week     level region region_name  new_cases  \\\n",
              "0  Austria           AT  2020-W01  national     AT     Austria        NaN   \n",
              "1  Austria           AT  2020-W02  national     AT     Austria        NaN   \n",
              "2  Austria           AT  2020-W03  national     AT     Austria        NaN   \n",
              "3  Austria           AT  2020-W04  national     AT     Austria        NaN   \n",
              "4  Austria           AT  2020-W05  national     AT     Austria        NaN   \n",
              "\n",
              "   tests_done  population  testing_rate  positivity_rate testing_data_source  \n",
              "0         NaN     8978929           NaN              NaN                 NaN  \n",
              "1         NaN     8978929           NaN              NaN                 NaN  \n",
              "2         NaN     8978929           NaN              NaN                 NaN  \n",
              "3         NaN     8978929           NaN              NaN                 NaN  \n",
              "4         NaN     8978929           NaN              NaN                 NaN  "
            ],
            "text/html": [
              "\n",
              "  <div id=\"df-ed626231-c313-4ef9-8c54-df29afc11ddf\">\n",
              "    <div class=\"colab-df-container\">\n",
              "      <div>\n",
              "<style scoped>\n",
              "    .dataframe tbody tr th:only-of-type {\n",
              "        vertical-align: middle;\n",
              "    }\n",
              "\n",
              "    .dataframe tbody tr th {\n",
              "        vertical-align: top;\n",
              "    }\n",
              "\n",
              "    .dataframe thead th {\n",
              "        text-align: right;\n",
              "    }\n",
              "</style>\n",
              "<table border=\"1\" class=\"dataframe\">\n",
              "  <thead>\n",
              "    <tr style=\"text-align: right;\">\n",
              "      <th></th>\n",
              "      <th>country</th>\n",
              "      <th>country_code</th>\n",
              "      <th>year_week</th>\n",
              "      <th>level</th>\n",
              "      <th>region</th>\n",
              "      <th>region_name</th>\n",
              "      <th>new_cases</th>\n",
              "      <th>tests_done</th>\n",
              "      <th>population</th>\n",
              "      <th>testing_rate</th>\n",
              "      <th>positivity_rate</th>\n",
              "      <th>testing_data_source</th>\n",
              "    </tr>\n",
              "  </thead>\n",
              "  <tbody>\n",
              "    <tr>\n",
              "      <th>0</th>\n",
              "      <td>Austria</td>\n",
              "      <td>AT</td>\n",
              "      <td>2020-W01</td>\n",
              "      <td>national</td>\n",
              "      <td>AT</td>\n",
              "      <td>Austria</td>\n",
              "      <td>NaN</td>\n",
              "      <td>NaN</td>\n",
              "      <td>8978929</td>\n",
              "      <td>NaN</td>\n",
              "      <td>NaN</td>\n",
              "      <td>NaN</td>\n",
              "    </tr>\n",
              "    <tr>\n",
              "      <th>1</th>\n",
              "      <td>Austria</td>\n",
              "      <td>AT</td>\n",
              "      <td>2020-W02</td>\n",
              "      <td>national</td>\n",
              "      <td>AT</td>\n",
              "      <td>Austria</td>\n",
              "      <td>NaN</td>\n",
              "      <td>NaN</td>\n",
              "      <td>8978929</td>\n",
              "      <td>NaN</td>\n",
              "      <td>NaN</td>\n",
              "      <td>NaN</td>\n",
              "    </tr>\n",
              "    <tr>\n",
              "      <th>2</th>\n",
              "      <td>Austria</td>\n",
              "      <td>AT</td>\n",
              "      <td>2020-W03</td>\n",
              "      <td>national</td>\n",
              "      <td>AT</td>\n",
              "      <td>Austria</td>\n",
              "      <td>NaN</td>\n",
              "      <td>NaN</td>\n",
              "      <td>8978929</td>\n",
              "      <td>NaN</td>\n",
              "      <td>NaN</td>\n",
              "      <td>NaN</td>\n",
              "    </tr>\n",
              "    <tr>\n",
              "      <th>3</th>\n",
              "      <td>Austria</td>\n",
              "      <td>AT</td>\n",
              "      <td>2020-W04</td>\n",
              "      <td>national</td>\n",
              "      <td>AT</td>\n",
              "      <td>Austria</td>\n",
              "      <td>NaN</td>\n",
              "      <td>NaN</td>\n",
              "      <td>8978929</td>\n",
              "      <td>NaN</td>\n",
              "      <td>NaN</td>\n",
              "      <td>NaN</td>\n",
              "    </tr>\n",
              "    <tr>\n",
              "      <th>4</th>\n",
              "      <td>Austria</td>\n",
              "      <td>AT</td>\n",
              "      <td>2020-W05</td>\n",
              "      <td>national</td>\n",
              "      <td>AT</td>\n",
              "      <td>Austria</td>\n",
              "      <td>NaN</td>\n",
              "      <td>NaN</td>\n",
              "      <td>8978929</td>\n",
              "      <td>NaN</td>\n",
              "      <td>NaN</td>\n",
              "      <td>NaN</td>\n",
              "    </tr>\n",
              "  </tbody>\n",
              "</table>\n",
              "</div>\n",
              "      <button class=\"colab-df-convert\" onclick=\"convertToInteractive('df-ed626231-c313-4ef9-8c54-df29afc11ddf')\"\n",
              "              title=\"Convert this dataframe to an interactive table.\"\n",
              "              style=\"display:none;\">\n",
              "        \n",
              "  <svg xmlns=\"http://www.w3.org/2000/svg\" height=\"24px\"viewBox=\"0 0 24 24\"\n",
              "       width=\"24px\">\n",
              "    <path d=\"M0 0h24v24H0V0z\" fill=\"none\"/>\n",
              "    <path d=\"M18.56 5.44l.94 2.06.94-2.06 2.06-.94-2.06-.94-.94-2.06-.94 2.06-2.06.94zm-11 1L8.5 8.5l.94-2.06 2.06-.94-2.06-.94L8.5 2.5l-.94 2.06-2.06.94zm10 10l.94 2.06.94-2.06 2.06-.94-2.06-.94-.94-2.06-.94 2.06-2.06.94z\"/><path d=\"M17.41 7.96l-1.37-1.37c-.4-.4-.92-.59-1.43-.59-.52 0-1.04.2-1.43.59L10.3 9.45l-7.72 7.72c-.78.78-.78 2.05 0 2.83L4 21.41c.39.39.9.59 1.41.59.51 0 1.02-.2 1.41-.59l7.78-7.78 2.81-2.81c.8-.78.8-2.07 0-2.86zM5.41 20L4 18.59l7.72-7.72 1.47 1.35L5.41 20z\"/>\n",
              "  </svg>\n",
              "      </button>\n",
              "      \n",
              "  <style>\n",
              "    .colab-df-container {\n",
              "      display:flex;\n",
              "      flex-wrap:wrap;\n",
              "      gap: 12px;\n",
              "    }\n",
              "\n",
              "    .colab-df-convert {\n",
              "      background-color: #E8F0FE;\n",
              "      border: none;\n",
              "      border-radius: 50%;\n",
              "      cursor: pointer;\n",
              "      display: none;\n",
              "      fill: #1967D2;\n",
              "      height: 32px;\n",
              "      padding: 0 0 0 0;\n",
              "      width: 32px;\n",
              "    }\n",
              "\n",
              "    .colab-df-convert:hover {\n",
              "      background-color: #E2EBFA;\n",
              "      box-shadow: 0px 1px 2px rgba(60, 64, 67, 0.3), 0px 1px 3px 1px rgba(60, 64, 67, 0.15);\n",
              "      fill: #174EA6;\n",
              "    }\n",
              "\n",
              "    [theme=dark] .colab-df-convert {\n",
              "      background-color: #3B4455;\n",
              "      fill: #D2E3FC;\n",
              "    }\n",
              "\n",
              "    [theme=dark] .colab-df-convert:hover {\n",
              "      background-color: #434B5C;\n",
              "      box-shadow: 0px 1px 3px 1px rgba(0, 0, 0, 0.15);\n",
              "      filter: drop-shadow(0px 1px 2px rgba(0, 0, 0, 0.3));\n",
              "      fill: #FFFFFF;\n",
              "    }\n",
              "  </style>\n",
              "\n",
              "      <script>\n",
              "        const buttonEl =\n",
              "          document.querySelector('#df-ed626231-c313-4ef9-8c54-df29afc11ddf button.colab-df-convert');\n",
              "        buttonEl.style.display =\n",
              "          google.colab.kernel.accessAllowed ? 'block' : 'none';\n",
              "\n",
              "        async function convertToInteractive(key) {\n",
              "          const element = document.querySelector('#df-ed626231-c313-4ef9-8c54-df29afc11ddf');\n",
              "          const dataTable =\n",
              "            await google.colab.kernel.invokeFunction('convertToInteractive',\n",
              "                                                     [key], {});\n",
              "          if (!dataTable) return;\n",
              "\n",
              "          const docLinkHtml = 'Like what you see? Visit the ' +\n",
              "            '<a target=\"_blank\" href=https://colab.research.google.com/notebooks/data_table.ipynb>data table notebook</a>'\n",
              "            + ' to learn more about interactive tables.';\n",
              "          element.innerHTML = '';\n",
              "          dataTable['output_type'] = 'display_data';\n",
              "          await google.colab.output.renderOutput(dataTable, element);\n",
              "          const docLink = document.createElement('div');\n",
              "          docLink.innerHTML = docLinkHtml;\n",
              "          element.appendChild(docLink);\n",
              "        }\n",
              "      </script>\n",
              "    </div>\n",
              "  </div>\n",
              "  "
            ]
          },
          "metadata": {},
          "execution_count": 5
        }
      ],
      "source": [
        "# Leer el archivo\n",
        "df_datos4 = pd.read_csv('https://opendata.ecdc.europa.eu/covid19/testing/csv/data.csv') #cargamos los datos\n",
        "df_datos4.head()"
      ]
    },
    {
      "cell_type": "markdown",
      "id": "e302f8bd",
      "metadata": {
        "id": "e302f8bd"
      },
      "source": [
        "### Revisamos la información general"
      ]
    },
    {
      "cell_type": "code",
      "execution_count": 6,
      "id": "c2a84a45",
      "metadata": {
        "id": "c2a84a45",
        "outputId": "710215ca-486a-4273-c794-a0e1a9372332",
        "colab": {
          "base_uri": "https://localhost:8080/"
        }
      },
      "outputs": [
        {
          "output_type": "stream",
          "name": "stdout",
          "text": [
            "<class 'pandas.core.frame.DataFrame'>\n",
            "RangeIndex: 5490 entries, 0 to 5489\n",
            "Data columns (total 12 columns):\n",
            " #   Column               Non-Null Count  Dtype  \n",
            "---  ------               --------------  -----  \n",
            " 0   country              5490 non-null   object \n",
            " 1   country_code         5490 non-null   object \n",
            " 2   year_week            5490 non-null   object \n",
            " 3   level                5490 non-null   object \n",
            " 4   region               5490 non-null   object \n",
            " 5   region_name          5490 non-null   object \n",
            " 6   new_cases            5296 non-null   float64\n",
            " 7   tests_done           4434 non-null   float64\n",
            " 8   population           5490 non-null   int64  \n",
            " 9   testing_rate         4434 non-null   float64\n",
            " 10  positivity_rate      4413 non-null   float64\n",
            " 11  testing_data_source  4434 non-null   object \n",
            "dtypes: float64(4), int64(1), object(7)\n",
            "memory usage: 514.8+ KB\n"
          ]
        }
      ],
      "source": [
        "df_datos4.info()"
      ]
    },
    {
      "cell_type": "code",
      "execution_count": 7,
      "id": "10564f68",
      "metadata": {
        "id": "10564f68",
        "outputId": "4fc5ab15-aac8-41bc-e019-a0cd436e685e",
        "colab": {
          "base_uri": "https://localhost:8080/"
        }
      },
      "outputs": [
        {
          "output_type": "execute_result",
          "data": {
            "text/plain": [
              "False"
            ]
          },
          "metadata": {},
          "execution_count": 7
        }
      ],
      "source": [
        "# Revisamos si hay duplicados\n",
        "df_datos4.duplicated().sum().any()"
      ]
    },
    {
      "cell_type": "code",
      "execution_count": 8,
      "id": "3c2a081e",
      "metadata": {
        "id": "3c2a081e",
        "outputId": "b39c9a30-2281-4807-aa45-3891037d62e8",
        "colab": {
          "base_uri": "https://localhost:8080/"
        }
      },
      "outputs": [
        {
          "output_type": "execute_result",
          "data": {
            "text/plain": [
              "True"
            ]
          },
          "metadata": {},
          "execution_count": 8
        }
      ],
      "source": [
        "# Revisamos si hay nulos\n",
        "df_datos4.isna().sum().any()"
      ]
    },
    {
      "cell_type": "code",
      "execution_count": 9,
      "id": "bf8bd6f9",
      "metadata": {
        "id": "bf8bd6f9",
        "outputId": "50108821-4f7c-4082-df61-d98aaacbe00c",
        "colab": {
          "base_uri": "https://localhost:8080/"
        }
      },
      "outputs": [
        {
          "output_type": "execute_result",
          "data": {
            "text/plain": [
              "country                   0\n",
              "country_code              0\n",
              "year_week                 0\n",
              "level                     0\n",
              "region                    0\n",
              "region_name               0\n",
              "new_cases               194\n",
              "tests_done             1056\n",
              "population                0\n",
              "testing_rate           1056\n",
              "positivity_rate        1077\n",
              "testing_data_source    1056\n",
              "dtype: int64"
            ]
          },
          "metadata": {},
          "execution_count": 9
        }
      ],
      "source": [
        "# Revisamos donde están los nulos\n",
        "df_datos4.isna().sum()"
      ]
    },
    {
      "cell_type": "markdown",
      "id": "aecb6b2a",
      "metadata": {
        "id": "aecb6b2a"
      },
      "source": [
        "### Modificamos columnas"
      ]
    },
    {
      "cell_type": "code",
      "execution_count": 10,
      "id": "64c368f9",
      "metadata": {
        "id": "64c368f9"
      },
      "outputs": [],
      "source": [
        "# Modificar categoría\n",
        "df_datos4['testing_data_source'] = df_datos4['testing_data_source'].astype('category'); assert df_datos4['testing_data_source'].dtype == 'category'"
      ]
    },
    {
      "cell_type": "code",
      "execution_count": 11,
      "id": "e9f1bb76",
      "metadata": {
        "id": "e9f1bb76"
      },
      "outputs": [],
      "source": [
        "# Convertir la columna 'year_week' a tipo datetime\n",
        "df_datos4['year_week'] = pd.to_datetime(df_datos4['year_week'] + '-1', format='%Y-W%W-%w')\n",
        "# Extraer el número de semana y el año\n",
        "df_datos4['year_week'] = df_datos4['year_week'].dt.strftime('%Y-%W')"
      ]
    },
    {
      "cell_type": "code",
      "execution_count": 12,
      "id": "73fc2d3b",
      "metadata": {
        "id": "73fc2d3b",
        "outputId": "20ef255a-15e5-4c0f-bb1e-cd45abece2b8",
        "colab": {
          "base_uri": "https://localhost:8080/"
        }
      },
      "outputs": [
        {
          "output_type": "execute_result",
          "data": {
            "text/plain": [
              "0       Austria\n",
              "1       Austria\n",
              "2       Austria\n",
              "3       Austria\n",
              "4       Austria\n",
              "         ...   \n",
              "5485     Sweden\n",
              "5486     Sweden\n",
              "5487     Sweden\n",
              "5488     Sweden\n",
              "5489     Sweden\n",
              "Name: country, Length: 5490, dtype: object"
            ]
          },
          "metadata": {},
          "execution_count": 12
        }
      ],
      "source": [
        "# Sabemos que disponemos del nombre del país en inglés\n",
        "df_datos4['country']"
      ]
    },
    {
      "cell_type": "markdown",
      "id": "d222320c",
      "metadata": {
        "id": "d222320c"
      },
      "source": [
        "    Podemos hacer una función para obtener ISO3"
      ]
    },
    {
      "cell_type": "code",
      "execution_count": 16,
      "id": "a14333df",
      "metadata": {
        "id": "a14333df"
      },
      "outputs": [],
      "source": [
        "import pycountry\n",
        "\n",
        "def obtener_iso3(country):\n",
        "    try:\n",
        "        pais = pycountry.countries.get(name=country)\n",
        "        if pais is not None:\n",
        "            return pais.alpha_3\n",
        "    except LookupError:\n",
        "        pass\n",
        "    return None\n",
        "\n",
        "# Obtener el código ISO 3 correspondiente a los nombres de país en la columna 'country'\n",
        "df_datos4.insert(1, 'iso3', df_datos4['country'].apply(obtener_iso3))"
      ]
    },
    {
      "cell_type": "code",
      "execution_count": 17,
      "id": "aa21fc77",
      "metadata": {
        "id": "aa21fc77",
        "outputId": "eac0891a-67ae-4efa-d75a-5c5b56520d34",
        "colab": {
          "base_uri": "https://localhost:8080/"
        }
      },
      "outputs": [
        {
          "output_type": "execute_result",
          "data": {
            "text/plain": [
              "0       AUT\n",
              "1       AUT\n",
              "2       AUT\n",
              "3       AUT\n",
              "4       AUT\n",
              "       ... \n",
              "5485    SWE\n",
              "5486    SWE\n",
              "5487    SWE\n",
              "5488    SWE\n",
              "5489    SWE\n",
              "Name: iso3, Length: 5490, dtype: object"
            ]
          },
          "metadata": {},
          "execution_count": 17
        }
      ],
      "source": [
        "df_datos4['iso3']"
      ]
    },
    {
      "cell_type": "markdown",
      "id": "a4f5177e",
      "metadata": {
        "id": "a4f5177e"
      },
      "source": [
        "### Y por último limpiamos"
      ]
    },
    {
      "cell_type": "code",
      "execution_count": 18,
      "id": "4426541d",
      "metadata": {
        "id": "4426541d",
        "outputId": "d665d939-46e1-488f-e2e8-28cb56ea33c2",
        "colab": {
          "base_uri": "https://localhost:8080/"
        }
      },
      "outputs": [
        {
          "output_type": "execute_result",
          "data": {
            "text/plain": [
              "country                False\n",
              "iso3                   False\n",
              "country_code           False\n",
              "year_week              False\n",
              "level                  False\n",
              "region                 False\n",
              "region_name            False\n",
              "new_cases               True\n",
              "tests_done              True\n",
              "population             False\n",
              "testing_rate            True\n",
              "positivity_rate         True\n",
              "testing_data_source     True\n",
              "dtype: bool"
            ]
          },
          "metadata": {},
          "execution_count": 18
        }
      ],
      "source": [
        "# Revisamos donde están los nulos\n",
        "df_datos4.isna().any()"
      ]
    },
    {
      "cell_type": "code",
      "execution_count": 19,
      "id": "79e0fb38",
      "metadata": {
        "id": "79e0fb38"
      },
      "outputs": [],
      "source": [
        "# Eliminar nulos\n",
        "df_datos4.dropna(subset=['new_cases', 'tests_done', 'testing_rate', 'positivity_rate', 'testing_data_source'], inplace=True)"
      ]
    },
    {
      "cell_type": "markdown",
      "id": "1d2fb527",
      "metadata": {
        "id": "1d2fb527"
      },
      "source": [
        "#### Eliminamos columnas que no utilizaremos"
      ]
    },
    {
      "cell_type": "code",
      "execution_count": 20,
      "id": "76da532b",
      "metadata": {
        "id": "76da532b",
        "outputId": "25feb196-cba5-4755-dd71-f673aacac3a8",
        "colab": {
          "base_uri": "https://localhost:8080/",
          "height": 424
        }
      },
      "outputs": [
        {
          "output_type": "execute_result",
          "data": {
            "text/plain": [
              "      country iso3 country_code year_week     level region region_name  \\\n",
              "40    Austria  AUT           AT   2020-41  national     AT     Austria   \n",
              "41    Austria  AUT           AT   2020-42  national     AT     Austria   \n",
              "42    Austria  AUT           AT   2020-43  national     AT     Austria   \n",
              "43    Austria  AUT           AT   2020-44  national     AT     Austria   \n",
              "44    Austria  AUT           AT   2020-45  national     AT     Austria   \n",
              "...       ...  ...          ...       ...       ...    ...         ...   \n",
              "5484   Sweden  SWE           SE   2023-21  national     SE      Sweden   \n",
              "5485   Sweden  SWE           SE   2023-22  national     SE      Sweden   \n",
              "5486   Sweden  SWE           SE   2023-23  national     SE      Sweden   \n",
              "5487   Sweden  SWE           SE   2023-24  national     SE      Sweden   \n",
              "5488   Sweden  SWE           SE   2023-25  national     SE      Sweden   \n",
              "\n",
              "      new_cases  tests_done  population  testing_rate  positivity_rate  \\\n",
              "40       7487.0    124663.0     8978929   1388.394986         6.005792   \n",
              "41       9898.0    129647.0     8978929   1443.902719         7.634577   \n",
              "42      18262.0    158997.0     8978929   1770.779121        11.485751   \n",
              "43      31613.0    167926.0     8978929   1870.223052        18.825554   \n",
              "44      44772.0    199567.0     8978929   2222.614746        22.434571   \n",
              "...         ...         ...         ...           ...              ...   \n",
              "5484      613.0      5442.0    10452326     52.064966        11.264241   \n",
              "5485      518.0      4996.0    10452326     47.797973        10.368295   \n",
              "5486      480.0      4533.0    10452326     43.368337        10.589014   \n",
              "5487      437.0      4566.0    10452326     43.684057         9.570740   \n",
              "5488      291.0      3931.0    10452326     37.608854         7.402697   \n",
              "\n",
              "     testing_data_source  \n",
              "40        TESSy COVID-19  \n",
              "41        TESSy COVID-19  \n",
              "42        TESSy COVID-19  \n",
              "43        TESSy COVID-19  \n",
              "44        TESSy COVID-19  \n",
              "...                  ...  \n",
              "5484      TESSy COVID-19  \n",
              "5485      TESSy COVID-19  \n",
              "5486      TESSy COVID-19  \n",
              "5487      TESSy COVID-19  \n",
              "5488      TESSy COVID-19  \n",
              "\n",
              "[4413 rows x 13 columns]"
            ],
            "text/html": [
              "\n",
              "  <div id=\"df-efa35eb9-9521-4859-94f7-d54185cc65d4\">\n",
              "    <div class=\"colab-df-container\">\n",
              "      <div>\n",
              "<style scoped>\n",
              "    .dataframe tbody tr th:only-of-type {\n",
              "        vertical-align: middle;\n",
              "    }\n",
              "\n",
              "    .dataframe tbody tr th {\n",
              "        vertical-align: top;\n",
              "    }\n",
              "\n",
              "    .dataframe thead th {\n",
              "        text-align: right;\n",
              "    }\n",
              "</style>\n",
              "<table border=\"1\" class=\"dataframe\">\n",
              "  <thead>\n",
              "    <tr style=\"text-align: right;\">\n",
              "      <th></th>\n",
              "      <th>country</th>\n",
              "      <th>iso3</th>\n",
              "      <th>country_code</th>\n",
              "      <th>year_week</th>\n",
              "      <th>level</th>\n",
              "      <th>region</th>\n",
              "      <th>region_name</th>\n",
              "      <th>new_cases</th>\n",
              "      <th>tests_done</th>\n",
              "      <th>population</th>\n",
              "      <th>testing_rate</th>\n",
              "      <th>positivity_rate</th>\n",
              "      <th>testing_data_source</th>\n",
              "    </tr>\n",
              "  </thead>\n",
              "  <tbody>\n",
              "    <tr>\n",
              "      <th>40</th>\n",
              "      <td>Austria</td>\n",
              "      <td>AUT</td>\n",
              "      <td>AT</td>\n",
              "      <td>2020-41</td>\n",
              "      <td>national</td>\n",
              "      <td>AT</td>\n",
              "      <td>Austria</td>\n",
              "      <td>7487.0</td>\n",
              "      <td>124663.0</td>\n",
              "      <td>8978929</td>\n",
              "      <td>1388.394986</td>\n",
              "      <td>6.005792</td>\n",
              "      <td>TESSy COVID-19</td>\n",
              "    </tr>\n",
              "    <tr>\n",
              "      <th>41</th>\n",
              "      <td>Austria</td>\n",
              "      <td>AUT</td>\n",
              "      <td>AT</td>\n",
              "      <td>2020-42</td>\n",
              "      <td>national</td>\n",
              "      <td>AT</td>\n",
              "      <td>Austria</td>\n",
              "      <td>9898.0</td>\n",
              "      <td>129647.0</td>\n",
              "      <td>8978929</td>\n",
              "      <td>1443.902719</td>\n",
              "      <td>7.634577</td>\n",
              "      <td>TESSy COVID-19</td>\n",
              "    </tr>\n",
              "    <tr>\n",
              "      <th>42</th>\n",
              "      <td>Austria</td>\n",
              "      <td>AUT</td>\n",
              "      <td>AT</td>\n",
              "      <td>2020-43</td>\n",
              "      <td>national</td>\n",
              "      <td>AT</td>\n",
              "      <td>Austria</td>\n",
              "      <td>18262.0</td>\n",
              "      <td>158997.0</td>\n",
              "      <td>8978929</td>\n",
              "      <td>1770.779121</td>\n",
              "      <td>11.485751</td>\n",
              "      <td>TESSy COVID-19</td>\n",
              "    </tr>\n",
              "    <tr>\n",
              "      <th>43</th>\n",
              "      <td>Austria</td>\n",
              "      <td>AUT</td>\n",
              "      <td>AT</td>\n",
              "      <td>2020-44</td>\n",
              "      <td>national</td>\n",
              "      <td>AT</td>\n",
              "      <td>Austria</td>\n",
              "      <td>31613.0</td>\n",
              "      <td>167926.0</td>\n",
              "      <td>8978929</td>\n",
              "      <td>1870.223052</td>\n",
              "      <td>18.825554</td>\n",
              "      <td>TESSy COVID-19</td>\n",
              "    </tr>\n",
              "    <tr>\n",
              "      <th>44</th>\n",
              "      <td>Austria</td>\n",
              "      <td>AUT</td>\n",
              "      <td>AT</td>\n",
              "      <td>2020-45</td>\n",
              "      <td>national</td>\n",
              "      <td>AT</td>\n",
              "      <td>Austria</td>\n",
              "      <td>44772.0</td>\n",
              "      <td>199567.0</td>\n",
              "      <td>8978929</td>\n",
              "      <td>2222.614746</td>\n",
              "      <td>22.434571</td>\n",
              "      <td>TESSy COVID-19</td>\n",
              "    </tr>\n",
              "    <tr>\n",
              "      <th>...</th>\n",
              "      <td>...</td>\n",
              "      <td>...</td>\n",
              "      <td>...</td>\n",
              "      <td>...</td>\n",
              "      <td>...</td>\n",
              "      <td>...</td>\n",
              "      <td>...</td>\n",
              "      <td>...</td>\n",
              "      <td>...</td>\n",
              "      <td>...</td>\n",
              "      <td>...</td>\n",
              "      <td>...</td>\n",
              "      <td>...</td>\n",
              "    </tr>\n",
              "    <tr>\n",
              "      <th>5484</th>\n",
              "      <td>Sweden</td>\n",
              "      <td>SWE</td>\n",
              "      <td>SE</td>\n",
              "      <td>2023-21</td>\n",
              "      <td>national</td>\n",
              "      <td>SE</td>\n",
              "      <td>Sweden</td>\n",
              "      <td>613.0</td>\n",
              "      <td>5442.0</td>\n",
              "      <td>10452326</td>\n",
              "      <td>52.064966</td>\n",
              "      <td>11.264241</td>\n",
              "      <td>TESSy COVID-19</td>\n",
              "    </tr>\n",
              "    <tr>\n",
              "      <th>5485</th>\n",
              "      <td>Sweden</td>\n",
              "      <td>SWE</td>\n",
              "      <td>SE</td>\n",
              "      <td>2023-22</td>\n",
              "      <td>national</td>\n",
              "      <td>SE</td>\n",
              "      <td>Sweden</td>\n",
              "      <td>518.0</td>\n",
              "      <td>4996.0</td>\n",
              "      <td>10452326</td>\n",
              "      <td>47.797973</td>\n",
              "      <td>10.368295</td>\n",
              "      <td>TESSy COVID-19</td>\n",
              "    </tr>\n",
              "    <tr>\n",
              "      <th>5486</th>\n",
              "      <td>Sweden</td>\n",
              "      <td>SWE</td>\n",
              "      <td>SE</td>\n",
              "      <td>2023-23</td>\n",
              "      <td>national</td>\n",
              "      <td>SE</td>\n",
              "      <td>Sweden</td>\n",
              "      <td>480.0</td>\n",
              "      <td>4533.0</td>\n",
              "      <td>10452326</td>\n",
              "      <td>43.368337</td>\n",
              "      <td>10.589014</td>\n",
              "      <td>TESSy COVID-19</td>\n",
              "    </tr>\n",
              "    <tr>\n",
              "      <th>5487</th>\n",
              "      <td>Sweden</td>\n",
              "      <td>SWE</td>\n",
              "      <td>SE</td>\n",
              "      <td>2023-24</td>\n",
              "      <td>national</td>\n",
              "      <td>SE</td>\n",
              "      <td>Sweden</td>\n",
              "      <td>437.0</td>\n",
              "      <td>4566.0</td>\n",
              "      <td>10452326</td>\n",
              "      <td>43.684057</td>\n",
              "      <td>9.570740</td>\n",
              "      <td>TESSy COVID-19</td>\n",
              "    </tr>\n",
              "    <tr>\n",
              "      <th>5488</th>\n",
              "      <td>Sweden</td>\n",
              "      <td>SWE</td>\n",
              "      <td>SE</td>\n",
              "      <td>2023-25</td>\n",
              "      <td>national</td>\n",
              "      <td>SE</td>\n",
              "      <td>Sweden</td>\n",
              "      <td>291.0</td>\n",
              "      <td>3931.0</td>\n",
              "      <td>10452326</td>\n",
              "      <td>37.608854</td>\n",
              "      <td>7.402697</td>\n",
              "      <td>TESSy COVID-19</td>\n",
              "    </tr>\n",
              "  </tbody>\n",
              "</table>\n",
              "<p>4413 rows × 13 columns</p>\n",
              "</div>\n",
              "      <button class=\"colab-df-convert\" onclick=\"convertToInteractive('df-efa35eb9-9521-4859-94f7-d54185cc65d4')\"\n",
              "              title=\"Convert this dataframe to an interactive table.\"\n",
              "              style=\"display:none;\">\n",
              "        \n",
              "  <svg xmlns=\"http://www.w3.org/2000/svg\" height=\"24px\"viewBox=\"0 0 24 24\"\n",
              "       width=\"24px\">\n",
              "    <path d=\"M0 0h24v24H0V0z\" fill=\"none\"/>\n",
              "    <path d=\"M18.56 5.44l.94 2.06.94-2.06 2.06-.94-2.06-.94-.94-2.06-.94 2.06-2.06.94zm-11 1L8.5 8.5l.94-2.06 2.06-.94-2.06-.94L8.5 2.5l-.94 2.06-2.06.94zm10 10l.94 2.06.94-2.06 2.06-.94-2.06-.94-.94-2.06-.94 2.06-2.06.94z\"/><path d=\"M17.41 7.96l-1.37-1.37c-.4-.4-.92-.59-1.43-.59-.52 0-1.04.2-1.43.59L10.3 9.45l-7.72 7.72c-.78.78-.78 2.05 0 2.83L4 21.41c.39.39.9.59 1.41.59.51 0 1.02-.2 1.41-.59l7.78-7.78 2.81-2.81c.8-.78.8-2.07 0-2.86zM5.41 20L4 18.59l7.72-7.72 1.47 1.35L5.41 20z\"/>\n",
              "  </svg>\n",
              "      </button>\n",
              "      \n",
              "  <style>\n",
              "    .colab-df-container {\n",
              "      display:flex;\n",
              "      flex-wrap:wrap;\n",
              "      gap: 12px;\n",
              "    }\n",
              "\n",
              "    .colab-df-convert {\n",
              "      background-color: #E8F0FE;\n",
              "      border: none;\n",
              "      border-radius: 50%;\n",
              "      cursor: pointer;\n",
              "      display: none;\n",
              "      fill: #1967D2;\n",
              "      height: 32px;\n",
              "      padding: 0 0 0 0;\n",
              "      width: 32px;\n",
              "    }\n",
              "\n",
              "    .colab-df-convert:hover {\n",
              "      background-color: #E2EBFA;\n",
              "      box-shadow: 0px 1px 2px rgba(60, 64, 67, 0.3), 0px 1px 3px 1px rgba(60, 64, 67, 0.15);\n",
              "      fill: #174EA6;\n",
              "    }\n",
              "\n",
              "    [theme=dark] .colab-df-convert {\n",
              "      background-color: #3B4455;\n",
              "      fill: #D2E3FC;\n",
              "    }\n",
              "\n",
              "    [theme=dark] .colab-df-convert:hover {\n",
              "      background-color: #434B5C;\n",
              "      box-shadow: 0px 1px 3px 1px rgba(0, 0, 0, 0.15);\n",
              "      filter: drop-shadow(0px 1px 2px rgba(0, 0, 0, 0.3));\n",
              "      fill: #FFFFFF;\n",
              "    }\n",
              "  </style>\n",
              "\n",
              "      <script>\n",
              "        const buttonEl =\n",
              "          document.querySelector('#df-efa35eb9-9521-4859-94f7-d54185cc65d4 button.colab-df-convert');\n",
              "        buttonEl.style.display =\n",
              "          google.colab.kernel.accessAllowed ? 'block' : 'none';\n",
              "\n",
              "        async function convertToInteractive(key) {\n",
              "          const element = document.querySelector('#df-efa35eb9-9521-4859-94f7-d54185cc65d4');\n",
              "          const dataTable =\n",
              "            await google.colab.kernel.invokeFunction('convertToInteractive',\n",
              "                                                     [key], {});\n",
              "          if (!dataTable) return;\n",
              "\n",
              "          const docLinkHtml = 'Like what you see? Visit the ' +\n",
              "            '<a target=\"_blank\" href=https://colab.research.google.com/notebooks/data_table.ipynb>data table notebook</a>'\n",
              "            + ' to learn more about interactive tables.';\n",
              "          element.innerHTML = '';\n",
              "          dataTable['output_type'] = 'display_data';\n",
              "          await google.colab.output.renderOutput(dataTable, element);\n",
              "          const docLink = document.createElement('div');\n",
              "          docLink.innerHTML = docLinkHtml;\n",
              "          element.appendChild(docLink);\n",
              "        }\n",
              "      </script>\n",
              "    </div>\n",
              "  </div>\n",
              "  "
            ]
          },
          "metadata": {},
          "execution_count": 20
        }
      ],
      "source": [
        "df_datos4"
      ]
    },
    {
      "cell_type": "code",
      "execution_count": 21,
      "id": "dbcd995b",
      "metadata": {
        "id": "dbcd995b"
      },
      "outputs": [],
      "source": [
        "df_datos4.drop(['country_code', 'region_name', 'region', 'country'], axis=1, inplace=True)"
      ]
    },
    {
      "cell_type": "code",
      "execution_count": 22,
      "id": "12e5285e",
      "metadata": {
        "id": "12e5285e"
      },
      "outputs": [],
      "source": [
        "### Verificamos"
      ]
    },
    {
      "cell_type": "code",
      "execution_count": 23,
      "id": "1f365bd9",
      "metadata": {
        "scrolled": false,
        "id": "1f365bd9",
        "outputId": "27597b73-c9c4-465b-cdc6-84e5454031fb",
        "colab": {
          "base_uri": "https://localhost:8080/"
        }
      },
      "outputs": [
        {
          "output_type": "stream",
          "name": "stdout",
          "text": [
            "<class 'pandas.core.frame.DataFrame'>\n",
            "Int64Index: 4413 entries, 40 to 5488\n",
            "Data columns (total 9 columns):\n",
            " #   Column               Non-Null Count  Dtype   \n",
            "---  ------               --------------  -----   \n",
            " 0   iso3                 4413 non-null   object  \n",
            " 1   year_week            4413 non-null   object  \n",
            " 2   level                4413 non-null   object  \n",
            " 3   new_cases            4413 non-null   float64 \n",
            " 4   tests_done           4413 non-null   float64 \n",
            " 5   population           4413 non-null   int64   \n",
            " 6   testing_rate         4413 non-null   float64 \n",
            " 7   positivity_rate      4413 non-null   float64 \n",
            " 8   testing_data_source  4413 non-null   category\n",
            "dtypes: category(1), float64(4), int64(1), object(3)\n",
            "memory usage: 314.7+ KB\n"
          ]
        }
      ],
      "source": [
        "df_datos4.info()"
      ]
    },
    {
      "cell_type": "markdown",
      "id": "0accb262",
      "metadata": {
        "id": "0accb262"
      },
      "source": [
        "## Algunas cosas adicionales"
      ]
    },
    {
      "cell_type": "code",
      "execution_count": 25,
      "id": "24acb41e",
      "metadata": {
        "id": "24acb41e"
      },
      "outputs": [],
      "source": [
        "# Configurar el estilo y la paleta de colores\n",
        "sns.set_style('whitegrid')\n",
        "sns.set_palette('flare')"
      ]
    },
    {
      "cell_type": "markdown",
      "id": "f22149b4",
      "metadata": {
        "id": "f22149b4"
      },
      "source": [
        "Podemos hacer la correlación entre testing_rate y positivity_rate"
      ]
    },
    {
      "cell_type": "code",
      "execution_count": 26,
      "id": "c43c1e0b",
      "metadata": {
        "id": "c43c1e0b",
        "outputId": "91b13425-2714-4c3e-c8f0-10b07a27a511",
        "colab": {
          "base_uri": "https://localhost:8080/"
        }
      },
      "outputs": [
        {
          "output_type": "stream",
          "name": "stdout",
          "text": [
            "Coeficiente de correlación de Pearson: -0.18571037892125866\n"
          ]
        }
      ],
      "source": [
        "# Corr por defecto será Pearson que es el más utilizado\n",
        "correlation = df_datos4['testing_rate'].corr(df_datos4['positivity_rate'])\n",
        "print(\"Coeficiente de correlación de Pearson:\", correlation)"
      ]
    },
    {
      "cell_type": "markdown",
      "id": "11a8fddd",
      "metadata": {
        "id": "11a8fddd"
      },
      "source": [
        "Por tanto hablaríamos de una correlación negativa debil entre testing_rate y positivity_rate"
      ]
    },
    {
      "cell_type": "code",
      "execution_count": 27,
      "id": "63926432",
      "metadata": {
        "id": "63926432",
        "outputId": "23d2f2e1-62c2-472f-c237-0250fb6604e4",
        "colab": {
          "base_uri": "https://localhost:8080/",
          "height": 633
        }
      },
      "outputs": [
        {
          "output_type": "display_data",
          "data": {
            "text/plain": [
              "<Figure size 600x600 with 3 Axes>"
            ],
            "image/png": "[encoded data removed]"
          },
          "metadata": {}
        }
      ],
      "source": [
        "# Jointgrid amb histograma marginal Testing_rate x positivity_rate\n",
        "g = sns.jointplot(data=df_datos4, x='testing_rate', y='positivity_rate', kind=\"kde\", cmap=\"flare\", fill=True)\n",
        "g.plot_joint(sns.kdeplot, cmap=\"flare\", fill=True)\n",
        "g.plot_marginals(sns.histplot, color='#93446E')\n",
        "\n",
        "# Configurar etiquetes i títol\n",
        "g.set_axis_labels(\"Testing rate\", \"Positivity rate\")\n",
        "g.fig.suptitle(\"Distribución conjunta de RM_squared y MEDV en el conjunto de prueba\", y=1.02)\n",
        "\n",
        "plt.show()"
      ]
    },
    {
      "cell_type": "markdown",
      "id": "4ba1bd25",
      "metadata": {
        "id": "4ba1bd25"
      },
      "source": [
        "#### Conteo de representación de regiones"
      ]
    },
    {
      "cell_type": "code",
      "execution_count": 28,
      "id": "a6f57511",
      "metadata": {
        "id": "a6f57511",
        "outputId": "98d6faeb-5379-42d8-9b99-8de0ea50e85c",
        "colab": {
          "base_uri": "https://localhost:8080/",
          "height": 607
        }
      },
      "outputs": [
        {
          "output_type": "display_data",
          "data": {
            "text/plain": [
              "<Figure size 1200x600 with 1 Axes>"
            ],
            "image/png": "[encoded data removed]"
          },
          "metadata": {}
        }
      ],
      "source": [
        "# Calcular el conteo de registros por región\n",
        "region_counts = df_datos4['iso3'].value_counts()\n",
        "\n",
        "# Crear la visualización del conteo de registros por región\n",
        "plt.figure(figsize=(12, 6))  # Ajustar el tamaño de la figura\n",
        "sns.countplot(data=df_datos4, x='iso3', palette='flare', order=region_counts.index)\n",
        "plt.xlabel('Región')\n",
        "plt.ylabel('Contador')\n",
        "plt.title('Representación de cada región en el dataset')\n",
        "plt.xticks(rotation=90)  # Rotar las etiquetas de las regiones\n",
        "plt.tight_layout()  # Ajustar el espaciado\n",
        "plt.show()"
      ]
    },
    {
      "cell_type": "code",
      "execution_count": 29,
      "id": "81aa66f4",
      "metadata": {
        "id": "81aa66f4",
        "outputId": "44f2a14c-c409-4afd-da96-eedaed887f64",
        "colab": {
          "base_uri": "https://localhost:8080/"
        }
      },
      "outputs": [
        {
          "output_type": "stream",
          "name": "stdout",
          "text": [
            "Coeficiente de correlación de Spearman: -0.06624470609018096\n"
          ]
        }
      ],
      "source": [
        "# Correlación entre región y nuevos casos\n",
        "df_datos4['iso3'] = pd.factorize(df_datos4['iso3'])[0]\n",
        "correlation = df_datos4['new_cases'].corr(df_datos4['iso3'], method='spearman')\n",
        "print(\"Coeficiente de correlación de Spearman:\", correlation)"
      ]
    },
    {
      "cell_type": "markdown",
      "id": "9b19f9e5",
      "metadata": {
        "id": "9b19f9e5"
      },
      "source": [
        "Por tanto hablaríamos de una correlación negativa muy debil entre new_cases e iso3"
      ]
    },
    {
      "cell_type": "markdown",
      "id": "453d6cb4",
      "metadata": {
        "id": "453d6cb4"
      },
      "source": [
        "## Heatmap de correlaciones"
      ]
    },
    {
      "cell_type": "code",
      "execution_count": 30,
      "id": "5683e9fc",
      "metadata": {
        "scrolled": true,
        "id": "5683e9fc",
        "outputId": "fc9d2ceb-d755-49d6-9e70-55b2a2e4fd01",
        "colab": {
          "base_uri": "https://localhost:8080/",
          "height": 1000
        }
      },
      "outputs": [
        {
          "output_type": "display_data",
          "data": {
            "text/plain": [
              "<Figure size 1000x1000 with 4 Axes>"
            ],
            "image/png": "[encoded data removed]"
          },
          "metadata": {}
        }
      ],
      "source": [
        "data = df_datos4[['new_cases', 'tests_done', 'population', 'testing_rate', 'positivity_rate']]\n",
        "sns.clustermap(data.corr(), annot=True, cmap='flare')\n",
        "plt.title('Clustermap - Correlación entre variables')\n",
        "plt.show()"
      ]
    },
    {
      "cell_type": "markdown",
      "id": "20fa6a94",
      "metadata": {
        "id": "20fa6a94"
      },
      "source": [
        "## Y por último exportamos"
      ]
    },
    {
      "cell_type": "code",
      "execution_count": 31,
      "id": "0eb357de",
      "metadata": {
        "id": "0eb357de"
      },
      "outputs": [],
      "source": [
        "import os\n",
        "\n",
        "def guardar_como_csv(df, nombre_archivo):\n",
        "    # Obtener la ruta completa del directorio actual\n",
        "    current_directory = os.getcwd()\n",
        "    # Definir la ubicación y el nombre del archivo CSV\n",
        "    file_path = os.path.join(current_directory, nombre_archivo)\n",
        "    # Guardar el DataFrame como un archivo CSV en la ubicación especificada\n",
        "    df.to_csv(file_path, index=False)"
      ]
    },
    {
      "cell_type": "code",
      "execution_count": 34,
      "id": "655e0e0d",
      "metadata": {
        "id": "655e0e0d"
      },
      "outputs": [],
      "source": [
        "# Llamar a la función para guardar el DataFrame df_datos4 como un archivo CSV\n",
        "guardar_como_csv(df_datos4, \"DEFMODTestingCovid19.csv\")"
      ]
    },
    {
      "cell_type": "code",
      "source": [
        "df_datos4.to_csv('/content/TFM/Ficheros_Depurados/df_testing_covid_eu.csv',index=False)"
      ],
      "metadata": {
        "id": "5cIPnww6mcOZ"
      },
      "id": "5cIPnww6mcOZ",
      "execution_count": 35,
      "outputs": []
    }
  ],
  "metadata": {
    "kernelspec": {
      "display_name": "Python 3 (ipykernel)",
      "language": "python",
      "name": "python3"
    },
    "language_info": {
      "codemirror_mode": {
        "name": "ipython",
        "version": 3
      },
      "file_extension": ".py",
      "mimetype": "text/x-python",
      "name": "python",
      "nbconvert_exporter": "python",
      "pygments_lexer": "ipython3",
      "version": "3.9.13"
    },
    "colab": {
      "provenance": []
    }
  },
  "nbformat": 4,
  "nbformat_minor": 5
}