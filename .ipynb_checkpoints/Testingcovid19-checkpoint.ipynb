{
 "cells": [
  {
   "cell_type": "markdown",
   "id": "a6261c9a",
   "metadata": {},
   "source": [
    "# Data on testing for COVID-19 by week and country"
   ]
  },
  {
   "cell_type": "markdown",
   "id": "7af50e62",
   "metadata": {},
   "source": [
    "Las cifras que se muestran para la tasa de pruebas semanales por cada 100 000 habitantes y la positividad de las pruebas semanales (%) se basan en varias fuentes de datos.\n",
    "\n",
    "El número de casos semanales por utilizado para estimar la positividad de la prueba semanal por país o región subnacional se basa en los datos recopilados por ECDC Epidemic Intelligence. Las fuentes de información son Ministerios de Salud o Institutos Nacionales de Salud Pública (sitios web, cuentas oficiales de twitter o cuentas oficiales de Facebook), y los datos obtenidos se cotejan sistemáticamente con datos de OMS. Hay más información disponible en [este enlace](https://www.ecdc.europa.eu/en/covid-19/data-collection).\n",
    "\n",
    "La fuente principal del total de pruebas por país o región subnacional por semana son los datos agregados presentados por los Estados miembros a TESSy. Sin embargo, cuando no estaba disponible, como solía ser el caso antes de la pandemia, el ECDC recopiló datos de fuentes públicas en línea. Estos datos se han recuperado automática o manualmente (\"web-scraped\") diariamente de fuentes públicas en línea nacionales/oficiales de países de la UE/EEE. Cabe señalar que existen varias limitaciones para este tipo de datos. Los datos raspados no están disponibles para todas las variables y/o países debido a la variabilidad del contenido en los sitios web nacionales.\n",
    "\n",
    "Además, el proceso de recopilación de datos requiere una adaptación constante para evitar series temporales interrumpidas (es decir, debido a la modificación de las páginas del sitio web, tipos de datos).\n",
    "\n",
    "La tasa de notificación de 14 días de nuevos casos de COVID-19 se basa en los datos recopilados por ECDC Epidemic Intelligence de varias fuentes y se ve afectada por la estrategia de prueba local, la capacidad del laboratorio y la eficacia de los sistemas de vigilancia. Por lo tanto, la comparación de la situación epidemiológica de la COVID-19 entre países no debe basarse únicamente en estas tasas. Sin embargo, a nivel de país individual o regional, este indicador puede ser útil para monitorear la situación nacional a lo largo del tiempo.\n",
    "\n",
    "Las políticas de pruebas y el número de pruebas realizadas por cada 100 000 personas varían notablemente a lo largo del UE/EEE y presumiblemente aún más entre terceros países. Las pruebas más exhaustivas conducirán inevitablemente a la detección de más casos.\n",
    "\n",
    "La tasa de notificación de 14 días de nuevos casos de COVID-19 debe usarse en combinación con otros factores, incluidas las políticas de prueba, la cantidad de pruebas realizadas, la positividad de la prueba, el exceso de mortalidad y las tasas de ingresos hospitalarios y en la Unidad de Cuidados Intensivos (UCI), al analizar el epidemiológico situación en un país. La mayoría de estos indicadores se presentan para los Estados miembros de la UE/EEE en el informe Panorama general del país.\n",
    "\n",
    "Incluso cuando se utilizan varios indicadores en combinación, las comparaciones entre países deben hacerse con cautela y experiencia epidemiológica relevante.\n",
    "\n",
    "Información obtenida de: [Data dictionary on COVID-19 testing](https://www.ecdc.europa.eu/sites/default/files/documents/covid-19-variable-dictionary-and-disclaimer-weekly-testing-data.pdf).\n"
   ]
  },
  {
   "cell_type": "code",
   "execution_count": 26,
   "id": "ffe1a20b",
   "metadata": {},
   "outputs": [],
   "source": [
    "data_dict = {\n",
    "    \"country\": \"String\",\n",
    "    \"country_code\": \"2-letter ISO country code\",\n",
    "    \"year_week\": \"yyyy-Www\",\n",
    "    \"level\": \"National (archived dataset with national subnational data to week 36, 2022 is available on ECDC’s website)\",\n",
    "    \"region\": \"2-letter ISO country code where level is national\",\n",
    "    \"region_name\": \"Country name where level is national\",\n",
    "    \"new_cases\": \"Number of new confirmed cases\",\n",
    "    \"tests_done\": \"Number of tests done\",\n",
    "    \"population\": \"Numeric\",\n",
    "    \"testing_rate\": \"Testing rate per 100,000 population\",\n",
    "    \"positivity_rate\": \"Weekly test positivity (%): 100 x Number of new confirmed cases/number of tests done per week\",\n",
    "    \"testing_data_source\": [\n",
    "        \"Country API\",\n",
    "        \"Country GitHub\",\n",
    "        \"Country website\",\n",
    "        \"Manual webscraping\",\n",
    "        \"Other\",\n",
    "        \"Survey\",\n",
    "        \"TESSy: data provided directly by Member States to ECDC via TESSy\"\n",
    "    ]\n",
    "}"
   ]
  },
  {
   "cell_type": "markdown",
   "id": "82e23f1c",
   "metadata": {},
   "source": [
    "### Cargamos el dataset y configuramos el notebook"
   ]
  },
  {
   "cell_type": "code",
   "execution_count": 27,
   "id": "dca8f647",
   "metadata": {},
   "outputs": [],
   "source": [
    "# importar paquetes\n",
    "import pandas as pd\n",
    "import numpy as np\n",
    "import datetime as dt\n",
    "import pandas as pd\n",
    "import matplotlib.pyplot as plt\n",
    "import seaborn as sns"
   ]
  },
  {
   "cell_type": "code",
   "execution_count": 28,
   "id": "5f55ba23",
   "metadata": {},
   "outputs": [],
   "source": [
    "# configurar los gráficos\n",
    "sns.set_style('whitegrid')\n",
    "sns.set_palette('flare')"
   ]
  },
  {
   "cell_type": "code",
   "execution_count": 29,
   "id": "44927188",
   "metadata": {},
   "outputs": [],
   "source": [
    "# Leer el archivo\n",
    "df_datos4 = pd.read_csv('https://opendata.ecdc.europa.eu/covid19/testing/csv/data.csv') #cargamos los datos"
   ]
  },
  {
   "cell_type": "markdown",
   "id": "e302f8bd",
   "metadata": {},
   "source": [
    "### Revisamos la información general"
   ]
  },
  {
   "cell_type": "code",
   "execution_count": 30,
   "id": "c2a84a45",
   "metadata": {},
   "outputs": [
    {
     "name": "stdout",
     "output_type": "stream",
     "text": [
      "<class 'pandas.core.frame.DataFrame'>\n",
      "RangeIndex: 5430 entries, 0 to 5429\n",
      "Data columns (total 12 columns):\n",
      " #   Column               Non-Null Count  Dtype  \n",
      "---  ------               --------------  -----  \n",
      " 0   country              5430 non-null   object \n",
      " 1   country_code         5430 non-null   object \n",
      " 2   year_week            5430 non-null   object \n",
      " 3   level                5430 non-null   object \n",
      " 4   region               5430 non-null   object \n",
      " 5   region_name          5430 non-null   object \n",
      " 6   new_cases            5241 non-null   float64\n",
      " 7   tests_done           4382 non-null   float64\n",
      " 8   population           5430 non-null   int64  \n",
      " 9   testing_rate         4382 non-null   float64\n",
      " 10  positivity_rate      4362 non-null   float64\n",
      " 11  testing_data_source  4382 non-null   object \n",
      "dtypes: float64(4), int64(1), object(7)\n",
      "memory usage: 509.2+ KB\n"
     ]
    }
   ],
   "source": [
    "df_datos4.info() "
   ]
  },
  {
   "cell_type": "code",
   "execution_count": 31,
   "id": "10564f68",
   "metadata": {},
   "outputs": [
    {
     "data": {
      "text/plain": [
       "False"
      ]
     },
     "execution_count": 31,
     "metadata": {},
     "output_type": "execute_result"
    }
   ],
   "source": [
    "# Revisamos si hay duplicados\n",
    "df_datos4.duplicated().sum().any()"
   ]
  },
  {
   "cell_type": "code",
   "execution_count": 32,
   "id": "3c2a081e",
   "metadata": {},
   "outputs": [
    {
     "data": {
      "text/plain": [
       "True"
      ]
     },
     "execution_count": 32,
     "metadata": {},
     "output_type": "execute_result"
    }
   ],
   "source": [
    "# Revisamos si hay nulos\n",
    "df_datos4.isna().sum().any()"
   ]
  },
  {
   "cell_type": "code",
   "execution_count": 33,
   "id": "bf8bd6f9",
   "metadata": {},
   "outputs": [
    {
     "data": {
      "text/plain": [
       "country                   0\n",
       "country_code              0\n",
       "year_week                 0\n",
       "level                     0\n",
       "region                    0\n",
       "region_name               0\n",
       "new_cases               189\n",
       "tests_done             1048\n",
       "population                0\n",
       "testing_rate           1048\n",
       "positivity_rate        1068\n",
       "testing_data_source    1048\n",
       "dtype: int64"
      ]
     },
     "execution_count": 33,
     "metadata": {},
     "output_type": "execute_result"
    }
   ],
   "source": [
    "# Revisamos donde están los nulos\n",
    "df_datos4.isna().sum()"
   ]
  },
  {
   "cell_type": "markdown",
   "id": "aecb6b2a",
   "metadata": {},
   "source": [
    "### Modificamos columnas"
   ]
  },
  {
   "cell_type": "code",
   "execution_count": 34,
   "id": "64c368f9",
   "metadata": {},
   "outputs": [],
   "source": [
    "# Modificar categoría\n",
    "df_datos4['testing_data_source'] = df_datos4['testing_data_source'].astype('category'); assert df_datos4['testing_data_source'].dtype == 'category'"
   ]
  },
  {
   "cell_type": "code",
   "execution_count": 35,
   "id": "e9f1bb76",
   "metadata": {},
   "outputs": [],
   "source": [
    "# Convertir la columna 'year_week' a tipo datetime\n",
    "df_datos4['year_week'] = pd.to_datetime(df_datos4['year_week'] + '-1', format='%Y-W%W-%w')\n",
    "# Extraer el número de semana y el año\n",
    "df_datos4['year_week'] = df_datos4['year_week'].dt.strftime('%Y-%W')"
   ]
  },
  {
   "cell_type": "code",
   "execution_count": 36,
   "id": "73fc2d3b",
   "metadata": {},
   "outputs": [
    {
     "data": {
      "text/plain": [
       "0       Austria\n",
       "1       Austria\n",
       "2       Austria\n",
       "3       Austria\n",
       "4       Austria\n",
       "         ...   \n",
       "5425     Sweden\n",
       "5426     Sweden\n",
       "5427     Sweden\n",
       "5428     Sweden\n",
       "5429     Sweden\n",
       "Name: country, Length: 5430, dtype: object"
      ]
     },
     "execution_count": 36,
     "metadata": {},
     "output_type": "execute_result"
    }
   ],
   "source": [
    "# Sabemos que disponemos del nombre del país en inglés\n",
    "df_datos4['country']"
   ]
  },
  {
   "cell_type": "markdown",
   "id": "d222320c",
   "metadata": {},
   "source": [
    "    Podemos hacer una función para obtener ISO3"
   ]
  },
  {
   "cell_type": "code",
   "execution_count": 37,
   "id": "a14333df",
   "metadata": {},
   "outputs": [],
   "source": [
    "import pycountry\n",
    "\n",
    "def obtener_iso3(country):\n",
    "    try:\n",
    "        pais = pycountry.countries.get(name=country)\n",
    "        if pais is not None:\n",
    "            return pais.alpha_3\n",
    "    except LookupError:\n",
    "        pass\n",
    "    return None\n",
    "\n",
    "# Obtener el código ISO 3 correspondiente a los nombres de país en la columna 'country'\n",
    "df_datos4.insert(1, 'iso3', df_datos4['country'].apply(obtener_iso3))"
   ]
  },
  {
   "cell_type": "code",
   "execution_count": 38,
   "id": "aa21fc77",
   "metadata": {},
   "outputs": [
    {
     "data": {
      "text/plain": [
       "0       AUT\n",
       "1       AUT\n",
       "2       AUT\n",
       "3       AUT\n",
       "4       AUT\n",
       "       ... \n",
       "5425    SWE\n",
       "5426    SWE\n",
       "5427    SWE\n",
       "5428    SWE\n",
       "5429    SWE\n",
       "Name: iso3, Length: 5430, dtype: object"
      ]
     },
     "execution_count": 38,
     "metadata": {},
     "output_type": "execute_result"
    }
   ],
   "source": [
    "df_datos4['iso3']"
   ]
  },
  {
   "cell_type": "markdown",
   "id": "a4f5177e",
   "metadata": {},
   "source": [
    "### Y por último limpiamos"
   ]
  },
  {
   "cell_type": "code",
   "execution_count": 39,
   "id": "4426541d",
   "metadata": {},
   "outputs": [
    {
     "data": {
      "text/plain": [
       "country                False\n",
       "iso3                   False\n",
       "country_code           False\n",
       "year_week              False\n",
       "level                  False\n",
       "region                 False\n",
       "region_name            False\n",
       "new_cases               True\n",
       "tests_done              True\n",
       "population             False\n",
       "testing_rate            True\n",
       "positivity_rate         True\n",
       "testing_data_source     True\n",
       "dtype: bool"
      ]
     },
     "execution_count": 39,
     "metadata": {},
     "output_type": "execute_result"
    }
   ],
   "source": [
    "# Revisamos donde están los nulos\n",
    "df_datos4.isna().any()"
   ]
  },
  {
   "cell_type": "code",
   "execution_count": 40,
   "id": "79e0fb38",
   "metadata": {},
   "outputs": [],
   "source": [
    "# Eliminar nulos\n",
    "df_datos4.dropna(subset=['new_cases', 'tests_done', 'testing_rate', 'positivity_rate', 'testing_data_source'], inplace=True)"
   ]
  },
  {
   "cell_type": "markdown",
   "id": "1d2fb527",
   "metadata": {},
   "source": [
    "#### Eliminamos columnas que no utilizaremos"
   ]
  },
  {
   "cell_type": "code",
   "execution_count": 41,
   "id": "76da532b",
   "metadata": {},
   "outputs": [
    {
     "data": {
      "text/html": [
       "<div>\n",
       "<style scoped>\n",
       "    .dataframe tbody tr th:only-of-type {\n",
       "        vertical-align: middle;\n",
       "    }\n",
       "\n",
       "    .dataframe tbody tr th {\n",
       "        vertical-align: top;\n",
       "    }\n",
       "\n",
       "    .dataframe thead th {\n",
       "        text-align: right;\n",
       "    }\n",
       "</style>\n",
       "<table border=\"1\" class=\"dataframe\">\n",
       "  <thead>\n",
       "    <tr style=\"text-align: right;\">\n",
       "      <th></th>\n",
       "      <th>country</th>\n",
       "      <th>iso3</th>\n",
       "      <th>country_code</th>\n",
       "      <th>year_week</th>\n",
       "      <th>level</th>\n",
       "      <th>region</th>\n",
       "      <th>region_name</th>\n",
       "      <th>new_cases</th>\n",
       "      <th>tests_done</th>\n",
       "      <th>population</th>\n",
       "      <th>testing_rate</th>\n",
       "      <th>positivity_rate</th>\n",
       "      <th>testing_data_source</th>\n",
       "    </tr>\n",
       "  </thead>\n",
       "  <tbody>\n",
       "    <tr>\n",
       "      <th>40</th>\n",
       "      <td>Austria</td>\n",
       "      <td>AUT</td>\n",
       "      <td>AT</td>\n",
       "      <td>2020-41</td>\n",
       "      <td>national</td>\n",
       "      <td>AT</td>\n",
       "      <td>Austria</td>\n",
       "      <td>7487.0</td>\n",
       "      <td>124663.0</td>\n",
       "      <td>8978929</td>\n",
       "      <td>1388.394986</td>\n",
       "      <td>6.005792</td>\n",
       "      <td>TESSy COVID-19</td>\n",
       "    </tr>\n",
       "    <tr>\n",
       "      <th>41</th>\n",
       "      <td>Austria</td>\n",
       "      <td>AUT</td>\n",
       "      <td>AT</td>\n",
       "      <td>2020-42</td>\n",
       "      <td>national</td>\n",
       "      <td>AT</td>\n",
       "      <td>Austria</td>\n",
       "      <td>9898.0</td>\n",
       "      <td>129647.0</td>\n",
       "      <td>8978929</td>\n",
       "      <td>1443.902719</td>\n",
       "      <td>7.634577</td>\n",
       "      <td>TESSy COVID-19</td>\n",
       "    </tr>\n",
       "    <tr>\n",
       "      <th>42</th>\n",
       "      <td>Austria</td>\n",
       "      <td>AUT</td>\n",
       "      <td>AT</td>\n",
       "      <td>2020-43</td>\n",
       "      <td>national</td>\n",
       "      <td>AT</td>\n",
       "      <td>Austria</td>\n",
       "      <td>18262.0</td>\n",
       "      <td>158997.0</td>\n",
       "      <td>8978929</td>\n",
       "      <td>1770.779121</td>\n",
       "      <td>11.485751</td>\n",
       "      <td>TESSy COVID-19</td>\n",
       "    </tr>\n",
       "    <tr>\n",
       "      <th>43</th>\n",
       "      <td>Austria</td>\n",
       "      <td>AUT</td>\n",
       "      <td>AT</td>\n",
       "      <td>2020-44</td>\n",
       "      <td>national</td>\n",
       "      <td>AT</td>\n",
       "      <td>Austria</td>\n",
       "      <td>31613.0</td>\n",
       "      <td>167926.0</td>\n",
       "      <td>8978929</td>\n",
       "      <td>1870.223052</td>\n",
       "      <td>18.825554</td>\n",
       "      <td>TESSy COVID-19</td>\n",
       "    </tr>\n",
       "    <tr>\n",
       "      <th>44</th>\n",
       "      <td>Austria</td>\n",
       "      <td>AUT</td>\n",
       "      <td>AT</td>\n",
       "      <td>2020-45</td>\n",
       "      <td>national</td>\n",
       "      <td>AT</td>\n",
       "      <td>Austria</td>\n",
       "      <td>44772.0</td>\n",
       "      <td>199567.0</td>\n",
       "      <td>8978929</td>\n",
       "      <td>2222.614746</td>\n",
       "      <td>22.434571</td>\n",
       "      <td>TESSy COVID-19</td>\n",
       "    </tr>\n",
       "    <tr>\n",
       "      <th>...</th>\n",
       "      <td>...</td>\n",
       "      <td>...</td>\n",
       "      <td>...</td>\n",
       "      <td>...</td>\n",
       "      <td>...</td>\n",
       "      <td>...</td>\n",
       "      <td>...</td>\n",
       "      <td>...</td>\n",
       "      <td>...</td>\n",
       "      <td>...</td>\n",
       "      <td>...</td>\n",
       "      <td>...</td>\n",
       "      <td>...</td>\n",
       "    </tr>\n",
       "    <tr>\n",
       "      <th>5424</th>\n",
       "      <td>Sweden</td>\n",
       "      <td>SWE</td>\n",
       "      <td>SE</td>\n",
       "      <td>2023-19</td>\n",
       "      <td>national</td>\n",
       "      <td>SE</td>\n",
       "      <td>Sweden</td>\n",
       "      <td>922.0</td>\n",
       "      <td>6035.0</td>\n",
       "      <td>10452326</td>\n",
       "      <td>57.738345</td>\n",
       "      <td>15.277548</td>\n",
       "      <td>TESSy COVID-19</td>\n",
       "    </tr>\n",
       "    <tr>\n",
       "      <th>5425</th>\n",
       "      <td>Sweden</td>\n",
       "      <td>SWE</td>\n",
       "      <td>SE</td>\n",
       "      <td>2023-20</td>\n",
       "      <td>national</td>\n",
       "      <td>SE</td>\n",
       "      <td>Sweden</td>\n",
       "      <td>776.0</td>\n",
       "      <td>5784.0</td>\n",
       "      <td>10452326</td>\n",
       "      <td>55.336965</td>\n",
       "      <td>13.416321</td>\n",
       "      <td>TESSy COVID-19</td>\n",
       "    </tr>\n",
       "    <tr>\n",
       "      <th>5426</th>\n",
       "      <td>Sweden</td>\n",
       "      <td>SWE</td>\n",
       "      <td>SE</td>\n",
       "      <td>2023-21</td>\n",
       "      <td>national</td>\n",
       "      <td>SE</td>\n",
       "      <td>Sweden</td>\n",
       "      <td>613.0</td>\n",
       "      <td>5442.0</td>\n",
       "      <td>10452326</td>\n",
       "      <td>52.064966</td>\n",
       "      <td>11.264241</td>\n",
       "      <td>TESSy COVID-19</td>\n",
       "    </tr>\n",
       "    <tr>\n",
       "      <th>5427</th>\n",
       "      <td>Sweden</td>\n",
       "      <td>SWE</td>\n",
       "      <td>SE</td>\n",
       "      <td>2023-22</td>\n",
       "      <td>national</td>\n",
       "      <td>SE</td>\n",
       "      <td>Sweden</td>\n",
       "      <td>518.0</td>\n",
       "      <td>4996.0</td>\n",
       "      <td>10452326</td>\n",
       "      <td>47.797973</td>\n",
       "      <td>10.368295</td>\n",
       "      <td>TESSy COVID-19</td>\n",
       "    </tr>\n",
       "    <tr>\n",
       "      <th>5428</th>\n",
       "      <td>Sweden</td>\n",
       "      <td>SWE</td>\n",
       "      <td>SE</td>\n",
       "      <td>2023-23</td>\n",
       "      <td>national</td>\n",
       "      <td>SE</td>\n",
       "      <td>Sweden</td>\n",
       "      <td>480.0</td>\n",
       "      <td>4533.0</td>\n",
       "      <td>10452326</td>\n",
       "      <td>43.368337</td>\n",
       "      <td>10.589014</td>\n",
       "      <td>TESSy COVID-19</td>\n",
       "    </tr>\n",
       "  </tbody>\n",
       "</table>\n",
       "<p>4362 rows × 13 columns</p>\n",
       "</div>"
      ],
      "text/plain": [
       "      country iso3 country_code year_week     level region region_name  \\\n",
       "40    Austria  AUT           AT   2020-41  national     AT     Austria   \n",
       "41    Austria  AUT           AT   2020-42  national     AT     Austria   \n",
       "42    Austria  AUT           AT   2020-43  national     AT     Austria   \n",
       "43    Austria  AUT           AT   2020-44  national     AT     Austria   \n",
       "44    Austria  AUT           AT   2020-45  national     AT     Austria   \n",
       "...       ...  ...          ...       ...       ...    ...         ...   \n",
       "5424   Sweden  SWE           SE   2023-19  national     SE      Sweden   \n",
       "5425   Sweden  SWE           SE   2023-20  national     SE      Sweden   \n",
       "5426   Sweden  SWE           SE   2023-21  national     SE      Sweden   \n",
       "5427   Sweden  SWE           SE   2023-22  national     SE      Sweden   \n",
       "5428   Sweden  SWE           SE   2023-23  national     SE      Sweden   \n",
       "\n",
       "      new_cases  tests_done  population  testing_rate  positivity_rate  \\\n",
       "40       7487.0    124663.0     8978929   1388.394986         6.005792   \n",
       "41       9898.0    129647.0     8978929   1443.902719         7.634577   \n",
       "42      18262.0    158997.0     8978929   1770.779121        11.485751   \n",
       "43      31613.0    167926.0     8978929   1870.223052        18.825554   \n",
       "44      44772.0    199567.0     8978929   2222.614746        22.434571   \n",
       "...         ...         ...         ...           ...              ...   \n",
       "5424      922.0      6035.0    10452326     57.738345        15.277548   \n",
       "5425      776.0      5784.0    10452326     55.336965        13.416321   \n",
       "5426      613.0      5442.0    10452326     52.064966        11.264241   \n",
       "5427      518.0      4996.0    10452326     47.797973        10.368295   \n",
       "5428      480.0      4533.0    10452326     43.368337        10.589014   \n",
       "\n",
       "     testing_data_source  \n",
       "40        TESSy COVID-19  \n",
       "41        TESSy COVID-19  \n",
       "42        TESSy COVID-19  \n",
       "43        TESSy COVID-19  \n",
       "44        TESSy COVID-19  \n",
       "...                  ...  \n",
       "5424      TESSy COVID-19  \n",
       "5425      TESSy COVID-19  \n",
       "5426      TESSy COVID-19  \n",
       "5427      TESSy COVID-19  \n",
       "5428      TESSy COVID-19  \n",
       "\n",
       "[4362 rows x 13 columns]"
      ]
     },
     "execution_count": 41,
     "metadata": {},
     "output_type": "execute_result"
    }
   ],
   "source": [
    "df_datos4"
   ]
  },
  {
   "cell_type": "raw",
   "id": "3536a465",
   "metadata": {},
   "source": [
    "df_datos4.drop(['country_code', 'region_name', 'region', 'country'], axis=1, inplace=True)"
   ]
  },
  {
   "cell_type": "code",
   "execution_count": 42,
   "id": "12e5285e",
   "metadata": {},
   "outputs": [],
   "source": [
    "### Verificamos"
   ]
  },
  {
   "cell_type": "code",
   "execution_count": 43,
   "id": "1f365bd9",
   "metadata": {},
   "outputs": [
    {
     "data": {
      "text/html": [
       "<div>\n",
       "<style scoped>\n",
       "    .dataframe tbody tr th:only-of-type {\n",
       "        vertical-align: middle;\n",
       "    }\n",
       "\n",
       "    .dataframe tbody tr th {\n",
       "        vertical-align: top;\n",
       "    }\n",
       "\n",
       "    .dataframe thead th {\n",
       "        text-align: right;\n",
       "    }\n",
       "</style>\n",
       "<table border=\"1\" class=\"dataframe\">\n",
       "  <thead>\n",
       "    <tr style=\"text-align: right;\">\n",
       "      <th></th>\n",
       "      <th>country</th>\n",
       "      <th>iso3</th>\n",
       "      <th>country_code</th>\n",
       "      <th>year_week</th>\n",
       "      <th>level</th>\n",
       "      <th>region</th>\n",
       "      <th>region_name</th>\n",
       "      <th>new_cases</th>\n",
       "      <th>tests_done</th>\n",
       "      <th>population</th>\n",
       "      <th>testing_rate</th>\n",
       "      <th>positivity_rate</th>\n",
       "      <th>testing_data_source</th>\n",
       "    </tr>\n",
       "  </thead>\n",
       "  <tbody>\n",
       "    <tr>\n",
       "      <th>40</th>\n",
       "      <td>Austria</td>\n",
       "      <td>AUT</td>\n",
       "      <td>AT</td>\n",
       "      <td>2020-41</td>\n",
       "      <td>national</td>\n",
       "      <td>AT</td>\n",
       "      <td>Austria</td>\n",
       "      <td>7487.0</td>\n",
       "      <td>124663.0</td>\n",
       "      <td>8978929</td>\n",
       "      <td>1388.394986</td>\n",
       "      <td>6.005792</td>\n",
       "      <td>TESSy COVID-19</td>\n",
       "    </tr>\n",
       "    <tr>\n",
       "      <th>41</th>\n",
       "      <td>Austria</td>\n",
       "      <td>AUT</td>\n",
       "      <td>AT</td>\n",
       "      <td>2020-42</td>\n",
       "      <td>national</td>\n",
       "      <td>AT</td>\n",
       "      <td>Austria</td>\n",
       "      <td>9898.0</td>\n",
       "      <td>129647.0</td>\n",
       "      <td>8978929</td>\n",
       "      <td>1443.902719</td>\n",
       "      <td>7.634577</td>\n",
       "      <td>TESSy COVID-19</td>\n",
       "    </tr>\n",
       "    <tr>\n",
       "      <th>42</th>\n",
       "      <td>Austria</td>\n",
       "      <td>AUT</td>\n",
       "      <td>AT</td>\n",
       "      <td>2020-43</td>\n",
       "      <td>national</td>\n",
       "      <td>AT</td>\n",
       "      <td>Austria</td>\n",
       "      <td>18262.0</td>\n",
       "      <td>158997.0</td>\n",
       "      <td>8978929</td>\n",
       "      <td>1770.779121</td>\n",
       "      <td>11.485751</td>\n",
       "      <td>TESSy COVID-19</td>\n",
       "    </tr>\n",
       "    <tr>\n",
       "      <th>43</th>\n",
       "      <td>Austria</td>\n",
       "      <td>AUT</td>\n",
       "      <td>AT</td>\n",
       "      <td>2020-44</td>\n",
       "      <td>national</td>\n",
       "      <td>AT</td>\n",
       "      <td>Austria</td>\n",
       "      <td>31613.0</td>\n",
       "      <td>167926.0</td>\n",
       "      <td>8978929</td>\n",
       "      <td>1870.223052</td>\n",
       "      <td>18.825554</td>\n",
       "      <td>TESSy COVID-19</td>\n",
       "    </tr>\n",
       "    <tr>\n",
       "      <th>44</th>\n",
       "      <td>Austria</td>\n",
       "      <td>AUT</td>\n",
       "      <td>AT</td>\n",
       "      <td>2020-45</td>\n",
       "      <td>national</td>\n",
       "      <td>AT</td>\n",
       "      <td>Austria</td>\n",
       "      <td>44772.0</td>\n",
       "      <td>199567.0</td>\n",
       "      <td>8978929</td>\n",
       "      <td>2222.614746</td>\n",
       "      <td>22.434571</td>\n",
       "      <td>TESSy COVID-19</td>\n",
       "    </tr>\n",
       "    <tr>\n",
       "      <th>...</th>\n",
       "      <td>...</td>\n",
       "      <td>...</td>\n",
       "      <td>...</td>\n",
       "      <td>...</td>\n",
       "      <td>...</td>\n",
       "      <td>...</td>\n",
       "      <td>...</td>\n",
       "      <td>...</td>\n",
       "      <td>...</td>\n",
       "      <td>...</td>\n",
       "      <td>...</td>\n",
       "      <td>...</td>\n",
       "      <td>...</td>\n",
       "    </tr>\n",
       "    <tr>\n",
       "      <th>5424</th>\n",
       "      <td>Sweden</td>\n",
       "      <td>SWE</td>\n",
       "      <td>SE</td>\n",
       "      <td>2023-19</td>\n",
       "      <td>national</td>\n",
       "      <td>SE</td>\n",
       "      <td>Sweden</td>\n",
       "      <td>922.0</td>\n",
       "      <td>6035.0</td>\n",
       "      <td>10452326</td>\n",
       "      <td>57.738345</td>\n",
       "      <td>15.277548</td>\n",
       "      <td>TESSy COVID-19</td>\n",
       "    </tr>\n",
       "    <tr>\n",
       "      <th>5425</th>\n",
       "      <td>Sweden</td>\n",
       "      <td>SWE</td>\n",
       "      <td>SE</td>\n",
       "      <td>2023-20</td>\n",
       "      <td>national</td>\n",
       "      <td>SE</td>\n",
       "      <td>Sweden</td>\n",
       "      <td>776.0</td>\n",
       "      <td>5784.0</td>\n",
       "      <td>10452326</td>\n",
       "      <td>55.336965</td>\n",
       "      <td>13.416321</td>\n",
       "      <td>TESSy COVID-19</td>\n",
       "    </tr>\n",
       "    <tr>\n",
       "      <th>5426</th>\n",
       "      <td>Sweden</td>\n",
       "      <td>SWE</td>\n",
       "      <td>SE</td>\n",
       "      <td>2023-21</td>\n",
       "      <td>national</td>\n",
       "      <td>SE</td>\n",
       "      <td>Sweden</td>\n",
       "      <td>613.0</td>\n",
       "      <td>5442.0</td>\n",
       "      <td>10452326</td>\n",
       "      <td>52.064966</td>\n",
       "      <td>11.264241</td>\n",
       "      <td>TESSy COVID-19</td>\n",
       "    </tr>\n",
       "    <tr>\n",
       "      <th>5427</th>\n",
       "      <td>Sweden</td>\n",
       "      <td>SWE</td>\n",
       "      <td>SE</td>\n",
       "      <td>2023-22</td>\n",
       "      <td>national</td>\n",
       "      <td>SE</td>\n",
       "      <td>Sweden</td>\n",
       "      <td>518.0</td>\n",
       "      <td>4996.0</td>\n",
       "      <td>10452326</td>\n",
       "      <td>47.797973</td>\n",
       "      <td>10.368295</td>\n",
       "      <td>TESSy COVID-19</td>\n",
       "    </tr>\n",
       "    <tr>\n",
       "      <th>5428</th>\n",
       "      <td>Sweden</td>\n",
       "      <td>SWE</td>\n",
       "      <td>SE</td>\n",
       "      <td>2023-23</td>\n",
       "      <td>national</td>\n",
       "      <td>SE</td>\n",
       "      <td>Sweden</td>\n",
       "      <td>480.0</td>\n",
       "      <td>4533.0</td>\n",
       "      <td>10452326</td>\n",
       "      <td>43.368337</td>\n",
       "      <td>10.589014</td>\n",
       "      <td>TESSy COVID-19</td>\n",
       "    </tr>\n",
       "  </tbody>\n",
       "</table>\n",
       "<p>4362 rows × 13 columns</p>\n",
       "</div>"
      ],
      "text/plain": [
       "      country iso3 country_code year_week     level region region_name  \\\n",
       "40    Austria  AUT           AT   2020-41  national     AT     Austria   \n",
       "41    Austria  AUT           AT   2020-42  national     AT     Austria   \n",
       "42    Austria  AUT           AT   2020-43  national     AT     Austria   \n",
       "43    Austria  AUT           AT   2020-44  national     AT     Austria   \n",
       "44    Austria  AUT           AT   2020-45  national     AT     Austria   \n",
       "...       ...  ...          ...       ...       ...    ...         ...   \n",
       "5424   Sweden  SWE           SE   2023-19  national     SE      Sweden   \n",
       "5425   Sweden  SWE           SE   2023-20  national     SE      Sweden   \n",
       "5426   Sweden  SWE           SE   2023-21  national     SE      Sweden   \n",
       "5427   Sweden  SWE           SE   2023-22  national     SE      Sweden   \n",
       "5428   Sweden  SWE           SE   2023-23  national     SE      Sweden   \n",
       "\n",
       "      new_cases  tests_done  population  testing_rate  positivity_rate  \\\n",
       "40       7487.0    124663.0     8978929   1388.394986         6.005792   \n",
       "41       9898.0    129647.0     8978929   1443.902719         7.634577   \n",
       "42      18262.0    158997.0     8978929   1770.779121        11.485751   \n",
       "43      31613.0    167926.0     8978929   1870.223052        18.825554   \n",
       "44      44772.0    199567.0     8978929   2222.614746        22.434571   \n",
       "...         ...         ...         ...           ...              ...   \n",
       "5424      922.0      6035.0    10452326     57.738345        15.277548   \n",
       "5425      776.0      5784.0    10452326     55.336965        13.416321   \n",
       "5426      613.0      5442.0    10452326     52.064966        11.264241   \n",
       "5427      518.0      4996.0    10452326     47.797973        10.368295   \n",
       "5428      480.0      4533.0    10452326     43.368337        10.589014   \n",
       "\n",
       "     testing_data_source  \n",
       "40        TESSy COVID-19  \n",
       "41        TESSy COVID-19  \n",
       "42        TESSy COVID-19  \n",
       "43        TESSy COVID-19  \n",
       "44        TESSy COVID-19  \n",
       "...                  ...  \n",
       "5424      TESSy COVID-19  \n",
       "5425      TESSy COVID-19  \n",
       "5426      TESSy COVID-19  \n",
       "5427      TESSy COVID-19  \n",
       "5428      TESSy COVID-19  \n",
       "\n",
       "[4362 rows x 13 columns]"
      ]
     },
     "execution_count": 43,
     "metadata": {},
     "output_type": "execute_result"
    }
   ],
   "source": [
    "df_datos4"
   ]
  },
  {
   "cell_type": "markdown",
   "id": "0accb262",
   "metadata": {},
   "source": [
    "## Algunas cosas adicionales"
   ]
  },
  {
   "cell_type": "code",
   "execution_count": 44,
   "id": "24acb41e",
   "metadata": {},
   "outputs": [],
   "source": [
    "# Configurar el estilo y la paleta de colores\n",
    "sns.set_style('whitegrid')\n",
    "sns.set_palette('flare')"
   ]
  },
  {
   "cell_type": "markdown",
   "id": "f22149b4",
   "metadata": {},
   "source": [
    "Podemos hacer la correlación entre testing_rate y positivity_rate"
   ]
  },
  {
   "cell_type": "code",
   "execution_count": 45,
   "id": "c43c1e0b",
   "metadata": {},
   "outputs": [
    {
     "name": "stdout",
     "output_type": "stream",
     "text": [
      "Coeficiente de correlación de Pearson: -0.1891732454635017\n"
     ]
    }
   ],
   "source": [
    "# Corr por defecto será Pearson que es el más utilizado\n",
    "correlation = df_datos4['testing_rate'].corr(df_datos4['positivity_rate'])\n",
    "print(\"Coeficiente de correlación de Pearson:\", correlation)"
   ]
  },
  {
   "cell_type": "markdown",
   "id": "11a8fddd",
   "metadata": {},
   "source": [
    "Por tanto hablaríamos de una correlación negativa debil entre testing_rate y positivity_rate"
   ]
  },
  {
   "cell_type": "code",
   "execution_count": 46,
   "id": "63926432",
   "metadata": {},
   "outputs": [
    {
     "data": {
      "image/png": "[encoded data removed]",
      "text/plain": [
       "<Figure size 600x600 with 3 Axes>"
      ]
     },
     "metadata": {},
     "output_type": "display_data"
    }
   ],
   "source": [
    "# Jointgrid amb histograma marginal Testing_rate x positivity_rate\n",
    "g = sns.jointplot(data=df_datos4, x='testing_rate', y='positivity_rate', kind=\"kde\", cmap=\"flare\", fill=True)\n",
    "g.plot_joint(sns.kdeplot, cmap=\"flare\", fill=True)\n",
    "g.plot_marginals(sns.histplot, color='#93446E')\n",
    "\n",
    "# Configurar etiquetes i títol\n",
    "g.set_axis_labels(\"Testing rate\", \"Positivity rate\")\n",
    "g.fig.suptitle(\"Distribución conjunta de RM_squared y MEDV en el conjunto de prueba\", y=1.02)\n",
    "\n",
    "plt.show()"
   ]
  },
  {
   "cell_type": "markdown",
   "id": "4ba1bd25",
   "metadata": {},
   "source": [
    "#### Conteo de representación de regiones"
   ]
  },
  {
   "cell_type": "code",
   "execution_count": 47,
   "id": "a6f57511",
   "metadata": {},
   "outputs": [
    {
     "data": {
      "image/png": "[encoded data removed]",
      "text/plain": [
       "<Figure size 1200x600 with 1 Axes>"
      ]
     },
     "metadata": {},
     "output_type": "display_data"
    }
   ],
   "source": [
    "# Calcular el conteo de registros por región\n",
    "region_counts = df_datos4['region_name'].value_counts()\n",
    "\n",
    "# Crear la visualización del conteo de registros por región\n",
    "plt.figure(figsize=(12, 6))  # Ajustar el tamaño de la figura\n",
    "sns.countplot(data=df_datos4, x='region_name', palette='flare', order=region_counts.index)\n",
    "plt.xlabel('Región')\n",
    "plt.ylabel('Contador')\n",
    "plt.title('Representación de cada región en el dataset')\n",
    "plt.xticks(rotation=90)  # Rotar las etiquetas de las regiones\n",
    "plt.tight_layout()  # Ajustar el espaciado\n",
    "plt.show()"
   ]
  },
  {
   "cell_type": "code",
   "execution_count": 48,
   "id": "81aa66f4",
   "metadata": {},
   "outputs": [
    {
     "name": "stdout",
     "output_type": "stream",
     "text": [
      "Coeficiente de correlación de Spearman: -0.06648810188720043\n"
     ]
    }
   ],
   "source": [
    "# Correlación entre región y nuevos casos\n",
    "df_datos4['region_numeric'] = pd.factorize(df_datos4['region_name'])[0]\n",
    "correlation = df_datos4['new_cases'].corr(df_datos4['region_numeric'], method='spearman')\n",
    "print(\"Coeficiente de correlación de Spearman:\", correlation)"
   ]
  },
  {
   "cell_type": "markdown",
   "id": "9b19f9e5",
   "metadata": {},
   "source": [
    "Por tanto hablaríamos de una correlación negativa muy debil entre new_cases y region_name"
   ]
  },
  {
   "cell_type": "markdown",
   "id": "453d6cb4",
   "metadata": {},
   "source": [
    "## Heatmap de correlaciones"
   ]
  },
  {
   "cell_type": "code",
   "execution_count": 49,
   "id": "5683e9fc",
   "metadata": {
    "scrolled": true
   },
   "outputs": [
    {
     "data": {
      "image/png": "[encoded data removed]",
      "text/plain": [
       "<Figure size 1000x1000 with 4 Axes>"
      ]
     },
     "metadata": {},
     "output_type": "display_data"
    }
   ],
   "source": [
    "data = df_datos4[['new_cases', 'tests_done', 'population', 'testing_rate', 'positivity_rate']]\n",
    "sns.clustermap(data.corr(), annot=True, cmap='flare')\n",
    "plt.title('Clustermap - Correlación entre variables')\n",
    "plt.show()"
   ]
  },
  {
   "cell_type": "markdown",
   "id": "20fa6a94",
   "metadata": {},
   "source": [
    "## Y por último exportamos"
   ]
  },
  {
   "cell_type": "markdown",
   "id": "cc6a6fd5",
   "metadata": {},
   "source": [
    "    Hacemos una función para poder guardarlo directamente en nuestra ubicación actual"
   ]
  },
  {
   "cell_type": "code",
   "execution_count": 50,
   "id": "0eb357de",
   "metadata": {},
   "outputs": [],
   "source": [
    "import os \n",
    "\n",
    "def guardar_como_csv(df, nombre_archivo):\n",
    "    # Obtener la ruta completa del directorio actual\n",
    "    current_directory = os.getcwd()\n",
    "    # Definir la ubicación y el nombre del archivo CSV\n",
    "    file_path = os.path.join(current_directory, nombre_archivo)\n",
    "    # Guardar el DataFrame como un archivo CSV en la ubicación especificada\n",
    "    df.to_csv(file_path, index=False)"
   ]
  },
  {
   "cell_type": "code",
   "execution_count": null,
   "id": "655e0e0d",
   "metadata": {},
   "outputs": [],
   "source": [
    "# Llamar a la función para guardar el DataFrame df_datos4 como un archivo CSV\n",
    "guardar_como_csv(df_datos4, \"DEFMODTestingCovid19.csv\")"
   ]
  },
  {
   "cell_type": "code",
   "execution_count": null,
   "id": "86eef65f",
   "metadata": {},
   "outputs": [],
   "source": [
    "ls"
   ]
  },
  {
   "cell_type": "code",
   "execution_count": null,
   "id": "5e768c93",
   "metadata": {},
   "outputs": [],
   "source": []
  }
 ],
 "metadata": {
  "kernelspec": {
   "display_name": "Python 3 (ipykernel)",
   "language": "python",
   "name": "python3"
  },
  "language_info": {
   "codemirror_mode": {
    "name": "ipython",
    "version": 3
   },
   "file_extension": ".py",
   "mimetype": "text/x-python",
   "name": "python",
   "nbconvert_exporter": "python",
   "pygments_lexer": "ipython3",
   "version": "3.9.13"
  }
 },
 "nbformat": 4,
 "nbformat_minor": 5
}
