{
    "metadata": {
        "kernelspec": {
            "name": "python3",
            "display_name": "Python 3",
            "language": "python"
        },
        "language_info": {
            "name": "python",
            "version": "3.8.10",
            "mimetype": "text/x-python",
            "codemirror_mode": {
                "name": "ipython",
                "version": 3
            },
            "pygments_lexer": "ipython3",
            "nbconvert_exporter": "python",
            "file_extension": ".py"
        },
        "colab": {
            "name": "Cleaning_data_Python.ipynb",
            "provenance": [],
            "include_colab_link": true
        }
    },
    "nbformat_minor": 2,
    "nbformat": 4,
    "cells": [
        {
            "cell_type": "markdown",
            "source": [
                "<a href=\"https://colab.research.google.com/github/patriciaapenat/TFM/blob/main/Notebooks/Data_Frame_Pacientes_Hospitalizados%20%26%20UCI_eu.ipynb\" target=\"_parent\"><img src=\"https://colab.research.google.com/assets/colab-badge.svg\" alt=\"Open In Colab\"/></a>"
            ],
            "metadata": {
                "id": "view-in-github",
                "colab_type": "text",
                "azdata_cell_guid": "6e70fb02-2a60-44fe-960b-d02182b3037c"
            }
        },
        {
            "cell_type": "code",
            "source": [
                "#! git clone https://github.com/patriciaapenat/TFM.git"
            ],
            "metadata": {
                "id": "ZpIw1ZKtXo8Z",
                "outputId": "bde35611-030a-4f83-85cd-6932e60bf0a8",
                "colab": {
                    "base_uri": "https://localhost:8080/"
                },
                "azdata_cell_guid": "163b5b65-f72b-4805-8933-947d3d43bd62",
                "language": "python"
            },
            "outputs": [],
            "execution_count": 1
        },
        {
            "cell_type": "markdown",
            "source": [
                "### **Fuente de Datos - European Centre for Disease Prevention and Control**\n",
                "**https://www.ecdc.europa.eu/en/publications-data/download-data-hospital-and-icu-admission-rates-and-current-occupancy-covid-19\n",
                "**<br>\n",
                "\n",
                "\n",
                "#### Descarga de datos\n",
                "\n",
                "**1.- Ingresos en hospital UCI fueron registrados?:** https://www.ecdc.europa.eu/en/publications-data/download-data-hospital-and-icu-admission-rates-and-current-occupancy-covid-19<br>\n",
                "\n",
                "Enlace de descarga: https://www.ecdc.europa.eu/en/publications-data/download-data-hospital-and-icu-admission-rates-and-current-occupancy-covid-19\n",
                "\n",
                "Ubicacion: Otros Datasets\n",
                "    \n",
                "Nombre:   Data on hospital and ICU admission rates and current occupancy for COVID-19"
            ],
            "metadata": {
                "id": "MRu8GLXUXn8y",
                "azdata_cell_guid": "1c6d1f2d-6475-4725-bcfa-13884988d55f"
            }
        },
        {
            "cell_type": "markdown",
            "source": [
                "**🧾Informacion del Dataset**<br>\n",
                "*  Los usuarios deben tener en cuenta que los archivos de datos descargables contienen información sobre las tasas de admisión de hospitalización y Unidad de Cuidados Intensivos (UCI) y la ocupación actual para COVID-19 por fecha y país. Cada fila contiene los datos correspondientes a una determinada fecha (día o semana) y por país. El archivo se actualiza semanalmente. Puede utilizar los datos de acuerdo con la política de derechos de autor del ECDC.\n",
                "\n",
                "El dataset que estaremos trabajando contiene Informacion acerca de Ocupación diaria del hospital, Ocupación diaria de la UCI,\n",
                "Nuevos ingresos hospitalarios semanales por 100k,\n",
                "Nuevas admisiones semanales en UCI por 100k\n",
                "(Daily hospital occupancy,Daily ICU occupancy, Weekly new hospital admissions per 100k, ,Weekly new ICU admissions per 100k)\n",
                "en paises europeos.\n",
                "\n",
                "Columnas:\n",
                "country, indicator, date, year_week, value, source, url"
            ],
            "metadata": {
                "id": "719dxmDl21d-",
                "azdata_cell_guid": "f675c337-383a-4e02-b859-b99b6bc18792"
            }
        },
        {
            "cell_type": "code",
            "source": [
                "import pandas as pd\n",
                "import numpy as np\n",
                "import datetime"
            ],
            "metadata": {
                "id": "J9-GhQ5hXn81",
                "azdata_cell_guid": "1271c8d4-2dd1-48f9-bbf1-d18ce40c5131",
                "language": "python",
                "tags": []
            },
            "outputs": [],
            "execution_count": 2
        },
        {
            "cell_type": "markdown",
            "source": [
                "# Acceso al dataset de hospitalizaciones en UCI"
            ],
            "metadata": {
                "id": "jjMCmleGXn85",
                "azdata_cell_guid": "0f716cd7-1f19-4247-b06c-6063889f11bb"
            }
        },
        {
            "cell_type": "markdown",
            "source": [
                "Exloración e Información del DataFrame **df_hosp_UCI**"
            ],
            "metadata": {
                "id": "5Dvw85VgXn85",
                "azdata_cell_guid": "f9fbf498-142a-4712-bd9f-c88ef67f1e78"
            }
        },
        {
            "cell_type": "code",
            "source": [
                "df_hosp_UCI = pd.read_csv ('https://opendata.ecdc.europa.eu/covid19/hospitalicuadmissionrates/csv/data.csv')\n",
                "df_hosp_UCI"
            ],
            "metadata": {
                "scrolled": true,
                "id": "oO3yM98lXn86",
                "outputId": "06117fc4-4aed-4efb-ecbd-41d206e2ff8a",
                "colab": {
                    "base_uri": "https://localhost:8080/",
                    "height": 423
                },
                "azdata_cell_guid": "e8425a85-b541-4aab-92f5-162df636c0d4",
                "language": "python"
            },
            "outputs": [
                {
                    "data": {
                        "text/plain": "       country                           indicator        date year_week  \\\n0      Austria            Daily hospital occupancy  2020-04-01  2020-W14   \n1      Austria            Daily hospital occupancy  2020-04-02  2020-W14   \n2      Austria            Daily hospital occupancy  2020-04-03  2020-W14   \n3      Austria            Daily hospital occupancy  2020-04-04  2020-W14   \n4      Austria            Daily hospital occupancy  2020-04-05  2020-W14   \n...        ...                                 ...         ...       ...   \n28100   Sweden  Weekly new ICU admissions per 100k  2023-09-10  2023-W36   \n28101   Sweden  Weekly new ICU admissions per 100k  2023-09-17  2023-W37   \n28102   Sweden  Weekly new ICU admissions per 100k  2023-09-24  2023-W38   \n28103   Sweden  Weekly new ICU admissions per 100k  2023-10-01  2023-W39   \n28104   Sweden  Weekly new ICU admissions per 100k  2023-10-08  2023-W40   \n\n            value                           source  url  \n0      856.000000                  Country_Website  NaN  \n1      823.000000                  Country_Website  NaN  \n2      829.000000                  Country_Website  NaN  \n3      826.000000                  Country_Website  NaN  \n4      712.000000                  Country_Website  NaN  \n...           ...                              ...  ...  \n28100    0.047836  TESSy COVID-19 combined sources  NaN  \n28101    0.038269  TESSy COVID-19 combined sources  NaN  \n28102    0.095672  TESSy COVID-19 combined sources  NaN  \n28103    0.047836  TESSy COVID-19 combined sources  NaN  \n28104    0.066971  TESSy COVID-19 combined sources  NaN  \n\n[28105 rows x 7 columns]",
                        "text/html": "<div>\n<style scoped>\n    .dataframe tbody tr th:only-of-type {\n        vertical-align: middle;\n    }\n\n    .dataframe tbody tr th {\n        vertical-align: top;\n    }\n\n    .dataframe thead th {\n        text-align: right;\n    }\n</style>\n<table border=\"1\" class=\"dataframe\">\n  <thead>\n    <tr style=\"text-align: right;\">\n      <th></th>\n      <th>country</th>\n      <th>indicator</th>\n      <th>date</th>\n      <th>year_week</th>\n      <th>value</th>\n      <th>source</th>\n      <th>url</th>\n    </tr>\n  </thead>\n  <tbody>\n    <tr>\n      <th>0</th>\n      <td>Austria</td>\n      <td>Daily hospital occupancy</td>\n      <td>2020-04-01</td>\n      <td>2020-W14</td>\n      <td>856.000000</td>\n      <td>Country_Website</td>\n      <td>NaN</td>\n    </tr>\n    <tr>\n      <th>1</th>\n      <td>Austria</td>\n      <td>Daily hospital occupancy</td>\n      <td>2020-04-02</td>\n      <td>2020-W14</td>\n      <td>823.000000</td>\n      <td>Country_Website</td>\n      <td>NaN</td>\n    </tr>\n    <tr>\n      <th>2</th>\n      <td>Austria</td>\n      <td>Daily hospital occupancy</td>\n      <td>2020-04-03</td>\n      <td>2020-W14</td>\n      <td>829.000000</td>\n      <td>Country_Website</td>\n      <td>NaN</td>\n    </tr>\n    <tr>\n      <th>3</th>\n      <td>Austria</td>\n      <td>Daily hospital occupancy</td>\n      <td>2020-04-04</td>\n      <td>2020-W14</td>\n      <td>826.000000</td>\n      <td>Country_Website</td>\n      <td>NaN</td>\n    </tr>\n    <tr>\n      <th>4</th>\n      <td>Austria</td>\n      <td>Daily hospital occupancy</td>\n      <td>2020-04-05</td>\n      <td>2020-W14</td>\n      <td>712.000000</td>\n      <td>Country_Website</td>\n      <td>NaN</td>\n    </tr>\n    <tr>\n      <th>...</th>\n      <td>...</td>\n      <td>...</td>\n      <td>...</td>\n      <td>...</td>\n      <td>...</td>\n      <td>...</td>\n      <td>...</td>\n    </tr>\n    <tr>\n      <th>28100</th>\n      <td>Sweden</td>\n      <td>Weekly new ICU admissions per 100k</td>\n      <td>2023-09-10</td>\n      <td>2023-W36</td>\n      <td>0.047836</td>\n      <td>TESSy COVID-19 combined sources</td>\n      <td>NaN</td>\n    </tr>\n    <tr>\n      <th>28101</th>\n      <td>Sweden</td>\n      <td>Weekly new ICU admissions per 100k</td>\n      <td>2023-09-17</td>\n      <td>2023-W37</td>\n      <td>0.038269</td>\n      <td>TESSy COVID-19 combined sources</td>\n      <td>NaN</td>\n    </tr>\n    <tr>\n      <th>28102</th>\n      <td>Sweden</td>\n      <td>Weekly new ICU admissions per 100k</td>\n      <td>2023-09-24</td>\n      <td>2023-W38</td>\n      <td>0.095672</td>\n      <td>TESSy COVID-19 combined sources</td>\n      <td>NaN</td>\n    </tr>\n    <tr>\n      <th>28103</th>\n      <td>Sweden</td>\n      <td>Weekly new ICU admissions per 100k</td>\n      <td>2023-10-01</td>\n      <td>2023-W39</td>\n      <td>0.047836</td>\n      <td>TESSy COVID-19 combined sources</td>\n      <td>NaN</td>\n    </tr>\n    <tr>\n      <th>28104</th>\n      <td>Sweden</td>\n      <td>Weekly new ICU admissions per 100k</td>\n      <td>2023-10-08</td>\n      <td>2023-W40</td>\n      <td>0.066971</td>\n      <td>TESSy COVID-19 combined sources</td>\n      <td>NaN</td>\n    </tr>\n  </tbody>\n</table>\n<p>28105 rows × 7 columns</p>\n</div>"
                    },
                    "metadata": {},
                    "execution_count": 3,
                    "output_type": "execute_result"
                }
            ],
            "execution_count": 3
        },
        {
            "cell_type": "code",
            "source": [
                "df_hosp_UCI['country'].unique()"
            ],
            "metadata": {
                "id": "NQ59Ps2VXn86",
                "outputId": "c160bb29-adb9-4246-9e8a-03f32c76a433",
                "colab": {
                    "base_uri": "https://localhost:8080/"
                },
                "azdata_cell_guid": "372cb7d0-3660-4021-9999-129159f6d3b0",
                "language": "python"
            },
            "outputs": [
                {
                    "data": {
                        "text/plain": "array(['Austria', 'Belgium', 'Bulgaria', 'Cyprus', 'Czechia', 'Estonia',\n       'France', 'Germany', 'Greece', 'Hungary', 'Iceland', 'Ireland',\n       'Italy', 'Latvia', 'Liechtenstein', 'Lithuania', 'Luxembourg',\n       'Malta', 'Netherlands', 'Portugal', 'Romania', 'Slovakia',\n       'Slovenia', 'Spain', 'Sweden'], dtype=object)"
                    },
                    "metadata": {},
                    "execution_count": 4,
                    "output_type": "execute_result"
                }
            ],
            "execution_count": 4
        },
        {
            "cell_type": "code",
            "source": [
                "df_paises = pd.read_csv ('https://raw.githubusercontent.com/patriciaapenat/TFM/main/Ficheros_Depurados/paises_def.csv')\n",
                "df_paises"
            ],
            "metadata": {
                "id": "yWhzYl9BaPxZ",
                "outputId": "d273ea28-e53c-4a02-ed5d-fe0e13c282d4",
                "colab": {
                    "base_uri": "https://localhost:8080/",
                    "height": 423
                },
                "azdata_cell_guid": "278e4ca2-224e-4565-83d9-1d37cb2d230c",
                "language": "python",
                "tags": [
                    "hide_input"
                ]
            },
            "outputs": [
                {
                    "data": {
                        "text/plain": "    PAIS_ISO3 PAIS_ISO2                          PAIS_NOM COD_CONTINENTE  \\\n0         AGO        AO                            Angola             AF   \n1         BDI        BI                           Burundi             AF   \n2         BEN        BJ                             Benin             AF   \n3         BFA        BF                      Burkina Faso             AF   \n4         BWA        BW                          Botswana             AF   \n..        ...       ...                               ...            ...   \n244       VCT        VC  Saint Vincent and the Grenadines            NaN   \n245       VGB        VG            British Virgin Islands            NaN   \n246       BLM        BL                     San Bartolomé            NaN   \n247       MAF        MF                        San Martín            NaN   \n248       SXM        SX                        San Martín            NaN   \n\n        CONTINENTE OMS_REGION DESC_OMS_REGION  \\\n0           Africa       AFRO          Africa   \n1           Africa       AFRO          Africa   \n2           Africa       AFRO          Africa   \n3           Africa       AFRO          Africa   \n4           Africa       AFRO          Africa   \n..             ...        ...             ...   \n244  North America       AMRO         América   \n245  North America       AMRO         América   \n246  North America       AMRO         América   \n247  North America       AMRO         América   \n248  North America       AMRO         América   \n\n                           PAIS_NOM_2   POBLACION   LONGITUD    LATITUD  \\\n0                              Angola  35588987.0  17.873887 -11.202692   \n1                             Burundi  12889576.0  29.918886  -3.373056   \n2                               Benin  13352864.0   2.315834   9.307690   \n3                        Burkina Faso  22673762.0  -1.561593  12.238333   \n4                            Botswana   2630296.0  24.684866 -22.328474   \n..                                ...         ...        ...        ...   \n244  Saint Vincent and the Grenadines    103948.0 -61.287228  12.984305   \n245            British Virgin Islands     31305.0 -64.639968  18.420695   \n246                  Saint Barthélemy         NaN        NaN        NaN   \n247                      Saint Martin     31791.0        NaN        NaN   \n248                        San Martín     43389.0        NaN        NaN   \n\n     GDP_PER_CAPITA  USO_INDIVIDUAL_INTERNET  USO_DE_AGUA_POTABLE  \\\n0       1502.950754                32.550147            57.167738   \n1        216.827417                 3.787954            62.207122   \n2       1237.949295                28.229154            65.414123   \n3        833.244336                13.937972            47.214854   \n4       5875.070606                72.748020            92.213563   \n..              ...                      ...                  ...   \n244     8306.367581                80.429529                  NaN   \n245             NaN                      NaN            99.864384   \n246             NaN                      NaN                  NaN   \n247             NaN                      NaN            99.999271   \n248    29314.094295                      NaN                  NaN   \n\n     USO_DE_SERVICIOS_BASICOS_SANEAMIENTO  DENSIDAD_DE_POBLACION_X_KM2  \\\n0                               51.660329                    26.813577   \n1                               45.727511                   475.865537   \n2                               16.962884                   112.124184   \n3                               21.664373                    78.664569   \n4                               80.026243                     4.493148   \n..                                    ...                          ...   \n244                                   NaN                   268.287179   \n245                                   NaN                   206.066667   \n246                                   NaN                          NaN   \n247                            100.000000                   651.060000   \n248                                   NaN                  1244.411765   \n\n     POBLACION_RURAL  POBLACION_URBANA  TEMPERATURA_PROMEDIO  ALTURA_PROMEDIO  \n0             33.175            66.825             22.508965           1112.0  \n1             86.292            13.708             20.816609           1504.0  \n2             51.585            48.415             27.937785            273.0  \n3             69.393            30.607             28.909989            297.0  \n4             29.123            70.877             22.505484           1013.0  \n..               ...               ...                   ...              ...  \n244           46.968            53.032                   NaN              NaN  \n245           51.485            48.515             27.242333              NaN  \n246              NaN               NaN                   NaN              NaN  \n247              NaN               NaN                   NaN              NaN  \n248            0.000           100.000                   NaN              NaN  \n\n[249 rows x 20 columns]",
                        "text/html": "<div>\n<style scoped>\n    .dataframe tbody tr th:only-of-type {\n        vertical-align: middle;\n    }\n\n    .dataframe tbody tr th {\n        vertical-align: top;\n    }\n\n    .dataframe thead th {\n        text-align: right;\n    }\n</style>\n<table border=\"1\" class=\"dataframe\">\n  <thead>\n    <tr style=\"text-align: right;\">\n      <th></th>\n      <th>PAIS_ISO3</th>\n      <th>PAIS_ISO2</th>\n      <th>PAIS_NOM</th>\n      <th>COD_CONTINENTE</th>\n      <th>CONTINENTE</th>\n      <th>OMS_REGION</th>\n      <th>DESC_OMS_REGION</th>\n      <th>PAIS_NOM_2</th>\n      <th>POBLACION</th>\n      <th>LONGITUD</th>\n      <th>LATITUD</th>\n      <th>GDP_PER_CAPITA</th>\n      <th>USO_INDIVIDUAL_INTERNET</th>\n      <th>USO_DE_AGUA_POTABLE</th>\n      <th>USO_DE_SERVICIOS_BASICOS_SANEAMIENTO</th>\n      <th>DENSIDAD_DE_POBLACION_X_KM2</th>\n      <th>POBLACION_RURAL</th>\n      <th>POBLACION_URBANA</th>\n      <th>TEMPERATURA_PROMEDIO</th>\n      <th>ALTURA_PROMEDIO</th>\n    </tr>\n  </thead>\n  <tbody>\n    <tr>\n      <th>0</th>\n      <td>AGO</td>\n      <td>AO</td>\n      <td>Angola</td>\n      <td>AF</td>\n      <td>Africa</td>\n      <td>AFRO</td>\n      <td>Africa</td>\n      <td>Angola</td>\n      <td>35588987.0</td>\n      <td>17.873887</td>\n      <td>-11.202692</td>\n      <td>1502.950754</td>\n      <td>32.550147</td>\n      <td>57.167738</td>\n      <td>51.660329</td>\n      <td>26.813577</td>\n      <td>33.175</td>\n      <td>66.825</td>\n      <td>22.508965</td>\n      <td>1112.0</td>\n    </tr>\n    <tr>\n      <th>1</th>\n      <td>BDI</td>\n      <td>BI</td>\n      <td>Burundi</td>\n      <td>AF</td>\n      <td>Africa</td>\n      <td>AFRO</td>\n      <td>Africa</td>\n      <td>Burundi</td>\n      <td>12889576.0</td>\n      <td>29.918886</td>\n      <td>-3.373056</td>\n      <td>216.827417</td>\n      <td>3.787954</td>\n      <td>62.207122</td>\n      <td>45.727511</td>\n      <td>475.865537</td>\n      <td>86.292</td>\n      <td>13.708</td>\n      <td>20.816609</td>\n      <td>1504.0</td>\n    </tr>\n    <tr>\n      <th>2</th>\n      <td>BEN</td>\n      <td>BJ</td>\n      <td>Benin</td>\n      <td>AF</td>\n      <td>Africa</td>\n      <td>AFRO</td>\n      <td>Africa</td>\n      <td>Benin</td>\n      <td>13352864.0</td>\n      <td>2.315834</td>\n      <td>9.307690</td>\n      <td>1237.949295</td>\n      <td>28.229154</td>\n      <td>65.414123</td>\n      <td>16.962884</td>\n      <td>112.124184</td>\n      <td>51.585</td>\n      <td>48.415</td>\n      <td>27.937785</td>\n      <td>273.0</td>\n    </tr>\n    <tr>\n      <th>3</th>\n      <td>BFA</td>\n      <td>BF</td>\n      <td>Burkina Faso</td>\n      <td>AF</td>\n      <td>Africa</td>\n      <td>AFRO</td>\n      <td>Africa</td>\n      <td>Burkina Faso</td>\n      <td>22673762.0</td>\n      <td>-1.561593</td>\n      <td>12.238333</td>\n      <td>833.244336</td>\n      <td>13.937972</td>\n      <td>47.214854</td>\n      <td>21.664373</td>\n      <td>78.664569</td>\n      <td>69.393</td>\n      <td>30.607</td>\n      <td>28.909989</td>\n      <td>297.0</td>\n    </tr>\n    <tr>\n      <th>4</th>\n      <td>BWA</td>\n      <td>BW</td>\n      <td>Botswana</td>\n      <td>AF</td>\n      <td>Africa</td>\n      <td>AFRO</td>\n      <td>Africa</td>\n      <td>Botswana</td>\n      <td>2630296.0</td>\n      <td>24.684866</td>\n      <td>-22.328474</td>\n      <td>5875.070606</td>\n      <td>72.748020</td>\n      <td>92.213563</td>\n      <td>80.026243</td>\n      <td>4.493148</td>\n      <td>29.123</td>\n      <td>70.877</td>\n      <td>22.505484</td>\n      <td>1013.0</td>\n    </tr>\n    <tr>\n      <th>...</th>\n      <td>...</td>\n      <td>...</td>\n      <td>...</td>\n      <td>...</td>\n      <td>...</td>\n      <td>...</td>\n      <td>...</td>\n      <td>...</td>\n      <td>...</td>\n      <td>...</td>\n      <td>...</td>\n      <td>...</td>\n      <td>...</td>\n      <td>...</td>\n      <td>...</td>\n      <td>...</td>\n      <td>...</td>\n      <td>...</td>\n      <td>...</td>\n      <td>...</td>\n    </tr>\n    <tr>\n      <th>244</th>\n      <td>VCT</td>\n      <td>VC</td>\n      <td>Saint Vincent and the Grenadines</td>\n      <td>NaN</td>\n      <td>North America</td>\n      <td>AMRO</td>\n      <td>América</td>\n      <td>Saint Vincent and the Grenadines</td>\n      <td>103948.0</td>\n      <td>-61.287228</td>\n      <td>12.984305</td>\n      <td>8306.367581</td>\n      <td>80.429529</td>\n      <td>NaN</td>\n      <td>NaN</td>\n      <td>268.287179</td>\n      <td>46.968</td>\n      <td>53.032</td>\n      <td>NaN</td>\n      <td>NaN</td>\n    </tr>\n    <tr>\n      <th>245</th>\n      <td>VGB</td>\n      <td>VG</td>\n      <td>British Virgin Islands</td>\n      <td>NaN</td>\n      <td>North America</td>\n      <td>AMRO</td>\n      <td>América</td>\n      <td>British Virgin Islands</td>\n      <td>31305.0</td>\n      <td>-64.639968</td>\n      <td>18.420695</td>\n      <td>NaN</td>\n      <td>NaN</td>\n      <td>99.864384</td>\n      <td>NaN</td>\n      <td>206.066667</td>\n      <td>51.485</td>\n      <td>48.515</td>\n      <td>27.242333</td>\n      <td>NaN</td>\n    </tr>\n    <tr>\n      <th>246</th>\n      <td>BLM</td>\n      <td>BL</td>\n      <td>San Bartolomé</td>\n      <td>NaN</td>\n      <td>North America</td>\n      <td>AMRO</td>\n      <td>América</td>\n      <td>Saint Barthélemy</td>\n      <td>NaN</td>\n      <td>NaN</td>\n      <td>NaN</td>\n      <td>NaN</td>\n      <td>NaN</td>\n      <td>NaN</td>\n      <td>NaN</td>\n      <td>NaN</td>\n      <td>NaN</td>\n      <td>NaN</td>\n      <td>NaN</td>\n      <td>NaN</td>\n    </tr>\n    <tr>\n      <th>247</th>\n      <td>MAF</td>\n      <td>MF</td>\n      <td>San Martín</td>\n      <td>NaN</td>\n      <td>North America</td>\n      <td>AMRO</td>\n      <td>América</td>\n      <td>Saint Martin</td>\n      <td>31791.0</td>\n      <td>NaN</td>\n      <td>NaN</td>\n      <td>NaN</td>\n      <td>NaN</td>\n      <td>99.999271</td>\n      <td>100.000000</td>\n      <td>651.060000</td>\n      <td>NaN</td>\n      <td>NaN</td>\n      <td>NaN</td>\n      <td>NaN</td>\n    </tr>\n    <tr>\n      <th>248</th>\n      <td>SXM</td>\n      <td>SX</td>\n      <td>San Martín</td>\n      <td>NaN</td>\n      <td>North America</td>\n      <td>AMRO</td>\n      <td>América</td>\n      <td>San Martín</td>\n      <td>43389.0</td>\n      <td>NaN</td>\n      <td>NaN</td>\n      <td>29314.094295</td>\n      <td>NaN</td>\n      <td>NaN</td>\n      <td>NaN</td>\n      <td>1244.411765</td>\n      <td>0.000</td>\n      <td>100.000</td>\n      <td>NaN</td>\n      <td>NaN</td>\n    </tr>\n  </tbody>\n</table>\n<p>249 rows × 20 columns</p>\n</div>"
                    },
                    "metadata": {},
                    "execution_count": 5,
                    "output_type": "execute_result"
                }
            ],
            "execution_count": 5
        },
        {
            "cell_type": "code",
            "source": [
                "df_hosp_UCI_NEW = pd.merge(left=df_hosp_UCI, right=df_paises,\n",
                "                      how='left', left_on='country', right_on='PAIS_NOM_2')"
            ],
            "metadata": {
                "id": "JsnqxJawXn87",
                "azdata_cell_guid": "7f3d05f2-0361-4281-ba81-e6b1fb8f305c",
                "language": "python"
            },
            "outputs": [],
            "execution_count": 6
        },
        {
            "cell_type": "code",
            "source": [
                "df_hosp_UCI_NEW.head()"
            ],
            "metadata": {
                "scrolled": true,
                "id": "UiGFSyDNXn87",
                "outputId": "442898de-62a8-4d39-97a5-ca7c70df146f",
                "colab": {
                    "base_uri": "https://localhost:8080/",
                    "height": 443
                },
                "azdata_cell_guid": "ec872fb7-450e-42a5-ad65-0d71bffeadd3",
                "language": "python"
            },
            "outputs": [
                {
                    "data": {
                        "text/plain": "   country                 indicator        date year_week  value  \\\n0  Austria  Daily hospital occupancy  2020-04-01  2020-W14  856.0   \n1  Austria  Daily hospital occupancy  2020-04-02  2020-W14  823.0   \n2  Austria  Daily hospital occupancy  2020-04-03  2020-W14  829.0   \n3  Austria  Daily hospital occupancy  2020-04-04  2020-W14  826.0   \n4  Austria  Daily hospital occupancy  2020-04-05  2020-W14  712.0   \n\n            source  url PAIS_ISO3 PAIS_ISO2 PAIS_NOM  ...    LATITUD  \\\n0  Country_Website  NaN       AUT        AT  Austria  ...  47.516231   \n1  Country_Website  NaN       AUT        AT  Austria  ...  47.516231   \n2  Country_Website  NaN       AUT        AT  Austria  ...  47.516231   \n3  Country_Website  NaN       AUT        AT  Austria  ...  47.516231   \n4  Country_Website  NaN       AUT        AT  Austria  ...  47.516231   \n\n  GDP_PER_CAPITA USO_INDIVIDUAL_INTERNET USO_DE_AGUA_POTABLE  \\\n0   48809.226876               87.529428               100.0   \n1   48809.226876               87.529428               100.0   \n2   48809.226876               87.529428               100.0   \n3   48809.226876               87.529428               100.0   \n4   48809.226876               87.529428               100.0   \n\n  USO_DE_SERVICIOS_BASICOS_SANEAMIENTO  DENSIDAD_DE_POBLACION_X_KM2  \\\n0                            99.972605                   108.057004   \n1                            99.972605                   108.057004   \n2                            99.972605                   108.057004   \n3                            99.972605                   108.057004   \n4                            99.972605                   108.057004   \n\n   POBLACION_RURAL  POBLACION_URBANA  TEMPERATURA_PROMEDIO  ALTURA_PROMEDIO  \n0           41.252            58.748              7.435462            910.0  \n1           41.252            58.748              7.435462            910.0  \n2           41.252            58.748              7.435462            910.0  \n3           41.252            58.748              7.435462            910.0  \n4           41.252            58.748              7.435462            910.0  \n\n[5 rows x 27 columns]",
                        "text/html": "<div>\n<style scoped>\n    .dataframe tbody tr th:only-of-type {\n        vertical-align: middle;\n    }\n\n    .dataframe tbody tr th {\n        vertical-align: top;\n    }\n\n    .dataframe thead th {\n        text-align: right;\n    }\n</style>\n<table border=\"1\" class=\"dataframe\">\n  <thead>\n    <tr style=\"text-align: right;\">\n      <th></th>\n      <th>country</th>\n      <th>indicator</th>\n      <th>date</th>\n      <th>year_week</th>\n      <th>value</th>\n      <th>source</th>\n      <th>url</th>\n      <th>PAIS_ISO3</th>\n      <th>PAIS_ISO2</th>\n      <th>PAIS_NOM</th>\n      <th>...</th>\n      <th>LATITUD</th>\n      <th>GDP_PER_CAPITA</th>\n      <th>USO_INDIVIDUAL_INTERNET</th>\n      <th>USO_DE_AGUA_POTABLE</th>\n      <th>USO_DE_SERVICIOS_BASICOS_SANEAMIENTO</th>\n      <th>DENSIDAD_DE_POBLACION_X_KM2</th>\n      <th>POBLACION_RURAL</th>\n      <th>POBLACION_URBANA</th>\n      <th>TEMPERATURA_PROMEDIO</th>\n      <th>ALTURA_PROMEDIO</th>\n    </tr>\n  </thead>\n  <tbody>\n    <tr>\n      <th>0</th>\n      <td>Austria</td>\n      <td>Daily hospital occupancy</td>\n      <td>2020-04-01</td>\n      <td>2020-W14</td>\n      <td>856.0</td>\n      <td>Country_Website</td>\n      <td>NaN</td>\n      <td>AUT</td>\n      <td>AT</td>\n      <td>Austria</td>\n      <td>...</td>\n      <td>47.516231</td>\n      <td>48809.226876</td>\n      <td>87.529428</td>\n      <td>100.0</td>\n      <td>99.972605</td>\n      <td>108.057004</td>\n      <td>41.252</td>\n      <td>58.748</td>\n      <td>7.435462</td>\n      <td>910.0</td>\n    </tr>\n    <tr>\n      <th>1</th>\n      <td>Austria</td>\n      <td>Daily hospital occupancy</td>\n      <td>2020-04-02</td>\n      <td>2020-W14</td>\n      <td>823.0</td>\n      <td>Country_Website</td>\n      <td>NaN</td>\n      <td>AUT</td>\n      <td>AT</td>\n      <td>Austria</td>\n      <td>...</td>\n      <td>47.516231</td>\n      <td>48809.226876</td>\n      <td>87.529428</td>\n      <td>100.0</td>\n      <td>99.972605</td>\n      <td>108.057004</td>\n      <td>41.252</td>\n      <td>58.748</td>\n      <td>7.435462</td>\n      <td>910.0</td>\n    </tr>\n    <tr>\n      <th>2</th>\n      <td>Austria</td>\n      <td>Daily hospital occupancy</td>\n      <td>2020-04-03</td>\n      <td>2020-W14</td>\n      <td>829.0</td>\n      <td>Country_Website</td>\n      <td>NaN</td>\n      <td>AUT</td>\n      <td>AT</td>\n      <td>Austria</td>\n      <td>...</td>\n      <td>47.516231</td>\n      <td>48809.226876</td>\n      <td>87.529428</td>\n      <td>100.0</td>\n      <td>99.972605</td>\n      <td>108.057004</td>\n      <td>41.252</td>\n      <td>58.748</td>\n      <td>7.435462</td>\n      <td>910.0</td>\n    </tr>\n    <tr>\n      <th>3</th>\n      <td>Austria</td>\n      <td>Daily hospital occupancy</td>\n      <td>2020-04-04</td>\n      <td>2020-W14</td>\n      <td>826.0</td>\n      <td>Country_Website</td>\n      <td>NaN</td>\n      <td>AUT</td>\n      <td>AT</td>\n      <td>Austria</td>\n      <td>...</td>\n      <td>47.516231</td>\n      <td>48809.226876</td>\n      <td>87.529428</td>\n      <td>100.0</td>\n      <td>99.972605</td>\n      <td>108.057004</td>\n      <td>41.252</td>\n      <td>58.748</td>\n      <td>7.435462</td>\n      <td>910.0</td>\n    </tr>\n    <tr>\n      <th>4</th>\n      <td>Austria</td>\n      <td>Daily hospital occupancy</td>\n      <td>2020-04-05</td>\n      <td>2020-W14</td>\n      <td>712.0</td>\n      <td>Country_Website</td>\n      <td>NaN</td>\n      <td>AUT</td>\n      <td>AT</td>\n      <td>Austria</td>\n      <td>...</td>\n      <td>47.516231</td>\n      <td>48809.226876</td>\n      <td>87.529428</td>\n      <td>100.0</td>\n      <td>99.972605</td>\n      <td>108.057004</td>\n      <td>41.252</td>\n      <td>58.748</td>\n      <td>7.435462</td>\n      <td>910.0</td>\n    </tr>\n  </tbody>\n</table>\n<p>5 rows × 27 columns</p>\n</div>"
                    },
                    "metadata": {},
                    "execution_count": 7,
                    "output_type": "execute_result"
                }
            ],
            "execution_count": 7
        },
        {
            "cell_type": "code",
            "source": [
                "df_hosp_UCI_NEW.isnull().sum()"
            ],
            "metadata": {
                "id": "0zFB4UdvXn87",
                "outputId": "533d6b69-fb57-46f7-acdd-d4cddff92074",
                "colab": {
                    "base_uri": "https://localhost:8080/"
                },
                "azdata_cell_guid": "5ccaaff1-b91c-433b-8a87-8078c0666e35",
                "language": "python"
            },
            "outputs": [
                {
                    "data": {
                        "text/plain": "country                                     0\nindicator                                   0\ndate                                        0\nyear_week                                   0\nvalue                                       0\nsource                                      0\nurl                                     28105\nPAIS_ISO3                                   0\nPAIS_ISO2                                   0\nPAIS_NOM                                    0\nCOD_CONTINENTE                              0\nCONTINENTE                                  0\nOMS_REGION                                  0\nDESC_OMS_REGION                             0\nPAIS_NOM_2                                  0\nPOBLACION                                   0\nLONGITUD                                    0\nLATITUD                                     0\nGDP_PER_CAPITA                              0\nUSO_INDIVIDUAL_INTERNET                     0\nUSO_DE_AGUA_POTABLE                         0\nUSO_DE_SERVICIOS_BASICOS_SANEAMIENTO        0\nDENSIDAD_DE_POBLACION_X_KM2                 0\nPOBLACION_RURAL                             0\nPOBLACION_URBANA                            0\nTEMPERATURA_PROMEDIO                        0\nALTURA_PROMEDIO                          2718\ndtype: int64"
                    },
                    "metadata": {},
                    "execution_count": 8,
                    "output_type": "execute_result"
                }
            ],
            "execution_count": 8
        },
        {
            "cell_type": "code",
            "source": [
                "df_hosp_UCI_NEW.columns"
            ],
            "metadata": {
                "id": "lJAfU-SYXn87",
                "outputId": "5126457e-e33f-442c-815f-02553c8f9089",
                "colab": {
                    "base_uri": "https://localhost:8080/"
                },
                "azdata_cell_guid": "c589694c-bb71-4a00-ae27-3ce99b661abf",
                "language": "python"
            },
            "outputs": [
                {
                    "data": {
                        "text/plain": "Index(['country', 'indicator', 'date', 'year_week', 'value', 'source', 'url',\n       'PAIS_ISO3', 'PAIS_ISO2', 'PAIS_NOM', 'COD_CONTINENTE', 'CONTINENTE',\n       'OMS_REGION', 'DESC_OMS_REGION', 'PAIS_NOM_2', 'POBLACION', 'LONGITUD',\n       'LATITUD', 'GDP_PER_CAPITA', 'USO_INDIVIDUAL_INTERNET',\n       'USO_DE_AGUA_POTABLE', 'USO_DE_SERVICIOS_BASICOS_SANEAMIENTO',\n       'DENSIDAD_DE_POBLACION_X_KM2', 'POBLACION_RURAL', 'POBLACION_URBANA',\n       'TEMPERATURA_PROMEDIO', 'ALTURA_PROMEDIO'],\n      dtype='object')"
                    },
                    "metadata": {},
                    "execution_count": 9,
                    "output_type": "execute_result"
                }
            ],
            "execution_count": 9
        },
        {
            "cell_type": "code",
            "source": [
                "df_hosp_UCI_NEW = df_hosp_UCI_NEW[['PAIS_ISO3','PAIS_NOM','indicator','date','year_week','value','source','url']]"
            ],
            "metadata": {
                "id": "qD1ujXhnXn88",
                "azdata_cell_guid": "db74c4f5-fd83-4bc5-9676-0d601adf5b46",
                "language": "python"
            },
            "outputs": [],
            "execution_count": 10
        },
        {
            "cell_type": "code",
            "source": [
                "df_hosp_UCI_NEW.head()"
            ],
            "metadata": {
                "id": "dMbV2NIuXn88",
                "outputId": "f3b43f87-b990-44e9-e170-38099063b88d",
                "colab": {
                    "base_uri": "https://localhost:8080/",
                    "height": 206
                },
                "azdata_cell_guid": "db18c2a1-7a08-496b-a68d-3b0791e96474",
                "language": "python"
            },
            "outputs": [
                {
                    "data": {
                        "text/plain": "  PAIS_ISO3 PAIS_NOM                 indicator        date year_week  value  \\\n0       AUT  Austria  Daily hospital occupancy  2020-04-01  2020-W14  856.0   \n1       AUT  Austria  Daily hospital occupancy  2020-04-02  2020-W14  823.0   \n2       AUT  Austria  Daily hospital occupancy  2020-04-03  2020-W14  829.0   \n3       AUT  Austria  Daily hospital occupancy  2020-04-04  2020-W14  826.0   \n4       AUT  Austria  Daily hospital occupancy  2020-04-05  2020-W14  712.0   \n\n            source  url  \n0  Country_Website  NaN  \n1  Country_Website  NaN  \n2  Country_Website  NaN  \n3  Country_Website  NaN  \n4  Country_Website  NaN  ",
                        "text/html": "<div>\n<style scoped>\n    .dataframe tbody tr th:only-of-type {\n        vertical-align: middle;\n    }\n\n    .dataframe tbody tr th {\n        vertical-align: top;\n    }\n\n    .dataframe thead th {\n        text-align: right;\n    }\n</style>\n<table border=\"1\" class=\"dataframe\">\n  <thead>\n    <tr style=\"text-align: right;\">\n      <th></th>\n      <th>PAIS_ISO3</th>\n      <th>PAIS_NOM</th>\n      <th>indicator</th>\n      <th>date</th>\n      <th>year_week</th>\n      <th>value</th>\n      <th>source</th>\n      <th>url</th>\n    </tr>\n  </thead>\n  <tbody>\n    <tr>\n      <th>0</th>\n      <td>AUT</td>\n      <td>Austria</td>\n      <td>Daily hospital occupancy</td>\n      <td>2020-04-01</td>\n      <td>2020-W14</td>\n      <td>856.0</td>\n      <td>Country_Website</td>\n      <td>NaN</td>\n    </tr>\n    <tr>\n      <th>1</th>\n      <td>AUT</td>\n      <td>Austria</td>\n      <td>Daily hospital occupancy</td>\n      <td>2020-04-02</td>\n      <td>2020-W14</td>\n      <td>823.0</td>\n      <td>Country_Website</td>\n      <td>NaN</td>\n    </tr>\n    <tr>\n      <th>2</th>\n      <td>AUT</td>\n      <td>Austria</td>\n      <td>Daily hospital occupancy</td>\n      <td>2020-04-03</td>\n      <td>2020-W14</td>\n      <td>829.0</td>\n      <td>Country_Website</td>\n      <td>NaN</td>\n    </tr>\n    <tr>\n      <th>3</th>\n      <td>AUT</td>\n      <td>Austria</td>\n      <td>Daily hospital occupancy</td>\n      <td>2020-04-04</td>\n      <td>2020-W14</td>\n      <td>826.0</td>\n      <td>Country_Website</td>\n      <td>NaN</td>\n    </tr>\n    <tr>\n      <th>4</th>\n      <td>AUT</td>\n      <td>Austria</td>\n      <td>Daily hospital occupancy</td>\n      <td>2020-04-05</td>\n      <td>2020-W14</td>\n      <td>712.0</td>\n      <td>Country_Website</td>\n      <td>NaN</td>\n    </tr>\n  </tbody>\n</table>\n</div>"
                    },
                    "metadata": {},
                    "execution_count": 11,
                    "output_type": "execute_result"
                }
            ],
            "execution_count": 11
        },
        {
            "cell_type": "code",
            "source": [
                "df_hosp_UCI_NEW[df_hosp_UCI_NEW['PAIS_ISO3'].isnull()].count()"
            ],
            "metadata": {
                "scrolled": false,
                "id": "t3sHNvjhXn88",
                "outputId": "6ec0d396-741c-4b83-c634-40e3d78f12f0",
                "colab": {
                    "base_uri": "https://localhost:8080/"
                },
                "azdata_cell_guid": "61d622ab-67c1-41c9-b54a-ea522d3a39dc",
                "language": "python"
            },
            "outputs": [
                {
                    "data": {
                        "text/plain": "PAIS_ISO3    0\nPAIS_NOM     0\nindicator    0\ndate         0\nyear_week    0\nvalue        0\nsource       0\nurl          0\ndtype: int64"
                    },
                    "metadata": {},
                    "execution_count": 12,
                    "output_type": "execute_result"
                }
            ],
            "execution_count": 12
        },
        {
            "cell_type": "markdown",
            "source": [
                "Transformar la variable **date** y **year_week** en formato **datetime**"
            ],
            "metadata": {
                "id": "8whBHMRUXn88",
                "azdata_cell_guid": "0f3bd6e2-9bc2-4d83-8fc4-1fbbb45af96a"
            }
        },
        {
            "cell_type": "code",
            "source": [
                "df_hosp_UCI_NEW['date']= pd.to_datetime(df_hosp_UCI_NEW['date']).dt.strftime('%d-%m-%Y')"
            ],
            "metadata": {
                "id": "i351_ec6Xn88",
                "outputId": "19d87625-1aeb-41f7-fdf9-89c457c4a99c",
                "colab": {
                    "base_uri": "https://localhost:8080/"
                },
                "azdata_cell_guid": "bed977eb-4c82-4c45-8198-471e5d891b24",
                "language": "python"
            },
            "outputs": [],
            "execution_count": 13
        },
        {
            "cell_type": "code",
            "source": [
                "# Convertir la columna 'year_week' a tipo datetime\n",
                "df_hosp_UCI_NEW['year_week'] = pd.to_datetime(df_hosp_UCI_NEW['year_week'] + '-1', format='%Y-W%W-%w')\n",
                "# Extraer el número de semana y el año\n",
                "df_hosp_UCI_NEW['year_week'] = df_hosp_UCI_NEW['year_week'].dt.strftime('%Y-%W')"
            ],
            "metadata": {
                "scrolled": true,
                "id": "TnJzRYNbXn89",
                "outputId": "c56a743b-1a0f-46e0-e686-40142bc44f97",
                "colab": {
                    "base_uri": "https://localhost:8080/"
                },
                "azdata_cell_guid": "105f4ea2-8f8f-46fd-b3fb-d4c4b522c204",
                "language": "python"
            },
            "outputs": [],
            "execution_count": 14
        },
        {
            "cell_type": "code",
            "source": [
                "df_hosp_UCI_NEW"
            ],
            "metadata": {
                "scrolled": true,
                "id": "0KCfMF9iXn89",
                "outputId": "09d4df3b-157f-4995-b06a-c3be9485497d",
                "colab": {
                    "base_uri": "https://localhost:8080/",
                    "height": 423
                },
                "azdata_cell_guid": "68b89e75-45aa-4f87-8de6-1bf9fb7aa6b8",
                "language": "python"
            },
            "outputs": [
                {
                    "data": {
                        "text/plain": "      PAIS_ISO3 PAIS_NOM                           indicator        date  \\\n0           AUT  Austria            Daily hospital occupancy  01-04-2020   \n1           AUT  Austria            Daily hospital occupancy  02-04-2020   \n2           AUT  Austria            Daily hospital occupancy  03-04-2020   \n3           AUT  Austria            Daily hospital occupancy  04-04-2020   \n4           AUT  Austria            Daily hospital occupancy  05-04-2020   \n...         ...      ...                                 ...         ...   \n28100       SWE   Sweden  Weekly new ICU admissions per 100k  10-09-2023   \n28101       SWE   Sweden  Weekly new ICU admissions per 100k  17-09-2023   \n28102       SWE   Sweden  Weekly new ICU admissions per 100k  24-09-2023   \n28103       SWE   Sweden  Weekly new ICU admissions per 100k  01-10-2023   \n28104       SWE   Sweden  Weekly new ICU admissions per 100k  08-10-2023   \n\n      year_week       value                           source  url  \n0       2020-14  856.000000                  Country_Website  NaN  \n1       2020-14  823.000000                  Country_Website  NaN  \n2       2020-14  829.000000                  Country_Website  NaN  \n3       2020-14  826.000000                  Country_Website  NaN  \n4       2020-14  712.000000                  Country_Website  NaN  \n...         ...         ...                              ...  ...  \n28100   2023-36    0.047836  TESSy COVID-19 combined sources  NaN  \n28101   2023-37    0.038269  TESSy COVID-19 combined sources  NaN  \n28102   2023-38    0.095672  TESSy COVID-19 combined sources  NaN  \n28103   2023-39    0.047836  TESSy COVID-19 combined sources  NaN  \n28104   2023-40    0.066971  TESSy COVID-19 combined sources  NaN  \n\n[28105 rows x 8 columns]",
                        "text/html": "<div>\n<style scoped>\n    .dataframe tbody tr th:only-of-type {\n        vertical-align: middle;\n    }\n\n    .dataframe tbody tr th {\n        vertical-align: top;\n    }\n\n    .dataframe thead th {\n        text-align: right;\n    }\n</style>\n<table border=\"1\" class=\"dataframe\">\n  <thead>\n    <tr style=\"text-align: right;\">\n      <th></th>\n      <th>PAIS_ISO3</th>\n      <th>PAIS_NOM</th>\n      <th>indicator</th>\n      <th>date</th>\n      <th>year_week</th>\n      <th>value</th>\n      <th>source</th>\n      <th>url</th>\n    </tr>\n  </thead>\n  <tbody>\n    <tr>\n      <th>0</th>\n      <td>AUT</td>\n      <td>Austria</td>\n      <td>Daily hospital occupancy</td>\n      <td>01-04-2020</td>\n      <td>2020-14</td>\n      <td>856.000000</td>\n      <td>Country_Website</td>\n      <td>NaN</td>\n    </tr>\n    <tr>\n      <th>1</th>\n      <td>AUT</td>\n      <td>Austria</td>\n      <td>Daily hospital occupancy</td>\n      <td>02-04-2020</td>\n      <td>2020-14</td>\n      <td>823.000000</td>\n      <td>Country_Website</td>\n      <td>NaN</td>\n    </tr>\n    <tr>\n      <th>2</th>\n      <td>AUT</td>\n      <td>Austria</td>\n      <td>Daily hospital occupancy</td>\n      <td>03-04-2020</td>\n      <td>2020-14</td>\n      <td>829.000000</td>\n      <td>Country_Website</td>\n      <td>NaN</td>\n    </tr>\n    <tr>\n      <th>3</th>\n      <td>AUT</td>\n      <td>Austria</td>\n      <td>Daily hospital occupancy</td>\n      <td>04-04-2020</td>\n      <td>2020-14</td>\n      <td>826.000000</td>\n      <td>Country_Website</td>\n      <td>NaN</td>\n    </tr>\n    <tr>\n      <th>4</th>\n      <td>AUT</td>\n      <td>Austria</td>\n      <td>Daily hospital occupancy</td>\n      <td>05-04-2020</td>\n      <td>2020-14</td>\n      <td>712.000000</td>\n      <td>Country_Website</td>\n      <td>NaN</td>\n    </tr>\n    <tr>\n      <th>...</th>\n      <td>...</td>\n      <td>...</td>\n      <td>...</td>\n      <td>...</td>\n      <td>...</td>\n      <td>...</td>\n      <td>...</td>\n      <td>...</td>\n    </tr>\n    <tr>\n      <th>28100</th>\n      <td>SWE</td>\n      <td>Sweden</td>\n      <td>Weekly new ICU admissions per 100k</td>\n      <td>10-09-2023</td>\n      <td>2023-36</td>\n      <td>0.047836</td>\n      <td>TESSy COVID-19 combined sources</td>\n      <td>NaN</td>\n    </tr>\n    <tr>\n      <th>28101</th>\n      <td>SWE</td>\n      <td>Sweden</td>\n      <td>Weekly new ICU admissions per 100k</td>\n      <td>17-09-2023</td>\n      <td>2023-37</td>\n      <td>0.038269</td>\n      <td>TESSy COVID-19 combined sources</td>\n      <td>NaN</td>\n    </tr>\n    <tr>\n      <th>28102</th>\n      <td>SWE</td>\n      <td>Sweden</td>\n      <td>Weekly new ICU admissions per 100k</td>\n      <td>24-09-2023</td>\n      <td>2023-38</td>\n      <td>0.095672</td>\n      <td>TESSy COVID-19 combined sources</td>\n      <td>NaN</td>\n    </tr>\n    <tr>\n      <th>28103</th>\n      <td>SWE</td>\n      <td>Sweden</td>\n      <td>Weekly new ICU admissions per 100k</td>\n      <td>01-10-2023</td>\n      <td>2023-39</td>\n      <td>0.047836</td>\n      <td>TESSy COVID-19 combined sources</td>\n      <td>NaN</td>\n    </tr>\n    <tr>\n      <th>28104</th>\n      <td>SWE</td>\n      <td>Sweden</td>\n      <td>Weekly new ICU admissions per 100k</td>\n      <td>08-10-2023</td>\n      <td>2023-40</td>\n      <td>0.066971</td>\n      <td>TESSy COVID-19 combined sources</td>\n      <td>NaN</td>\n    </tr>\n  </tbody>\n</table>\n<p>28105 rows × 8 columns</p>\n</div>"
                    },
                    "metadata": {},
                    "execution_count": 15,
                    "output_type": "execute_result"
                }
            ],
            "execution_count": 15
        },
        {
            "cell_type": "markdown",
            "source": [
                "Elimino la columna **url** del **df_hosp_UCI_NEW** mediante la función **.drop**"
            ],
            "metadata": {
                "id": "XHbnqpgEXn89",
                "azdata_cell_guid": "0c4c01bd-adcf-405e-8faa-e2042e4bbce3"
            }
        },
        {
            "cell_type": "code",
            "source": [
                "df_hosp_UCI_NEW.drop(['url'], axis=1, inplace=True)"
            ],
            "metadata": {
                "id": "o9UeIBhRXn8-",
                "outputId": "61e44d62-e1ce-41bb-d3ad-18cbc84557e5",
                "colab": {
                    "base_uri": "https://localhost:8080/"
                },
                "azdata_cell_guid": "117fb9af-fa3c-499a-be58-50ebff36226c",
                "language": "python"
            },
            "outputs": [],
            "execution_count": 16
        },
        {
            "cell_type": "code",
            "source": [
                "df_hosp_UCI_NEW[df_hosp_UCI_NEW['PAIS_ISO3'].isnull()]"
            ],
            "metadata": {
                "id": "EtlrcGaIXn8-",
                "outputId": "a89809f3-a478-4fff-8f63-ad22812926d8",
                "colab": {
                    "base_uri": "https://localhost:8080/",
                    "height": 49
                },
                "azdata_cell_guid": "2c00444f-8842-4ec0-96d7-8596585bcfc8",
                "language": "python"
            },
            "outputs": [
                {
                    "data": {
                        "text/plain": "Empty DataFrame\nColumns: [PAIS_ISO3, PAIS_NOM, indicator, date, year_week, value, source]\nIndex: []",
                        "text/html": "<div>\n<style scoped>\n    .dataframe tbody tr th:only-of-type {\n        vertical-align: middle;\n    }\n\n    .dataframe tbody tr th {\n        vertical-align: top;\n    }\n\n    .dataframe thead th {\n        text-align: right;\n    }\n</style>\n<table border=\"1\" class=\"dataframe\">\n  <thead>\n    <tr style=\"text-align: right;\">\n      <th></th>\n      <th>PAIS_ISO3</th>\n      <th>PAIS_NOM</th>\n      <th>indicator</th>\n      <th>date</th>\n      <th>year_week</th>\n      <th>value</th>\n      <th>source</th>\n    </tr>\n  </thead>\n  <tbody>\n  </tbody>\n</table>\n</div>"
                    },
                    "metadata": {},
                    "execution_count": 17,
                    "output_type": "execute_result"
                }
            ],
            "execution_count": 17
        },
        {
            "cell_type": "code",
            "source": [
                "df_hosp_UCI_NEW\n",
                "df_hosp_UCI_NEW.info()"
            ],
            "metadata": {
                "id": "JPqPhZvAXn8_",
                "outputId": "854327b9-f536-48fd-8879-8488a7be5317",
                "colab": {
                    "base_uri": "https://localhost:8080/"
                },
                "azdata_cell_guid": "ffb1f813-c34b-42a8-9bd4-689bffe14bc9",
                "language": "python"
            },
            "outputs": [
                {
                    "name": "stdout",
                    "text": "<class 'pandas.core.frame.DataFrame'>\nRangeIndex: 28105 entries, 0 to 28104\nData columns (total 7 columns):\n #   Column     Non-Null Count  Dtype  \n---  ------     --------------  -----  \n 0   PAIS_ISO3  28105 non-null  object \n 1   PAIS_NOM   28105 non-null  object \n 2   indicator  28105 non-null  object \n 3   date       28105 non-null  object \n 4   year_week  28105 non-null  object \n 5   value      28105 non-null  float64\n 6   source     28105 non-null  object \ndtypes: float64(1), object(6)\nmemory usage: 1.5+ MB\n",
                    "output_type": "stream"
                }
            ],
            "execution_count": 18
        },
        {
            "cell_type": "code",
            "source": [
                "df_hosp_UCI_NEW.duplicated().values.any()"
            ],
            "metadata": {
                "id": "BhjseaWnXn8_",
                "outputId": "c4fe0208-37b1-4cc7-e9ad-37eee8982dbd",
                "colab": {
                    "base_uri": "https://localhost:8080/"
                },
                "azdata_cell_guid": "f862d9a7-7212-4ae4-aa01-02371666a8c5",
                "language": "python"
            },
            "outputs": [
                {
                    "data": {
                        "text/plain": "False"
                    },
                    "metadata": {},
                    "execution_count": 19,
                    "output_type": "execute_result"
                }
            ],
            "execution_count": 19
        },
        {
            "cell_type": "code",
            "source": [
                "df_hosp_UCI_NEW.isnull().sum()"
            ],
            "metadata": {
                "scrolled": true,
                "id": "ampKIpazXn9A",
                "outputId": "eb93d83c-ae32-47c7-e595-21bdc5b6ff97",
                "colab": {
                    "base_uri": "https://localhost:8080/"
                },
                "azdata_cell_guid": "fe16fa89-3221-4104-a7a4-32f8098b76c7",
                "language": "python"
            },
            "outputs": [
                {
                    "data": {
                        "text/plain": "PAIS_ISO3    0\nPAIS_NOM     0\nindicator    0\ndate         0\nyear_week    0\nvalue        0\nsource       0\ndtype: int64"
                    },
                    "metadata": {},
                    "execution_count": 20,
                    "output_type": "execute_result"
                }
            ],
            "execution_count": 20
        },
        {
            "cell_type": "code",
            "source": [
                "df_hosp_UCI_NEW.columns =['PAIS_ISO3','PAIS_NOM','INDICADOR','FECHA','ANY_SEMANA','VALOR','FUENTE_ORIGEN']"
            ],
            "metadata": {
                "id": "n1jZ96UAXn9A",
                "azdata_cell_guid": "b3785f7b-4a8f-4fac-8536-3c0cbbc6660e",
                "language": "python"
            },
            "outputs": [],
            "execution_count": 21
        },
        {
            "cell_type": "code",
            "source": [
                "#df_hosp_UCI_NEW.to_csv('/content/TFM/Ficheros_Depurados/df_hosp_UCI_NEW.csv', index= False)"
            ],
            "metadata": {
                "id": "Mfds5ZOqXn9C",
                "azdata_cell_guid": "64cfccae-a8ed-4108-ac73-e340e4b64e77",
                "language": "python"
            },
            "outputs": [],
            "execution_count": 22
        },
        {
            "cell_type": "markdown",
            "source": [
                "# Establecemos **Conexión a BBDD y Carga de Ficheros** (Azure Data Studio)"
            ],
            "metadata": {
                "id": "XWG87ggMFBka",
                "azdata_cell_guid": "83449403-ec8f-40f9-9d21-7aaab23449cf",
                "language": ""
            },
            "attachments": {}
        },
        {
            "cell_type": "code",
            "source": [
                "import pyodbc\r\n",
                "server = 'servidortfmcovid-v2.database.windows.net'\r\n",
                "database = 'basedatostfmcovid-v2'\r\n",
                "username = 'admintfmcovid_v2'\r\n",
                "password = 'TFMcovid2023!_v2'\r\n",
                "cnxn = pyodbc.connect('DRIVER={SQL Server};SERVER='+server+';DATABASE='+database+';UID='+username+';PWD='+ password)\r\n",
                "cursor = cnxn.cursor()\r\n",
                "\r\n",
                "# Nombre de la tabla en la base de datos\r\n",
                "nombre_de_tabla = 'dbo.CASOS_HOSPITALIZADOS_UCI_EU'  # Reemplaza 'MiTabla' por el nombre de tu tabla\r\n",
                "\r\n",
                "# Eliminar registros\r\n",
                "cursor.execute(f\"DELETE FROM {nombre_de_tabla}\")\r\n",
                "\r\n",
                "# Inserta los datos del DataFrame en la tabla\r\n",
                "for index, row in df_hosp_UCI_NEW.iterrows():\r\n",
                "    insert_query = f\"INSERT INTO {nombre_de_tabla} ({', '.join(df_hosp_UCI_NEW.columns)}) VALUES ({', '.join(['?'] * len(df_hosp_UCI_NEW.columns))})\"\r\n",
                "    cursor.execute(insert_query, tuple(row))\r\n",
                "    cnxn.commit()\r\n",
                "\r\n",
                "# Cierra la conexión\r\n",
                "cnxn.close()"
            ],
            "metadata": {
                "azdata_cell_guid": "5cc5e57d-101d-42cf-88f1-34e8497925e2",
                "language": "python"
            },
            "outputs": [],
            "execution_count": 23
        }
    ]
}