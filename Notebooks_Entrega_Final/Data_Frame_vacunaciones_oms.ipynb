{
    "metadata": {
        "kernelspec": {
            "name": "python3",
            "display_name": "Python 3",
            "language": "python"
        },
        "language_info": {
            "name": "python",
            "version": "3.8.10",
            "mimetype": "text/x-python",
            "codemirror_mode": {
                "name": "ipython",
                "version": 3
            },
            "pygments_lexer": "ipython3",
            "nbconvert_exporter": "python",
            "file_extension": ".py"
        },
        "colab": {
            "name": "Cleaning_data_Python.ipynb",
            "provenance": [],
            "include_colab_link": true
        }
    },
    "nbformat_minor": 2,
    "nbformat": 4,
    "cells": [
        {
            "cell_type": "markdown",
            "source": [
                "<a href=\"https://colab.research.google.com/github/patriciaapenat/TFM/blob/main/Notebooks/Data_Frame_vacunaciones_oms.ipynb\" target=\"_parent\"><img src=\"https://colab.research.google.com/assets/colab-badge.svg\" alt=\"Open In Colab\"/></a>"
            ],
            "metadata": {
                "id": "view-in-github",
                "colab_type": "text",
                "azdata_cell_guid": "4dec63e7-76fc-43cf-8666-0366d5114511"
            }
        },
        {
            "cell_type": "markdown",
            "source": [
                "Clonación del Repositorio GitHub de **TFM**\n",
                "\n",
                "---\n",
                "\n"
            ],
            "metadata": {
                "id": "YWeaPFF9JVNJ",
                "azdata_cell_guid": "2583f74a-b45a-4f38-add8-2587ba4a89e4"
            }
        },
        {
            "cell_type": "code",
            "source": [
                "#! git clone https://github.com/patriciaapenat/TFM.git"
            ],
            "metadata": {
                "language": "python",
                "azdata_cell_guid": "48727fab-1262-4f2d-9c3f-ffeba74fc366"
            },
            "outputs": [],
            "execution_count": 28
        },
        {
            "cell_type": "markdown",
            "source": [
                "Importo algunas librerias de pandas"
            ],
            "metadata": {
                "id": "9tvuSRmoLQGo",
                "azdata_cell_guid": "80383d09-3177-4950-917c-f712bc932721"
            }
        },
        {
            "cell_type": "code",
            "source": [
                "import pandas as pd\n",
                "import numpy as np"
            ],
            "metadata": {
                "id": "gH09rfuDLL-J",
                "azdata_cell_guid": "06d02e09-a7b9-4393-86c0-39f5f718ce96",
                "language": "python"
            },
            "outputs": [],
            "execution_count": 29
        },
        {
            "cell_type": "markdown",
            "source": [
                "Instalo nuevas versiones del Módulo pycountry"
            ],
            "metadata": {
                "id": "z1Lo5hBHL2Ed",
                "azdata_cell_guid": "c5c53d86-f4ac-4a79-b7b9-e4bc2dd4438c"
            }
        },
        {
            "cell_type": "code",
            "source": [
                "!pip install pycountry==20.7.3\n",
                "!pip install pycountry-convert==0.7.2\n",
                "!pip install plotly==3.10.0"
            ],
            "metadata": {
                "id": "yoAMez7VLcHI",
                "outputId": "9ef6ffa6-f1e7-423d-bee1-60c93b808874",
                "colab": {
                    "base_uri": "https://localhost:8080/"
                },
                "azdata_cell_guid": "c0564ba1-8d4c-42cd-b61c-cd1b4c978fd6",
                "language": "python",
                "tags": []
            },
            "outputs": [
                {
                    "name": "stdout",
                    "text": "Collecting pycountry==20.7.3\n  Downloading pycountry-20.7.3.tar.gz (10.1 MB)\nUsing legacy 'setup.py install' for pycountry, since package 'wheel' is not installed.\nInstalling collected packages: pycountry\n  Attempting uninstall: pycountry\n    Found existing installation: pycountry 22.3.5\n    Uninstalling pycountry-22.3.5:\n      Successfully uninstalled pycountry-22.3.5\n    Running setup.py install for pycountry: started\n    Running setup.py install for pycountry: finished with status 'done'\nSuccessfully installed pycountry-20.7.3\n",
                    "output_type": "stream"
                },
                {
                    "name": "stderr",
                    "text": "WARNING: You are using pip version 21.1.1; however, version 23.3 is available.\nYou should consider upgrading via the 'c:\\users\\joschava\\azuredatastudio-python\\python.exe -m pip install --upgrade pip' command.\n",
                    "output_type": "stream"
                },
                {
                    "name": "stdout",
                    "text": "Collecting pycountry-convert==0.7.2\n  Downloading pycountry_convert-0.7.2-py3-none-any.whl (13 kB)\nCollecting pytest-mock>=1.6.3\n  Downloading pytest_mock-3.12.0-py3-none-any.whl (9.8 kB)\nCollecting wheel>=0.30.0\n  Using cached wheel-0.41.2-py3-none-any.whl (64 kB)\nCollecting pytest>=3.4.0\n  Downloading pytest-7.4.2-py3-none-any.whl (324 kB)\nCollecting pprintpp>=0.3.0\n  Downloading pprintpp-0.4.0-py2.py3-none-any.whl (16 kB)\nRequirement already satisfied: pycountry>=16.11.27.1 in c:\\users\\joschava\\azuredatastudio-python\\lib\\site-packages (from pycountry-convert==0.7.2) (20.7.3)\nCollecting pytest-cov>=2.5.1\n  Downloading pytest_cov-4.1.0-py3-none-any.whl (21 kB)\nCollecting repoze.lru>=0.7\n  Downloading repoze.lru-0.7-py3-none-any.whl (10 kB)\nCollecting pluggy<2.0,>=0.12\n  Downloading pluggy-1.3.0-py3-none-any.whl (18 kB)\nCollecting tomli>=1.0.0\n  Downloading tomli-2.0.1-py3-none-any.whl (12 kB)\nRequirement already satisfied: packaging in c:\\users\\joschava\\appdata\\roaming\\python\\python38\\site-packages (from pytest>=3.4.0->pycountry-convert==0.7.2) (23.2)\nRequirement already satisfied: colorama in c:\\users\\joschava\\appdata\\roaming\\python\\python38\\site-packages (from pytest>=3.4.0->pycountry-convert==0.7.2) (0.4.6)\nRequirement already satisfied: exceptiongroup>=1.0.0rc8 in c:\\users\\joschava\\appdata\\roaming\\python\\python38\\site-packages (from pytest>=3.4.0->pycountry-convert==0.7.2) (1.1.3)\nCollecting iniconfig\n  Downloading iniconfig-2.0.0-py3-none-any.whl (5.9 kB)\nCollecting coverage[toml]>=5.2.1\n  Downloading coverage-7.3.2-cp38-cp38-win_amd64.whl (203 kB)\nInstalling collected packages: tomli, pluggy, iniconfig, coverage, pytest, wheel, repoze.lru, pytest-mock, pytest-cov, pprintpp, pycountry-convert\nSuccessfully installed coverage-7.3.2 iniconfig-2.0.0 pluggy-1.3.0 pprintpp-0.4.0 pycountry-convert-0.7.2 pytest-7.4.2 pytest-cov-4.1.0 pytest-mock-3.12.0 repoze.lru-0.7 tomli-2.0.1 wheel-0.41.2\n",
                    "output_type": "stream"
                },
                {
                    "name": "stderr",
                    "text": "WARNING: You are using pip version 21.1.1; however, version 23.3 is available.\nYou should consider upgrading via the 'c:\\users\\joschava\\azuredatastudio-python\\python.exe -m pip install --upgrade pip' command.\n",
                    "output_type": "stream"
                },
                {
                    "name": "stdout",
                    "text": "Collecting plotly==3.10.0\n  Downloading plotly-3.10.0-py2.py3-none-any.whl (41.5 MB)\nCollecting requests\n  Downloading requests-2.31.0-py3-none-any.whl (62 kB)\nRequirement already satisfied: nbformat>=4.2 in c:\\users\\joschava\\appdata\\roaming\\python\\python38\\site-packages (from plotly==3.10.0) (5.9.2)\nRequirement already satisfied: pytz in c:\\users\\joschava\\appdata\\roaming\\python\\python38\\site-packages (from plotly==3.10.0) (2023.3.post1)\nCollecting retrying>=1.3.3\n",
                    "output_type": "stream"
                },
                {
                    "name": "stderr",
                    "text": "WARNING: You are using pip version 21.1.1; however, version 23.3 is available.\nYou should consider upgrading via the 'c:\\users\\joschava\\azuredatastudio-python\\python.exe -m pip install --upgrade pip' command.\n",
                    "output_type": "stream"
                },
                {
                    "name": "stdout",
                    "text": "  Downloading retrying-1.3.4-py3-none-any.whl (11 kB)\nRequirement already satisfied: decorator>=4.0.6 in c:\\users\\joschava\\appdata\\roaming\\python\\python38\\site-packages (from plotly==3.10.0) (5.1.1)\nRequirement already satisfied: six in c:\\users\\joschava\\appdata\\roaming\\python\\python38\\site-packages (from plotly==3.10.0) (1.16.0)\nRequirement already satisfied: jsonschema>=2.6 in c:\\users\\joschava\\appdata\\roaming\\python\\python38\\site-packages (from nbformat>=4.2->plotly==3.10.0) (4.19.1)\nRequirement already satisfied: jupyter-core in c:\\users\\joschava\\appdata\\roaming\\python\\python38\\site-packages (from nbformat>=4.2->plotly==3.10.0) (5.3.2)\nRequirement already satisfied: fastjsonschema in c:\\users\\joschava\\appdata\\roaming\\python\\python38\\site-packages (from nbformat>=4.2->plotly==3.10.0) (2.18.1)\nRequirement already satisfied: traitlets>=5.1 in c:\\users\\joschava\\appdata\\roaming\\python\\python38\\site-packages (from nbformat>=4.2->plotly==3.10.0) (5.9.0)\nRequirement already satisfied: importlib-resources>=1.4.0 in c:\\users\\joschava\\appdata\\roaming\\python\\python38\\site-packages (from jsonschema>=2.6->nbformat>=4.2->plotly==3.10.0) (6.1.0)\nRequirement already satisfied: referencing>=0.28.4 in c:\\users\\joschava\\appdata\\roaming\\python\\python38\\site-packages (from jsonschema>=2.6->nbformat>=4.2->plotly==3.10.0) (0.30.2)\nRequirement already satisfied: pkgutil-resolve-name>=1.3.10 in c:\\users\\joschava\\appdata\\roaming\\python\\python38\\site-packages (from jsonschema>=2.6->nbformat>=4.2->plotly==3.10.0) (1.3.10)\nRequirement already satisfied: attrs>=22.2.0 in c:\\users\\joschava\\appdata\\roaming\\python\\python38\\site-packages (from jsonschema>=2.6->nbformat>=4.2->plotly==3.10.0) (23.1.0)\nRequirement already satisfied: rpds-py>=0.7.1 in c:\\users\\joschava\\appdata\\roaming\\python\\python38\\site-packages (from jsonschema>=2.6->nbformat>=4.2->plotly==3.10.0) (0.10.4)\nRequirement already satisfied: jsonschema-specifications>=2023.03.6 in c:\\users\\joschava\\appdata\\roaming\\python\\python38\\site-packages (from jsonschema>=2.6->nbformat>=4.2->plotly==3.10.0) (2023.7.1)\nRequirement already satisfied: zipp>=3.1.0 in c:\\users\\joschava\\appdata\\roaming\\python\\python38\\site-packages (from importlib-resources>=1.4.0->jsonschema>=2.6->nbformat>=4.2->plotly==3.10.0) (3.17.0)\nRequirement already satisfied: pywin32>=300 in c:\\users\\joschava\\appdata\\roaming\\python\\python38\\site-packages (from jupyter-core->nbformat>=4.2->plotly==3.10.0) (306)\nRequirement already satisfied: platformdirs>=2.5 in c:\\users\\joschava\\appdata\\roaming\\python\\python38\\site-packages (from jupyter-core->nbformat>=4.2->plotly==3.10.0) (3.11.0)\nRequirement already satisfied: idna<4,>=2.5 in c:\\users\\joschava\\appdata\\roaming\\python\\python38\\site-packages (from requests->plotly==3.10.0) (3.4)\nCollecting urllib3<3,>=1.21.1\n  Downloading urllib3-2.0.7-py3-none-any.whl (124 kB)\nCollecting certifi>=2017.4.17\n  Downloading certifi-2023.7.22-py3-none-any.whl (158 kB)\nCollecting charset-normalizer<4,>=2\n  Downloading charset_normalizer-3.3.0-cp38-cp38-win_amd64.whl (97 kB)\nInstalling collected packages: urllib3, charset-normalizer, certifi, retrying, requests, plotly\nSuccessfully installed certifi-2023.7.22 charset-normalizer-3.3.0 plotly-3.10.0 requests-2.31.0 retrying-1.3.4 urllib3-2.0.7\n",
                    "output_type": "stream"
                }
            ],
            "execution_count": 30
        },
        {
            "cell_type": "markdown",
            "source": [
                "# Acceso al dataset de la OMS que a partir de ahora se llamará **df_vacunation**"
            ],
            "metadata": {
                "id": "raoGUa9GJVNT",
                "azdata_cell_guid": "e4ac330e-cf7a-43bb-a704-d0604b3e4fef"
            }
        },
        {
            "cell_type": "code",
            "source": [
                "df_vacunation =pd.read_csv ('https://covid19.who.int/who-data/vaccination-data.csv')\n",
                "df_vacunation.head()"
            ],
            "metadata": {
                "colab": {
                    "base_uri": "https://localhost:8080/",
                    "height": 305
                },
                "id": "kirOoCgpJVNU",
                "outputId": "8eac28ea-5947-4480-c7f8-2d367a3cb0f6",
                "scrolled": true,
                "azdata_cell_guid": "4a83d142-fed9-4be2-b11b-1f7855ca88c9",
                "language": "python"
            },
            "outputs": [
                {
                    "data": {
                        "text/plain": "         COUNTRY ISO3 WHO_REGION DATA_SOURCE DATE_UPDATED  TOTAL_VACCINATIONS  \\\n0        Albania  ALB       EURO   REPORTING   2023-07-16           3087677.0   \n1          Chile  CHL       AMRO   REPORTING   2023-06-02          66273384.0   \n2          Congo  COG       AFRO   REPORTING   2022-07-31            833210.0   \n3  Côte d’Ivoire  CIV       AFRO   REPORTING   2023-02-19          25263932.0   \n4        Denmark  DNK       EURO   REPORTING   2023-08-20          14943741.0   \n\n   PERSONS_VACCINATED_1PLUS_DOSE  TOTAL_VACCINATIONS_PER100  \\\n0                        1349150                    107.300   \n1                       18106832                    346.687   \n2                         695760                     15.100   \n3                       13568372                     95.776   \n4                        4754913                    256.600   \n\n   PERSONS_VACCINATED_1PLUS_DOSE_PER100  PERSONS_LAST_DOSE  \\\n0                                47.260            1279231   \n1                                94.720           17716364   \n2                                12.609             654119   \n3                                51.438           12164304   \n4                                80.956            4719688   \n\n   PERSONS_LAST_DOSE_PER100  VACCINES_USED FIRST_VACCINE_DATE  \\\n0                    44.811            NaN         2021-01-13   \n1                    92.677            NaN         2020-12-21   \n2                    11.854            NaN         2021-03-23   \n3                    46.115            NaN         2021-03-01   \n4                    80.357            NaN         2020-12-16   \n\n   NUMBER_VACCINES_TYPES_USED  PERSONS_BOOSTER_ADD_DOSE  \\\n0                         6.0                  401767.0   \n1                         5.0                15766986.0   \n2                         4.0                       NaN   \n3                         5.0                 3138712.0   \n4                         5.0                 3624228.0   \n\n   PERSONS_BOOSTER_ADD_DOSE_PER100  \n0                           14.074  \n1                           82.480  \n2                              NaN  \n3                           11.899  \n4                           61.706  ",
                        "text/html": "<div>\n<style scoped>\n    .dataframe tbody tr th:only-of-type {\n        vertical-align: middle;\n    }\n\n    .dataframe tbody tr th {\n        vertical-align: top;\n    }\n\n    .dataframe thead th {\n        text-align: right;\n    }\n</style>\n<table border=\"1\" class=\"dataframe\">\n  <thead>\n    <tr style=\"text-align: right;\">\n      <th></th>\n      <th>COUNTRY</th>\n      <th>ISO3</th>\n      <th>WHO_REGION</th>\n      <th>DATA_SOURCE</th>\n      <th>DATE_UPDATED</th>\n      <th>TOTAL_VACCINATIONS</th>\n      <th>PERSONS_VACCINATED_1PLUS_DOSE</th>\n      <th>TOTAL_VACCINATIONS_PER100</th>\n      <th>PERSONS_VACCINATED_1PLUS_DOSE_PER100</th>\n      <th>PERSONS_LAST_DOSE</th>\n      <th>PERSONS_LAST_DOSE_PER100</th>\n      <th>VACCINES_USED</th>\n      <th>FIRST_VACCINE_DATE</th>\n      <th>NUMBER_VACCINES_TYPES_USED</th>\n      <th>PERSONS_BOOSTER_ADD_DOSE</th>\n      <th>PERSONS_BOOSTER_ADD_DOSE_PER100</th>\n    </tr>\n  </thead>\n  <tbody>\n    <tr>\n      <th>0</th>\n      <td>Albania</td>\n      <td>ALB</td>\n      <td>EURO</td>\n      <td>REPORTING</td>\n      <td>2023-07-16</td>\n      <td>3087677.0</td>\n      <td>1349150</td>\n      <td>107.300</td>\n      <td>47.260</td>\n      <td>1279231</td>\n      <td>44.811</td>\n      <td>NaN</td>\n      <td>2021-01-13</td>\n      <td>6.0</td>\n      <td>401767.0</td>\n      <td>14.074</td>\n    </tr>\n    <tr>\n      <th>1</th>\n      <td>Chile</td>\n      <td>CHL</td>\n      <td>AMRO</td>\n      <td>REPORTING</td>\n      <td>2023-06-02</td>\n      <td>66273384.0</td>\n      <td>18106832</td>\n      <td>346.687</td>\n      <td>94.720</td>\n      <td>17716364</td>\n      <td>92.677</td>\n      <td>NaN</td>\n      <td>2020-12-21</td>\n      <td>5.0</td>\n      <td>15766986.0</td>\n      <td>82.480</td>\n    </tr>\n    <tr>\n      <th>2</th>\n      <td>Congo</td>\n      <td>COG</td>\n      <td>AFRO</td>\n      <td>REPORTING</td>\n      <td>2022-07-31</td>\n      <td>833210.0</td>\n      <td>695760</td>\n      <td>15.100</td>\n      <td>12.609</td>\n      <td>654119</td>\n      <td>11.854</td>\n      <td>NaN</td>\n      <td>2021-03-23</td>\n      <td>4.0</td>\n      <td>NaN</td>\n      <td>NaN</td>\n    </tr>\n    <tr>\n      <th>3</th>\n      <td>Côte d’Ivoire</td>\n      <td>CIV</td>\n      <td>AFRO</td>\n      <td>REPORTING</td>\n      <td>2023-02-19</td>\n      <td>25263932.0</td>\n      <td>13568372</td>\n      <td>95.776</td>\n      <td>51.438</td>\n      <td>12164304</td>\n      <td>46.115</td>\n      <td>NaN</td>\n      <td>2021-03-01</td>\n      <td>5.0</td>\n      <td>3138712.0</td>\n      <td>11.899</td>\n    </tr>\n    <tr>\n      <th>4</th>\n      <td>Denmark</td>\n      <td>DNK</td>\n      <td>EURO</td>\n      <td>REPORTING</td>\n      <td>2023-08-20</td>\n      <td>14943741.0</td>\n      <td>4754913</td>\n      <td>256.600</td>\n      <td>80.956</td>\n      <td>4719688</td>\n      <td>80.357</td>\n      <td>NaN</td>\n      <td>2020-12-16</td>\n      <td>5.0</td>\n      <td>3624228.0</td>\n      <td>61.706</td>\n    </tr>\n  </tbody>\n</table>\n</div>"
                    },
                    "metadata": {},
                    "execution_count": 31,
                    "output_type": "execute_result"
                }
            ],
            "execution_count": 31
        },
        {
            "cell_type": "code",
            "source": [
                "df_vacunation.shape"
            ],
            "metadata": {
                "colab": {
                    "base_uri": "https://localhost:8080/"
                },
                "id": "ygw8i7tDJVNU",
                "outputId": "769793cd-8734-4830-afd9-edf07395caf4",
                "azdata_cell_guid": "a229b7be-e300-4673-9487-4f7748466f1f",
                "language": "python"
            },
            "outputs": [
                {
                    "data": {
                        "text/plain": "(229, 16)"
                    },
                    "metadata": {},
                    "execution_count": 32,
                    "output_type": "execute_result"
                }
            ],
            "execution_count": 32
        },
        {
            "cell_type": "code",
            "source": [
                "df_vacunation.info()"
            ],
            "metadata": {
                "colab": {
                    "base_uri": "https://localhost:8080/"
                },
                "id": "tGr2KDYnJVNU",
                "outputId": "0ea20523-2789-4a1f-e589-8a6e54a06317",
                "azdata_cell_guid": "0602f72a-be39-46ce-b6a9-be50b3817006",
                "language": "python"
            },
            "outputs": [
                {
                    "name": "stdout",
                    "text": "<class 'pandas.core.frame.DataFrame'>\nRangeIndex: 229 entries, 0 to 228\nData columns (total 16 columns):\n #   Column                                Non-Null Count  Dtype  \n---  ------                                --------------  -----  \n 0   COUNTRY                               229 non-null    object \n 1   ISO3                                  229 non-null    object \n 2   WHO_REGION                            229 non-null    object \n 3   DATA_SOURCE                           229 non-null    object \n 4   DATE_UPDATED                          229 non-null    object \n 5   TOTAL_VACCINATIONS                    228 non-null    float64\n 6   PERSONS_VACCINATED_1PLUS_DOSE         229 non-null    int64  \n 7   TOTAL_VACCINATIONS_PER100             224 non-null    float64\n 8   PERSONS_VACCINATED_1PLUS_DOSE_PER100  229 non-null    float64\n 9   PERSONS_LAST_DOSE                     229 non-null    int64  \n 10  PERSONS_LAST_DOSE_PER100              229 non-null    float64\n 11  VACCINES_USED                         0 non-null      float64\n 12  FIRST_VACCINE_DATE                    207 non-null    object \n 13  NUMBER_VACCINES_TYPES_USED            225 non-null    float64\n 14  PERSONS_BOOSTER_ADD_DOSE              212 non-null    float64\n 15  PERSONS_BOOSTER_ADD_DOSE_PER100       212 non-null    float64\ndtypes: float64(8), int64(2), object(6)\nmemory usage: 28.8+ KB\n",
                    "output_type": "stream"
                }
            ],
            "execution_count": 33
        },
        {
            "cell_type": "markdown",
            "source": [
                "Transformamos los **campos de fecha** que aparecen con tipo de datos cadena de caracteres a formato fecha<br>\n",
                "\n",
                "1.- DATE_UPDATED<br>\n",
                "2.- FIRST_VACCINE_DATE<br>"
            ],
            "metadata": {
                "id": "2MJKqtFOJVNU",
                "azdata_cell_guid": "4a2ef47a-fe75-4919-bc52-834bf5a5ade4"
            }
        },
        {
            "cell_type": "code",
            "source": [
                "df_vacunation['DATE_UPDATED']= pd.to_datetime(df_vacunation['DATE_UPDATED']).dt.strftime('%d-%m-%Y')\n",
                "df_vacunation['FIRST_VACCINE_DATE']= pd.to_datetime(df_vacunation['FIRST_VACCINE_DATE']).dt.strftime('%d-%m-%Y')"
            ],
            "metadata": {
                "id": "_vZZzlmSJVNV",
                "azdata_cell_guid": "506f1da4-2dbb-4a23-9a25-d4af49740699",
                "language": "python"
            },
            "outputs": [],
            "execution_count": 34
        },
        {
            "cell_type": "markdown",
            "source": [
                "Verificamos que se han modificado el tipo de datos en ambas variables de fecha"
            ],
            "metadata": {
                "id": "-dCKkszHJVNV",
                "azdata_cell_guid": "95630bbe-ee12-48af-978a-de0b72ad65b4"
            }
        },
        {
            "cell_type": "code",
            "source": [
                "df_vacunation.info()"
            ],
            "metadata": {
                "colab": {
                    "base_uri": "https://localhost:8080/"
                },
                "id": "U15QVqG8JVNV",
                "outputId": "8c1acc18-9ad3-4dbe-f641-b9b27047b195",
                "scrolled": true,
                "azdata_cell_guid": "0d5d1fb0-7998-437d-8bf7-6397e0c6fc83",
                "language": "python"
            },
            "outputs": [
                {
                    "name": "stdout",
                    "text": "<class 'pandas.core.frame.DataFrame'>\nRangeIndex: 229 entries, 0 to 228\nData columns (total 16 columns):\n #   Column                                Non-Null Count  Dtype  \n---  ------                                --------------  -----  \n 0   COUNTRY                               229 non-null    object \n 1   ISO3                                  229 non-null    object \n 2   WHO_REGION                            229 non-null    object \n 3   DATA_SOURCE                           229 non-null    object \n 4   DATE_UPDATED                          229 non-null    object \n 5   TOTAL_VACCINATIONS                    228 non-null    float64\n 6   PERSONS_VACCINATED_1PLUS_DOSE         229 non-null    int64  \n 7   TOTAL_VACCINATIONS_PER100             224 non-null    float64\n 8   PERSONS_VACCINATED_1PLUS_DOSE_PER100  229 non-null    float64\n 9   PERSONS_LAST_DOSE                     229 non-null    int64  \n 10  PERSONS_LAST_DOSE_PER100              229 non-null    float64\n 11  VACCINES_USED                         0 non-null      float64\n 12  FIRST_VACCINE_DATE                    207 non-null    object \n 13  NUMBER_VACCINES_TYPES_USED            225 non-null    float64\n 14  PERSONS_BOOSTER_ADD_DOSE              212 non-null    float64\n 15  PERSONS_BOOSTER_ADD_DOSE_PER100       212 non-null    float64\ndtypes: float64(8), int64(2), object(6)\nmemory usage: 28.8+ KB\n",
                    "output_type": "stream"
                }
            ],
            "execution_count": 35
        },
        {
            "cell_type": "markdown",
            "source": [
                "Transformamos los **campos numéricos** que aparecen como tipo de datos cadena de caracteres \"Object\" a formato numérico <br>"
            ],
            "metadata": {
                "id": "eNRQs3OOJVNV",
                "azdata_cell_guid": "fca1bd82-f414-4a95-b3d9-43dcc5d7821a"
            }
        },
        {
            "cell_type": "code",
            "source": [
                "df_vacunation['TOTAL_VACCINATIONS']= pd.to_numeric(df_vacunation['TOTAL_VACCINATIONS'], downcast='signed')"
            ],
            "metadata": {
                "id": "wCW8trRgJVNV",
                "azdata_cell_guid": "f4a646f0-6ad2-4bc1-9e74-f34746872405",
                "language": "python"
            },
            "outputs": [],
            "execution_count": 36
        },
        {
            "cell_type": "markdown",
            "source": [
                "Verificamos que se ha modificado el tipo de datos a numérico."
            ],
            "metadata": {
                "id": "myAAN1VmJVNW",
                "azdata_cell_guid": "2a4389ad-629f-4c8d-9a44-6f0fb3f281a1"
            }
        },
        {
            "cell_type": "code",
            "source": [
                "df_vacunation.info()"
            ],
            "metadata": {
                "colab": {
                    "base_uri": "https://localhost:8080/"
                },
                "id": "9gTvMiNhJVNW",
                "outputId": "a2bfa7c3-50d9-40b0-a603-23df65e2b001",
                "scrolled": true,
                "azdata_cell_guid": "ac53ea04-1c44-4f6a-aabd-c3d88fc6b020",
                "language": "python"
            },
            "outputs": [
                {
                    "name": "stdout",
                    "text": "<class 'pandas.core.frame.DataFrame'>\nRangeIndex: 229 entries, 0 to 228\nData columns (total 16 columns):\n #   Column                                Non-Null Count  Dtype  \n---  ------                                --------------  -----  \n 0   COUNTRY                               229 non-null    object \n 1   ISO3                                  229 non-null    object \n 2   WHO_REGION                            229 non-null    object \n 3   DATA_SOURCE                           229 non-null    object \n 4   DATE_UPDATED                          229 non-null    object \n 5   TOTAL_VACCINATIONS                    228 non-null    float64\n 6   PERSONS_VACCINATED_1PLUS_DOSE         229 non-null    int64  \n 7   TOTAL_VACCINATIONS_PER100             224 non-null    float64\n 8   PERSONS_VACCINATED_1PLUS_DOSE_PER100  229 non-null    float64\n 9   PERSONS_LAST_DOSE                     229 non-null    int64  \n 10  PERSONS_LAST_DOSE_PER100              229 non-null    float64\n 11  VACCINES_USED                         0 non-null      float64\n 12  FIRST_VACCINE_DATE                    207 non-null    object \n 13  NUMBER_VACCINES_TYPES_USED            225 non-null    float64\n 14  PERSONS_BOOSTER_ADD_DOSE              212 non-null    float64\n 15  PERSONS_BOOSTER_ADD_DOSE_PER100       212 non-null    float64\ndtypes: float64(8), int64(2), object(6)\nmemory usage: 28.8+ KB\n",
                    "output_type": "stream"
                }
            ],
            "execution_count": 37
        },
        {
            "cell_type": "markdown",
            "source": [
                "Elimino la columna **VACCINES_USED** ya que no hay valores...!!!"
            ],
            "metadata": {
                "id": "lN-UiGy5JVNW",
                "azdata_cell_guid": "76f88358-a765-42fe-a250-67aad218dcd5"
            }
        },
        {
            "cell_type": "code",
            "source": [
                "df_vacunation.drop(['VACCINES_USED'], axis=1, inplace= True)"
            ],
            "metadata": {
                "id": "mqZd15TIJVNW",
                "azdata_cell_guid": "48b68e7a-6661-4269-95a1-24a3fbd4a86c",
                "language": "python"
            },
            "outputs": [],
            "execution_count": 38
        },
        {
            "cell_type": "markdown",
            "source": [
                "Observamos que no hay **ningún valor duplicado**"
            ],
            "metadata": {
                "id": "rHbIbjL8JVNW",
                "azdata_cell_guid": "024c5f4e-d690-41f1-86c4-212fb11e6bf6"
            }
        },
        {
            "cell_type": "code",
            "source": [
                "df_vacunation.duplicated().values.any()"
            ],
            "metadata": {
                "colab": {
                    "base_uri": "https://localhost:8080/"
                },
                "id": "Bvz9X_d5JVNW",
                "outputId": "951631ad-5db6-42e1-a1c3-a37d53e6d71f",
                "azdata_cell_guid": "b13b242c-1cf2-4392-979a-3d4395cf56a3",
                "language": "python"
            },
            "outputs": [
                {
                    "data": {
                        "text/plain": "False"
                    },
                    "metadata": {},
                    "execution_count": 39,
                    "output_type": "execute_result"
                }
            ],
            "execution_count": 39
        },
        {
            "cell_type": "markdown",
            "source": [
                "Observamos que hay **66 valores nulos**"
            ],
            "metadata": {
                "id": "ukSBndYDJVNX",
                "azdata_cell_guid": "9a64a8f0-76d0-4e80-aced-0bda4d3fd8f7"
            },
            "attachments": {}
        },
        {
            "cell_type": "code",
            "source": [
                "df_vacunation.isnull().values.sum()"
            ],
            "metadata": {
                "colab": {
                    "base_uri": "https://localhost:8080/"
                },
                "id": "AoZYYYpzJVNc",
                "outputId": "5598399c-1935-490b-b343-d5eff9f5d4a6",
                "scrolled": true,
                "azdata_cell_guid": "6a30da85-7fc8-453e-8a42-1d1b62e45183",
                "language": "python"
            },
            "outputs": [
                {
                    "data": {
                        "text/plain": "66"
                    },
                    "metadata": {},
                    "execution_count": 40,
                    "output_type": "execute_result"
                }
            ],
            "execution_count": 40
        },
        {
            "cell_type": "markdown",
            "source": [
                "Identificamos en que **Variable** y la **suma de valores nulos**"
            ],
            "metadata": {
                "id": "na1CTRoPJVNd",
                "azdata_cell_guid": "0bdff56b-381d-43ee-ac8c-5d06bfe279b0"
            }
        },
        {
            "cell_type": "code",
            "source": [
                "df_vacunation.isnull().sum()"
            ],
            "metadata": {
                "colab": {
                    "base_uri": "https://localhost:8080/"
                },
                "id": "aj7mtG6gJVNe",
                "outputId": "40d6a5c7-ec42-4fe8-caba-cd0889b55320",
                "scrolled": false,
                "azdata_cell_guid": "8e5c0592-c1de-407c-b31d-f023e8b2eb42",
                "language": "python"
            },
            "outputs": [
                {
                    "data": {
                        "text/plain": "COUNTRY                                  0\nISO3                                     0\nWHO_REGION                               0\nDATA_SOURCE                              0\nDATE_UPDATED                             0\nTOTAL_VACCINATIONS                       1\nPERSONS_VACCINATED_1PLUS_DOSE            0\nTOTAL_VACCINATIONS_PER100                5\nPERSONS_VACCINATED_1PLUS_DOSE_PER100     0\nPERSONS_LAST_DOSE                        0\nPERSONS_LAST_DOSE_PER100                 0\nFIRST_VACCINE_DATE                      22\nNUMBER_VACCINES_TYPES_USED               4\nPERSONS_BOOSTER_ADD_DOSE                17\nPERSONS_BOOSTER_ADD_DOSE_PER100         17\ndtype: int64"
                    },
                    "metadata": {},
                    "execution_count": 41,
                    "output_type": "execute_result"
                }
            ],
            "execution_count": 41
        },
        {
            "cell_type": "markdown",
            "source": [
                "Identificamos **el/los registros** donde se ecuentran los **valores nulos**<br>\n",
                "\n",
                "1.-TOTAL_VACCINATIONS<br>\n",
                "2.-TOTAL_VACCINATIONS_PER100<br>\n",
                "3.-FIRST_VACCINE_DATE<br>\n",
                "4.-NUMBER_VACCINES_TYPES_USED<br>\n",
                "5.-PERSONS_BOOSTER_ADD_DOSE<br>\n",
                "6.-PERSONS_BOOSTER_ADD_DOSE_PER100<br>"
            ],
            "metadata": {
                "id": "cDHz61G3JVNe",
                "azdata_cell_guid": "56a11dea-e950-44da-b32c-2dfc10d411ce"
            }
        },
        {
            "cell_type": "code",
            "source": [
                "df_vacunation[df_vacunation['TOTAL_VACCINATIONS'].isnull()]"
            ],
            "metadata": {
                "colab": {
                    "base_uri": "https://localhost:8080/",
                    "height": 145
                },
                "id": "cwKmsHj1JVNe",
                "outputId": "8cc54708-80f8-4d4d-9e05-7f0af2b2d631",
                "azdata_cell_guid": "231e55c9-ded0-4cb6-a901-ac228ecf01b2",
                "language": "python"
            },
            "outputs": [
                {
                    "data": {
                        "text/plain": "     COUNTRY ISO3 WHO_REGION DATA_SOURCE DATE_UPDATED  TOTAL_VACCINATIONS  \\\n155  Eritrea  ERI       AFRO   REPORTING   03-07-2022                 NaN   \n\n     PERSONS_VACCINATED_1PLUS_DOSE  TOTAL_VACCINATIONS_PER100  \\\n155                              0                        NaN   \n\n     PERSONS_VACCINATED_1PLUS_DOSE_PER100  PERSONS_LAST_DOSE  \\\n155                                   0.0                  0   \n\n     PERSONS_LAST_DOSE_PER100 FIRST_VACCINE_DATE  NUMBER_VACCINES_TYPES_USED  \\\n155                       0.0                NaN                         NaN   \n\n     PERSONS_BOOSTER_ADD_DOSE  PERSONS_BOOSTER_ADD_DOSE_PER100  \n155                       NaN                              NaN  ",
                        "text/html": "<div>\n<style scoped>\n    .dataframe tbody tr th:only-of-type {\n        vertical-align: middle;\n    }\n\n    .dataframe tbody tr th {\n        vertical-align: top;\n    }\n\n    .dataframe thead th {\n        text-align: right;\n    }\n</style>\n<table border=\"1\" class=\"dataframe\">\n  <thead>\n    <tr style=\"text-align: right;\">\n      <th></th>\n      <th>COUNTRY</th>\n      <th>ISO3</th>\n      <th>WHO_REGION</th>\n      <th>DATA_SOURCE</th>\n      <th>DATE_UPDATED</th>\n      <th>TOTAL_VACCINATIONS</th>\n      <th>PERSONS_VACCINATED_1PLUS_DOSE</th>\n      <th>TOTAL_VACCINATIONS_PER100</th>\n      <th>PERSONS_VACCINATED_1PLUS_DOSE_PER100</th>\n      <th>PERSONS_LAST_DOSE</th>\n      <th>PERSONS_LAST_DOSE_PER100</th>\n      <th>FIRST_VACCINE_DATE</th>\n      <th>NUMBER_VACCINES_TYPES_USED</th>\n      <th>PERSONS_BOOSTER_ADD_DOSE</th>\n      <th>PERSONS_BOOSTER_ADD_DOSE_PER100</th>\n    </tr>\n  </thead>\n  <tbody>\n    <tr>\n      <th>155</th>\n      <td>Eritrea</td>\n      <td>ERI</td>\n      <td>AFRO</td>\n      <td>REPORTING</td>\n      <td>03-07-2022</td>\n      <td>NaN</td>\n      <td>0</td>\n      <td>NaN</td>\n      <td>0.0</td>\n      <td>0</td>\n      <td>0.0</td>\n      <td>NaN</td>\n      <td>NaN</td>\n      <td>NaN</td>\n      <td>NaN</td>\n    </tr>\n  </tbody>\n</table>\n</div>"
                    },
                    "metadata": {},
                    "execution_count": 42,
                    "output_type": "execute_result"
                }
            ],
            "execution_count": 42
        },
        {
            "cell_type": "code",
            "source": [
                "df_vacunation[df_vacunation['TOTAL_VACCINATIONS_PER100'].isnull()]"
            ],
            "metadata": {
                "colab": {
                    "base_uri": "https://localhost:8080/",
                    "height": 176
                },
                "id": "RyPOAQ8PJVNf",
                "outputId": "c48b1eb3-740c-43e5-ddd2-30d36937cbba",
                "azdata_cell_guid": "addcbd9e-784c-46e7-bffb-8f5c62ce4c58",
                "language": "python"
            },
            "outputs": [
                {
                    "data": {
                        "text/plain": "                    COUNTRY ISO3 WHO_REGION DATA_SOURCE DATE_UPDATED  \\\n71                   Kosovo  XKX       EURO   REPORTING   15-01-2023   \n96      Republic of Moldova  MDA       EURO   REPORTING   27-08-2023   \n155                 Eritrea  ERI       AFRO   REPORTING   03-07-2022   \n179  Bosnia and Herzegovina  BIH       EURO   REPORTING   29-01-2022   \n201                  Turkey  TUR       EURO   REPORTING   29-01-2023   \n\n     TOTAL_VACCINATIONS  PERSONS_VACCINATED_1PLUS_DOSE  \\\n71            1836901.0                         904558   \n96            2290848.0                        1109177   \n155                 NaN                              0   \n179           1924950.0                         943394   \n201         139694693.0                       50974980   \n\n     TOTAL_VACCINATIONS_PER100  PERSONS_VACCINATED_1PLUS_DOSE_PER100  \\\n71                         NaN                                50.758   \n96                         NaN                                36.230   \n155                        NaN                                 0.000   \n179                        NaN                                28.842   \n201                        NaN                                60.735   \n\n     PERSONS_LAST_DOSE  PERSONS_LAST_DOSE_PER100 FIRST_VACCINE_DATE  \\\n71              824752                    46.279         31-03-2021   \n96             1078747                    35.236         03-03-2021   \n155                  0                     0.000                NaN   \n179             846080                    25.867                NaN   \n201           50670345                    59.770                NaN   \n\n     NUMBER_VACCINES_TYPES_USED  PERSONS_BOOSTER_ADD_DOSE  \\\n71                          2.0                  105624.0   \n96                          7.0                  404345.0   \n155                         NaN                       NaN   \n179                         4.0                       NaN   \n201                         3.0                27896331.0   \n\n     PERSONS_BOOSTER_ADD_DOSE_PER100  \n71                             5.927  \n96                            13.207  \n155                              NaN  \n179                              NaN  \n201                           32.906  ",
                        "text/html": "<div>\n<style scoped>\n    .dataframe tbody tr th:only-of-type {\n        vertical-align: middle;\n    }\n\n    .dataframe tbody tr th {\n        vertical-align: top;\n    }\n\n    .dataframe thead th {\n        text-align: right;\n    }\n</style>\n<table border=\"1\" class=\"dataframe\">\n  <thead>\n    <tr style=\"text-align: right;\">\n      <th></th>\n      <th>COUNTRY</th>\n      <th>ISO3</th>\n      <th>WHO_REGION</th>\n      <th>DATA_SOURCE</th>\n      <th>DATE_UPDATED</th>\n      <th>TOTAL_VACCINATIONS</th>\n      <th>PERSONS_VACCINATED_1PLUS_DOSE</th>\n      <th>TOTAL_VACCINATIONS_PER100</th>\n      <th>PERSONS_VACCINATED_1PLUS_DOSE_PER100</th>\n      <th>PERSONS_LAST_DOSE</th>\n      <th>PERSONS_LAST_DOSE_PER100</th>\n      <th>FIRST_VACCINE_DATE</th>\n      <th>NUMBER_VACCINES_TYPES_USED</th>\n      <th>PERSONS_BOOSTER_ADD_DOSE</th>\n      <th>PERSONS_BOOSTER_ADD_DOSE_PER100</th>\n    </tr>\n  </thead>\n  <tbody>\n    <tr>\n      <th>71</th>\n      <td>Kosovo</td>\n      <td>XKX</td>\n      <td>EURO</td>\n      <td>REPORTING</td>\n      <td>15-01-2023</td>\n      <td>1836901.0</td>\n      <td>904558</td>\n      <td>NaN</td>\n      <td>50.758</td>\n      <td>824752</td>\n      <td>46.279</td>\n      <td>31-03-2021</td>\n      <td>2.0</td>\n      <td>105624.0</td>\n      <td>5.927</td>\n    </tr>\n    <tr>\n      <th>96</th>\n      <td>Republic of Moldova</td>\n      <td>MDA</td>\n      <td>EURO</td>\n      <td>REPORTING</td>\n      <td>27-08-2023</td>\n      <td>2290848.0</td>\n      <td>1109177</td>\n      <td>NaN</td>\n      <td>36.230</td>\n      <td>1078747</td>\n      <td>35.236</td>\n      <td>03-03-2021</td>\n      <td>7.0</td>\n      <td>404345.0</td>\n      <td>13.207</td>\n    </tr>\n    <tr>\n      <th>155</th>\n      <td>Eritrea</td>\n      <td>ERI</td>\n      <td>AFRO</td>\n      <td>REPORTING</td>\n      <td>03-07-2022</td>\n      <td>NaN</td>\n      <td>0</td>\n      <td>NaN</td>\n      <td>0.000</td>\n      <td>0</td>\n      <td>0.000</td>\n      <td>NaN</td>\n      <td>NaN</td>\n      <td>NaN</td>\n      <td>NaN</td>\n    </tr>\n    <tr>\n      <th>179</th>\n      <td>Bosnia and Herzegovina</td>\n      <td>BIH</td>\n      <td>EURO</td>\n      <td>REPORTING</td>\n      <td>29-01-2022</td>\n      <td>1924950.0</td>\n      <td>943394</td>\n      <td>NaN</td>\n      <td>28.842</td>\n      <td>846080</td>\n      <td>25.867</td>\n      <td>NaN</td>\n      <td>4.0</td>\n      <td>NaN</td>\n      <td>NaN</td>\n    </tr>\n    <tr>\n      <th>201</th>\n      <td>Turkey</td>\n      <td>TUR</td>\n      <td>EURO</td>\n      <td>REPORTING</td>\n      <td>29-01-2023</td>\n      <td>139694693.0</td>\n      <td>50974980</td>\n      <td>NaN</td>\n      <td>60.735</td>\n      <td>50670345</td>\n      <td>59.770</td>\n      <td>NaN</td>\n      <td>3.0</td>\n      <td>27896331.0</td>\n      <td>32.906</td>\n    </tr>\n  </tbody>\n</table>\n</div>"
                    },
                    "metadata": {},
                    "execution_count": 43,
                    "output_type": "execute_result"
                }
            ],
            "execution_count": 43
        },
        {
            "cell_type": "code",
            "source": [
                "df_vacunation[df_vacunation['FIRST_VACCINE_DATE'].isnull()]"
            ],
            "metadata": {
                "colab": {
                    "base_uri": "https://localhost:8080/",
                    "height": 1000
                },
                "id": "_cWefIOxJVNf",
                "outputId": "e99624ae-aba2-408a-e816-2f226fcfb0e5",
                "scrolled": true,
                "azdata_cell_guid": "7bda1488-cfa6-4d19-838f-58a8a4f51dca",
                "language": "python"
            },
            "outputs": [
                {
                    "data": {
                        "text/plain": "                                          COUNTRY ISO3 WHO_REGION DATA_SOURCE  \\\n5                                       Greenland  GRL       EURO        OWID   \n6                                        Guernsey  GGY       EURO        OWID   \n39                                          Qatar  QAT       EMRO   REPORTING   \n45                           United Arab Emirates  ARE       EMRO   REPORTING   \n58               Bonaire, Sint Eustatius and Saba  BES       AMRO        OWID   \n87                                          Haiti  HTI       AMRO   REPORTING   \n89                                         Jersey  JEY       EURO        OWID   \n112                                          Cuba  CUB       AMRO   REPORTING   \n143                                          Saba  XCA       AMRO   REPORTING   \n149                                       Bonaire  XAA       AMRO   REPORTING   \n155                                       Eritrea  ERI       AFRO   REPORTING   \n158                                   Isle of Man  IMN       EURO        OWID   \n162                                    Martinique  MTQ       AMRO   REPORTING   \n173                                   Puerto Rico  PRI       AMRO   REPORTING   \n179                        Bosnia and Herzegovina  BIH       EURO   REPORTING   \n186                                     Gibraltar  GIB       EURO        OWID   \n194  Saint Helena, Ascension and Tristan da Cunha  SHN       AFRO        OWID   \n201                                        Turkey  TUR       EURO   REPORTING   \n206                   Falkland Islands (Malvinas)  FLK       AMRO   REPORTING   \n207                                 Faroe Islands  FRO       EURO        OWID   \n219                            Russian Federation  RUS       EURO        OWID   \n223                                Sint Eustatius  XBA       AMRO   REPORTING   \n\n    DATE_UPDATED  TOTAL_VACCINATIONS  PERSONS_VACCINATED_1PLUS_DOSE  \\\n5     14-03-2022             79738.0                          41227   \n6     19-12-2022            178525.0                          54223   \n39    07-05-2023           7609178.0                        2852178   \n45    06-07-2022          24922054.0                        9991089   \n58    01-09-2021             35845.0                          19109   \n87    02-06-2023            664150.0                         521396   \n89    29-01-2023            266953.0                          84365   \n112   02-06-2023          38105906.0                       10749013   \n143   02-06-2023              4979.0                           1687   \n149   02-06-2023             43070.0                          17460   \n155   03-07-2022                 NaN                              0   \n158   23-06-2022            189994.0                          69560   \n162   02-06-2023            401816.0                         150795   \n173   02-06-2023           7846764.0                        2905470   \n179   29-01-2022           1924950.0                         943394   \n186   16-12-2022            132810.0                          42175   \n194   05-05-2021              7892.0                           4361   \n201   29-01-2023         139694693.0                       50974980   \n206   21-06-2022              9390.0                           3220   \n207   18-02-2022            103894.0                          41715   \n219   27-09-2023         186700479.0                       88819982   \n223   02-06-2023              4319.0                           1791   \n\n     TOTAL_VACCINATIONS_PER100  PERSONS_VACCINATED_1PLUS_DOSE_PER100  \\\n5                      140.453                                72.619   \n6                      276.920                                84.108   \n39                     264.111                                98.998   \n45                     251.982                               101.018   \n58                     137.934                                73.533   \n87                       5.825                                 4.573   \n89                     247.646                                78.264   \n112                    336.428                                94.900   \n143                    257.579                                87.274   \n149                    205.929                                83.481   \n155                        NaN                                 0.000   \n158                    223.438                                81.804   \n162                    107.075                                40.184   \n173                    274.281                               101.560   \n179                        NaN                                28.842   \n186                    394.200                               125.182   \n194                    129.995                                71.833   \n201                        NaN                                60.735   \n206                    269.595                                92.449   \n207                    212.614                                85.368   \n219                    127.900                                61.212   \n223                    137.592                                57.056   \n\n     PERSONS_LAST_DOSE  PERSONS_LAST_DOSE_PER100 FIRST_VACCINE_DATE  \\\n5                38511                    67.834                NaN   \n6                52710                    81.761                NaN   \n39             2852178                    98.998                NaN   \n45             9792266                    99.008                NaN   \n58               16736                    64.401                NaN   \n87              350403                     3.073                NaN   \n89               81882                    75.960                NaN   \n112           10016328                    88.432                NaN   \n143               1667                    86.239                NaN   \n149              16189                    77.404                NaN   \n155                  0                     0.000                NaN   \n158              67106                    78.919                NaN   \n162             145536                    38.782                NaN   \n173            2688410                    93.972                NaN   \n179             846080                    25.867                NaN   \n186              41465                   123.074                NaN   \n194               3531                    58.162                NaN   \n201           50670345                    59.770                NaN   \n206               2976                    85.444                NaN   \n207              40895                    83.690                NaN   \n219           79702396                    54.928                NaN   \n223               1686                    53.711                NaN   \n\n     NUMBER_VACCINES_TYPES_USED  PERSONS_BOOSTER_ADD_DOSE  \\\n5                           1.0                       NaN   \n6                           3.0                   69339.0   \n39                         10.0                 1904822.0   \n45                         11.0                 5138699.0   \n58                          2.0                       NaN   \n87                          2.0                       NaN   \n89                          3.0                   73662.0   \n112                         3.0                 8742146.0   \n143                         NaN                    1170.0   \n149                         NaN                    8125.0   \n155                         NaN                       NaN   \n158                         3.0                   53328.0   \n162                         2.0                   92919.0   \n173                         4.0                 1808780.0   \n179                         4.0                       NaN   \n186                         2.0                   49170.0   \n194                         1.0                       NaN   \n201                         3.0                27896331.0   \n206                         1.0                    2543.0   \n207                         2.0                   21284.0   \n219                         2.0                       NaN   \n223                         NaN                     767.0   \n\n     PERSONS_BOOSTER_ADD_DOSE_PER100  \n5                                NaN  \n6                            107.556  \n39                            66.115  \n45                            51.956  \n58                               NaN  \n87                               NaN  \n89                            68.335  \n112                           77.182  \n143                           60.528  \n149                           38.848  \n155                              NaN  \n158                           62.715  \n162                           24.761  \n173                           63.225  \n179                              NaN  \n186                          145.944  \n194                              NaN  \n201                           32.906  \n206                           73.012  \n207                           43.557  \n219                              NaN  \n223                           24.435  ",
                        "text/html": "<div>\n<style scoped>\n    .dataframe tbody tr th:only-of-type {\n        vertical-align: middle;\n    }\n\n    .dataframe tbody tr th {\n        vertical-align: top;\n    }\n\n    .dataframe thead th {\n        text-align: right;\n    }\n</style>\n<table border=\"1\" class=\"dataframe\">\n  <thead>\n    <tr style=\"text-align: right;\">\n      <th></th>\n      <th>COUNTRY</th>\n      <th>ISO3</th>\n      <th>WHO_REGION</th>\n      <th>DATA_SOURCE</th>\n      <th>DATE_UPDATED</th>\n      <th>TOTAL_VACCINATIONS</th>\n      <th>PERSONS_VACCINATED_1PLUS_DOSE</th>\n      <th>TOTAL_VACCINATIONS_PER100</th>\n      <th>PERSONS_VACCINATED_1PLUS_DOSE_PER100</th>\n      <th>PERSONS_LAST_DOSE</th>\n      <th>PERSONS_LAST_DOSE_PER100</th>\n      <th>FIRST_VACCINE_DATE</th>\n      <th>NUMBER_VACCINES_TYPES_USED</th>\n      <th>PERSONS_BOOSTER_ADD_DOSE</th>\n      <th>PERSONS_BOOSTER_ADD_DOSE_PER100</th>\n    </tr>\n  </thead>\n  <tbody>\n    <tr>\n      <th>5</th>\n      <td>Greenland</td>\n      <td>GRL</td>\n      <td>EURO</td>\n      <td>OWID</td>\n      <td>14-03-2022</td>\n      <td>79738.0</td>\n      <td>41227</td>\n      <td>140.453</td>\n      <td>72.619</td>\n      <td>38511</td>\n      <td>67.834</td>\n      <td>NaN</td>\n      <td>1.0</td>\n      <td>NaN</td>\n      <td>NaN</td>\n    </tr>\n    <tr>\n      <th>6</th>\n      <td>Guernsey</td>\n      <td>GGY</td>\n      <td>EURO</td>\n      <td>OWID</td>\n      <td>19-12-2022</td>\n      <td>178525.0</td>\n      <td>54223</td>\n      <td>276.920</td>\n      <td>84.108</td>\n      <td>52710</td>\n      <td>81.761</td>\n      <td>NaN</td>\n      <td>3.0</td>\n      <td>69339.0</td>\n      <td>107.556</td>\n    </tr>\n    <tr>\n      <th>39</th>\n      <td>Qatar</td>\n      <td>QAT</td>\n      <td>EMRO</td>\n      <td>REPORTING</td>\n      <td>07-05-2023</td>\n      <td>7609178.0</td>\n      <td>2852178</td>\n      <td>264.111</td>\n      <td>98.998</td>\n      <td>2852178</td>\n      <td>98.998</td>\n      <td>NaN</td>\n      <td>10.0</td>\n      <td>1904822.0</td>\n      <td>66.115</td>\n    </tr>\n    <tr>\n      <th>45</th>\n      <td>United Arab Emirates</td>\n      <td>ARE</td>\n      <td>EMRO</td>\n      <td>REPORTING</td>\n      <td>06-07-2022</td>\n      <td>24922054.0</td>\n      <td>9991089</td>\n      <td>251.982</td>\n      <td>101.018</td>\n      <td>9792266</td>\n      <td>99.008</td>\n      <td>NaN</td>\n      <td>11.0</td>\n      <td>5138699.0</td>\n      <td>51.956</td>\n    </tr>\n    <tr>\n      <th>58</th>\n      <td>Bonaire, Sint Eustatius and Saba</td>\n      <td>BES</td>\n      <td>AMRO</td>\n      <td>OWID</td>\n      <td>01-09-2021</td>\n      <td>35845.0</td>\n      <td>19109</td>\n      <td>137.934</td>\n      <td>73.533</td>\n      <td>16736</td>\n      <td>64.401</td>\n      <td>NaN</td>\n      <td>2.0</td>\n      <td>NaN</td>\n      <td>NaN</td>\n    </tr>\n    <tr>\n      <th>87</th>\n      <td>Haiti</td>\n      <td>HTI</td>\n      <td>AMRO</td>\n      <td>REPORTING</td>\n      <td>02-06-2023</td>\n      <td>664150.0</td>\n      <td>521396</td>\n      <td>5.825</td>\n      <td>4.573</td>\n      <td>350403</td>\n      <td>3.073</td>\n      <td>NaN</td>\n      <td>2.0</td>\n      <td>NaN</td>\n      <td>NaN</td>\n    </tr>\n    <tr>\n      <th>89</th>\n      <td>Jersey</td>\n      <td>JEY</td>\n      <td>EURO</td>\n      <td>OWID</td>\n      <td>29-01-2023</td>\n      <td>266953.0</td>\n      <td>84365</td>\n      <td>247.646</td>\n      <td>78.264</td>\n      <td>81882</td>\n      <td>75.960</td>\n      <td>NaN</td>\n      <td>3.0</td>\n      <td>73662.0</td>\n      <td>68.335</td>\n    </tr>\n    <tr>\n      <th>112</th>\n      <td>Cuba</td>\n      <td>CUB</td>\n      <td>AMRO</td>\n      <td>REPORTING</td>\n      <td>02-06-2023</td>\n      <td>38105906.0</td>\n      <td>10749013</td>\n      <td>336.428</td>\n      <td>94.900</td>\n      <td>10016328</td>\n      <td>88.432</td>\n      <td>NaN</td>\n      <td>3.0</td>\n      <td>8742146.0</td>\n      <td>77.182</td>\n    </tr>\n    <tr>\n      <th>143</th>\n      <td>Saba</td>\n      <td>XCA</td>\n      <td>AMRO</td>\n      <td>REPORTING</td>\n      <td>02-06-2023</td>\n      <td>4979.0</td>\n      <td>1687</td>\n      <td>257.579</td>\n      <td>87.274</td>\n      <td>1667</td>\n      <td>86.239</td>\n      <td>NaN</td>\n      <td>NaN</td>\n      <td>1170.0</td>\n      <td>60.528</td>\n    </tr>\n    <tr>\n      <th>149</th>\n      <td>Bonaire</td>\n      <td>XAA</td>\n      <td>AMRO</td>\n      <td>REPORTING</td>\n      <td>02-06-2023</td>\n      <td>43070.0</td>\n      <td>17460</td>\n      <td>205.929</td>\n      <td>83.481</td>\n      <td>16189</td>\n      <td>77.404</td>\n      <td>NaN</td>\n      <td>NaN</td>\n      <td>8125.0</td>\n      <td>38.848</td>\n    </tr>\n    <tr>\n      <th>155</th>\n      <td>Eritrea</td>\n      <td>ERI</td>\n      <td>AFRO</td>\n      <td>REPORTING</td>\n      <td>03-07-2022</td>\n      <td>NaN</td>\n      <td>0</td>\n      <td>NaN</td>\n      <td>0.000</td>\n      <td>0</td>\n      <td>0.000</td>\n      <td>NaN</td>\n      <td>NaN</td>\n      <td>NaN</td>\n      <td>NaN</td>\n    </tr>\n    <tr>\n      <th>158</th>\n      <td>Isle of Man</td>\n      <td>IMN</td>\n      <td>EURO</td>\n      <td>OWID</td>\n      <td>23-06-2022</td>\n      <td>189994.0</td>\n      <td>69560</td>\n      <td>223.438</td>\n      <td>81.804</td>\n      <td>67106</td>\n      <td>78.919</td>\n      <td>NaN</td>\n      <td>3.0</td>\n      <td>53328.0</td>\n      <td>62.715</td>\n    </tr>\n    <tr>\n      <th>162</th>\n      <td>Martinique</td>\n      <td>MTQ</td>\n      <td>AMRO</td>\n      <td>REPORTING</td>\n      <td>02-06-2023</td>\n      <td>401816.0</td>\n      <td>150795</td>\n      <td>107.075</td>\n      <td>40.184</td>\n      <td>145536</td>\n      <td>38.782</td>\n      <td>NaN</td>\n      <td>2.0</td>\n      <td>92919.0</td>\n      <td>24.761</td>\n    </tr>\n    <tr>\n      <th>173</th>\n      <td>Puerto Rico</td>\n      <td>PRI</td>\n      <td>AMRO</td>\n      <td>REPORTING</td>\n      <td>02-06-2023</td>\n      <td>7846764.0</td>\n      <td>2905470</td>\n      <td>274.281</td>\n      <td>101.560</td>\n      <td>2688410</td>\n      <td>93.972</td>\n      <td>NaN</td>\n      <td>4.0</td>\n      <td>1808780.0</td>\n      <td>63.225</td>\n    </tr>\n    <tr>\n      <th>179</th>\n      <td>Bosnia and Herzegovina</td>\n      <td>BIH</td>\n      <td>EURO</td>\n      <td>REPORTING</td>\n      <td>29-01-2022</td>\n      <td>1924950.0</td>\n      <td>943394</td>\n      <td>NaN</td>\n      <td>28.842</td>\n      <td>846080</td>\n      <td>25.867</td>\n      <td>NaN</td>\n      <td>4.0</td>\n      <td>NaN</td>\n      <td>NaN</td>\n    </tr>\n    <tr>\n      <th>186</th>\n      <td>Gibraltar</td>\n      <td>GIB</td>\n      <td>EURO</td>\n      <td>OWID</td>\n      <td>16-12-2022</td>\n      <td>132810.0</td>\n      <td>42175</td>\n      <td>394.200</td>\n      <td>125.182</td>\n      <td>41465</td>\n      <td>123.074</td>\n      <td>NaN</td>\n      <td>2.0</td>\n      <td>49170.0</td>\n      <td>145.944</td>\n    </tr>\n    <tr>\n      <th>194</th>\n      <td>Saint Helena, Ascension and Tristan da Cunha</td>\n      <td>SHN</td>\n      <td>AFRO</td>\n      <td>OWID</td>\n      <td>05-05-2021</td>\n      <td>7892.0</td>\n      <td>4361</td>\n      <td>129.995</td>\n      <td>71.833</td>\n      <td>3531</td>\n      <td>58.162</td>\n      <td>NaN</td>\n      <td>1.0</td>\n      <td>NaN</td>\n      <td>NaN</td>\n    </tr>\n    <tr>\n      <th>201</th>\n      <td>Turkey</td>\n      <td>TUR</td>\n      <td>EURO</td>\n      <td>REPORTING</td>\n      <td>29-01-2023</td>\n      <td>139694693.0</td>\n      <td>50974980</td>\n      <td>NaN</td>\n      <td>60.735</td>\n      <td>50670345</td>\n      <td>59.770</td>\n      <td>NaN</td>\n      <td>3.0</td>\n      <td>27896331.0</td>\n      <td>32.906</td>\n    </tr>\n    <tr>\n      <th>206</th>\n      <td>Falkland Islands (Malvinas)</td>\n      <td>FLK</td>\n      <td>AMRO</td>\n      <td>REPORTING</td>\n      <td>21-06-2022</td>\n      <td>9390.0</td>\n      <td>3220</td>\n      <td>269.595</td>\n      <td>92.449</td>\n      <td>2976</td>\n      <td>85.444</td>\n      <td>NaN</td>\n      <td>1.0</td>\n      <td>2543.0</td>\n      <td>73.012</td>\n    </tr>\n    <tr>\n      <th>207</th>\n      <td>Faroe Islands</td>\n      <td>FRO</td>\n      <td>EURO</td>\n      <td>OWID</td>\n      <td>18-02-2022</td>\n      <td>103894.0</td>\n      <td>41715</td>\n      <td>212.614</td>\n      <td>85.368</td>\n      <td>40895</td>\n      <td>83.690</td>\n      <td>NaN</td>\n      <td>2.0</td>\n      <td>21284.0</td>\n      <td>43.557</td>\n    </tr>\n    <tr>\n      <th>219</th>\n      <td>Russian Federation</td>\n      <td>RUS</td>\n      <td>EURO</td>\n      <td>OWID</td>\n      <td>27-09-2023</td>\n      <td>186700479.0</td>\n      <td>88819982</td>\n      <td>127.900</td>\n      <td>61.212</td>\n      <td>79702396</td>\n      <td>54.928</td>\n      <td>NaN</td>\n      <td>2.0</td>\n      <td>NaN</td>\n      <td>NaN</td>\n    </tr>\n    <tr>\n      <th>223</th>\n      <td>Sint Eustatius</td>\n      <td>XBA</td>\n      <td>AMRO</td>\n      <td>REPORTING</td>\n      <td>02-06-2023</td>\n      <td>4319.0</td>\n      <td>1791</td>\n      <td>137.592</td>\n      <td>57.056</td>\n      <td>1686</td>\n      <td>53.711</td>\n      <td>NaN</td>\n      <td>NaN</td>\n      <td>767.0</td>\n      <td>24.435</td>\n    </tr>\n  </tbody>\n</table>\n</div>"
                    },
                    "metadata": {},
                    "execution_count": 44,
                    "output_type": "execute_result"
                }
            ],
            "execution_count": 44
        },
        {
            "cell_type": "code",
            "source": [
                "df_vacunation[df_vacunation['NUMBER_VACCINES_TYPES_USED'].isnull()]\n",
                "df_vacunation[df_vacunation['PERSONS_BOOSTER_ADD_DOSE'].isnull()]"
            ],
            "metadata": {
                "colab": {
                    "base_uri": "https://localhost:8080/",
                    "height": 938
                },
                "id": "TDUVQYtjJVNf",
                "outputId": "0b66987d-eed6-4c4e-d6c9-7bc6b866c9ee",
                "azdata_cell_guid": "b9ca5398-8bfe-4d16-be35-06c21ac5e019",
                "language": "python"
            },
            "outputs": [
                {
                    "data": {
                        "text/plain": "                                          COUNTRY ISO3 WHO_REGION DATA_SOURCE  \\\n2                                           Congo  COG       AFRO   REPORTING   \n5                                       Greenland  GRL       EURO        OWID   \n38                                       Portugal  PRT       EURO        OWID   \n55                                          Benin  BEN       AFRO   REPORTING   \n58               Bonaire, Sint Eustatius and Saba  BES       AMRO        OWID   \n87                                          Haiti  HTI       AMRO   REPORTING   \n129                                         Niger  NER       AFRO   REPORTING   \n136                   United Republic of Tanzania  TZA       AFRO   REPORTING   \n151                                       Comoros  COM       AFRO   REPORTING   \n153              Democratic Republic of the Congo  COD       AFRO   REPORTING   \n155                                       Eritrea  ERI       AFRO   REPORTING   \n161                                          Mali  MLI       AFRO   REPORTING   \n179                        Bosnia and Herzegovina  BIH       EURO   REPORTING   \n183                                      Djibouti  DJI       EMRO   REPORTING   \n194  Saint Helena, Ascension and Tristan da Cunha  SHN       AFRO        OWID   \n200                            The United Kingdom  GBR       EURO   REPORTING   \n219                            Russian Federation  RUS       EURO        OWID   \n\n    DATE_UPDATED  TOTAL_VACCINATIONS  PERSONS_VACCINATED_1PLUS_DOSE  \\\n2     31-07-2022            833210.0                         695760   \n5     14-03-2022             79738.0                          41227   \n38    01-09-2023          28196689.0                        9791341   \n55    18-12-2022           4232541.0                        3697190   \n58    01-09-2021             35845.0                          19109   \n87    02-06-2023            664150.0                         521396   \n129   30-07-2023           7372208.0                        6248483   \n136   12-03-2023          39392419.0                       34434933   \n151   02-10-2022            835021.0                         438825   \n153   04-06-2023          18808671.0                       17045721   \n155   03-07-2022                 NaN                              0   \n161   14-05-2023           5922585.0                        4354292   \n179   29-01-2022           1924950.0                         943394   \n183   08-10-2023            442199.0                         421573   \n194   05-05-2021              7892.0                           4361   \n200   11-09-2022         151248820.0                       53813491   \n219   27-09-2023         186700479.0                       88819982   \n\n     TOTAL_VACCINATIONS_PER100  PERSONS_VACCINATED_1PLUS_DOSE_PER100  \\\n2                       15.100                                12.609   \n5                      140.453                                72.619   \n38                     273.900                                94.584   \n55                      34.913                                30.497   \n58                     137.934                                73.533   \n87                       5.825                                 4.573   \n129                     30.455                                25.813   \n136                     65.946                                57.647   \n151                     96.023                                50.463   \n153                     21.001                                19.032   \n155                        NaN                                 0.000   \n161                     29.246                                21.502   \n179                        NaN                                28.842   \n183                     44.757                                42.669   \n194                    129.995                                71.833   \n200                    222.800                                79.983   \n219                    127.900                                61.212   \n\n     PERSONS_LAST_DOSE  PERSONS_LAST_DOSE_PER100 FIRST_VACCINE_DATE  \\\n2               654119                    11.854         23-03-2021   \n5                38511                    67.834                NaN   \n38             8906354                    86.035         23-12-2020   \n55             2742837                    22.625         29-03-2021   \n58               16736                    64.401                NaN   \n87              350403                     3.073                NaN   \n129            5483001                    22.651         29-03-2021   \n136           32165791                    53.848         28-07-2021   \n151             397080                    45.662         10-04-2021   \n153           14399520                    16.078         19-04-2021   \n155                  0                     0.000                NaN   \n161            3633589                    17.943         31-03-2021   \n179             846080                    25.867                NaN   \n183             401208                    40.608         15-03-2021   \n194               3531                    58.162                NaN   \n200           50762968                    75.449         21-12-2020   \n219           79702396                    54.928                NaN   \n\n     NUMBER_VACCINES_TYPES_USED  PERSONS_BOOSTER_ADD_DOSE  \\\n2                           4.0                       NaN   \n5                           1.0                       NaN   \n38                         12.0                       NaN   \n55                          5.0                       NaN   \n58                          2.0                       NaN   \n87                          2.0                       NaN   \n129                         2.0                       NaN   \n136                         3.0                       NaN   \n151                         3.0                       NaN   \n153                         1.0                       NaN   \n155                         NaN                       NaN   \n161                         1.0                       NaN   \n179                         4.0                       NaN   \n183                        11.0                       NaN   \n194                         1.0                       NaN   \n200                         3.0                       NaN   \n219                         2.0                       NaN   \n\n     PERSONS_BOOSTER_ADD_DOSE_PER100  \n2                                NaN  \n5                                NaN  \n38                               NaN  \n55                               NaN  \n58                               NaN  \n87                               NaN  \n129                              NaN  \n136                              NaN  \n151                              NaN  \n153                              NaN  \n155                              NaN  \n161                              NaN  \n179                              NaN  \n183                              NaN  \n194                              NaN  \n200                              NaN  \n219                              NaN  ",
                        "text/html": "<div>\n<style scoped>\n    .dataframe tbody tr th:only-of-type {\n        vertical-align: middle;\n    }\n\n    .dataframe tbody tr th {\n        vertical-align: top;\n    }\n\n    .dataframe thead th {\n        text-align: right;\n    }\n</style>\n<table border=\"1\" class=\"dataframe\">\n  <thead>\n    <tr style=\"text-align: right;\">\n      <th></th>\n      <th>COUNTRY</th>\n      <th>ISO3</th>\n      <th>WHO_REGION</th>\n      <th>DATA_SOURCE</th>\n      <th>DATE_UPDATED</th>\n      <th>TOTAL_VACCINATIONS</th>\n      <th>PERSONS_VACCINATED_1PLUS_DOSE</th>\n      <th>TOTAL_VACCINATIONS_PER100</th>\n      <th>PERSONS_VACCINATED_1PLUS_DOSE_PER100</th>\n      <th>PERSONS_LAST_DOSE</th>\n      <th>PERSONS_LAST_DOSE_PER100</th>\n      <th>FIRST_VACCINE_DATE</th>\n      <th>NUMBER_VACCINES_TYPES_USED</th>\n      <th>PERSONS_BOOSTER_ADD_DOSE</th>\n      <th>PERSONS_BOOSTER_ADD_DOSE_PER100</th>\n    </tr>\n  </thead>\n  <tbody>\n    <tr>\n      <th>2</th>\n      <td>Congo</td>\n      <td>COG</td>\n      <td>AFRO</td>\n      <td>REPORTING</td>\n      <td>31-07-2022</td>\n      <td>833210.0</td>\n      <td>695760</td>\n      <td>15.100</td>\n      <td>12.609</td>\n      <td>654119</td>\n      <td>11.854</td>\n      <td>23-03-2021</td>\n      <td>4.0</td>\n      <td>NaN</td>\n      <td>NaN</td>\n    </tr>\n    <tr>\n      <th>5</th>\n      <td>Greenland</td>\n      <td>GRL</td>\n      <td>EURO</td>\n      <td>OWID</td>\n      <td>14-03-2022</td>\n      <td>79738.0</td>\n      <td>41227</td>\n      <td>140.453</td>\n      <td>72.619</td>\n      <td>38511</td>\n      <td>67.834</td>\n      <td>NaN</td>\n      <td>1.0</td>\n      <td>NaN</td>\n      <td>NaN</td>\n    </tr>\n    <tr>\n      <th>38</th>\n      <td>Portugal</td>\n      <td>PRT</td>\n      <td>EURO</td>\n      <td>OWID</td>\n      <td>01-09-2023</td>\n      <td>28196689.0</td>\n      <td>9791341</td>\n      <td>273.900</td>\n      <td>94.584</td>\n      <td>8906354</td>\n      <td>86.035</td>\n      <td>23-12-2020</td>\n      <td>12.0</td>\n      <td>NaN</td>\n      <td>NaN</td>\n    </tr>\n    <tr>\n      <th>55</th>\n      <td>Benin</td>\n      <td>BEN</td>\n      <td>AFRO</td>\n      <td>REPORTING</td>\n      <td>18-12-2022</td>\n      <td>4232541.0</td>\n      <td>3697190</td>\n      <td>34.913</td>\n      <td>30.497</td>\n      <td>2742837</td>\n      <td>22.625</td>\n      <td>29-03-2021</td>\n      <td>5.0</td>\n      <td>NaN</td>\n      <td>NaN</td>\n    </tr>\n    <tr>\n      <th>58</th>\n      <td>Bonaire, Sint Eustatius and Saba</td>\n      <td>BES</td>\n      <td>AMRO</td>\n      <td>OWID</td>\n      <td>01-09-2021</td>\n      <td>35845.0</td>\n      <td>19109</td>\n      <td>137.934</td>\n      <td>73.533</td>\n      <td>16736</td>\n      <td>64.401</td>\n      <td>NaN</td>\n      <td>2.0</td>\n      <td>NaN</td>\n      <td>NaN</td>\n    </tr>\n    <tr>\n      <th>87</th>\n      <td>Haiti</td>\n      <td>HTI</td>\n      <td>AMRO</td>\n      <td>REPORTING</td>\n      <td>02-06-2023</td>\n      <td>664150.0</td>\n      <td>521396</td>\n      <td>5.825</td>\n      <td>4.573</td>\n      <td>350403</td>\n      <td>3.073</td>\n      <td>NaN</td>\n      <td>2.0</td>\n      <td>NaN</td>\n      <td>NaN</td>\n    </tr>\n    <tr>\n      <th>129</th>\n      <td>Niger</td>\n      <td>NER</td>\n      <td>AFRO</td>\n      <td>REPORTING</td>\n      <td>30-07-2023</td>\n      <td>7372208.0</td>\n      <td>6248483</td>\n      <td>30.455</td>\n      <td>25.813</td>\n      <td>5483001</td>\n      <td>22.651</td>\n      <td>29-03-2021</td>\n      <td>2.0</td>\n      <td>NaN</td>\n      <td>NaN</td>\n    </tr>\n    <tr>\n      <th>136</th>\n      <td>United Republic of Tanzania</td>\n      <td>TZA</td>\n      <td>AFRO</td>\n      <td>REPORTING</td>\n      <td>12-03-2023</td>\n      <td>39392419.0</td>\n      <td>34434933</td>\n      <td>65.946</td>\n      <td>57.647</td>\n      <td>32165791</td>\n      <td>53.848</td>\n      <td>28-07-2021</td>\n      <td>3.0</td>\n      <td>NaN</td>\n      <td>NaN</td>\n    </tr>\n    <tr>\n      <th>151</th>\n      <td>Comoros</td>\n      <td>COM</td>\n      <td>AFRO</td>\n      <td>REPORTING</td>\n      <td>02-10-2022</td>\n      <td>835021.0</td>\n      <td>438825</td>\n      <td>96.023</td>\n      <td>50.463</td>\n      <td>397080</td>\n      <td>45.662</td>\n      <td>10-04-2021</td>\n      <td>3.0</td>\n      <td>NaN</td>\n      <td>NaN</td>\n    </tr>\n    <tr>\n      <th>153</th>\n      <td>Democratic Republic of the Congo</td>\n      <td>COD</td>\n      <td>AFRO</td>\n      <td>REPORTING</td>\n      <td>04-06-2023</td>\n      <td>18808671.0</td>\n      <td>17045721</td>\n      <td>21.001</td>\n      <td>19.032</td>\n      <td>14399520</td>\n      <td>16.078</td>\n      <td>19-04-2021</td>\n      <td>1.0</td>\n      <td>NaN</td>\n      <td>NaN</td>\n    </tr>\n    <tr>\n      <th>155</th>\n      <td>Eritrea</td>\n      <td>ERI</td>\n      <td>AFRO</td>\n      <td>REPORTING</td>\n      <td>03-07-2022</td>\n      <td>NaN</td>\n      <td>0</td>\n      <td>NaN</td>\n      <td>0.000</td>\n      <td>0</td>\n      <td>0.000</td>\n      <td>NaN</td>\n      <td>NaN</td>\n      <td>NaN</td>\n      <td>NaN</td>\n    </tr>\n    <tr>\n      <th>161</th>\n      <td>Mali</td>\n      <td>MLI</td>\n      <td>AFRO</td>\n      <td>REPORTING</td>\n      <td>14-05-2023</td>\n      <td>5922585.0</td>\n      <td>4354292</td>\n      <td>29.246</td>\n      <td>21.502</td>\n      <td>3633589</td>\n      <td>17.943</td>\n      <td>31-03-2021</td>\n      <td>1.0</td>\n      <td>NaN</td>\n      <td>NaN</td>\n    </tr>\n    <tr>\n      <th>179</th>\n      <td>Bosnia and Herzegovina</td>\n      <td>BIH</td>\n      <td>EURO</td>\n      <td>REPORTING</td>\n      <td>29-01-2022</td>\n      <td>1924950.0</td>\n      <td>943394</td>\n      <td>NaN</td>\n      <td>28.842</td>\n      <td>846080</td>\n      <td>25.867</td>\n      <td>NaN</td>\n      <td>4.0</td>\n      <td>NaN</td>\n      <td>NaN</td>\n    </tr>\n    <tr>\n      <th>183</th>\n      <td>Djibouti</td>\n      <td>DJI</td>\n      <td>EMRO</td>\n      <td>REPORTING</td>\n      <td>08-10-2023</td>\n      <td>442199.0</td>\n      <td>421573</td>\n      <td>44.757</td>\n      <td>42.669</td>\n      <td>401208</td>\n      <td>40.608</td>\n      <td>15-03-2021</td>\n      <td>11.0</td>\n      <td>NaN</td>\n      <td>NaN</td>\n    </tr>\n    <tr>\n      <th>194</th>\n      <td>Saint Helena, Ascension and Tristan da Cunha</td>\n      <td>SHN</td>\n      <td>AFRO</td>\n      <td>OWID</td>\n      <td>05-05-2021</td>\n      <td>7892.0</td>\n      <td>4361</td>\n      <td>129.995</td>\n      <td>71.833</td>\n      <td>3531</td>\n      <td>58.162</td>\n      <td>NaN</td>\n      <td>1.0</td>\n      <td>NaN</td>\n      <td>NaN</td>\n    </tr>\n    <tr>\n      <th>200</th>\n      <td>The United Kingdom</td>\n      <td>GBR</td>\n      <td>EURO</td>\n      <td>REPORTING</td>\n      <td>11-09-2022</td>\n      <td>151248820.0</td>\n      <td>53813491</td>\n      <td>222.800</td>\n      <td>79.983</td>\n      <td>50762968</td>\n      <td>75.449</td>\n      <td>21-12-2020</td>\n      <td>3.0</td>\n      <td>NaN</td>\n      <td>NaN</td>\n    </tr>\n    <tr>\n      <th>219</th>\n      <td>Russian Federation</td>\n      <td>RUS</td>\n      <td>EURO</td>\n      <td>OWID</td>\n      <td>27-09-2023</td>\n      <td>186700479.0</td>\n      <td>88819982</td>\n      <td>127.900</td>\n      <td>61.212</td>\n      <td>79702396</td>\n      <td>54.928</td>\n      <td>NaN</td>\n      <td>2.0</td>\n      <td>NaN</td>\n      <td>NaN</td>\n    </tr>\n  </tbody>\n</table>\n</div>"
                    },
                    "metadata": {},
                    "execution_count": 45,
                    "output_type": "execute_result"
                }
            ],
            "execution_count": 45
        },
        {
            "cell_type": "markdown",
            "source": [
                "Sustituimos los valores **NaN** por valores **0**<br>"
            ],
            "metadata": {
                "id": "O-8ZBC1iJVNg",
                "azdata_cell_guid": "c3c58c38-d989-4d48-ab6c-13137833d80b"
            }
        },
        {
            "cell_type": "code",
            "source": [
                "df_vacunation=df_vacunation.fillna(0)\n",
                "df_vacunation.head()"
            ],
            "metadata": {
                "colab": {
                    "base_uri": "https://localhost:8080/",
                    "height": 305
                },
                "id": "ZO2ImjYzJVNg",
                "outputId": "48ff652e-1ab6-48ef-fa94-0f94c6e67679",
                "azdata_cell_guid": "dc0891be-1ade-4dd9-b70b-eec661cbd966",
                "language": "python"
            },
            "outputs": [
                {
                    "data": {
                        "text/plain": "         COUNTRY ISO3 WHO_REGION DATA_SOURCE DATE_UPDATED  TOTAL_VACCINATIONS  \\\n0        Albania  ALB       EURO   REPORTING   16-07-2023           3087677.0   \n1          Chile  CHL       AMRO   REPORTING   02-06-2023          66273384.0   \n2          Congo  COG       AFRO   REPORTING   31-07-2022            833210.0   \n3  Côte d’Ivoire  CIV       AFRO   REPORTING   19-02-2023          25263932.0   \n4        Denmark  DNK       EURO   REPORTING   20-08-2023          14943741.0   \n\n   PERSONS_VACCINATED_1PLUS_DOSE  TOTAL_VACCINATIONS_PER100  \\\n0                        1349150                    107.300   \n1                       18106832                    346.687   \n2                         695760                     15.100   \n3                       13568372                     95.776   \n4                        4754913                    256.600   \n\n   PERSONS_VACCINATED_1PLUS_DOSE_PER100  PERSONS_LAST_DOSE  \\\n0                                47.260            1279231   \n1                                94.720           17716364   \n2                                12.609             654119   \n3                                51.438           12164304   \n4                                80.956            4719688   \n\n   PERSONS_LAST_DOSE_PER100 FIRST_VACCINE_DATE  NUMBER_VACCINES_TYPES_USED  \\\n0                    44.811         13-01-2021                         6.0   \n1                    92.677         21-12-2020                         5.0   \n2                    11.854         23-03-2021                         4.0   \n3                    46.115         01-03-2021                         5.0   \n4                    80.357         16-12-2020                         5.0   \n\n   PERSONS_BOOSTER_ADD_DOSE  PERSONS_BOOSTER_ADD_DOSE_PER100  \n0                  401767.0                           14.074  \n1                15766986.0                           82.480  \n2                       0.0                            0.000  \n3                 3138712.0                           11.899  \n4                 3624228.0                           61.706  ",
                        "text/html": "<div>\n<style scoped>\n    .dataframe tbody tr th:only-of-type {\n        vertical-align: middle;\n    }\n\n    .dataframe tbody tr th {\n        vertical-align: top;\n    }\n\n    .dataframe thead th {\n        text-align: right;\n    }\n</style>\n<table border=\"1\" class=\"dataframe\">\n  <thead>\n    <tr style=\"text-align: right;\">\n      <th></th>\n      <th>COUNTRY</th>\n      <th>ISO3</th>\n      <th>WHO_REGION</th>\n      <th>DATA_SOURCE</th>\n      <th>DATE_UPDATED</th>\n      <th>TOTAL_VACCINATIONS</th>\n      <th>PERSONS_VACCINATED_1PLUS_DOSE</th>\n      <th>TOTAL_VACCINATIONS_PER100</th>\n      <th>PERSONS_VACCINATED_1PLUS_DOSE_PER100</th>\n      <th>PERSONS_LAST_DOSE</th>\n      <th>PERSONS_LAST_DOSE_PER100</th>\n      <th>FIRST_VACCINE_DATE</th>\n      <th>NUMBER_VACCINES_TYPES_USED</th>\n      <th>PERSONS_BOOSTER_ADD_DOSE</th>\n      <th>PERSONS_BOOSTER_ADD_DOSE_PER100</th>\n    </tr>\n  </thead>\n  <tbody>\n    <tr>\n      <th>0</th>\n      <td>Albania</td>\n      <td>ALB</td>\n      <td>EURO</td>\n      <td>REPORTING</td>\n      <td>16-07-2023</td>\n      <td>3087677.0</td>\n      <td>1349150</td>\n      <td>107.300</td>\n      <td>47.260</td>\n      <td>1279231</td>\n      <td>44.811</td>\n      <td>13-01-2021</td>\n      <td>6.0</td>\n      <td>401767.0</td>\n      <td>14.074</td>\n    </tr>\n    <tr>\n      <th>1</th>\n      <td>Chile</td>\n      <td>CHL</td>\n      <td>AMRO</td>\n      <td>REPORTING</td>\n      <td>02-06-2023</td>\n      <td>66273384.0</td>\n      <td>18106832</td>\n      <td>346.687</td>\n      <td>94.720</td>\n      <td>17716364</td>\n      <td>92.677</td>\n      <td>21-12-2020</td>\n      <td>5.0</td>\n      <td>15766986.0</td>\n      <td>82.480</td>\n    </tr>\n    <tr>\n      <th>2</th>\n      <td>Congo</td>\n      <td>COG</td>\n      <td>AFRO</td>\n      <td>REPORTING</td>\n      <td>31-07-2022</td>\n      <td>833210.0</td>\n      <td>695760</td>\n      <td>15.100</td>\n      <td>12.609</td>\n      <td>654119</td>\n      <td>11.854</td>\n      <td>23-03-2021</td>\n      <td>4.0</td>\n      <td>0.0</td>\n      <td>0.000</td>\n    </tr>\n    <tr>\n      <th>3</th>\n      <td>Côte d’Ivoire</td>\n      <td>CIV</td>\n      <td>AFRO</td>\n      <td>REPORTING</td>\n      <td>19-02-2023</td>\n      <td>25263932.0</td>\n      <td>13568372</td>\n      <td>95.776</td>\n      <td>51.438</td>\n      <td>12164304</td>\n      <td>46.115</td>\n      <td>01-03-2021</td>\n      <td>5.0</td>\n      <td>3138712.0</td>\n      <td>11.899</td>\n    </tr>\n    <tr>\n      <th>4</th>\n      <td>Denmark</td>\n      <td>DNK</td>\n      <td>EURO</td>\n      <td>REPORTING</td>\n      <td>20-08-2023</td>\n      <td>14943741.0</td>\n      <td>4754913</td>\n      <td>256.600</td>\n      <td>80.956</td>\n      <td>4719688</td>\n      <td>80.357</td>\n      <td>16-12-2020</td>\n      <td>5.0</td>\n      <td>3624228.0</td>\n      <td>61.706</td>\n    </tr>\n  </tbody>\n</table>\n</div>"
                    },
                    "metadata": {},
                    "execution_count": 46,
                    "output_type": "execute_result"
                }
            ],
            "execution_count": 46
        },
        {
            "cell_type": "markdown",
            "source": [
                "Verificamos la instrucción y observamos que **no existen valores nulos**"
            ],
            "metadata": {
                "id": "-R_t2It1JVNg",
                "azdata_cell_guid": "288ecb66-516c-45a9-8831-e1b6c1f1f0f3"
            }
        },
        {
            "cell_type": "code",
            "source": [
                "df_vacunation.isnull().sum()"
            ],
            "metadata": {
                "colab": {
                    "base_uri": "https://localhost:8080/"
                },
                "id": "XccYRQklJVNg",
                "outputId": "d4f2b24d-8637-48d2-e0c5-15edba74d73d",
                "scrolled": true,
                "azdata_cell_guid": "6863535e-c8c2-43f5-a771-3dbd4cb397b2",
                "language": "python"
            },
            "outputs": [
                {
                    "data": {
                        "text/plain": "COUNTRY                                 0\nISO3                                    0\nWHO_REGION                              0\nDATA_SOURCE                             0\nDATE_UPDATED                            0\nTOTAL_VACCINATIONS                      0\nPERSONS_VACCINATED_1PLUS_DOSE           0\nTOTAL_VACCINATIONS_PER100               0\nPERSONS_VACCINATED_1PLUS_DOSE_PER100    0\nPERSONS_LAST_DOSE                       0\nPERSONS_LAST_DOSE_PER100                0\nFIRST_VACCINE_DATE                      0\nNUMBER_VACCINES_TYPES_USED              0\nPERSONS_BOOSTER_ADD_DOSE                0\nPERSONS_BOOSTER_ADD_DOSE_PER100         0\ndtype: int64"
                    },
                    "metadata": {},
                    "execution_count": 47,
                    "output_type": "execute_result"
                }
            ],
            "execution_count": 47
        },
        {
            "cell_type": "markdown",
            "source": [
                "Mediante la función **.columns** obtenemos el orden y el nombre de las columnas del **df_vacunation**"
            ],
            "metadata": {
                "id": "j7c88OwPJVNg",
                "azdata_cell_guid": "2e651cb5-06b4-4ad1-82c4-a9226980a6d6"
            }
        },
        {
            "cell_type": "code",
            "source": [
                "df_vacunation.columns"
            ],
            "metadata": {
                "colab": {
                    "base_uri": "https://localhost:8080/"
                },
                "id": "Fd4pMONbJVNh",
                "outputId": "cc4b6d65-6699-4808-ee13-31c2ba61c883",
                "scrolled": true,
                "azdata_cell_guid": "35b1aa15-d6f8-4d0e-b351-7527064a8b9c",
                "language": "python"
            },
            "outputs": [
                {
                    "data": {
                        "text/plain": "Index(['COUNTRY', 'ISO3', 'WHO_REGION', 'DATA_SOURCE', 'DATE_UPDATED',\n       'TOTAL_VACCINATIONS', 'PERSONS_VACCINATED_1PLUS_DOSE',\n       'TOTAL_VACCINATIONS_PER100', 'PERSONS_VACCINATED_1PLUS_DOSE_PER100',\n       'PERSONS_LAST_DOSE', 'PERSONS_LAST_DOSE_PER100', 'FIRST_VACCINE_DATE',\n       'NUMBER_VACCINES_TYPES_USED', 'PERSONS_BOOSTER_ADD_DOSE',\n       'PERSONS_BOOSTER_ADD_DOSE_PER100'],\n      dtype='object')"
                    },
                    "metadata": {},
                    "execution_count": 48,
                    "output_type": "execute_result"
                }
            ],
            "execution_count": 48
        },
        {
            "cell_type": "code",
            "source": [
                "df_vacunation.shape"
            ],
            "metadata": {
                "colab": {
                    "base_uri": "https://localhost:8080/"
                },
                "id": "LQXh8Pb-JVNh",
                "outputId": "07aaeccb-2af9-4503-a1f7-300fccf63d5d",
                "azdata_cell_guid": "2871e486-7873-4a86-a975-8daf7e5805e3",
                "language": "python"
            },
            "outputs": [
                {
                    "data": {
                        "text/plain": "(229, 15)"
                    },
                    "metadata": {},
                    "execution_count": 49,
                    "output_type": "execute_result"
                }
            ],
            "execution_count": 49
        },
        {
            "cell_type": "markdown",
            "source": [
                "Renombramos el nombre de las Columnas del **df_vacunation**"
            ],
            "metadata": {
                "id": "W4OQJLCtJVNh",
                "azdata_cell_guid": "da95024b-891e-4fc5-81d4-f4c6027cec50"
            }
        },
        {
            "cell_type": "code",
            "source": [
                "df_vacunation.columns =['PAIS', 'ISO3', 'OMS_REGION', 'FUENTE_DE_DATOS', 'FECHA_ACTUALIZADA',\n",
                "       'TOTAL_VACUNACIONES', 'PERSONAS_VACUNADAS_1_DOSIS',\n",
                "       'TOTAL_VACUNACIONES_PER100', 'PERSONAS_VACUNADAS_1MAS_DOSIS_PER100',\n",
                "       'PERSONAS_TOTALMENTE_VACUNADAS', 'PERSONAS_TOTALMENTE_VACUNADAS_PER_100','FECHA_PRIMERAS_VACUNAS', 'NUMERO_TIPOS_VACUNAS_USADAS',\n",
                "       'PERSONAS_REFUERZO_O_DOSIS', 'PERSONAS_REFUERZO_O_DOSIS_PER100']"
            ],
            "metadata": {
                "id": "MJNrQECNJVNh",
                "azdata_cell_guid": "e8ec9bed-4b2a-4efa-81de-c55bec0bd484",
                "language": "python"
            },
            "outputs": [],
            "execution_count": 50
        },
        {
            "cell_type": "code",
            "source": [
                "df_vacunation.columns\n",
                "df_vacunation.info()"
            ],
            "metadata": {
                "colab": {
                    "base_uri": "https://localhost:8080/"
                },
                "id": "7guv8BHgJVNi",
                "outputId": "54b0e607-509a-4999-ae4d-4468e089d93e",
                "azdata_cell_guid": "4f85fe58-e9d0-4b70-9fdd-6b6f49328e68",
                "language": "python"
            },
            "outputs": [
                {
                    "name": "stdout",
                    "text": "<class 'pandas.core.frame.DataFrame'>\nRangeIndex: 229 entries, 0 to 228\nData columns (total 15 columns):\n #   Column                                 Non-Null Count  Dtype  \n---  ------                                 --------------  -----  \n 0   PAIS                                   229 non-null    object \n 1   ISO3                                   229 non-null    object \n 2   OMS_REGION                             229 non-null    object \n 3   FUENTE_DE_DATOS                        229 non-null    object \n 4   FECHA_ACTUALIZADA                      229 non-null    object \n 5   TOTAL_VACUNACIONES                     229 non-null    float64\n 6   PERSONAS_VACUNADAS_1_DOSIS             229 non-null    int64  \n 7   TOTAL_VACUNACIONES_PER100              229 non-null    float64\n 8   PERSONAS_VACUNADAS_1MAS_DOSIS_PER100   229 non-null    float64\n 9   PERSONAS_TOTALMENTE_VACUNADAS          229 non-null    int64  \n 10  PERSONAS_TOTALMENTE_VACUNADAS_PER_100  229 non-null    float64\n 11  FECHA_PRIMERAS_VACUNAS                 229 non-null    object \n 12  NUMERO_TIPOS_VACUNAS_USADAS            229 non-null    float64\n 13  PERSONAS_REFUERZO_O_DOSIS              229 non-null    float64\n 14  PERSONAS_REFUERZO_O_DOSIS_PER100       229 non-null    float64\ndtypes: float64(7), int64(2), object(6)\nmemory usage: 27.0+ KB\n",
                    "output_type": "stream"
                }
            ],
            "execution_count": 51
        },
        {
            "cell_type": "code",
            "source": [
                "df_vacunation['PAIS'].unique()\n",
                "len(df_vacunation['PAIS'].unique())"
            ],
            "metadata": {
                "colab": {
                    "base_uri": "https://localhost:8080/"
                },
                "id": "EpFaDveVJVNi",
                "outputId": "7ecce7f2-1bec-4d5d-9723-f4086043c65f",
                "azdata_cell_guid": "705fdd6b-65ce-421e-89d1-a6ba42ee1543",
                "language": "python"
            },
            "outputs": [
                {
                    "data": {
                        "text/plain": "229"
                    },
                    "metadata": {},
                    "execution_count": 52,
                    "output_type": "execute_result"
                }
            ],
            "execution_count": 52
        },
        {
            "cell_type": "code",
            "source": [
                "df_vacunation['PAIS']"
            ],
            "metadata": {
                "colab": {
                    "base_uri": "https://localhost:8080/"
                },
                "id": "np-OofA4JVNi",
                "outputId": "dca8f67b-132f-4f4b-dc08-3854c08d2628",
                "azdata_cell_guid": "7e17c56c-b6e8-4b0d-bf02-3a424bb1cc49",
                "language": "python"
            },
            "outputs": [
                {
                    "data": {
                        "text/plain": "0                   Albania\n1                     Chile\n2                     Congo\n3             Côte d’Ivoire\n4                   Denmark\n               ...         \n224                   Spain\n225             Switzerland\n226    Syrian Arab Republic\n227             Timor-Leste\n228                Viet Nam\nName: PAIS, Length: 229, dtype: object"
                    },
                    "metadata": {},
                    "execution_count": 53,
                    "output_type": "execute_result"
                }
            ],
            "execution_count": 53
        },
        {
            "cell_type": "markdown",
            "source": [
                "Con el módulo **pycountry** obtenemos datos adicionales para el dataframe y se renombran las columnas con la función **.columns**"
            ],
            "metadata": {
                "id": "lyslW2RPJVNi",
                "azdata_cell_guid": "53b9b3c1-22e2-4dbb-b54c-18a975dfb090"
            }
        },
        {
            "cell_type": "code",
            "source": [
                "import pycountry_convert as pc\n",
                "\n",
                "def obtener_continente_ISO3(codigo_ISO3):\n",
                "    try:\n",
                "        continente_code = pc.country_alpha3_to_country_alpha2(codigo_ISO3)\n",
                "        continente = pc.country_alpha2_to_continent_code(continente_code)\n",
                "        continente_nombre = pc.convert_continent_code_to_continent_name(continente)\n",
                "        return continente_nombre, continente\n",
                "    except:\n",
                "        return None, None\n",
                "\n",
                "df_vacunation[['Continente', 'ISO_continente']] = df_vacunation['ISO3'].apply(obtener_continente_ISO3).apply(pd.Series)\n",
                "\n",
                "indice_ISO3 = df_vacunation.columns.get_loc(\"ISO3\")\n",
                "\n",
                "df_vacunation.insert(indice_ISO3 + 1, \"Continente\", df_vacunation.pop(\"Continente\"))\n",
                "df_vacunation.insert(indice_ISO3 + 2, \"ISO_continente\", df_vacunation.pop(\"ISO_continente\"))"
            ],
            "metadata": {
                "id": "ul9KrTvsJVNi",
                "scrolled": false,
                "azdata_cell_guid": "984dc1c5-45a0-474d-a3fb-526d344fdf71",
                "language": "python"
            },
            "outputs": [],
            "execution_count": 54
        },
        {
            "cell_type": "code",
            "source": [
                "df_vacunation"
            ],
            "metadata": {
                "colab": {
                    "base_uri": "https://localhost:8080/",
                    "height": 540
                },
                "id": "uJxESGE4JVNj",
                "outputId": "d50902da-63c6-4eda-e754-0562279c9081",
                "azdata_cell_guid": "540298dd-cd7a-400e-be71-3cf44e88a45a",
                "language": "python"
            },
            "outputs": [
                {
                    "data": {
                        "text/plain": "                     PAIS ISO3     Continente ISO_continente OMS_REGION  \\\n0                 Albania  ALB         Europe             EU       EURO   \n1                   Chile  CHL  South America             SA       AMRO   \n2                   Congo  COG         Africa             AF       AFRO   \n3           Côte d’Ivoire  CIV         Africa             AF       AFRO   \n4                 Denmark  DNK         Europe             EU       EURO   \n..                    ...  ...            ...            ...        ...   \n224                 Spain  ESP         Europe             EU       EURO   \n225           Switzerland  CHE         Europe             EU       EURO   \n226  Syrian Arab Republic  SYR           Asia             AS       EMRO   \n227           Timor-Leste  TLS           None           None      SEARO   \n228              Viet Nam  VNM           Asia             AS       WPRO   \n\n    FUENTE_DE_DATOS FECHA_ACTUALIZADA  TOTAL_VACUNACIONES  \\\n0         REPORTING        16-07-2023           3087677.0   \n1         REPORTING        02-06-2023          66273384.0   \n2         REPORTING        31-07-2022            833210.0   \n3         REPORTING        19-02-2023          25263932.0   \n4         REPORTING        20-08-2023          14943741.0   \n..              ...               ...                 ...   \n224       REPORTING        03-09-2023         112886307.0   \n225       REPORTING        02-07-2023          16755985.0   \n226       REPORTING        18-04-2023           5090630.0   \n227       REPORTING        26-06-2023           2019384.0   \n228       REPORTING        30-06-2023         266492149.0   \n\n     PERSONAS_VACUNADAS_1_DOSIS  TOTAL_VACUNACIONES_PER100  \\\n0                       1349150                    107.300   \n1                      18106832                    346.687   \n2                        695760                     15.100   \n3                      13568372                     95.776   \n4                       4754913                    256.600   \n..                          ...                        ...   \n224                    41332084                    238.500   \n225                     6096600                    193.600   \n226                     3295630                     29.088   \n227                      884194                    153.164   \n228                    90272853                    273.779   \n\n     PERSONAS_VACUNADAS_1MAS_DOSIS_PER100  PERSONAS_TOTALMENTE_VACUNADAS  \\\n0                                  47.260                        1279231   \n1                                  94.720                       17716364   \n2                                  12.609                         654119   \n3                                  51.438                       12164304   \n4                                  80.956                        4719688   \n..                                    ...                            ...   \n224                                87.138                       37485721   \n225                                70.145                        5723066   \n226                                18.831                        2358365   \n227                                67.063                         799627   \n228                                92.741                       85961564   \n\n     PERSONAS_TOTALMENTE_VACUNADAS_PER_100 FECHA_PRIMERAS_VACUNAS  \\\n0                                   44.811             13-01-2021   \n1                                   92.677             21-12-2020   \n2                                   11.854             23-03-2021   \n3                                   46.115             01-03-2021   \n4                                   80.357             16-12-2020   \n..                                     ...                    ...   \n224                                 79.029             30-12-2020   \n225                                 65.847             23-12-2020   \n226                                 13.476             01-04-2021   \n227                                 60.649             07-04-2021   \n228                                 88.312             08-03-2021   \n\n     NUMERO_TIPOS_VACUNAS_USADAS  PERSONAS_REFUERZO_O_DOSIS  \\\n0                            6.0                   401767.0   \n1                            5.0                 15766986.0   \n2                            4.0                        0.0   \n3                            5.0                  3138712.0   \n4                            5.0                  3624228.0   \n..                           ...                        ...   \n224                          4.0                 26573833.0   \n225                          6.0                  4996650.0   \n226                         11.0                    75881.0   \n227                          4.0                   335563.0   \n228                          6.0                 57975220.0   \n\n     PERSONAS_REFUERZO_O_DOSIS_PER100  \n0                              14.074  \n1                              82.480  \n2                               0.000  \n3                              11.899  \n4                              61.706  \n..                                ...  \n224                            56.024  \n225                            57.490  \n226                             0.434  \n227                            25.451  \n228                            59.560  \n\n[229 rows x 17 columns]",
                        "text/html": "<div>\n<style scoped>\n    .dataframe tbody tr th:only-of-type {\n        vertical-align: middle;\n    }\n\n    .dataframe tbody tr th {\n        vertical-align: top;\n    }\n\n    .dataframe thead th {\n        text-align: right;\n    }\n</style>\n<table border=\"1\" class=\"dataframe\">\n  <thead>\n    <tr style=\"text-align: right;\">\n      <th></th>\n      <th>PAIS</th>\n      <th>ISO3</th>\n      <th>Continente</th>\n      <th>ISO_continente</th>\n      <th>OMS_REGION</th>\n      <th>FUENTE_DE_DATOS</th>\n      <th>FECHA_ACTUALIZADA</th>\n      <th>TOTAL_VACUNACIONES</th>\n      <th>PERSONAS_VACUNADAS_1_DOSIS</th>\n      <th>TOTAL_VACUNACIONES_PER100</th>\n      <th>PERSONAS_VACUNADAS_1MAS_DOSIS_PER100</th>\n      <th>PERSONAS_TOTALMENTE_VACUNADAS</th>\n      <th>PERSONAS_TOTALMENTE_VACUNADAS_PER_100</th>\n      <th>FECHA_PRIMERAS_VACUNAS</th>\n      <th>NUMERO_TIPOS_VACUNAS_USADAS</th>\n      <th>PERSONAS_REFUERZO_O_DOSIS</th>\n      <th>PERSONAS_REFUERZO_O_DOSIS_PER100</th>\n    </tr>\n  </thead>\n  <tbody>\n    <tr>\n      <th>0</th>\n      <td>Albania</td>\n      <td>ALB</td>\n      <td>Europe</td>\n      <td>EU</td>\n      <td>EURO</td>\n      <td>REPORTING</td>\n      <td>16-07-2023</td>\n      <td>3087677.0</td>\n      <td>1349150</td>\n      <td>107.300</td>\n      <td>47.260</td>\n      <td>1279231</td>\n      <td>44.811</td>\n      <td>13-01-2021</td>\n      <td>6.0</td>\n      <td>401767.0</td>\n      <td>14.074</td>\n    </tr>\n    <tr>\n      <th>1</th>\n      <td>Chile</td>\n      <td>CHL</td>\n      <td>South America</td>\n      <td>SA</td>\n      <td>AMRO</td>\n      <td>REPORTING</td>\n      <td>02-06-2023</td>\n      <td>66273384.0</td>\n      <td>18106832</td>\n      <td>346.687</td>\n      <td>94.720</td>\n      <td>17716364</td>\n      <td>92.677</td>\n      <td>21-12-2020</td>\n      <td>5.0</td>\n      <td>15766986.0</td>\n      <td>82.480</td>\n    </tr>\n    <tr>\n      <th>2</th>\n      <td>Congo</td>\n      <td>COG</td>\n      <td>Africa</td>\n      <td>AF</td>\n      <td>AFRO</td>\n      <td>REPORTING</td>\n      <td>31-07-2022</td>\n      <td>833210.0</td>\n      <td>695760</td>\n      <td>15.100</td>\n      <td>12.609</td>\n      <td>654119</td>\n      <td>11.854</td>\n      <td>23-03-2021</td>\n      <td>4.0</td>\n      <td>0.0</td>\n      <td>0.000</td>\n    </tr>\n    <tr>\n      <th>3</th>\n      <td>Côte d’Ivoire</td>\n      <td>CIV</td>\n      <td>Africa</td>\n      <td>AF</td>\n      <td>AFRO</td>\n      <td>REPORTING</td>\n      <td>19-02-2023</td>\n      <td>25263932.0</td>\n      <td>13568372</td>\n      <td>95.776</td>\n      <td>51.438</td>\n      <td>12164304</td>\n      <td>46.115</td>\n      <td>01-03-2021</td>\n      <td>5.0</td>\n      <td>3138712.0</td>\n      <td>11.899</td>\n    </tr>\n    <tr>\n      <th>4</th>\n      <td>Denmark</td>\n      <td>DNK</td>\n      <td>Europe</td>\n      <td>EU</td>\n      <td>EURO</td>\n      <td>REPORTING</td>\n      <td>20-08-2023</td>\n      <td>14943741.0</td>\n      <td>4754913</td>\n      <td>256.600</td>\n      <td>80.956</td>\n      <td>4719688</td>\n      <td>80.357</td>\n      <td>16-12-2020</td>\n      <td>5.0</td>\n      <td>3624228.0</td>\n      <td>61.706</td>\n    </tr>\n    <tr>\n      <th>...</th>\n      <td>...</td>\n      <td>...</td>\n      <td>...</td>\n      <td>...</td>\n      <td>...</td>\n      <td>...</td>\n      <td>...</td>\n      <td>...</td>\n      <td>...</td>\n      <td>...</td>\n      <td>...</td>\n      <td>...</td>\n      <td>...</td>\n      <td>...</td>\n      <td>...</td>\n      <td>...</td>\n      <td>...</td>\n    </tr>\n    <tr>\n      <th>224</th>\n      <td>Spain</td>\n      <td>ESP</td>\n      <td>Europe</td>\n      <td>EU</td>\n      <td>EURO</td>\n      <td>REPORTING</td>\n      <td>03-09-2023</td>\n      <td>112886307.0</td>\n      <td>41332084</td>\n      <td>238.500</td>\n      <td>87.138</td>\n      <td>37485721</td>\n      <td>79.029</td>\n      <td>30-12-2020</td>\n      <td>4.0</td>\n      <td>26573833.0</td>\n      <td>56.024</td>\n    </tr>\n    <tr>\n      <th>225</th>\n      <td>Switzerland</td>\n      <td>CHE</td>\n      <td>Europe</td>\n      <td>EU</td>\n      <td>EURO</td>\n      <td>REPORTING</td>\n      <td>02-07-2023</td>\n      <td>16755985.0</td>\n      <td>6096600</td>\n      <td>193.600</td>\n      <td>70.145</td>\n      <td>5723066</td>\n      <td>65.847</td>\n      <td>23-12-2020</td>\n      <td>6.0</td>\n      <td>4996650.0</td>\n      <td>57.490</td>\n    </tr>\n    <tr>\n      <th>226</th>\n      <td>Syrian Arab Republic</td>\n      <td>SYR</td>\n      <td>Asia</td>\n      <td>AS</td>\n      <td>EMRO</td>\n      <td>REPORTING</td>\n      <td>18-04-2023</td>\n      <td>5090630.0</td>\n      <td>3295630</td>\n      <td>29.088</td>\n      <td>18.831</td>\n      <td>2358365</td>\n      <td>13.476</td>\n      <td>01-04-2021</td>\n      <td>11.0</td>\n      <td>75881.0</td>\n      <td>0.434</td>\n    </tr>\n    <tr>\n      <th>227</th>\n      <td>Timor-Leste</td>\n      <td>TLS</td>\n      <td>None</td>\n      <td>None</td>\n      <td>SEARO</td>\n      <td>REPORTING</td>\n      <td>26-06-2023</td>\n      <td>2019384.0</td>\n      <td>884194</td>\n      <td>153.164</td>\n      <td>67.063</td>\n      <td>799627</td>\n      <td>60.649</td>\n      <td>07-04-2021</td>\n      <td>4.0</td>\n      <td>335563.0</td>\n      <td>25.451</td>\n    </tr>\n    <tr>\n      <th>228</th>\n      <td>Viet Nam</td>\n      <td>VNM</td>\n      <td>Asia</td>\n      <td>AS</td>\n      <td>WPRO</td>\n      <td>REPORTING</td>\n      <td>30-06-2023</td>\n      <td>266492149.0</td>\n      <td>90272853</td>\n      <td>273.779</td>\n      <td>92.741</td>\n      <td>85961564</td>\n      <td>88.312</td>\n      <td>08-03-2021</td>\n      <td>6.0</td>\n      <td>57975220.0</td>\n      <td>59.560</td>\n    </tr>\n  </tbody>\n</table>\n<p>229 rows × 17 columns</p>\n</div>"
                    },
                    "metadata": {},
                    "execution_count": 55,
                    "output_type": "execute_result"
                }
            ],
            "execution_count": 55
        },
        {
            "cell_type": "code",
            "source": [
                "df_vacunation.info()"
            ],
            "metadata": {
                "colab": {
                    "base_uri": "https://localhost:8080/"
                },
                "id": "zMH0kVjoJVNj",
                "outputId": "0bfaa574-b8ce-4864-a9b5-6fe10a42286a",
                "scrolled": true,
                "azdata_cell_guid": "22b689ac-d9a7-47a0-892c-08d581b4a5bd",
                "language": "python"
            },
            "outputs": [
                {
                    "name": "stdout",
                    "text": "<class 'pandas.core.frame.DataFrame'>\nRangeIndex: 229 entries, 0 to 228\nData columns (total 17 columns):\n #   Column                                 Non-Null Count  Dtype  \n---  ------                                 --------------  -----  \n 0   PAIS                                   229 non-null    object \n 1   ISO3                                   229 non-null    object \n 2   Continente                             222 non-null    object \n 3   ISO_continente                         222 non-null    object \n 4   OMS_REGION                             229 non-null    object \n 5   FUENTE_DE_DATOS                        229 non-null    object \n 6   FECHA_ACTUALIZADA                      229 non-null    object \n 7   TOTAL_VACUNACIONES                     229 non-null    float64\n 8   PERSONAS_VACUNADAS_1_DOSIS             229 non-null    int64  \n 9   TOTAL_VACUNACIONES_PER100              229 non-null    float64\n 10  PERSONAS_VACUNADAS_1MAS_DOSIS_PER100   229 non-null    float64\n 11  PERSONAS_TOTALMENTE_VACUNADAS          229 non-null    int64  \n 12  PERSONAS_TOTALMENTE_VACUNADAS_PER_100  229 non-null    float64\n 13  FECHA_PRIMERAS_VACUNAS                 229 non-null    object \n 14  NUMERO_TIPOS_VACUNAS_USADAS            229 non-null    float64\n 15  PERSONAS_REFUERZO_O_DOSIS              229 non-null    float64\n 16  PERSONAS_REFUERZO_O_DOSIS_PER100       229 non-null    float64\ndtypes: float64(7), int64(2), object(8)\nmemory usage: 30.5+ KB\n",
                    "output_type": "stream"
                }
            ],
            "execution_count": 56
        },
        {
            "cell_type": "markdown",
            "source": [
                "Hacemos una última revisión"
            ],
            "metadata": {
                "id": "BS3rUaw5JVNj",
                "azdata_cell_guid": "a4e7f199-e363-491d-97a3-1725becd602d"
            }
        },
        {
            "cell_type": "code",
            "source": [
                "df_vacunation.duplicated().values.any()"
            ],
            "metadata": {
                "colab": {
                    "base_uri": "https://localhost:8080/"
                },
                "id": "NH1UY4iLJVNj",
                "outputId": "d53a4543-5921-47f0-9730-7aa52abc145b",
                "azdata_cell_guid": "59ee7b22-1e84-49ad-9735-a15345d01548",
                "language": "python"
            },
            "outputs": [
                {
                    "data": {
                        "text/plain": "False"
                    },
                    "metadata": {},
                    "execution_count": 57,
                    "output_type": "execute_result"
                }
            ],
            "execution_count": 57
        },
        {
            "cell_type": "code",
            "source": [
                "df_vacunation.isnull().sum()"
            ],
            "metadata": {
                "colab": {
                    "base_uri": "https://localhost:8080/"
                },
                "id": "Yp0k8vCrJVNj",
                "outputId": "6fcfea90-ea62-47a0-e24e-f8f9c8c23d53",
                "scrolled": true,
                "azdata_cell_guid": "63194502-6b5d-4685-98ae-c0c0f0022af7",
                "language": "python"
            },
            "outputs": [
                {
                    "data": {
                        "text/plain": "PAIS                                     0\nISO3                                     0\nContinente                               7\nISO_continente                           7\nOMS_REGION                               0\nFUENTE_DE_DATOS                          0\nFECHA_ACTUALIZADA                        0\nTOTAL_VACUNACIONES                       0\nPERSONAS_VACUNADAS_1_DOSIS               0\nTOTAL_VACUNACIONES_PER100                0\nPERSONAS_VACUNADAS_1MAS_DOSIS_PER100     0\nPERSONAS_TOTALMENTE_VACUNADAS            0\nPERSONAS_TOTALMENTE_VACUNADAS_PER_100    0\nFECHA_PRIMERAS_VACUNAS                   0\nNUMERO_TIPOS_VACUNAS_USADAS              0\nPERSONAS_REFUERZO_O_DOSIS                0\nPERSONAS_REFUERZO_O_DOSIS_PER100         0\ndtype: int64"
                    },
                    "metadata": {},
                    "execution_count": 58,
                    "output_type": "execute_result"
                }
            ],
            "execution_count": 58
        },
        {
            "cell_type": "markdown",
            "source": [
                "Observo que aparecen 7 registros con el Campo de **Continente y ISO_continente** nulos"
            ],
            "metadata": {
                "id": "-OYR77q4JVNk",
                "azdata_cell_guid": "f887e470-e5f8-4252-893f-7f069e76f513"
            }
        },
        {
            "cell_type": "code",
            "source": [
                "df_vacunation[df_vacunation['Continente'].isnull()]"
            ],
            "metadata": {
                "colab": {
                    "base_uri": "https://localhost:8080/",
                    "height": 402
                },
                "id": "Wz1sd8HfJVNk",
                "outputId": "472aa612-1a29-4c53-b793-143726170444",
                "scrolled": true,
                "azdata_cell_guid": "3f16a3b7-fb8b-47d2-ae10-4e54a28935d4",
                "language": "python"
            },
            "outputs": [
                {
                    "data": {
                        "text/plain": "                 PAIS ISO3 Continente ISO_continente OMS_REGION  \\\n42       Sint Maarten  SXM       None           None       AMRO   \n71             Kosovo  XKX       None           None       EURO   \n143              Saba  XCA       None           None       AMRO   \n149           Bonaire  XAA       None           None       AMRO   \n217  Pitcairn Islands  PCN       None           None       WPRO   \n223    Sint Eustatius  XBA       None           None       AMRO   \n227       Timor-Leste  TLS       None           None      SEARO   \n\n    FUENTE_DE_DATOS FECHA_ACTUALIZADA  TOTAL_VACUNACIONES  \\\n42        REPORTING        02-06-2023             66829.0   \n71        REPORTING        15-01-2023           1836901.0   \n143       REPORTING        02-06-2023              4979.0   \n149       REPORTING        02-06-2023             43070.0   \n217       REPORTING        29-08-2022               117.0   \n223       REPORTING        02-06-2023              4319.0   \n227       REPORTING        26-06-2023           2019384.0   \n\n     PERSONAS_VACUNADAS_1_DOSIS  TOTAL_VACUNACIONES_PER100  \\\n42                        29788                    155.844   \n71                       904558                      0.000   \n143                        1687                    257.579   \n149                       17460                    205.929   \n217                          47                    234.000   \n223                        1791                    137.592   \n227                      884194                    153.164   \n\n     PERSONAS_VACUNADAS_1MAS_DOSIS_PER100  PERSONAS_TOTALMENTE_VACUNADAS  \\\n42                                 69.465                          26773   \n71                                 50.758                         824752   \n143                                87.274                           1667   \n149                                83.481                          16189   \n217                                94.000                             47   \n223                                57.056                           1686   \n227                                67.063                         799627   \n\n     PERSONAS_TOTALMENTE_VACUNADAS_PER_100 FECHA_PRIMERAS_VACUNAS  \\\n42                                  62.434             22-02-2021   \n71                                  46.279             31-03-2021   \n143                                 86.239                      0   \n149                                 77.404                      0   \n217                                 94.000             17-05-2021   \n223                                 53.711                      0   \n227                                 60.649             07-04-2021   \n\n     NUMERO_TIPOS_VACUNAS_USADAS  PERSONAS_REFUERZO_O_DOSIS  \\\n42                           3.0                     9146.0   \n71                           2.0                   105624.0   \n143                          0.0                     1170.0   \n149                          0.0                     8125.0   \n217                          1.0                       23.0   \n223                          0.0                      767.0   \n227                          4.0                   335563.0   \n\n     PERSONAS_REFUERZO_O_DOSIS_PER100  \n42                             21.328  \n71                              5.927  \n143                            60.528  \n149                            38.848  \n217                            46.000  \n223                            24.435  \n227                            25.451  ",
                        "text/html": "<div>\n<style scoped>\n    .dataframe tbody tr th:only-of-type {\n        vertical-align: middle;\n    }\n\n    .dataframe tbody tr th {\n        vertical-align: top;\n    }\n\n    .dataframe thead th {\n        text-align: right;\n    }\n</style>\n<table border=\"1\" class=\"dataframe\">\n  <thead>\n    <tr style=\"text-align: right;\">\n      <th></th>\n      <th>PAIS</th>\n      <th>ISO3</th>\n      <th>Continente</th>\n      <th>ISO_continente</th>\n      <th>OMS_REGION</th>\n      <th>FUENTE_DE_DATOS</th>\n      <th>FECHA_ACTUALIZADA</th>\n      <th>TOTAL_VACUNACIONES</th>\n      <th>PERSONAS_VACUNADAS_1_DOSIS</th>\n      <th>TOTAL_VACUNACIONES_PER100</th>\n      <th>PERSONAS_VACUNADAS_1MAS_DOSIS_PER100</th>\n      <th>PERSONAS_TOTALMENTE_VACUNADAS</th>\n      <th>PERSONAS_TOTALMENTE_VACUNADAS_PER_100</th>\n      <th>FECHA_PRIMERAS_VACUNAS</th>\n      <th>NUMERO_TIPOS_VACUNAS_USADAS</th>\n      <th>PERSONAS_REFUERZO_O_DOSIS</th>\n      <th>PERSONAS_REFUERZO_O_DOSIS_PER100</th>\n    </tr>\n  </thead>\n  <tbody>\n    <tr>\n      <th>42</th>\n      <td>Sint Maarten</td>\n      <td>SXM</td>\n      <td>None</td>\n      <td>None</td>\n      <td>AMRO</td>\n      <td>REPORTING</td>\n      <td>02-06-2023</td>\n      <td>66829.0</td>\n      <td>29788</td>\n      <td>155.844</td>\n      <td>69.465</td>\n      <td>26773</td>\n      <td>62.434</td>\n      <td>22-02-2021</td>\n      <td>3.0</td>\n      <td>9146.0</td>\n      <td>21.328</td>\n    </tr>\n    <tr>\n      <th>71</th>\n      <td>Kosovo</td>\n      <td>XKX</td>\n      <td>None</td>\n      <td>None</td>\n      <td>EURO</td>\n      <td>REPORTING</td>\n      <td>15-01-2023</td>\n      <td>1836901.0</td>\n      <td>904558</td>\n      <td>0.000</td>\n      <td>50.758</td>\n      <td>824752</td>\n      <td>46.279</td>\n      <td>31-03-2021</td>\n      <td>2.0</td>\n      <td>105624.0</td>\n      <td>5.927</td>\n    </tr>\n    <tr>\n      <th>143</th>\n      <td>Saba</td>\n      <td>XCA</td>\n      <td>None</td>\n      <td>None</td>\n      <td>AMRO</td>\n      <td>REPORTING</td>\n      <td>02-06-2023</td>\n      <td>4979.0</td>\n      <td>1687</td>\n      <td>257.579</td>\n      <td>87.274</td>\n      <td>1667</td>\n      <td>86.239</td>\n      <td>0</td>\n      <td>0.0</td>\n      <td>1170.0</td>\n      <td>60.528</td>\n    </tr>\n    <tr>\n      <th>149</th>\n      <td>Bonaire</td>\n      <td>XAA</td>\n      <td>None</td>\n      <td>None</td>\n      <td>AMRO</td>\n      <td>REPORTING</td>\n      <td>02-06-2023</td>\n      <td>43070.0</td>\n      <td>17460</td>\n      <td>205.929</td>\n      <td>83.481</td>\n      <td>16189</td>\n      <td>77.404</td>\n      <td>0</td>\n      <td>0.0</td>\n      <td>8125.0</td>\n      <td>38.848</td>\n    </tr>\n    <tr>\n      <th>217</th>\n      <td>Pitcairn Islands</td>\n      <td>PCN</td>\n      <td>None</td>\n      <td>None</td>\n      <td>WPRO</td>\n      <td>REPORTING</td>\n      <td>29-08-2022</td>\n      <td>117.0</td>\n      <td>47</td>\n      <td>234.000</td>\n      <td>94.000</td>\n      <td>47</td>\n      <td>94.000</td>\n      <td>17-05-2021</td>\n      <td>1.0</td>\n      <td>23.0</td>\n      <td>46.000</td>\n    </tr>\n    <tr>\n      <th>223</th>\n      <td>Sint Eustatius</td>\n      <td>XBA</td>\n      <td>None</td>\n      <td>None</td>\n      <td>AMRO</td>\n      <td>REPORTING</td>\n      <td>02-06-2023</td>\n      <td>4319.0</td>\n      <td>1791</td>\n      <td>137.592</td>\n      <td>57.056</td>\n      <td>1686</td>\n      <td>53.711</td>\n      <td>0</td>\n      <td>0.0</td>\n      <td>767.0</td>\n      <td>24.435</td>\n    </tr>\n    <tr>\n      <th>227</th>\n      <td>Timor-Leste</td>\n      <td>TLS</td>\n      <td>None</td>\n      <td>None</td>\n      <td>SEARO</td>\n      <td>REPORTING</td>\n      <td>26-06-2023</td>\n      <td>2019384.0</td>\n      <td>884194</td>\n      <td>153.164</td>\n      <td>67.063</td>\n      <td>799627</td>\n      <td>60.649</td>\n      <td>07-04-2021</td>\n      <td>4.0</td>\n      <td>335563.0</td>\n      <td>25.451</td>\n    </tr>\n  </tbody>\n</table>\n</div>"
                    },
                    "metadata": {},
                    "execution_count": 59,
                    "output_type": "execute_result"
                }
            ],
            "execution_count": 59
        },
        {
            "cell_type": "markdown",
            "source": [
                "Sustituyo los valores nulos por los valores **Sin Determinar** y **Z9**"
            ],
            "metadata": {
                "id": "hneGLotAJVNk",
                "azdata_cell_guid": "09d986a3-1628-4bc1-a650-9d0b20460ce4"
            }
        },
        {
            "cell_type": "code",
            "source": [
                "df_vacunation['Continente'].fillna('Sin Determinar', inplace=True)\n",
                "df_vacunation['ISO_continente'].fillna('Z9', inplace=True)"
            ],
            "metadata": {
                "id": "Yve6E70jJVNk",
                "azdata_cell_guid": "29a6916c-8e68-4cfb-8fc9-ba11b944ce79",
                "language": "python"
            },
            "outputs": [],
            "execution_count": 60
        },
        {
            "cell_type": "markdown",
            "source": [
                "Verifico los cambios"
            ],
            "metadata": {
                "id": "O0uF-NjsJVNk",
                "azdata_cell_guid": "40fc88f0-09c8-4cce-8326-e5ef2d4fe33d"
            }
        },
        {
            "cell_type": "code",
            "source": [
                "df_vacunation[df_vacunation.ISO_continente == 'Z9']"
            ],
            "metadata": {
                "colab": {
                    "base_uri": "https://localhost:8080/",
                    "height": 454
                },
                "id": "0m6ZwLZkJVNk",
                "outputId": "3b2917e0-b88b-4f76-f1c6-5b4bdd0dad9b",
                "azdata_cell_guid": "efbcb0a6-fcac-4364-8e18-882047f2cb3e",
                "language": "python"
            },
            "outputs": [
                {
                    "data": {
                        "text/plain": "                 PAIS ISO3      Continente ISO_continente OMS_REGION  \\\n42       Sint Maarten  SXM  Sin Determinar             Z9       AMRO   \n71             Kosovo  XKX  Sin Determinar             Z9       EURO   \n143              Saba  XCA  Sin Determinar             Z9       AMRO   \n149           Bonaire  XAA  Sin Determinar             Z9       AMRO   \n217  Pitcairn Islands  PCN  Sin Determinar             Z9       WPRO   \n223    Sint Eustatius  XBA  Sin Determinar             Z9       AMRO   \n227       Timor-Leste  TLS  Sin Determinar             Z9      SEARO   \n\n    FUENTE_DE_DATOS FECHA_ACTUALIZADA  TOTAL_VACUNACIONES  \\\n42        REPORTING        02-06-2023             66829.0   \n71        REPORTING        15-01-2023           1836901.0   \n143       REPORTING        02-06-2023              4979.0   \n149       REPORTING        02-06-2023             43070.0   \n217       REPORTING        29-08-2022               117.0   \n223       REPORTING        02-06-2023              4319.0   \n227       REPORTING        26-06-2023           2019384.0   \n\n     PERSONAS_VACUNADAS_1_DOSIS  TOTAL_VACUNACIONES_PER100  \\\n42                        29788                    155.844   \n71                       904558                      0.000   \n143                        1687                    257.579   \n149                       17460                    205.929   \n217                          47                    234.000   \n223                        1791                    137.592   \n227                      884194                    153.164   \n\n     PERSONAS_VACUNADAS_1MAS_DOSIS_PER100  PERSONAS_TOTALMENTE_VACUNADAS  \\\n42                                 69.465                          26773   \n71                                 50.758                         824752   \n143                                87.274                           1667   \n149                                83.481                          16189   \n217                                94.000                             47   \n223                                57.056                           1686   \n227                                67.063                         799627   \n\n     PERSONAS_TOTALMENTE_VACUNADAS_PER_100 FECHA_PRIMERAS_VACUNAS  \\\n42                                  62.434             22-02-2021   \n71                                  46.279             31-03-2021   \n143                                 86.239                      0   \n149                                 77.404                      0   \n217                                 94.000             17-05-2021   \n223                                 53.711                      0   \n227                                 60.649             07-04-2021   \n\n     NUMERO_TIPOS_VACUNAS_USADAS  PERSONAS_REFUERZO_O_DOSIS  \\\n42                           3.0                     9146.0   \n71                           2.0                   105624.0   \n143                          0.0                     1170.0   \n149                          0.0                     8125.0   \n217                          1.0                       23.0   \n223                          0.0                      767.0   \n227                          4.0                   335563.0   \n\n     PERSONAS_REFUERZO_O_DOSIS_PER100  \n42                             21.328  \n71                              5.927  \n143                            60.528  \n149                            38.848  \n217                            46.000  \n223                            24.435  \n227                            25.451  ",
                        "text/html": "<div>\n<style scoped>\n    .dataframe tbody tr th:only-of-type {\n        vertical-align: middle;\n    }\n\n    .dataframe tbody tr th {\n        vertical-align: top;\n    }\n\n    .dataframe thead th {\n        text-align: right;\n    }\n</style>\n<table border=\"1\" class=\"dataframe\">\n  <thead>\n    <tr style=\"text-align: right;\">\n      <th></th>\n      <th>PAIS</th>\n      <th>ISO3</th>\n      <th>Continente</th>\n      <th>ISO_continente</th>\n      <th>OMS_REGION</th>\n      <th>FUENTE_DE_DATOS</th>\n      <th>FECHA_ACTUALIZADA</th>\n      <th>TOTAL_VACUNACIONES</th>\n      <th>PERSONAS_VACUNADAS_1_DOSIS</th>\n      <th>TOTAL_VACUNACIONES_PER100</th>\n      <th>PERSONAS_VACUNADAS_1MAS_DOSIS_PER100</th>\n      <th>PERSONAS_TOTALMENTE_VACUNADAS</th>\n      <th>PERSONAS_TOTALMENTE_VACUNADAS_PER_100</th>\n      <th>FECHA_PRIMERAS_VACUNAS</th>\n      <th>NUMERO_TIPOS_VACUNAS_USADAS</th>\n      <th>PERSONAS_REFUERZO_O_DOSIS</th>\n      <th>PERSONAS_REFUERZO_O_DOSIS_PER100</th>\n    </tr>\n  </thead>\n  <tbody>\n    <tr>\n      <th>42</th>\n      <td>Sint Maarten</td>\n      <td>SXM</td>\n      <td>Sin Determinar</td>\n      <td>Z9</td>\n      <td>AMRO</td>\n      <td>REPORTING</td>\n      <td>02-06-2023</td>\n      <td>66829.0</td>\n      <td>29788</td>\n      <td>155.844</td>\n      <td>69.465</td>\n      <td>26773</td>\n      <td>62.434</td>\n      <td>22-02-2021</td>\n      <td>3.0</td>\n      <td>9146.0</td>\n      <td>21.328</td>\n    </tr>\n    <tr>\n      <th>71</th>\n      <td>Kosovo</td>\n      <td>XKX</td>\n      <td>Sin Determinar</td>\n      <td>Z9</td>\n      <td>EURO</td>\n      <td>REPORTING</td>\n      <td>15-01-2023</td>\n      <td>1836901.0</td>\n      <td>904558</td>\n      <td>0.000</td>\n      <td>50.758</td>\n      <td>824752</td>\n      <td>46.279</td>\n      <td>31-03-2021</td>\n      <td>2.0</td>\n      <td>105624.0</td>\n      <td>5.927</td>\n    </tr>\n    <tr>\n      <th>143</th>\n      <td>Saba</td>\n      <td>XCA</td>\n      <td>Sin Determinar</td>\n      <td>Z9</td>\n      <td>AMRO</td>\n      <td>REPORTING</td>\n      <td>02-06-2023</td>\n      <td>4979.0</td>\n      <td>1687</td>\n      <td>257.579</td>\n      <td>87.274</td>\n      <td>1667</td>\n      <td>86.239</td>\n      <td>0</td>\n      <td>0.0</td>\n      <td>1170.0</td>\n      <td>60.528</td>\n    </tr>\n    <tr>\n      <th>149</th>\n      <td>Bonaire</td>\n      <td>XAA</td>\n      <td>Sin Determinar</td>\n      <td>Z9</td>\n      <td>AMRO</td>\n      <td>REPORTING</td>\n      <td>02-06-2023</td>\n      <td>43070.0</td>\n      <td>17460</td>\n      <td>205.929</td>\n      <td>83.481</td>\n      <td>16189</td>\n      <td>77.404</td>\n      <td>0</td>\n      <td>0.0</td>\n      <td>8125.0</td>\n      <td>38.848</td>\n    </tr>\n    <tr>\n      <th>217</th>\n      <td>Pitcairn Islands</td>\n      <td>PCN</td>\n      <td>Sin Determinar</td>\n      <td>Z9</td>\n      <td>WPRO</td>\n      <td>REPORTING</td>\n      <td>29-08-2022</td>\n      <td>117.0</td>\n      <td>47</td>\n      <td>234.000</td>\n      <td>94.000</td>\n      <td>47</td>\n      <td>94.000</td>\n      <td>17-05-2021</td>\n      <td>1.0</td>\n      <td>23.0</td>\n      <td>46.000</td>\n    </tr>\n    <tr>\n      <th>223</th>\n      <td>Sint Eustatius</td>\n      <td>XBA</td>\n      <td>Sin Determinar</td>\n      <td>Z9</td>\n      <td>AMRO</td>\n      <td>REPORTING</td>\n      <td>02-06-2023</td>\n      <td>4319.0</td>\n      <td>1791</td>\n      <td>137.592</td>\n      <td>57.056</td>\n      <td>1686</td>\n      <td>53.711</td>\n      <td>0</td>\n      <td>0.0</td>\n      <td>767.0</td>\n      <td>24.435</td>\n    </tr>\n    <tr>\n      <th>227</th>\n      <td>Timor-Leste</td>\n      <td>TLS</td>\n      <td>Sin Determinar</td>\n      <td>Z9</td>\n      <td>SEARO</td>\n      <td>REPORTING</td>\n      <td>26-06-2023</td>\n      <td>2019384.0</td>\n      <td>884194</td>\n      <td>153.164</td>\n      <td>67.063</td>\n      <td>799627</td>\n      <td>60.649</td>\n      <td>07-04-2021</td>\n      <td>4.0</td>\n      <td>335563.0</td>\n      <td>25.451</td>\n    </tr>\n  </tbody>\n</table>\n</div>"
                    },
                    "metadata": {},
                    "execution_count": 61,
                    "output_type": "execute_result"
                }
            ],
            "execution_count": 61
        },
        {
            "cell_type": "code",
            "source": [
                "df_vacunation.columns =['PAIS', 'PAIS_ISO3','CONTINENTE','ISO_CONTINENTE','OMS_REGION', 'FUENTE_DATOS', 'FECHA_ULT_ACTUALIZACION',\n",
                "       'TOTAL_VACUNACION_ACUM', 'NPER_VACUNADAS_1DOSIS',\n",
                "       'TOTAL_VACUNACION_PER100', 'NPER_VACUNADAS_1DOSIS_PER100',\n",
                "       'NPER_VACUNADAS_DOSIS_FULL', 'NPER_VACUNADAS_DOSIS_FULL_PER100','FECHA_PRIMERA_VACUNA', 'N_TIPOS_VACUNAS_USADAS',\n",
                "       'NPER_CON_DOSIS_ADICIONAL', 'NPER_CON_DOSIS_ADIDICIONAL_PER100']"
            ],
            "metadata": {
                "id": "slDws_cmJVNl",
                "azdata_cell_guid": "30203cc7-0211-4936-baa7-97ea6c415037",
                "language": "python"
            },
            "outputs": [],
            "execution_count": 62
        },
        {
            "cell_type": "markdown",
            "source": [
                "Exporto el fichero depurado"
            ],
            "metadata": {
                "id": "edDFfNdeJVNn",
                "azdata_cell_guid": "5fb39d98-63f8-4710-a972-fe804cc0a7b2"
            }
        },
        {
            "cell_type": "code",
            "source": [
                "#df_vacunation.to_csv('/content/TFM/Ficheros_Depurados/df_vacunation.csv',index=False)"
            ],
            "metadata": {
                "id": "8pcj7RT4JVNn",
                "azdata_cell_guid": "fea975a9-0600-4132-8293-4fd47ecc5966",
                "language": "python"
            },
            "outputs": [],
            "execution_count": 63
        },
        {
            "cell_type": "markdown",
            "source": [
                "# Establecemos **Conexión a BBDD y Carga de Ficheros** (Azure Data Studio)"
            ],
            "metadata": {
                "language": "python",
                "azdata_cell_guid": "86f06429-6dfc-481d-be7b-6c06dfaf28a3"
            },
            "attachments": {}
        },
        {
            "cell_type": "code",
            "source": [
                "import pyodbc\r\n",
                "server = 'servidortfmcovid-v2.database.windows.net'\r\n",
                "database = 'basedatostfmcovid-v2'\r\n",
                "username = 'admintfmcovid_v2'\r\n",
                "password = 'TFMcovid2023!_v2'\r\n",
                "cnxn = pyodbc.connect('DRIVER={SQL Server};SERVER='+server+';DATABASE='+database+';UID='+username+';PWD='+ password)\r\n",
                "cursor = cnxn.cursor()\r\n",
                "\r\n",
                "# Nombre de la tabla en la base de datos\r\n",
                "nombre_de_tabla = 'dbo.VACUNACIONES'  # Reemplaza 'MiTabla' por el nombre de tu tabla\r\n",
                "\r\n",
                "# Eliminar registros\r\n",
                "cursor.execute(f\"DELETE FROM {nombre_de_tabla}\")\r\n",
                "\r\n",
                "# Inserta los datos del DataFrame en la tabla\r\n",
                "for index, row in df_vacunation.iterrows():\r\n",
                "    insert_query = f\"INSERT INTO {nombre_de_tabla} ({', '.join(df_vacunation.columns)}) VALUES ({', '.join(['?'] * len(df_vacunation.columns))})\"\r\n",
                "    cursor.execute(insert_query, tuple(row))\r\n",
                "    cnxn.commit()\r\n",
                "\r\n",
                "# Cierra la conexión\r\n",
                "cnxn.close()"
            ],
            "metadata": {
                "language": "python",
                "azdata_cell_guid": "1797a4c7-b804-4828-9580-b925b5be1005"
            },
            "outputs": [],
            "execution_count": 64
        }
    ]
}