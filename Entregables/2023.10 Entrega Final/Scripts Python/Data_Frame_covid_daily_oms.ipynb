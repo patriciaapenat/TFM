{
    "metadata": {
        "kernelspec": {
            "name": "python3",
            "display_name": "Python 3",
            "language": "python"
        },
        "language_info": {
            "name": "python",
            "version": "3.8.10",
            "mimetype": "text/x-python",
            "codemirror_mode": {
                "name": "ipython",
                "version": 3
            },
            "pygments_lexer": "ipython3",
            "nbconvert_exporter": "python",
            "file_extension": ".py"
        },
        "colab": {
            "name": "Cleaning_data_Python.ipynb",
            "provenance": [],
            "include_colab_link": true
        }
    },
    "nbformat_minor": 2,
    "nbformat": 4,
    "cells": [
        {
            "cell_type": "markdown",
            "source": [
                "<a href=\"https://colab.research.google.com/github/patriciaapenat/TFM/blob/main/Notebooks/Data_Frame_covid_daily_oms.ipynb\" target=\"_parent\"><img src=\"https://colab.research.google.com/assets/colab-badge.svg\" alt=\"Open In Colab\"/></a>"
            ],
            "metadata": {
                "id": "view-in-github",
                "colab_type": "text",
                "azdata_cell_guid": "8cd460c5-d553-4a27-9341-7192df4b9a59"
            }
        },
        {
            "cell_type": "code",
            "source": [
                "#! git clone https://github.com/patriciaapenat/TFM.git"
            ],
            "metadata": {
                "id": "DZrRyTYpPSVO",
                "outputId": "d5aa0418-9090-4a89-f2fc-786ff9c6c3a0",
                "colab": {
                    "base_uri": "https://localhost:8080/"
                },
                "azdata_cell_guid": "bc60a821-dede-4bcc-8d87-674675cf8789",
                "language": "python"
            },
            "outputs": [],
            "execution_count": null
        },
        {
            "cell_type": "markdown",
            "source": [
                "### **Fuente de Datos - Ficheros WHO OMS**\n",
                "**https://covid19.who.int/data**<br>\n",
                "**https://ourworldindata.org/coronavirus#coronavirus-country-profiles**<br>\n",
                "\n",
                "\n",
                "#### Descarga de datos\n",
                "\n",
                "**1.- Casos diarios y muertes por fecha notificados a la OMS:** https://covid19.who.int/WHO-COVID-19-global-data.csv<br>\n",
                "**2.- Últimos recuentos informados de casos y muertes:** https://covid19.who.int/WHO-COVID-19-global-table-data.csv<br>\n",
                "**3.- Datos de vacunación:** https://covid19.who.int/who-data/vaccination-data.csv<br>\n",
                "**4.- Metadatos de vacunación:**https://covid19.who.int/who-data/vaccination-metadata.csv<br>\n"
            ],
            "metadata": {
                "id": "rMDCXP8at6us",
                "azdata_cell_guid": "f410f0f0-aea7-41e9-90d4-8757cd6d2f07"
            }
        },
        {
            "cell_type": "markdown",
            "source": [
                "**🧾Informacion del Dataset**<br>\n",
                "*  Los usuarios deben tener en cuenta que, además de capturar nuevos casos y muertes notificadas en un día determinado, las actualizaciones se realizan retrospectivamente para corregir los recuentos de días anteriores según sea necesario en función de la información recibida posteriormente. Consulte \"Datos agregados diarios de recuento de casos y muertes\" más arriba para obtener más detalles sobre el cálculo de nuevos casos/muertes."
            ],
            "metadata": {
                "id": "719dxmDl21d-",
                "azdata_cell_guid": "af277546-0b21-4d32-a317-5e113c7c3190"
            }
        },
        {
            "cell_type": "code",
            "source": [
                "import pandas as pd\n",
                "import numpy as np\n",
                "\n",
                "#!pip install mysql-connector-python\n",
                "#!pip install sqlalchemy\n",
                "#!pip install PyMySql\n",
                "#!pip install ipython-sql"
            ],
            "metadata": {
                "id": "-abzDy9sPHK-",
                "azdata_cell_guid": "1b349819-ba29-4b52-aa03-e83e2d26e713",
                "language": "python"
            },
            "outputs": [],
            "execution_count": 1
        },
        {
            "cell_type": "code",
            "source": [
                "#pip install pycountry==20.7.3\n",
                "#!pip install pycountry-convert==0.7.2"
            ],
            "metadata": {
                "id": "ioUuErLbPHLD",
                "azdata_cell_guid": "b02164c5-727b-40cc-99e7-20871cbd90da",
                "language": "python"
            },
            "outputs": [],
            "execution_count": 2
        },
        {
            "cell_type": "markdown",
            "source": [
                "# Acceso a los datasets de la OMS:"
            ],
            "metadata": {
                "id": "-VlHByw1PHLC",
                "azdata_cell_guid": "28564d41-cb58-45f3-a7f3-5ba32e452c38"
            }
        },
        {
            "cell_type": "markdown",
            "source": [
                "Exloración e Información del DataFrame **df_covid_daily**"
            ],
            "metadata": {
                "id": "I7nZM-X_PHLC",
                "azdata_cell_guid": "0000b425-ffa4-4e47-8953-4cd5d073f6f1"
            }
        },
        {
            "cell_type": "code",
            "source": [
                "df_covid_daily = pd.read_csv('https://covid19.who.int/WHO-COVID-19-global-data.csv')\n",
                "df_covid_daily.head()"
            ],
            "metadata": {
                "id": "k6nN9_6iPHLD",
                "outputId": "d971dd4f-7f98-4103-c48b-617ccf7850e0",
                "colab": {
                    "base_uri": "https://localhost:8080/",
                    "height": 206
                },
                "azdata_cell_guid": "b7a8b24a-7e85-479e-968b-13da50e22de9",
                "language": "python"
            },
            "outputs": [
                {
                    "data": {
                        "text/plain": "  Date_reported Country_code      Country WHO_region  New_cases  \\\n0    2020-01-03           AF  Afghanistan       EMRO          0   \n1    2020-01-04           AF  Afghanistan       EMRO          0   \n2    2020-01-05           AF  Afghanistan       EMRO          0   \n3    2020-01-06           AF  Afghanistan       EMRO          0   \n4    2020-01-07           AF  Afghanistan       EMRO          0   \n\n   Cumulative_cases  New_deaths  Cumulative_deaths  \n0                 0           0                  0  \n1                 0           0                  0  \n2                 0           0                  0  \n3                 0           0                  0  \n4                 0           0                  0  ",
                        "text/html": "<div>\n<style scoped>\n    .dataframe tbody tr th:only-of-type {\n        vertical-align: middle;\n    }\n\n    .dataframe tbody tr th {\n        vertical-align: top;\n    }\n\n    .dataframe thead th {\n        text-align: right;\n    }\n</style>\n<table border=\"1\" class=\"dataframe\">\n  <thead>\n    <tr style=\"text-align: right;\">\n      <th></th>\n      <th>Date_reported</th>\n      <th>Country_code</th>\n      <th>Country</th>\n      <th>WHO_region</th>\n      <th>New_cases</th>\n      <th>Cumulative_cases</th>\n      <th>New_deaths</th>\n      <th>Cumulative_deaths</th>\n    </tr>\n  </thead>\n  <tbody>\n    <tr>\n      <th>0</th>\n      <td>2020-01-03</td>\n      <td>AF</td>\n      <td>Afghanistan</td>\n      <td>EMRO</td>\n      <td>0</td>\n      <td>0</td>\n      <td>0</td>\n      <td>0</td>\n    </tr>\n    <tr>\n      <th>1</th>\n      <td>2020-01-04</td>\n      <td>AF</td>\n      <td>Afghanistan</td>\n      <td>EMRO</td>\n      <td>0</td>\n      <td>0</td>\n      <td>0</td>\n      <td>0</td>\n    </tr>\n    <tr>\n      <th>2</th>\n      <td>2020-01-05</td>\n      <td>AF</td>\n      <td>Afghanistan</td>\n      <td>EMRO</td>\n      <td>0</td>\n      <td>0</td>\n      <td>0</td>\n      <td>0</td>\n    </tr>\n    <tr>\n      <th>3</th>\n      <td>2020-01-06</td>\n      <td>AF</td>\n      <td>Afghanistan</td>\n      <td>EMRO</td>\n      <td>0</td>\n      <td>0</td>\n      <td>0</td>\n      <td>0</td>\n    </tr>\n    <tr>\n      <th>4</th>\n      <td>2020-01-07</td>\n      <td>AF</td>\n      <td>Afghanistan</td>\n      <td>EMRO</td>\n      <td>0</td>\n      <td>0</td>\n      <td>0</td>\n      <td>0</td>\n    </tr>\n  </tbody>\n</table>\n</div>"
                    },
                    "metadata": {},
                    "execution_count": 3,
                    "output_type": "execute_result"
                }
            ],
            "execution_count": 3
        },
        {
            "cell_type": "code",
            "source": [
                "df_covid_daily.shape"
            ],
            "metadata": {
                "id": "cxSQB9PSPHLD",
                "outputId": "0f5e524e-32e1-465c-a493-28306e3e7060",
                "colab": {
                    "base_uri": "https://localhost:8080/"
                },
                "azdata_cell_guid": "78f9c658-623b-4589-bb67-133266467db0",
                "language": "python"
            },
            "outputs": [
                {
                    "data": {
                        "text/plain": "(328245, 8)"
                    },
                    "metadata": {},
                    "execution_count": 4,
                    "output_type": "execute_result"
                }
            ],
            "execution_count": 4
        },
        {
            "cell_type": "code",
            "source": [
                "df_covid_daily.info()"
            ],
            "metadata": {
                "id": "04mlqtqsPHLD",
                "outputId": "8b5fa335-8c36-4376-cbce-255835867778",
                "colab": {
                    "base_uri": "https://localhost:8080/"
                },
                "azdata_cell_guid": "2394f78f-8b42-42c2-999c-fe4cbce24970",
                "language": "python"
            },
            "outputs": [
                {
                    "name": "stdout",
                    "text": "<class 'pandas.core.frame.DataFrame'>\nRangeIndex: 328245 entries, 0 to 328244\nData columns (total 8 columns):\n #   Column             Non-Null Count   Dtype \n---  ------             --------------   ----- \n 0   Date_reported      328245 non-null  object\n 1   Country_code       326860 non-null  object\n 2   Country            328245 non-null  object\n 3   WHO_region         328245 non-null  object\n 4   New_cases          328245 non-null  int64 \n 5   Cumulative_cases   328245 non-null  int64 \n 6   New_deaths         328245 non-null  int64 \n 7   Cumulative_deaths  328245 non-null  int64 \ndtypes: int64(4), object(4)\nmemory usage: 20.0+ MB\n",
                    "output_type": "stream"
                }
            ],
            "execution_count": 5
        },
        {
            "cell_type": "markdown",
            "source": [
                "Transformamos **Date_reported** a formato datetime con formato **dd/mm/yy**"
            ],
            "metadata": {
                "id": "v8g7XKJ4PHLD",
                "azdata_cell_guid": "d947f077-d318-40c8-b76e-ef458182638f"
            }
        },
        {
            "cell_type": "code",
            "source": [
                "df_covid_daily['Date_reported']= pd.to_datetime(df_covid_daily['Date_reported']).dt.strftime('%d-%m-%Y')"
            ],
            "metadata": {
                "id": "jaDVxZfrPHLE",
                "azdata_cell_guid": "8f3c4add-fea0-4a50-a43d-7cd693ce2601",
                "language": "python"
            },
            "outputs": [],
            "execution_count": 6
        },
        {
            "cell_type": "markdown",
            "source": [
                "Verificamos que se han modificado el tipo de datos a formato fecha **dd/mm/yy**"
            ],
            "metadata": {
                "id": "dUX5B2j7PHLE",
                "azdata_cell_guid": "fbb3046e-7fc7-4ce4-96d2-2894cafbd90b"
            }
        },
        {
            "cell_type": "code",
            "source": [
                "df_covid_daily.head()"
            ],
            "metadata": {
                "scrolled": true,
                "id": "0lPPG1trPHLE",
                "outputId": "6daa9e02-80dd-4527-a479-eb43112ab4b4",
                "colab": {
                    "base_uri": "https://localhost:8080/",
                    "height": 206
                },
                "azdata_cell_guid": "8f0b5485-d229-4b11-a6dd-4b8bc7bdcb1e",
                "language": "python"
            },
            "outputs": [
                {
                    "data": {
                        "text/plain": "  Date_reported Country_code      Country WHO_region  New_cases  \\\n0    03-01-2020           AF  Afghanistan       EMRO          0   \n1    04-01-2020           AF  Afghanistan       EMRO          0   \n2    05-01-2020           AF  Afghanistan       EMRO          0   \n3    06-01-2020           AF  Afghanistan       EMRO          0   \n4    07-01-2020           AF  Afghanistan       EMRO          0   \n\n   Cumulative_cases  New_deaths  Cumulative_deaths  \n0                 0           0                  0  \n1                 0           0                  0  \n2                 0           0                  0  \n3                 0           0                  0  \n4                 0           0                  0  ",
                        "text/html": "<div>\n<style scoped>\n    .dataframe tbody tr th:only-of-type {\n        vertical-align: middle;\n    }\n\n    .dataframe tbody tr th {\n        vertical-align: top;\n    }\n\n    .dataframe thead th {\n        text-align: right;\n    }\n</style>\n<table border=\"1\" class=\"dataframe\">\n  <thead>\n    <tr style=\"text-align: right;\">\n      <th></th>\n      <th>Date_reported</th>\n      <th>Country_code</th>\n      <th>Country</th>\n      <th>WHO_region</th>\n      <th>New_cases</th>\n      <th>Cumulative_cases</th>\n      <th>New_deaths</th>\n      <th>Cumulative_deaths</th>\n    </tr>\n  </thead>\n  <tbody>\n    <tr>\n      <th>0</th>\n      <td>03-01-2020</td>\n      <td>AF</td>\n      <td>Afghanistan</td>\n      <td>EMRO</td>\n      <td>0</td>\n      <td>0</td>\n      <td>0</td>\n      <td>0</td>\n    </tr>\n    <tr>\n      <th>1</th>\n      <td>04-01-2020</td>\n      <td>AF</td>\n      <td>Afghanistan</td>\n      <td>EMRO</td>\n      <td>0</td>\n      <td>0</td>\n      <td>0</td>\n      <td>0</td>\n    </tr>\n    <tr>\n      <th>2</th>\n      <td>05-01-2020</td>\n      <td>AF</td>\n      <td>Afghanistan</td>\n      <td>EMRO</td>\n      <td>0</td>\n      <td>0</td>\n      <td>0</td>\n      <td>0</td>\n    </tr>\n    <tr>\n      <th>3</th>\n      <td>06-01-2020</td>\n      <td>AF</td>\n      <td>Afghanistan</td>\n      <td>EMRO</td>\n      <td>0</td>\n      <td>0</td>\n      <td>0</td>\n      <td>0</td>\n    </tr>\n    <tr>\n      <th>4</th>\n      <td>07-01-2020</td>\n      <td>AF</td>\n      <td>Afghanistan</td>\n      <td>EMRO</td>\n      <td>0</td>\n      <td>0</td>\n      <td>0</td>\n      <td>0</td>\n    </tr>\n  </tbody>\n</table>\n</div>"
                    },
                    "metadata": {},
                    "execution_count": 7,
                    "output_type": "execute_result"
                }
            ],
            "execution_count": 7
        },
        {
            "cell_type": "markdown",
            "source": [
                "Observamos que no hay **ningún valor duplicado**"
            ],
            "metadata": {
                "id": "MNqdlg89PHLE",
                "azdata_cell_guid": "1111dd42-a8da-41b9-ab30-a87b7637476f"
            }
        },
        {
            "cell_type": "code",
            "source": [
                "df_covid_daily.duplicated().values.any()"
            ],
            "metadata": {
                "id": "TSrmZwV8PHLE",
                "outputId": "f11ac199-5309-47f5-b83c-23d5ba66b99e",
                "colab": {
                    "base_uri": "https://localhost:8080/"
                },
                "azdata_cell_guid": "d5b22d2b-45cf-4913-94eb-fc1d09f78daf",
                "language": "python"
            },
            "outputs": [
                {
                    "data": {
                        "text/plain": "False"
                    },
                    "metadata": {},
                    "execution_count": 8,
                    "output_type": "execute_result"
                }
            ],
            "execution_count": 8
        },
        {
            "cell_type": "markdown",
            "source": [
                "Observamos que hay **1379 valores nulos**"
            ],
            "metadata": {
                "id": "kE7_Q3PRPHLE",
                "azdata_cell_guid": "8ba0d4e0-b94d-4129-97ab-122e067b6ef0"
            },
            "attachments": {}
        },
        {
            "cell_type": "code",
            "source": [
                "df_covid_daily.isnull().values.sum()"
            ],
            "metadata": {
                "scrolled": true,
                "id": "tt5ssDPbPHLF",
                "outputId": "bb65407f-978d-497a-9bc1-67a8cffae440",
                "colab": {
                    "base_uri": "https://localhost:8080/"
                },
                "azdata_cell_guid": "08cb6817-9fbc-4af9-af94-2ea399d2c532",
                "language": "python"
            },
            "outputs": [
                {
                    "data": {
                        "text/plain": "1385"
                    },
                    "metadata": {},
                    "execution_count": 9,
                    "output_type": "execute_result"
                }
            ],
            "execution_count": 9
        },
        {
            "cell_type": "markdown",
            "source": [
                "Identificamos en que **Variable** y la **suma de valores nulos**"
            ],
            "metadata": {
                "id": "qakXjkImPHLF",
                "azdata_cell_guid": "56307341-3a5b-4d92-8efe-f2eece763f3e"
            }
        },
        {
            "cell_type": "code",
            "source": [
                "df_covid_daily.isnull().sum()"
            ],
            "metadata": {
                "scrolled": true,
                "id": "QIWm3kuMPHLF",
                "outputId": "d1d53797-ae78-4d1d-d41e-b84888af8a61",
                "colab": {
                    "base_uri": "https://localhost:8080/"
                },
                "azdata_cell_guid": "b713fe3d-f9d6-4940-9303-bedf405fded2",
                "language": "python"
            },
            "outputs": [
                {
                    "data": {
                        "text/plain": "Date_reported           0\nCountry_code         1385\nCountry                 0\nWHO_region              0\nNew_cases               0\nCumulative_cases        0\nNew_deaths              0\nCumulative_deaths       0\ndtype: int64"
                    },
                    "metadata": {},
                    "execution_count": 10,
                    "output_type": "execute_result"
                }
            ],
            "execution_count": 10
        },
        {
            "cell_type": "markdown",
            "source": [
                "Observamos que el Country Namibia tiene código Null debido a que su código ISO es **NM**"
            ],
            "metadata": {
                "id": "zuYOlArZPHLF",
                "azdata_cell_guid": "634af9d4-a82f-49a1-b91b-0483a3fb96b4"
            }
        },
        {
            "cell_type": "code",
            "source": [
                "df_covid_daily[df_covid_daily['Country_code'].isnull()]"
            ],
            "metadata": {
                "scrolled": false,
                "id": "mRRoJnsJPHLF",
                "outputId": "a7aa42cd-230e-4efc-a49f-2013bb8f524c",
                "colab": {
                    "base_uri": "https://localhost:8080/",
                    "height": 423
                },
                "azdata_cell_guid": "9c208a6e-81df-4afe-9733-bafab960eeca",
                "language": "python"
            },
            "outputs": [
                {
                    "data": {
                        "text/plain": "       Date_reported Country_code  Country WHO_region  New_cases  \\\n198055    03-01-2020          NaN  Namibia       AFRO          0   \n198056    04-01-2020          NaN  Namibia       AFRO          0   \n198057    05-01-2020          NaN  Namibia       AFRO          0   \n198058    06-01-2020          NaN  Namibia       AFRO          0   \n198059    07-01-2020          NaN  Namibia       AFRO          0   \n...              ...          ...      ...        ...        ...   \n199435    14-10-2023          NaN  Namibia       AFRO          0   \n199436    15-10-2023          NaN  Namibia       AFRO          0   \n199437    16-10-2023          NaN  Namibia       AFRO          0   \n199438    17-10-2023          NaN  Namibia       AFRO          0   \n199439    18-10-2023          NaN  Namibia       AFRO          0   \n\n        Cumulative_cases  New_deaths  Cumulative_deaths  \n198055                 0           0                  0  \n198056                 0           0                  0  \n198057                 0           0                  0  \n198058                 0           0                  0  \n198059                 0           0                  0  \n...                  ...         ...                ...  \n199435            172121           0               4100  \n199436            172121           0               4100  \n199437            172121           0               4100  \n199438            172121           0               4100  \n199439            172121           0               4100  \n\n[1385 rows x 8 columns]",
                        "text/html": "<div>\n<style scoped>\n    .dataframe tbody tr th:only-of-type {\n        vertical-align: middle;\n    }\n\n    .dataframe tbody tr th {\n        vertical-align: top;\n    }\n\n    .dataframe thead th {\n        text-align: right;\n    }\n</style>\n<table border=\"1\" class=\"dataframe\">\n  <thead>\n    <tr style=\"text-align: right;\">\n      <th></th>\n      <th>Date_reported</th>\n      <th>Country_code</th>\n      <th>Country</th>\n      <th>WHO_region</th>\n      <th>New_cases</th>\n      <th>Cumulative_cases</th>\n      <th>New_deaths</th>\n      <th>Cumulative_deaths</th>\n    </tr>\n  </thead>\n  <tbody>\n    <tr>\n      <th>198055</th>\n      <td>03-01-2020</td>\n      <td>NaN</td>\n      <td>Namibia</td>\n      <td>AFRO</td>\n      <td>0</td>\n      <td>0</td>\n      <td>0</td>\n      <td>0</td>\n    </tr>\n    <tr>\n      <th>198056</th>\n      <td>04-01-2020</td>\n      <td>NaN</td>\n      <td>Namibia</td>\n      <td>AFRO</td>\n      <td>0</td>\n      <td>0</td>\n      <td>0</td>\n      <td>0</td>\n    </tr>\n    <tr>\n      <th>198057</th>\n      <td>05-01-2020</td>\n      <td>NaN</td>\n      <td>Namibia</td>\n      <td>AFRO</td>\n      <td>0</td>\n      <td>0</td>\n      <td>0</td>\n      <td>0</td>\n    </tr>\n    <tr>\n      <th>198058</th>\n      <td>06-01-2020</td>\n      <td>NaN</td>\n      <td>Namibia</td>\n      <td>AFRO</td>\n      <td>0</td>\n      <td>0</td>\n      <td>0</td>\n      <td>0</td>\n    </tr>\n    <tr>\n      <th>198059</th>\n      <td>07-01-2020</td>\n      <td>NaN</td>\n      <td>Namibia</td>\n      <td>AFRO</td>\n      <td>0</td>\n      <td>0</td>\n      <td>0</td>\n      <td>0</td>\n    </tr>\n    <tr>\n      <th>...</th>\n      <td>...</td>\n      <td>...</td>\n      <td>...</td>\n      <td>...</td>\n      <td>...</td>\n      <td>...</td>\n      <td>...</td>\n      <td>...</td>\n    </tr>\n    <tr>\n      <th>199435</th>\n      <td>14-10-2023</td>\n      <td>NaN</td>\n      <td>Namibia</td>\n      <td>AFRO</td>\n      <td>0</td>\n      <td>172121</td>\n      <td>0</td>\n      <td>4100</td>\n    </tr>\n    <tr>\n      <th>199436</th>\n      <td>15-10-2023</td>\n      <td>NaN</td>\n      <td>Namibia</td>\n      <td>AFRO</td>\n      <td>0</td>\n      <td>172121</td>\n      <td>0</td>\n      <td>4100</td>\n    </tr>\n    <tr>\n      <th>199437</th>\n      <td>16-10-2023</td>\n      <td>NaN</td>\n      <td>Namibia</td>\n      <td>AFRO</td>\n      <td>0</td>\n      <td>172121</td>\n      <td>0</td>\n      <td>4100</td>\n    </tr>\n    <tr>\n      <th>199438</th>\n      <td>17-10-2023</td>\n      <td>NaN</td>\n      <td>Namibia</td>\n      <td>AFRO</td>\n      <td>0</td>\n      <td>172121</td>\n      <td>0</td>\n      <td>4100</td>\n    </tr>\n    <tr>\n      <th>199439</th>\n      <td>18-10-2023</td>\n      <td>NaN</td>\n      <td>Namibia</td>\n      <td>AFRO</td>\n      <td>0</td>\n      <td>172121</td>\n      <td>0</td>\n      <td>4100</td>\n    </tr>\n  </tbody>\n</table>\n<p>1385 rows × 8 columns</p>\n</div>"
                    },
                    "metadata": {},
                    "execution_count": 11,
                    "output_type": "execute_result"
                }
            ],
            "execution_count": 11
        },
        {
            "cell_type": "markdown",
            "source": [
                "Sustituimos los valores Null **NaM** de Namibia por el Código ISO2 **NM**"
            ],
            "metadata": {
                "id": "5ZQ8rYhIPHLG",
                "azdata_cell_guid": "b54e057e-5113-4bdd-9da7-9b72e5806237"
            }
        },
        {
            "cell_type": "code",
            "source": [
                "df_covid_daily=df_covid_daily.fillna('NM')\n",
                "df_covid_daily.head()"
            ],
            "metadata": {
                "scrolled": true,
                "id": "aETV3xPpPHLG",
                "outputId": "cc96a96d-abc4-497e-c642-2d04ec2aabd9",
                "colab": {
                    "base_uri": "https://localhost:8080/",
                    "height": 206
                },
                "azdata_cell_guid": "935ffc38-c117-4e2e-a40a-40f5a2d374e3",
                "language": "python"
            },
            "outputs": [
                {
                    "data": {
                        "text/plain": "  Date_reported Country_code      Country WHO_region  New_cases  \\\n0    03-01-2020           AF  Afghanistan       EMRO          0   \n1    04-01-2020           AF  Afghanistan       EMRO          0   \n2    05-01-2020           AF  Afghanistan       EMRO          0   \n3    06-01-2020           AF  Afghanistan       EMRO          0   \n4    07-01-2020           AF  Afghanistan       EMRO          0   \n\n   Cumulative_cases  New_deaths  Cumulative_deaths  \n0                 0           0                  0  \n1                 0           0                  0  \n2                 0           0                  0  \n3                 0           0                  0  \n4                 0           0                  0  ",
                        "text/html": "<div>\n<style scoped>\n    .dataframe tbody tr th:only-of-type {\n        vertical-align: middle;\n    }\n\n    .dataframe tbody tr th {\n        vertical-align: top;\n    }\n\n    .dataframe thead th {\n        text-align: right;\n    }\n</style>\n<table border=\"1\" class=\"dataframe\">\n  <thead>\n    <tr style=\"text-align: right;\">\n      <th></th>\n      <th>Date_reported</th>\n      <th>Country_code</th>\n      <th>Country</th>\n      <th>WHO_region</th>\n      <th>New_cases</th>\n      <th>Cumulative_cases</th>\n      <th>New_deaths</th>\n      <th>Cumulative_deaths</th>\n    </tr>\n  </thead>\n  <tbody>\n    <tr>\n      <th>0</th>\n      <td>03-01-2020</td>\n      <td>AF</td>\n      <td>Afghanistan</td>\n      <td>EMRO</td>\n      <td>0</td>\n      <td>0</td>\n      <td>0</td>\n      <td>0</td>\n    </tr>\n    <tr>\n      <th>1</th>\n      <td>04-01-2020</td>\n      <td>AF</td>\n      <td>Afghanistan</td>\n      <td>EMRO</td>\n      <td>0</td>\n      <td>0</td>\n      <td>0</td>\n      <td>0</td>\n    </tr>\n    <tr>\n      <th>2</th>\n      <td>05-01-2020</td>\n      <td>AF</td>\n      <td>Afghanistan</td>\n      <td>EMRO</td>\n      <td>0</td>\n      <td>0</td>\n      <td>0</td>\n      <td>0</td>\n    </tr>\n    <tr>\n      <th>3</th>\n      <td>06-01-2020</td>\n      <td>AF</td>\n      <td>Afghanistan</td>\n      <td>EMRO</td>\n      <td>0</td>\n      <td>0</td>\n      <td>0</td>\n      <td>0</td>\n    </tr>\n    <tr>\n      <th>4</th>\n      <td>07-01-2020</td>\n      <td>AF</td>\n      <td>Afghanistan</td>\n      <td>EMRO</td>\n      <td>0</td>\n      <td>0</td>\n      <td>0</td>\n      <td>0</td>\n    </tr>\n  </tbody>\n</table>\n</div>"
                    },
                    "metadata": {},
                    "execution_count": 12,
                    "output_type": "execute_result"
                }
            ],
            "execution_count": 12
        },
        {
            "cell_type": "markdown",
            "source": [
                "Verificamos que se ha cambiado correctamente el código ISO2 de Namibia a **NM**"
            ],
            "metadata": {
                "id": "6qpBPq3yPHLR",
                "azdata_cell_guid": "fec2153b-1051-4659-af8d-519a7077db45"
            }
        },
        {
            "cell_type": "code",
            "source": [
                "df_covid_daily[df_covid_daily['Country']==\"Namibia\"]"
            ],
            "metadata": {
                "scrolled": true,
                "id": "QawKVbNdPHLR",
                "outputId": "aa5cbbb4-0407-4ea9-ac0c-2e47884756f4",
                "colab": {
                    "base_uri": "https://localhost:8080/",
                    "height": 423
                },
                "azdata_cell_guid": "67e6b33a-4e1a-434e-b31d-30cf33b99232",
                "language": "python"
            },
            "outputs": [
                {
                    "data": {
                        "text/plain": "       Date_reported Country_code  Country WHO_region  New_cases  \\\n198055    03-01-2020           NM  Namibia       AFRO          0   \n198056    04-01-2020           NM  Namibia       AFRO          0   \n198057    05-01-2020           NM  Namibia       AFRO          0   \n198058    06-01-2020           NM  Namibia       AFRO          0   \n198059    07-01-2020           NM  Namibia       AFRO          0   \n...              ...          ...      ...        ...        ...   \n199435    14-10-2023           NM  Namibia       AFRO          0   \n199436    15-10-2023           NM  Namibia       AFRO          0   \n199437    16-10-2023           NM  Namibia       AFRO          0   \n199438    17-10-2023           NM  Namibia       AFRO          0   \n199439    18-10-2023           NM  Namibia       AFRO          0   \n\n        Cumulative_cases  New_deaths  Cumulative_deaths  \n198055                 0           0                  0  \n198056                 0           0                  0  \n198057                 0           0                  0  \n198058                 0           0                  0  \n198059                 0           0                  0  \n...                  ...         ...                ...  \n199435            172121           0               4100  \n199436            172121           0               4100  \n199437            172121           0               4100  \n199438            172121           0               4100  \n199439            172121           0               4100  \n\n[1385 rows x 8 columns]",
                        "text/html": "<div>\n<style scoped>\n    .dataframe tbody tr th:only-of-type {\n        vertical-align: middle;\n    }\n\n    .dataframe tbody tr th {\n        vertical-align: top;\n    }\n\n    .dataframe thead th {\n        text-align: right;\n    }\n</style>\n<table border=\"1\" class=\"dataframe\">\n  <thead>\n    <tr style=\"text-align: right;\">\n      <th></th>\n      <th>Date_reported</th>\n      <th>Country_code</th>\n      <th>Country</th>\n      <th>WHO_region</th>\n      <th>New_cases</th>\n      <th>Cumulative_cases</th>\n      <th>New_deaths</th>\n      <th>Cumulative_deaths</th>\n    </tr>\n  </thead>\n  <tbody>\n    <tr>\n      <th>198055</th>\n      <td>03-01-2020</td>\n      <td>NM</td>\n      <td>Namibia</td>\n      <td>AFRO</td>\n      <td>0</td>\n      <td>0</td>\n      <td>0</td>\n      <td>0</td>\n    </tr>\n    <tr>\n      <th>198056</th>\n      <td>04-01-2020</td>\n      <td>NM</td>\n      <td>Namibia</td>\n      <td>AFRO</td>\n      <td>0</td>\n      <td>0</td>\n      <td>0</td>\n      <td>0</td>\n    </tr>\n    <tr>\n      <th>198057</th>\n      <td>05-01-2020</td>\n      <td>NM</td>\n      <td>Namibia</td>\n      <td>AFRO</td>\n      <td>0</td>\n      <td>0</td>\n      <td>0</td>\n      <td>0</td>\n    </tr>\n    <tr>\n      <th>198058</th>\n      <td>06-01-2020</td>\n      <td>NM</td>\n      <td>Namibia</td>\n      <td>AFRO</td>\n      <td>0</td>\n      <td>0</td>\n      <td>0</td>\n      <td>0</td>\n    </tr>\n    <tr>\n      <th>198059</th>\n      <td>07-01-2020</td>\n      <td>NM</td>\n      <td>Namibia</td>\n      <td>AFRO</td>\n      <td>0</td>\n      <td>0</td>\n      <td>0</td>\n      <td>0</td>\n    </tr>\n    <tr>\n      <th>...</th>\n      <td>...</td>\n      <td>...</td>\n      <td>...</td>\n      <td>...</td>\n      <td>...</td>\n      <td>...</td>\n      <td>...</td>\n      <td>...</td>\n    </tr>\n    <tr>\n      <th>199435</th>\n      <td>14-10-2023</td>\n      <td>NM</td>\n      <td>Namibia</td>\n      <td>AFRO</td>\n      <td>0</td>\n      <td>172121</td>\n      <td>0</td>\n      <td>4100</td>\n    </tr>\n    <tr>\n      <th>199436</th>\n      <td>15-10-2023</td>\n      <td>NM</td>\n      <td>Namibia</td>\n      <td>AFRO</td>\n      <td>0</td>\n      <td>172121</td>\n      <td>0</td>\n      <td>4100</td>\n    </tr>\n    <tr>\n      <th>199437</th>\n      <td>16-10-2023</td>\n      <td>NM</td>\n      <td>Namibia</td>\n      <td>AFRO</td>\n      <td>0</td>\n      <td>172121</td>\n      <td>0</td>\n      <td>4100</td>\n    </tr>\n    <tr>\n      <th>199438</th>\n      <td>17-10-2023</td>\n      <td>NM</td>\n      <td>Namibia</td>\n      <td>AFRO</td>\n      <td>0</td>\n      <td>172121</td>\n      <td>0</td>\n      <td>4100</td>\n    </tr>\n    <tr>\n      <th>199439</th>\n      <td>18-10-2023</td>\n      <td>NM</td>\n      <td>Namibia</td>\n      <td>AFRO</td>\n      <td>0</td>\n      <td>172121</td>\n      <td>0</td>\n      <td>4100</td>\n    </tr>\n  </tbody>\n</table>\n<p>1385 rows × 8 columns</p>\n</div>"
                    },
                    "metadata": {},
                    "execution_count": 13,
                    "output_type": "execute_result"
                }
            ],
            "execution_count": 13
        },
        {
            "cell_type": "markdown",
            "source": [
                "Ya no tenemos vamores Nulos en ninguna variable del Dataframe"
            ],
            "metadata": {
                "id": "d5kHZ0o9PHLR",
                "azdata_cell_guid": "f6f30f98-5cfb-4039-bddc-f19693b9c9cd"
            }
        },
        {
            "cell_type": "code",
            "source": [
                "df_covid_daily.isnull().sum()"
            ],
            "metadata": {
                "id": "2pzv9olCPHLR",
                "outputId": "35a7bf6e-0fe0-43a6-f4ad-202bb0ffebd0",
                "colab": {
                    "base_uri": "https://localhost:8080/"
                },
                "azdata_cell_guid": "63675e29-36ab-4b44-908a-bc14620c8961",
                "language": "python"
            },
            "outputs": [
                {
                    "data": {
                        "text/plain": "Date_reported        0\nCountry_code         0\nCountry              0\nWHO_region           0\nNew_cases            0\nCumulative_cases     0\nNew_deaths           0\nCumulative_deaths    0\ndtype: int64"
                    },
                    "metadata": {},
                    "execution_count": 14,
                    "output_type": "execute_result"
                }
            ],
            "execution_count": 14
        },
        {
            "cell_type": "markdown",
            "source": [
                "Cargo el fichero **paises\\_def** **que está en el Repositorio de GitHub**"
            ],
            "metadata": {
                "id": "hQC0YxxWQGMI",
                "azdata_cell_guid": "4b16cfda-94db-4301-b8b9-22ce42756ce4"
            },
            "attachments": {}
        },
        {
            "cell_type": "code",
            "source": [
                "df_paises = pd.read_csv('C:/Users/joschava/Dropbox/TFM COVID/Entregables/2023.10 Entrega Final/Tablas Soporte/paises_def.csv')\n",
                "df_paises.head()"
            ],
            "metadata": {
                "id": "LGCLmchAQEjf",
                "outputId": "9a5399b1-a630-4cba-a188-eada04e68e09",
                "colab": {
                    "base_uri": "https://localhost:8080/",
                    "height": 206
                },
                "azdata_cell_guid": "09dfb058-d252-4f5d-a3a1-ee16f1df1665",
                "language": "python"
            },
            "outputs": [
                {
                    "data": {
                        "text/plain": "  PAIS_ISO3 PAIS_ISO2      PAIS_NOM COD_CONTINENTE CONTINENTE OMS_REGION  \\\n0       AGO        AO        Angola             AF     Africa       AFRO   \n1       BDI        BI       Burundi             AF     Africa       AFRO   \n2       BEN        BJ         Benin             AF     Africa       AFRO   \n3       BFA        BF  Burkina Faso             AF     Africa       AFRO   \n4       BWA        BW      Botswana             AF     Africa       AFRO   \n\n  DESC_OMS_REGION    PAIS_NOM_2   POBLACION   LONGITUD    LATITUD  \\\n0          Africa        Angola  35588987.0  17.873887 -11.202692   \n1          Africa       Burundi  12889576.0  29.918886  -3.373056   \n2          Africa         Benin  13352864.0   2.315834   9.307690   \n3          Africa  Burkina Faso  22673762.0  -1.561593  12.238333   \n4          Africa      Botswana   2630296.0  24.684866 -22.328474   \n\n   GDP_PER_CAPITA  USO_INDIVIDUAL_INTERNET  USO_DE_AGUA_POTABLE  \\\n0     1502.950754                32.550147            57.167738   \n1      216.827417                 3.787954            62.207122   \n2     1237.949295                28.229154            65.414123   \n3      833.244336                13.937972            47.214854   \n4     5875.070606                72.748020            92.213563   \n\n   USO_DE_SERVICIOS_BASICOS_SANEAMIENTO  DENSIDAD_DE_POBLACION_X_KM2  \\\n0                             51.660329                    26.813577   \n1                             45.727511                   475.865537   \n2                             16.962884                   112.124184   \n3                             21.664373                    78.664569   \n4                             80.026243                     4.493148   \n\n   POBLACION_RURAL  POBLACION_URBANA  TEMPERATURA_PROMEDIO  ALTURA_PROMEDIO  \n0           33.175            66.825             22.508965           1112.0  \n1           86.292            13.708             20.816609           1504.0  \n2           51.585            48.415             27.937785            273.0  \n3           69.393            30.607             28.909989            297.0  \n4           29.123            70.877             22.505484           1013.0  ",
                        "text/html": "<div>\n<style scoped>\n    .dataframe tbody tr th:only-of-type {\n        vertical-align: middle;\n    }\n\n    .dataframe tbody tr th {\n        vertical-align: top;\n    }\n\n    .dataframe thead th {\n        text-align: right;\n    }\n</style>\n<table border=\"1\" class=\"dataframe\">\n  <thead>\n    <tr style=\"text-align: right;\">\n      <th></th>\n      <th>PAIS_ISO3</th>\n      <th>PAIS_ISO2</th>\n      <th>PAIS_NOM</th>\n      <th>COD_CONTINENTE</th>\n      <th>CONTINENTE</th>\n      <th>OMS_REGION</th>\n      <th>DESC_OMS_REGION</th>\n      <th>PAIS_NOM_2</th>\n      <th>POBLACION</th>\n      <th>LONGITUD</th>\n      <th>LATITUD</th>\n      <th>GDP_PER_CAPITA</th>\n      <th>USO_INDIVIDUAL_INTERNET</th>\n      <th>USO_DE_AGUA_POTABLE</th>\n      <th>USO_DE_SERVICIOS_BASICOS_SANEAMIENTO</th>\n      <th>DENSIDAD_DE_POBLACION_X_KM2</th>\n      <th>POBLACION_RURAL</th>\n      <th>POBLACION_URBANA</th>\n      <th>TEMPERATURA_PROMEDIO</th>\n      <th>ALTURA_PROMEDIO</th>\n    </tr>\n  </thead>\n  <tbody>\n    <tr>\n      <th>0</th>\n      <td>AGO</td>\n      <td>AO</td>\n      <td>Angola</td>\n      <td>AF</td>\n      <td>Africa</td>\n      <td>AFRO</td>\n      <td>Africa</td>\n      <td>Angola</td>\n      <td>35588987.0</td>\n      <td>17.873887</td>\n      <td>-11.202692</td>\n      <td>1502.950754</td>\n      <td>32.550147</td>\n      <td>57.167738</td>\n      <td>51.660329</td>\n      <td>26.813577</td>\n      <td>33.175</td>\n      <td>66.825</td>\n      <td>22.508965</td>\n      <td>1112.0</td>\n    </tr>\n    <tr>\n      <th>1</th>\n      <td>BDI</td>\n      <td>BI</td>\n      <td>Burundi</td>\n      <td>AF</td>\n      <td>Africa</td>\n      <td>AFRO</td>\n      <td>Africa</td>\n      <td>Burundi</td>\n      <td>12889576.0</td>\n      <td>29.918886</td>\n      <td>-3.373056</td>\n      <td>216.827417</td>\n      <td>3.787954</td>\n      <td>62.207122</td>\n      <td>45.727511</td>\n      <td>475.865537</td>\n      <td>86.292</td>\n      <td>13.708</td>\n      <td>20.816609</td>\n      <td>1504.0</td>\n    </tr>\n    <tr>\n      <th>2</th>\n      <td>BEN</td>\n      <td>BJ</td>\n      <td>Benin</td>\n      <td>AF</td>\n      <td>Africa</td>\n      <td>AFRO</td>\n      <td>Africa</td>\n      <td>Benin</td>\n      <td>13352864.0</td>\n      <td>2.315834</td>\n      <td>9.307690</td>\n      <td>1237.949295</td>\n      <td>28.229154</td>\n      <td>65.414123</td>\n      <td>16.962884</td>\n      <td>112.124184</td>\n      <td>51.585</td>\n      <td>48.415</td>\n      <td>27.937785</td>\n      <td>273.0</td>\n    </tr>\n    <tr>\n      <th>3</th>\n      <td>BFA</td>\n      <td>BF</td>\n      <td>Burkina Faso</td>\n      <td>AF</td>\n      <td>Africa</td>\n      <td>AFRO</td>\n      <td>Africa</td>\n      <td>Burkina Faso</td>\n      <td>22673762.0</td>\n      <td>-1.561593</td>\n      <td>12.238333</td>\n      <td>833.244336</td>\n      <td>13.937972</td>\n      <td>47.214854</td>\n      <td>21.664373</td>\n      <td>78.664569</td>\n      <td>69.393</td>\n      <td>30.607</td>\n      <td>28.909989</td>\n      <td>297.0</td>\n    </tr>\n    <tr>\n      <th>4</th>\n      <td>BWA</td>\n      <td>BW</td>\n      <td>Botswana</td>\n      <td>AF</td>\n      <td>Africa</td>\n      <td>AFRO</td>\n      <td>Africa</td>\n      <td>Botswana</td>\n      <td>2630296.0</td>\n      <td>24.684866</td>\n      <td>-22.328474</td>\n      <td>5875.070606</td>\n      <td>72.748020</td>\n      <td>92.213563</td>\n      <td>80.026243</td>\n      <td>4.493148</td>\n      <td>29.123</td>\n      <td>70.877</td>\n      <td>22.505484</td>\n      <td>1013.0</td>\n    </tr>\n  </tbody>\n</table>\n</div>"
                    },
                    "metadata": {},
                    "execution_count": 15,
                    "output_type": "execute_result"
                }
            ],
            "execution_count": 15
        },
        {
            "cell_type": "markdown",
            "source": [
                "Realizo la unión entre ambos dataframes por la variable **ISO2**"
            ],
            "metadata": {
                "id": "wGJRNcr9PHLS",
                "azdata_cell_guid": "9abc0ca0-6476-43d9-b996-f08709cc7133"
            }
        },
        {
            "cell_type": "code",
            "source": [
                "df_covid_daily_new = pd.merge(left=df_covid_daily, right=df_paises,\n",
                "                      how='left', left_on='Country_code', right_on='PAIS_ISO2')"
            ],
            "metadata": {
                "id": "YzRpMaMKPHLT",
                "azdata_cell_guid": "8c85e730-84cc-4c0e-a51f-2d0f1b484d43",
                "language": "python"
            },
            "outputs": [],
            "execution_count": 16
        },
        {
            "cell_type": "code",
            "source": [
                "df_covid_daily_new.isnull().sum()"
            ],
            "metadata": {
                "scrolled": true,
                "id": "hS31_v_VPHLT",
                "outputId": "3dcfceb9-7a62-42f6-b5ff-64a81a154d4a",
                "colab": {
                    "base_uri": "https://localhost:8080/"
                },
                "azdata_cell_guid": "873fc7ac-db15-4436-9660-c175d4d13a16",
                "language": "python"
            },
            "outputs": [
                {
                    "data": {
                        "text/plain": "Date_reported                                0\nCountry_code                                 0\nCountry                                      0\nWHO_region                                   0\nNew_cases                                    0\nCumulative_cases                             0\nNew_deaths                                   0\nCumulative_deaths                            0\nPAIS_ISO3                                 6925\nPAIS_ISO2                                 6925\nPAIS_NOM                                  6925\nCOD_CONTINENTE                           60940\nCONTINENTE                                6925\nOMS_REGION                                6925\nDESC_OMS_REGION                           6925\nPAIS_NOM_2                                6925\nPOBLACION                                33240\nLONGITUD                                 15235\nLATITUD                                  15235\nGDP_PER_CAPITA                           42935\nUSO_INDIVIDUAL_INTERNET                  74790\nUSO_DE_AGUA_POTABLE                      58170\nUSO_DE_SERVICIOS_BASICOS_SANEAMIENTO     70635\nDENSIDAD_DE_POBLACION_X_KM2              33240\nPOBLACION_RURAL                          34625\nPOBLACION_URBANA                         34625\nTEMPERATURA_PROMEDIO                     58170\nALTURA_PROMEDIO                         117725\ndtype: int64"
                    },
                    "metadata": {},
                    "execution_count": 17,
                    "output_type": "execute_result"
                }
            ],
            "execution_count": 17
        },
        {
            "cell_type": "markdown",
            "source": [
                "Identificamos 6895 valores nulos pero corresponden a códigos ISO2 especiales y los sustituiré por el valor **Z9**"
            ],
            "metadata": {
                "id": "mpti658aPHLT",
                "azdata_cell_guid": "3d241380-e2d6-4fc1-a770-ed3bd70482c6"
            },
            "attachments": {}
        },
        {
            "cell_type": "code",
            "source": [
                "df_covid_daily_new[df_covid_daily_new['PAIS_ISO3'].isnull()]"
            ],
            "metadata": {
                "scrolled": false,
                "id": "_BdsHpmbPHLT",
                "outputId": "b9185e00-915f-4a55-bd72-0b52486e5078",
                "colab": {
                    "base_uri": "https://localhost:8080/",
                    "height": 574
                },
                "azdata_cell_guid": "aea8e2a4-1a7b-4761-98c2-0b1337eade42",
                "language": "python"
            },
            "outputs": [
                {
                    "data": {
                        "text/plain": "       Date_reported Country_code         Country WHO_region  New_cases  \\\n34625     03-01-2020           XA         Bonaire       AMRO          0   \n34626     04-01-2020           XA         Bonaire       AMRO          0   \n34627     05-01-2020           XA         Bonaire       AMRO          0   \n34628     06-01-2020           XA         Bonaire       AMRO          0   \n34629     07-01-2020           XA         Bonaire       AMRO          0   \n...              ...          ...             ...        ...        ...   \n270070    14-10-2023           XB  Sint Eustatius       AMRO          0   \n270071    15-10-2023           XB  Sint Eustatius       AMRO          0   \n270072    16-10-2023           XB  Sint Eustatius       AMRO          0   \n270073    17-10-2023           XB  Sint Eustatius       AMRO          0   \n270074    18-10-2023           XB  Sint Eustatius       AMRO          0   \n\n        Cumulative_cases  New_deaths  Cumulative_deaths PAIS_ISO3 PAIS_ISO2  \\\n34625                  0           0                  0       NaN       NaN   \n34626                  0           0                  0       NaN       NaN   \n34627                  0           0                  0       NaN       NaN   \n34628                  0           0                  0       NaN       NaN   \n34629                  0           0                  0       NaN       NaN   \n...                  ...         ...                ...       ...       ...   \n270070              1221           0                  6       NaN       NaN   \n270071              1221           0                  6       NaN       NaN   \n270072              1221           0                  6       NaN       NaN   \n270073              1221           0                  6       NaN       NaN   \n270074              1221           0                  6       NaN       NaN   \n\n        ... LATITUD GDP_PER_CAPITA USO_INDIVIDUAL_INTERNET  \\\n34625   ...     NaN            NaN                     NaN   \n34626   ...     NaN            NaN                     NaN   \n34627   ...     NaN            NaN                     NaN   \n34628   ...     NaN            NaN                     NaN   \n34629   ...     NaN            NaN                     NaN   \n...     ...     ...            ...                     ...   \n270070  ...     NaN            NaN                     NaN   \n270071  ...     NaN            NaN                     NaN   \n270072  ...     NaN            NaN                     NaN   \n270073  ...     NaN            NaN                     NaN   \n270074  ...     NaN            NaN                     NaN   \n\n       USO_DE_AGUA_POTABLE USO_DE_SERVICIOS_BASICOS_SANEAMIENTO  \\\n34625                  NaN                                  NaN   \n34626                  NaN                                  NaN   \n34627                  NaN                                  NaN   \n34628                  NaN                                  NaN   \n34629                  NaN                                  NaN   \n...                    ...                                  ...   \n270070                 NaN                                  NaN   \n270071                 NaN                                  NaN   \n270072                 NaN                                  NaN   \n270073                 NaN                                  NaN   \n270074                 NaN                                  NaN   \n\n       DENSIDAD_DE_POBLACION_X_KM2  POBLACION_RURAL  POBLACION_URBANA  \\\n34625                          NaN              NaN               NaN   \n34626                          NaN              NaN               NaN   \n34627                          NaN              NaN               NaN   \n34628                          NaN              NaN               NaN   \n34629                          NaN              NaN               NaN   \n...                            ...              ...               ...   \n270070                         NaN              NaN               NaN   \n270071                         NaN              NaN               NaN   \n270072                         NaN              NaN               NaN   \n270073                         NaN              NaN               NaN   \n270074                         NaN              NaN               NaN   \n\n        TEMPERATURA_PROMEDIO  ALTURA_PROMEDIO  \n34625                    NaN              NaN  \n34626                    NaN              NaN  \n34627                    NaN              NaN  \n34628                    NaN              NaN  \n34629                    NaN              NaN  \n...                      ...              ...  \n270070                   NaN              NaN  \n270071                   NaN              NaN  \n270072                   NaN              NaN  \n270073                   NaN              NaN  \n270074                   NaN              NaN  \n\n[6925 rows x 28 columns]",
                        "text/html": "<div>\n<style scoped>\n    .dataframe tbody tr th:only-of-type {\n        vertical-align: middle;\n    }\n\n    .dataframe tbody tr th {\n        vertical-align: top;\n    }\n\n    .dataframe thead th {\n        text-align: right;\n    }\n</style>\n<table border=\"1\" class=\"dataframe\">\n  <thead>\n    <tr style=\"text-align: right;\">\n      <th></th>\n      <th>Date_reported</th>\n      <th>Country_code</th>\n      <th>Country</th>\n      <th>WHO_region</th>\n      <th>New_cases</th>\n      <th>Cumulative_cases</th>\n      <th>New_deaths</th>\n      <th>Cumulative_deaths</th>\n      <th>PAIS_ISO3</th>\n      <th>PAIS_ISO2</th>\n      <th>...</th>\n      <th>LATITUD</th>\n      <th>GDP_PER_CAPITA</th>\n      <th>USO_INDIVIDUAL_INTERNET</th>\n      <th>USO_DE_AGUA_POTABLE</th>\n      <th>USO_DE_SERVICIOS_BASICOS_SANEAMIENTO</th>\n      <th>DENSIDAD_DE_POBLACION_X_KM2</th>\n      <th>POBLACION_RURAL</th>\n      <th>POBLACION_URBANA</th>\n      <th>TEMPERATURA_PROMEDIO</th>\n      <th>ALTURA_PROMEDIO</th>\n    </tr>\n  </thead>\n  <tbody>\n    <tr>\n      <th>34625</th>\n      <td>03-01-2020</td>\n      <td>XA</td>\n      <td>Bonaire</td>\n      <td>AMRO</td>\n      <td>0</td>\n      <td>0</td>\n      <td>0</td>\n      <td>0</td>\n      <td>NaN</td>\n      <td>NaN</td>\n      <td>...</td>\n      <td>NaN</td>\n      <td>NaN</td>\n      <td>NaN</td>\n      <td>NaN</td>\n      <td>NaN</td>\n      <td>NaN</td>\n      <td>NaN</td>\n      <td>NaN</td>\n      <td>NaN</td>\n      <td>NaN</td>\n    </tr>\n    <tr>\n      <th>34626</th>\n      <td>04-01-2020</td>\n      <td>XA</td>\n      <td>Bonaire</td>\n      <td>AMRO</td>\n      <td>0</td>\n      <td>0</td>\n      <td>0</td>\n      <td>0</td>\n      <td>NaN</td>\n      <td>NaN</td>\n      <td>...</td>\n      <td>NaN</td>\n      <td>NaN</td>\n      <td>NaN</td>\n      <td>NaN</td>\n      <td>NaN</td>\n      <td>NaN</td>\n      <td>NaN</td>\n      <td>NaN</td>\n      <td>NaN</td>\n      <td>NaN</td>\n    </tr>\n    <tr>\n      <th>34627</th>\n      <td>05-01-2020</td>\n      <td>XA</td>\n      <td>Bonaire</td>\n      <td>AMRO</td>\n      <td>0</td>\n      <td>0</td>\n      <td>0</td>\n      <td>0</td>\n      <td>NaN</td>\n      <td>NaN</td>\n      <td>...</td>\n      <td>NaN</td>\n      <td>NaN</td>\n      <td>NaN</td>\n      <td>NaN</td>\n      <td>NaN</td>\n      <td>NaN</td>\n      <td>NaN</td>\n      <td>NaN</td>\n      <td>NaN</td>\n      <td>NaN</td>\n    </tr>\n    <tr>\n      <th>34628</th>\n      <td>06-01-2020</td>\n      <td>XA</td>\n      <td>Bonaire</td>\n      <td>AMRO</td>\n      <td>0</td>\n      <td>0</td>\n      <td>0</td>\n      <td>0</td>\n      <td>NaN</td>\n      <td>NaN</td>\n      <td>...</td>\n      <td>NaN</td>\n      <td>NaN</td>\n      <td>NaN</td>\n      <td>NaN</td>\n      <td>NaN</td>\n      <td>NaN</td>\n      <td>NaN</td>\n      <td>NaN</td>\n      <td>NaN</td>\n      <td>NaN</td>\n    </tr>\n    <tr>\n      <th>34629</th>\n      <td>07-01-2020</td>\n      <td>XA</td>\n      <td>Bonaire</td>\n      <td>AMRO</td>\n      <td>0</td>\n      <td>0</td>\n      <td>0</td>\n      <td>0</td>\n      <td>NaN</td>\n      <td>NaN</td>\n      <td>...</td>\n      <td>NaN</td>\n      <td>NaN</td>\n      <td>NaN</td>\n      <td>NaN</td>\n      <td>NaN</td>\n      <td>NaN</td>\n      <td>NaN</td>\n      <td>NaN</td>\n      <td>NaN</td>\n      <td>NaN</td>\n    </tr>\n    <tr>\n      <th>...</th>\n      <td>...</td>\n      <td>...</td>\n      <td>...</td>\n      <td>...</td>\n      <td>...</td>\n      <td>...</td>\n      <td>...</td>\n      <td>...</td>\n      <td>...</td>\n      <td>...</td>\n      <td>...</td>\n      <td>...</td>\n      <td>...</td>\n      <td>...</td>\n      <td>...</td>\n      <td>...</td>\n      <td>...</td>\n      <td>...</td>\n      <td>...</td>\n      <td>...</td>\n      <td>...</td>\n    </tr>\n    <tr>\n      <th>270070</th>\n      <td>14-10-2023</td>\n      <td>XB</td>\n      <td>Sint Eustatius</td>\n      <td>AMRO</td>\n      <td>0</td>\n      <td>1221</td>\n      <td>0</td>\n      <td>6</td>\n      <td>NaN</td>\n      <td>NaN</td>\n      <td>...</td>\n      <td>NaN</td>\n      <td>NaN</td>\n      <td>NaN</td>\n      <td>NaN</td>\n      <td>NaN</td>\n      <td>NaN</td>\n      <td>NaN</td>\n      <td>NaN</td>\n      <td>NaN</td>\n      <td>NaN</td>\n    </tr>\n    <tr>\n      <th>270071</th>\n      <td>15-10-2023</td>\n      <td>XB</td>\n      <td>Sint Eustatius</td>\n      <td>AMRO</td>\n      <td>0</td>\n      <td>1221</td>\n      <td>0</td>\n      <td>6</td>\n      <td>NaN</td>\n      <td>NaN</td>\n      <td>...</td>\n      <td>NaN</td>\n      <td>NaN</td>\n      <td>NaN</td>\n      <td>NaN</td>\n      <td>NaN</td>\n      <td>NaN</td>\n      <td>NaN</td>\n      <td>NaN</td>\n      <td>NaN</td>\n      <td>NaN</td>\n    </tr>\n    <tr>\n      <th>270072</th>\n      <td>16-10-2023</td>\n      <td>XB</td>\n      <td>Sint Eustatius</td>\n      <td>AMRO</td>\n      <td>0</td>\n      <td>1221</td>\n      <td>0</td>\n      <td>6</td>\n      <td>NaN</td>\n      <td>NaN</td>\n      <td>...</td>\n      <td>NaN</td>\n      <td>NaN</td>\n      <td>NaN</td>\n      <td>NaN</td>\n      <td>NaN</td>\n      <td>NaN</td>\n      <td>NaN</td>\n      <td>NaN</td>\n      <td>NaN</td>\n      <td>NaN</td>\n    </tr>\n    <tr>\n      <th>270073</th>\n      <td>17-10-2023</td>\n      <td>XB</td>\n      <td>Sint Eustatius</td>\n      <td>AMRO</td>\n      <td>0</td>\n      <td>1221</td>\n      <td>0</td>\n      <td>6</td>\n      <td>NaN</td>\n      <td>NaN</td>\n      <td>...</td>\n      <td>NaN</td>\n      <td>NaN</td>\n      <td>NaN</td>\n      <td>NaN</td>\n      <td>NaN</td>\n      <td>NaN</td>\n      <td>NaN</td>\n      <td>NaN</td>\n      <td>NaN</td>\n      <td>NaN</td>\n    </tr>\n    <tr>\n      <th>270074</th>\n      <td>18-10-2023</td>\n      <td>XB</td>\n      <td>Sint Eustatius</td>\n      <td>AMRO</td>\n      <td>0</td>\n      <td>1221</td>\n      <td>0</td>\n      <td>6</td>\n      <td>NaN</td>\n      <td>NaN</td>\n      <td>...</td>\n      <td>NaN</td>\n      <td>NaN</td>\n      <td>NaN</td>\n      <td>NaN</td>\n      <td>NaN</td>\n      <td>NaN</td>\n      <td>NaN</td>\n      <td>NaN</td>\n      <td>NaN</td>\n      <td>NaN</td>\n    </tr>\n  </tbody>\n</table>\n<p>6925 rows × 28 columns</p>\n</div>"
                    },
                    "metadata": {},
                    "execution_count": 18,
                    "output_type": "execute_result"
                }
            ],
            "execution_count": 18
        },
        {
            "cell_type": "markdown",
            "source": [
                "Codigos especiales **iso2** que no aparecen en listado de paises_region.csv"
            ],
            "metadata": {
                "id": "OSjeSjSOPHLT",
                "azdata_cell_guid": "7a2e782d-a760-4e8c-aba5-1eebba5986ee"
            }
        },
        {
            "cell_type": "markdown",
            "source": [
                "https://es.wikipedia.org/wiki/ISO_3166-1_alfa-2\n",
                "\n",
                "El código **XA** está siendo utilizado por Suiza, como código de país por las Islas Canarias, a pesar de que IC ya está reservado con dicho propósito.23<br>\n",
                "El código **XI** está siendo utilizado por el Gobierno del Reino Unido, como el prefijo de código de país del número EORI de Irlanda del Norte.24<br>\n",
                "El código **XK** está siendo utilizado por la Comisión Europea,25​ el FMI, la SWIFT,26​ el CLDR y otras organizaciones como código de país provisional para Kosovo.27<br>\n",
                "El código **XN** está siendo utilizado por la Organización Mundial de la Propiedad Intelectual como indicador para el Instituto Nórdico de Patentes, una organización internacional a la que pertenecen Dinamarca, Islandia, Noruega y Suecia.28<br>\n",
                "El código **XU** está siendo utilizado por la Organización Mundial de la Propiedad Intelectual como indicador para la Unión Internacional para la Protección de las Obtenciones Vegetales<br>\n",
                "El código **XV** está siendo utilizado por la Organización Mundial de la Propiedad Intelectual como indicador para el Instituto Visegrad de Patentes<br>\n",
                "El código **XX** está siendo utilizado por la Organización Mundial de la Propiedad Intelectual como un indicador para estados desconocidos, otras entidades u organizaciones<br>"
            ],
            "metadata": {
                "id": "-rz3rYjXPHLV",
                "azdata_cell_guid": "91ef39f9-df47-4625-9238-0088c9fb6c6f"
            }
        },
        {
            "cell_type": "markdown",
            "source": [
                "Elimino columnas del dataframe"
            ],
            "metadata": {
                "id": "pJT7pB9bPHLW",
                "azdata_cell_guid": "409bce5b-1e17-48c1-90b3-df12af031a41"
            }
        },
        {
            "cell_type": "code",
            "source": [
                "df_covid_daily_new.drop(['Country_code','Country','COD_CONTINENTE','CONTINENTE','OMS_REGION','DESC_OMS_REGION','PAIS_NOM_2','POBLACION','LONGITUD','LATITUD','GDP_PER_CAPITA','USO_INDIVIDUAL_INTERNET','USO_DE_AGUA_POTABLE','USO_DE_SERVICIOS_BASICOS_SANEAMIENTO','DENSIDAD_DE_POBLACION_X_KM2','POBLACION_RURAL','POBLACION_URBANA','TEMPERATURA_PROMEDIO','ALTURA_PROMEDIO'],axis=1,inplace=True)"
            ],
            "metadata": {
                "id": "xTywDE-1PHLW",
                "azdata_cell_guid": "0a7a64df-b651-4d70-9472-618b82493cb2",
                "language": "python"
            },
            "outputs": [],
            "execution_count": 19
        },
        {
            "cell_type": "code",
            "source": [
                "df_covid_daily_new[df_covid_daily_new['PAIS_ISO3'].isnull()]"
            ],
            "metadata": {
                "scrolled": true,
                "id": "aJgEdMBKPHLW",
                "outputId": "eead1aaf-671c-4617-fbad-2ccbf0871262",
                "colab": {
                    "base_uri": "https://localhost:8080/",
                    "height": 423
                },
                "azdata_cell_guid": "635cc5a1-12cd-4276-9d23-eefbecbd77ed",
                "language": "python"
            },
            "outputs": [
                {
                    "data": {
                        "text/plain": "       Date_reported WHO_region  New_cases  Cumulative_cases  New_deaths  \\\n34625     03-01-2020       AMRO          0                 0           0   \n34626     04-01-2020       AMRO          0                 0           0   \n34627     05-01-2020       AMRO          0                 0           0   \n34628     06-01-2020       AMRO          0                 0           0   \n34629     07-01-2020       AMRO          0                 0           0   \n...              ...        ...        ...               ...         ...   \n270070    14-10-2023       AMRO          0              1221           0   \n270071    15-10-2023       AMRO          0              1221           0   \n270072    16-10-2023       AMRO          0              1221           0   \n270073    17-10-2023       AMRO          0              1221           0   \n270074    18-10-2023       AMRO          0              1221           0   \n\n        Cumulative_deaths PAIS_ISO3 PAIS_ISO2 PAIS_NOM  \n34625                   0       NaN       NaN      NaN  \n34626                   0       NaN       NaN      NaN  \n34627                   0       NaN       NaN      NaN  \n34628                   0       NaN       NaN      NaN  \n34629                   0       NaN       NaN      NaN  \n...                   ...       ...       ...      ...  \n270070                  6       NaN       NaN      NaN  \n270071                  6       NaN       NaN      NaN  \n270072                  6       NaN       NaN      NaN  \n270073                  6       NaN       NaN      NaN  \n270074                  6       NaN       NaN      NaN  \n\n[6925 rows x 9 columns]",
                        "text/html": "<div>\n<style scoped>\n    .dataframe tbody tr th:only-of-type {\n        vertical-align: middle;\n    }\n\n    .dataframe tbody tr th {\n        vertical-align: top;\n    }\n\n    .dataframe thead th {\n        text-align: right;\n    }\n</style>\n<table border=\"1\" class=\"dataframe\">\n  <thead>\n    <tr style=\"text-align: right;\">\n      <th></th>\n      <th>Date_reported</th>\n      <th>WHO_region</th>\n      <th>New_cases</th>\n      <th>Cumulative_cases</th>\n      <th>New_deaths</th>\n      <th>Cumulative_deaths</th>\n      <th>PAIS_ISO3</th>\n      <th>PAIS_ISO2</th>\n      <th>PAIS_NOM</th>\n    </tr>\n  </thead>\n  <tbody>\n    <tr>\n      <th>34625</th>\n      <td>03-01-2020</td>\n      <td>AMRO</td>\n      <td>0</td>\n      <td>0</td>\n      <td>0</td>\n      <td>0</td>\n      <td>NaN</td>\n      <td>NaN</td>\n      <td>NaN</td>\n    </tr>\n    <tr>\n      <th>34626</th>\n      <td>04-01-2020</td>\n      <td>AMRO</td>\n      <td>0</td>\n      <td>0</td>\n      <td>0</td>\n      <td>0</td>\n      <td>NaN</td>\n      <td>NaN</td>\n      <td>NaN</td>\n    </tr>\n    <tr>\n      <th>34627</th>\n      <td>05-01-2020</td>\n      <td>AMRO</td>\n      <td>0</td>\n      <td>0</td>\n      <td>0</td>\n      <td>0</td>\n      <td>NaN</td>\n      <td>NaN</td>\n      <td>NaN</td>\n    </tr>\n    <tr>\n      <th>34628</th>\n      <td>06-01-2020</td>\n      <td>AMRO</td>\n      <td>0</td>\n      <td>0</td>\n      <td>0</td>\n      <td>0</td>\n      <td>NaN</td>\n      <td>NaN</td>\n      <td>NaN</td>\n    </tr>\n    <tr>\n      <th>34629</th>\n      <td>07-01-2020</td>\n      <td>AMRO</td>\n      <td>0</td>\n      <td>0</td>\n      <td>0</td>\n      <td>0</td>\n      <td>NaN</td>\n      <td>NaN</td>\n      <td>NaN</td>\n    </tr>\n    <tr>\n      <th>...</th>\n      <td>...</td>\n      <td>...</td>\n      <td>...</td>\n      <td>...</td>\n      <td>...</td>\n      <td>...</td>\n      <td>...</td>\n      <td>...</td>\n      <td>...</td>\n    </tr>\n    <tr>\n      <th>270070</th>\n      <td>14-10-2023</td>\n      <td>AMRO</td>\n      <td>0</td>\n      <td>1221</td>\n      <td>0</td>\n      <td>6</td>\n      <td>NaN</td>\n      <td>NaN</td>\n      <td>NaN</td>\n    </tr>\n    <tr>\n      <th>270071</th>\n      <td>15-10-2023</td>\n      <td>AMRO</td>\n      <td>0</td>\n      <td>1221</td>\n      <td>0</td>\n      <td>6</td>\n      <td>NaN</td>\n      <td>NaN</td>\n      <td>NaN</td>\n    </tr>\n    <tr>\n      <th>270072</th>\n      <td>16-10-2023</td>\n      <td>AMRO</td>\n      <td>0</td>\n      <td>1221</td>\n      <td>0</td>\n      <td>6</td>\n      <td>NaN</td>\n      <td>NaN</td>\n      <td>NaN</td>\n    </tr>\n    <tr>\n      <th>270073</th>\n      <td>17-10-2023</td>\n      <td>AMRO</td>\n      <td>0</td>\n      <td>1221</td>\n      <td>0</td>\n      <td>6</td>\n      <td>NaN</td>\n      <td>NaN</td>\n      <td>NaN</td>\n    </tr>\n    <tr>\n      <th>270074</th>\n      <td>18-10-2023</td>\n      <td>AMRO</td>\n      <td>0</td>\n      <td>1221</td>\n      <td>0</td>\n      <td>6</td>\n      <td>NaN</td>\n      <td>NaN</td>\n      <td>NaN</td>\n    </tr>\n  </tbody>\n</table>\n<p>6925 rows × 9 columns</p>\n</div>"
                    },
                    "metadata": {},
                    "execution_count": 20,
                    "output_type": "execute_result"
                }
            ],
            "execution_count": 20
        },
        {
            "cell_type": "markdown",
            "source": [
                "Sustituir valores nulos por **Z9****"
            ],
            "metadata": {
                "id": "7jAYW7A2PHLW",
                "azdata_cell_guid": "e92e55c2-551d-48e0-84a8-30ed9df776de"
            }
        },
        {
            "cell_type": "code",
            "source": [
                "df_covid_daily_new['PAIS_ISO3'].fillna('Z99', inplace=True)\n",
                "df_covid_daily_new['PAIS_ISO2'].fillna('Z9', inplace=True)\n",
                "df_covid_daily_new['PAIS_NOM'].fillna('Otros', inplace=True)"
            ],
            "metadata": {
                "id": "IfPh2xPnPHLX",
                "azdata_cell_guid": "ba695df9-15c1-450e-a460-dca540d3ed74",
                "language": "python"
            },
            "outputs": [],
            "execution_count": 21
        },
        {
            "cell_type": "markdown",
            "source": [
                "Hacemos una última revisión. Observamos que hay 345 duplicados que son los registros que equivalen a **Z9**"
            ],
            "metadata": {
                "id": "9kctLoI4PHLX",
                "azdata_cell_guid": "df8824af-4eb9-4f3d-b20b-90f996ce7a2f"
            }
        },
        {
            "cell_type": "code",
            "source": [
                "df_covid_daily_new[df_covid_daily_new.duplicated()]"
            ],
            "metadata": {
                "id": "QpOOWUXOPHLX",
                "outputId": "ffdd6e28-dfdb-4151-dc6c-3c3beee069d7",
                "colab": {
                    "base_uri": "https://localhost:8080/",
                    "height": 423
                },
                "azdata_cell_guid": "40c11b57-fade-420b-9ace-47d8b795b19d",
                "language": "python"
            },
            "outputs": [
                {
                    "data": {
                        "text/plain": "       Date_reported WHO_region  New_cases  Cumulative_cases  New_deaths  \\\n245145    03-01-2020       AMRO          0                 0           0   \n245146    04-01-2020       AMRO          0                 0           0   \n245147    05-01-2020       AMRO          0                 0           0   \n245148    06-01-2020       AMRO          0                 0           0   \n245149    07-01-2020       AMRO          0                 0           0   \n...              ...        ...        ...               ...         ...   \n268903    03-08-2020       AMRO          0                 3           0   \n268942    11-09-2020       AMRO          0                10           0   \n268943    12-09-2020       AMRO          0                10           0   \n268944    13-09-2020       AMRO          0                10           0   \n268945    14-09-2020       AMRO          0                10           0   \n\n        Cumulative_deaths PAIS_ISO3 PAIS_ISO2 PAIS_NOM  \n245145                  0       Z99        Z9    Otros  \n245146                  0       Z99        Z9    Otros  \n245147                  0       Z99        Z9    Otros  \n245148                  0       Z99        Z9    Otros  \n245149                  0       Z99        Z9    Otros  \n...                   ...       ...       ...      ...  \n268903                  0       Z99        Z9    Otros  \n268942                  0       Z99        Z9    Otros  \n268943                  0       Z99        Z9    Otros  \n268944                  0       Z99        Z9    Otros  \n268945                  0       Z99        Z9    Otros  \n\n[345 rows x 9 columns]",
                        "text/html": "<div>\n<style scoped>\n    .dataframe tbody tr th:only-of-type {\n        vertical-align: middle;\n    }\n\n    .dataframe tbody tr th {\n        vertical-align: top;\n    }\n\n    .dataframe thead th {\n        text-align: right;\n    }\n</style>\n<table border=\"1\" class=\"dataframe\">\n  <thead>\n    <tr style=\"text-align: right;\">\n      <th></th>\n      <th>Date_reported</th>\n      <th>WHO_region</th>\n      <th>New_cases</th>\n      <th>Cumulative_cases</th>\n      <th>New_deaths</th>\n      <th>Cumulative_deaths</th>\n      <th>PAIS_ISO3</th>\n      <th>PAIS_ISO2</th>\n      <th>PAIS_NOM</th>\n    </tr>\n  </thead>\n  <tbody>\n    <tr>\n      <th>245145</th>\n      <td>03-01-2020</td>\n      <td>AMRO</td>\n      <td>0</td>\n      <td>0</td>\n      <td>0</td>\n      <td>0</td>\n      <td>Z99</td>\n      <td>Z9</td>\n      <td>Otros</td>\n    </tr>\n    <tr>\n      <th>245146</th>\n      <td>04-01-2020</td>\n      <td>AMRO</td>\n      <td>0</td>\n      <td>0</td>\n      <td>0</td>\n      <td>0</td>\n      <td>Z99</td>\n      <td>Z9</td>\n      <td>Otros</td>\n    </tr>\n    <tr>\n      <th>245147</th>\n      <td>05-01-2020</td>\n      <td>AMRO</td>\n      <td>0</td>\n      <td>0</td>\n      <td>0</td>\n      <td>0</td>\n      <td>Z99</td>\n      <td>Z9</td>\n      <td>Otros</td>\n    </tr>\n    <tr>\n      <th>245148</th>\n      <td>06-01-2020</td>\n      <td>AMRO</td>\n      <td>0</td>\n      <td>0</td>\n      <td>0</td>\n      <td>0</td>\n      <td>Z99</td>\n      <td>Z9</td>\n      <td>Otros</td>\n    </tr>\n    <tr>\n      <th>245149</th>\n      <td>07-01-2020</td>\n      <td>AMRO</td>\n      <td>0</td>\n      <td>0</td>\n      <td>0</td>\n      <td>0</td>\n      <td>Z99</td>\n      <td>Z9</td>\n      <td>Otros</td>\n    </tr>\n    <tr>\n      <th>...</th>\n      <td>...</td>\n      <td>...</td>\n      <td>...</td>\n      <td>...</td>\n      <td>...</td>\n      <td>...</td>\n      <td>...</td>\n      <td>...</td>\n      <td>...</td>\n    </tr>\n    <tr>\n      <th>268903</th>\n      <td>03-08-2020</td>\n      <td>AMRO</td>\n      <td>0</td>\n      <td>3</td>\n      <td>0</td>\n      <td>0</td>\n      <td>Z99</td>\n      <td>Z9</td>\n      <td>Otros</td>\n    </tr>\n    <tr>\n      <th>268942</th>\n      <td>11-09-2020</td>\n      <td>AMRO</td>\n      <td>0</td>\n      <td>10</td>\n      <td>0</td>\n      <td>0</td>\n      <td>Z99</td>\n      <td>Z9</td>\n      <td>Otros</td>\n    </tr>\n    <tr>\n      <th>268943</th>\n      <td>12-09-2020</td>\n      <td>AMRO</td>\n      <td>0</td>\n      <td>10</td>\n      <td>0</td>\n      <td>0</td>\n      <td>Z99</td>\n      <td>Z9</td>\n      <td>Otros</td>\n    </tr>\n    <tr>\n      <th>268944</th>\n      <td>13-09-2020</td>\n      <td>AMRO</td>\n      <td>0</td>\n      <td>10</td>\n      <td>0</td>\n      <td>0</td>\n      <td>Z99</td>\n      <td>Z9</td>\n      <td>Otros</td>\n    </tr>\n    <tr>\n      <th>268945</th>\n      <td>14-09-2020</td>\n      <td>AMRO</td>\n      <td>0</td>\n      <td>10</td>\n      <td>0</td>\n      <td>0</td>\n      <td>Z99</td>\n      <td>Z9</td>\n      <td>Otros</td>\n    </tr>\n  </tbody>\n</table>\n<p>345 rows × 9 columns</p>\n</div>"
                    },
                    "metadata": {},
                    "execution_count": 22,
                    "output_type": "execute_result"
                }
            ],
            "execution_count": 22
        },
        {
            "cell_type": "markdown",
            "source": [
                "Observamos que ya **no existen valores nulos**"
            ],
            "metadata": {
                "id": "HtwKGMIMPHLX",
                "azdata_cell_guid": "ba6ca590-a931-44a4-b74b-f2f654f1c249"
            }
        },
        {
            "cell_type": "code",
            "source": [
                "df_covid_daily_new.isnull().sum()"
            ],
            "metadata": {
                "scrolled": false,
                "id": "28tkFkEKPHLX",
                "outputId": "2f3cd183-0467-4a4c-b086-ff23759c4628",
                "colab": {
                    "base_uri": "https://localhost:8080/"
                },
                "azdata_cell_guid": "7a6f92e0-2095-4855-8ffd-7d7695d0fd4a",
                "language": "python"
            },
            "outputs": [
                {
                    "data": {
                        "text/plain": "Date_reported        0\nWHO_region           0\nNew_cases            0\nCumulative_cases     0\nNew_deaths           0\nCumulative_deaths    0\nPAIS_ISO3            0\nPAIS_ISO2            0\nPAIS_NOM             0\ndtype: int64"
                    },
                    "metadata": {},
                    "execution_count": 23,
                    "output_type": "execute_result"
                }
            ],
            "execution_count": 23
        },
        {
            "cell_type": "code",
            "source": [
                "df_covid_daily_new.columns"
            ],
            "metadata": {
                "scrolled": true,
                "id": "yVGuJpzYPHLY",
                "outputId": "d9b8bc4f-17ce-4df1-9508-43268ec74307",
                "colab": {
                    "base_uri": "https://localhost:8080/"
                },
                "azdata_cell_guid": "c47468d5-973b-41cb-a014-81066ccbc171",
                "language": "python"
            },
            "outputs": [
                {
                    "data": {
                        "text/plain": "Index(['Date_reported', 'WHO_region', 'New_cases', 'Cumulative_cases',\n       'New_deaths', 'Cumulative_deaths', 'PAIS_ISO3', 'PAIS_ISO2',\n       'PAIS_NOM'],\n      dtype='object')"
                    },
                    "metadata": {},
                    "execution_count": 24,
                    "output_type": "execute_result"
                }
            ],
            "execution_count": 24
        },
        {
            "cell_type": "code",
            "source": [
                "df_covid_daily_new = df_covid_daily_new.reindex(columns =['PAIS_NOM','PAIS_ISO3','PAIS_ISO2','Date_reported','WHO_region','New_cases','Cumulative_cases','New_deaths','Cumulative_deaths'])"
            ],
            "metadata": {
                "id": "C_8PsTcUPHLY",
                "azdata_cell_guid": "f9ef6985-b7ff-4874-8b08-6146cd9791f5",
                "language": "python"
            },
            "outputs": [],
            "execution_count": 25
        },
        {
            "cell_type": "code",
            "source": [
                "df_covid_daily_new"
            ],
            "metadata": {
                "scrolled": true,
                "id": "P8i3amLoPHLY",
                "outputId": "649732d9-e1c1-42c0-acb3-30522b75bfbf",
                "colab": {
                    "base_uri": "https://localhost:8080/",
                    "height": 423
                },
                "azdata_cell_guid": "8c81a63d-6cbb-4f76-a833-cb07ae54152a",
                "language": "python"
            },
            "outputs": [
                {
                    "data": {
                        "text/plain": "           PAIS_NOM PAIS_ISO3 PAIS_ISO2 Date_reported WHO_region  New_cases  \\\n0       Afghanistan       AFG        AF    03-01-2020       EMRO          0   \n1       Afghanistan       AFG        AF    04-01-2020       EMRO          0   \n2       Afghanistan       AFG        AF    05-01-2020       EMRO          0   \n3       Afghanistan       AFG        AF    06-01-2020       EMRO          0   \n4       Afghanistan       AFG        AF    07-01-2020       EMRO          0   \n...             ...       ...       ...           ...        ...        ...   \n328240     Zimbabwe       ZWE        ZW    14-10-2023       AFRO          0   \n328241     Zimbabwe       ZWE        ZW    15-10-2023       AFRO          0   \n328242     Zimbabwe       ZWE        ZW    16-10-2023       AFRO          0   \n328243     Zimbabwe       ZWE        ZW    17-10-2023       AFRO          0   \n328244     Zimbabwe       ZWE        ZW    18-10-2023       AFRO          0   \n\n        Cumulative_cases  New_deaths  Cumulative_deaths  \n0                      0           0                  0  \n1                      0           0                  0  \n2                      0           0                  0  \n3                      0           0                  0  \n4                      0           0                  0  \n...                  ...         ...                ...  \n328240            265808           0               5718  \n328241            265808           0               5718  \n328242            265808           0               5718  \n328243            265808           0               5718  \n328244            265808           0               5718  \n\n[328245 rows x 9 columns]",
                        "text/html": "<div>\n<style scoped>\n    .dataframe tbody tr th:only-of-type {\n        vertical-align: middle;\n    }\n\n    .dataframe tbody tr th {\n        vertical-align: top;\n    }\n\n    .dataframe thead th {\n        text-align: right;\n    }\n</style>\n<table border=\"1\" class=\"dataframe\">\n  <thead>\n    <tr style=\"text-align: right;\">\n      <th></th>\n      <th>PAIS_NOM</th>\n      <th>PAIS_ISO3</th>\n      <th>PAIS_ISO2</th>\n      <th>Date_reported</th>\n      <th>WHO_region</th>\n      <th>New_cases</th>\n      <th>Cumulative_cases</th>\n      <th>New_deaths</th>\n      <th>Cumulative_deaths</th>\n    </tr>\n  </thead>\n  <tbody>\n    <tr>\n      <th>0</th>\n      <td>Afghanistan</td>\n      <td>AFG</td>\n      <td>AF</td>\n      <td>03-01-2020</td>\n      <td>EMRO</td>\n      <td>0</td>\n      <td>0</td>\n      <td>0</td>\n      <td>0</td>\n    </tr>\n    <tr>\n      <th>1</th>\n      <td>Afghanistan</td>\n      <td>AFG</td>\n      <td>AF</td>\n      <td>04-01-2020</td>\n      <td>EMRO</td>\n      <td>0</td>\n      <td>0</td>\n      <td>0</td>\n      <td>0</td>\n    </tr>\n    <tr>\n      <th>2</th>\n      <td>Afghanistan</td>\n      <td>AFG</td>\n      <td>AF</td>\n      <td>05-01-2020</td>\n      <td>EMRO</td>\n      <td>0</td>\n      <td>0</td>\n      <td>0</td>\n      <td>0</td>\n    </tr>\n    <tr>\n      <th>3</th>\n      <td>Afghanistan</td>\n      <td>AFG</td>\n      <td>AF</td>\n      <td>06-01-2020</td>\n      <td>EMRO</td>\n      <td>0</td>\n      <td>0</td>\n      <td>0</td>\n      <td>0</td>\n    </tr>\n    <tr>\n      <th>4</th>\n      <td>Afghanistan</td>\n      <td>AFG</td>\n      <td>AF</td>\n      <td>07-01-2020</td>\n      <td>EMRO</td>\n      <td>0</td>\n      <td>0</td>\n      <td>0</td>\n      <td>0</td>\n    </tr>\n    <tr>\n      <th>...</th>\n      <td>...</td>\n      <td>...</td>\n      <td>...</td>\n      <td>...</td>\n      <td>...</td>\n      <td>...</td>\n      <td>...</td>\n      <td>...</td>\n      <td>...</td>\n    </tr>\n    <tr>\n      <th>328240</th>\n      <td>Zimbabwe</td>\n      <td>ZWE</td>\n      <td>ZW</td>\n      <td>14-10-2023</td>\n      <td>AFRO</td>\n      <td>0</td>\n      <td>265808</td>\n      <td>0</td>\n      <td>5718</td>\n    </tr>\n    <tr>\n      <th>328241</th>\n      <td>Zimbabwe</td>\n      <td>ZWE</td>\n      <td>ZW</td>\n      <td>15-10-2023</td>\n      <td>AFRO</td>\n      <td>0</td>\n      <td>265808</td>\n      <td>0</td>\n      <td>5718</td>\n    </tr>\n    <tr>\n      <th>328242</th>\n      <td>Zimbabwe</td>\n      <td>ZWE</td>\n      <td>ZW</td>\n      <td>16-10-2023</td>\n      <td>AFRO</td>\n      <td>0</td>\n      <td>265808</td>\n      <td>0</td>\n      <td>5718</td>\n    </tr>\n    <tr>\n      <th>328243</th>\n      <td>Zimbabwe</td>\n      <td>ZWE</td>\n      <td>ZW</td>\n      <td>17-10-2023</td>\n      <td>AFRO</td>\n      <td>0</td>\n      <td>265808</td>\n      <td>0</td>\n      <td>5718</td>\n    </tr>\n    <tr>\n      <th>328244</th>\n      <td>Zimbabwe</td>\n      <td>ZWE</td>\n      <td>ZW</td>\n      <td>18-10-2023</td>\n      <td>AFRO</td>\n      <td>0</td>\n      <td>265808</td>\n      <td>0</td>\n      <td>5718</td>\n    </tr>\n  </tbody>\n</table>\n<p>328245 rows × 9 columns</p>\n</div>"
                    },
                    "metadata": {},
                    "execution_count": 26,
                    "output_type": "execute_result"
                }
            ],
            "execution_count": 26
        },
        {
            "cell_type": "code",
            "source": [
                "df_covid_daily_new.columns=['PAIS','PAIS_ISO3','PAIS_ISO2','FECHA_INFORMADA','OMS_REGION','CASOS_NUEVOS','CASOS_ACUM','MUERTES_NUEVAS','MUERTES_ACUM']"
            ],
            "metadata": {
                "id": "9Sb4sjE8PHLY",
                "azdata_cell_guid": "3eebb8d5-3a16-4f13-97a3-a0d5892d0640",
                "language": "python"
            },
            "outputs": [],
            "execution_count": 32
        },
        {
            "cell_type": "code",
            "source": [
                "df_covid_daily_new"
            ],
            "metadata": {
                "id": "KNpLda-IPHLZ",
                "outputId": "cbea5935-b434-4d25-f053-c82815a1bf57",
                "colab": {
                    "base_uri": "https://localhost:8080/",
                    "height": 423
                },
                "azdata_cell_guid": "305b6cc8-62f3-4cc5-8735-25b9a365b1e3",
                "language": "python"
            },
            "outputs": [
                {
                    "data": {
                        "text/plain": "               PAIS PAIS_ISO3 PAIS_ISO2 FECHA_INFORMADA OMS_REGION  \\\n0       Afghanistan       AFG        AF      03-01-2020       EMRO   \n1       Afghanistan       AFG        AF      04-01-2020       EMRO   \n2       Afghanistan       AFG        AF      05-01-2020       EMRO   \n3       Afghanistan       AFG        AF      06-01-2020       EMRO   \n4       Afghanistan       AFG        AF      07-01-2020       EMRO   \n...             ...       ...       ...             ...        ...   \n328240     Zimbabwe       ZWE        ZW      14-10-2023       AFRO   \n328241     Zimbabwe       ZWE        ZW      15-10-2023       AFRO   \n328242     Zimbabwe       ZWE        ZW      16-10-2023       AFRO   \n328243     Zimbabwe       ZWE        ZW      17-10-2023       AFRO   \n328244     Zimbabwe       ZWE        ZW      18-10-2023       AFRO   \n\n        CASOS_NUEVOS  CASOS_ACUM  MUERTES_NUEVAS  MUERTES_ACUM  \n0                  0           0               0             0  \n1                  0           0               0             0  \n2                  0           0               0             0  \n3                  0           0               0             0  \n4                  0           0               0             0  \n...              ...         ...             ...           ...  \n328240             0      265808               0          5718  \n328241             0      265808               0          5718  \n328242             0      265808               0          5718  \n328243             0      265808               0          5718  \n328244             0      265808               0          5718  \n\n[328245 rows x 9 columns]",
                        "text/html": "<div>\n<style scoped>\n    .dataframe tbody tr th:only-of-type {\n        vertical-align: middle;\n    }\n\n    .dataframe tbody tr th {\n        vertical-align: top;\n    }\n\n    .dataframe thead th {\n        text-align: right;\n    }\n</style>\n<table border=\"1\" class=\"dataframe\">\n  <thead>\n    <tr style=\"text-align: right;\">\n      <th></th>\n      <th>PAIS</th>\n      <th>PAIS_ISO3</th>\n      <th>PAIS_ISO2</th>\n      <th>FECHA_INFORMADA</th>\n      <th>OMS_REGION</th>\n      <th>CASOS_NUEVOS</th>\n      <th>CASOS_ACUM</th>\n      <th>MUERTES_NUEVAS</th>\n      <th>MUERTES_ACUM</th>\n    </tr>\n  </thead>\n  <tbody>\n    <tr>\n      <th>0</th>\n      <td>Afghanistan</td>\n      <td>AFG</td>\n      <td>AF</td>\n      <td>03-01-2020</td>\n      <td>EMRO</td>\n      <td>0</td>\n      <td>0</td>\n      <td>0</td>\n      <td>0</td>\n    </tr>\n    <tr>\n      <th>1</th>\n      <td>Afghanistan</td>\n      <td>AFG</td>\n      <td>AF</td>\n      <td>04-01-2020</td>\n      <td>EMRO</td>\n      <td>0</td>\n      <td>0</td>\n      <td>0</td>\n      <td>0</td>\n    </tr>\n    <tr>\n      <th>2</th>\n      <td>Afghanistan</td>\n      <td>AFG</td>\n      <td>AF</td>\n      <td>05-01-2020</td>\n      <td>EMRO</td>\n      <td>0</td>\n      <td>0</td>\n      <td>0</td>\n      <td>0</td>\n    </tr>\n    <tr>\n      <th>3</th>\n      <td>Afghanistan</td>\n      <td>AFG</td>\n      <td>AF</td>\n      <td>06-01-2020</td>\n      <td>EMRO</td>\n      <td>0</td>\n      <td>0</td>\n      <td>0</td>\n      <td>0</td>\n    </tr>\n    <tr>\n      <th>4</th>\n      <td>Afghanistan</td>\n      <td>AFG</td>\n      <td>AF</td>\n      <td>07-01-2020</td>\n      <td>EMRO</td>\n      <td>0</td>\n      <td>0</td>\n      <td>0</td>\n      <td>0</td>\n    </tr>\n    <tr>\n      <th>...</th>\n      <td>...</td>\n      <td>...</td>\n      <td>...</td>\n      <td>...</td>\n      <td>...</td>\n      <td>...</td>\n      <td>...</td>\n      <td>...</td>\n      <td>...</td>\n    </tr>\n    <tr>\n      <th>328240</th>\n      <td>Zimbabwe</td>\n      <td>ZWE</td>\n      <td>ZW</td>\n      <td>14-10-2023</td>\n      <td>AFRO</td>\n      <td>0</td>\n      <td>265808</td>\n      <td>0</td>\n      <td>5718</td>\n    </tr>\n    <tr>\n      <th>328241</th>\n      <td>Zimbabwe</td>\n      <td>ZWE</td>\n      <td>ZW</td>\n      <td>15-10-2023</td>\n      <td>AFRO</td>\n      <td>0</td>\n      <td>265808</td>\n      <td>0</td>\n      <td>5718</td>\n    </tr>\n    <tr>\n      <th>328242</th>\n      <td>Zimbabwe</td>\n      <td>ZWE</td>\n      <td>ZW</td>\n      <td>16-10-2023</td>\n      <td>AFRO</td>\n      <td>0</td>\n      <td>265808</td>\n      <td>0</td>\n      <td>5718</td>\n    </tr>\n    <tr>\n      <th>328243</th>\n      <td>Zimbabwe</td>\n      <td>ZWE</td>\n      <td>ZW</td>\n      <td>17-10-2023</td>\n      <td>AFRO</td>\n      <td>0</td>\n      <td>265808</td>\n      <td>0</td>\n      <td>5718</td>\n    </tr>\n    <tr>\n      <th>328244</th>\n      <td>Zimbabwe</td>\n      <td>ZWE</td>\n      <td>ZW</td>\n      <td>18-10-2023</td>\n      <td>AFRO</td>\n      <td>0</td>\n      <td>265808</td>\n      <td>0</td>\n      <td>5718</td>\n    </tr>\n  </tbody>\n</table>\n<p>328245 rows × 9 columns</p>\n</div>"
                    },
                    "metadata": {},
                    "execution_count": 33,
                    "output_type": "execute_result"
                }
            ],
            "execution_count": 33
        },
        {
            "cell_type": "code",
            "source": [
                "#df_covid_daily_new.to_csv('/content/TFM/Ficheros_Depurados/df_covid_daily_new.csv',index=False)"
            ],
            "metadata": {
                "id": "QxMAinb4PHLa",
                "azdata_cell_guid": "21d6cfb4-73d9-4eb5-aab5-cbbf0c269477",
                "language": "python"
            },
            "outputs": [],
            "execution_count": null
        },
        {
            "cell_type": "markdown",
            "source": [
                "# Establecemos **Conexión a BBDD y Carga de Ficheros** (Azure Data Studio)"
            ],
            "metadata": {
                "language": "python",
                "azdata_cell_guid": "fbb6bdda-96d3-478d-a103-0d249641ab0a"
            },
            "attachments": {}
        },
        {
            "cell_type": "code",
            "source": [
                "import pyodbc\r\n",
                "server = 'servidortfmcovid-v2.database.windows.net'\r\n",
                "database = 'basedatostfmcovid-v2'\r\n",
                "username = 'admintfmcovid_v2'\r\n",
                "password = 'TFMcovid2023!_v2'\r\n",
                "cnxn = pyodbc.connect('DRIVER={SQL Server};SERVER='+server+';DATABASE='+database+';UID='+username+';PWD='+ password)\r\n",
                "cursor = cnxn.cursor()\r\n",
                "\r\n",
                "# Nombre de la tabla en la base de datos\r\n",
                "nombre_de_tabla = 'dbo.COVID_DAILY'  # Reemplaza 'MiTabla' por el nombre de tu tabla\r\n",
                "\r\n",
                "# Eliminar registros\r\n",
                "cursor.execute(f\"DELETE FROM {nombre_de_tabla}\")\r\n",
                "\r\n",
                "# Inserta los datos del DataFrame en la tabla\r\n",
                "for index, row in df_covid_daily_new.iterrows():\r\n",
                "    insert_query = f\"INSERT INTO {nombre_de_tabla} ({', '.join(df_covid_daily_new.columns)}) VALUES ({', '.join(['?'] * len(df_covid_daily_new.columns))})\"\r\n",
                "    cursor.execute(insert_query, tuple(row))\r\n",
                "    cnxn.commit()\r\n",
                "\r\n",
                "# Cierra la conexión\r\n",
                "cnxn.close()"
            ],
            "metadata": {
                "language": "python",
                "azdata_cell_guid": "f5879da9-c3e9-424f-932d-358b6a05a99d"
            },
            "outputs": [
                {
                    "traceback": [
                        "\u001b[1;31m---------------------------------------------------------------------------\u001b[0m",
                        "\u001b[1;31mError\u001b[0m                                     Traceback (most recent call last)",
                        "Cell \u001b[1;32mIn[34], line 19\u001b[0m\n\u001b[0;32m     17\u001b[0m     insert_query \u001b[38;5;241m=\u001b[39m \u001b[38;5;124mf\u001b[39m\u001b[38;5;124m\"\u001b[39m\u001b[38;5;124mINSERT INTO \u001b[39m\u001b[38;5;132;01m{\u001b[39;00mnombre_de_tabla\u001b[38;5;132;01m}\u001b[39;00m\u001b[38;5;124m (\u001b[39m\u001b[38;5;132;01m{\u001b[39;00m\u001b[38;5;124m'\u001b[39m\u001b[38;5;124m, \u001b[39m\u001b[38;5;124m'\u001b[39m\u001b[38;5;241m.\u001b[39mjoin(df_covid_daily_new\u001b[38;5;241m.\u001b[39mcolumns)\u001b[38;5;132;01m}\u001b[39;00m\u001b[38;5;124m) VALUES (\u001b[39m\u001b[38;5;132;01m{\u001b[39;00m\u001b[38;5;124m'\u001b[39m\u001b[38;5;124m, \u001b[39m\u001b[38;5;124m'\u001b[39m\u001b[38;5;241m.\u001b[39mjoin([\u001b[38;5;124m'\u001b[39m\u001b[38;5;124m?\u001b[39m\u001b[38;5;124m'\u001b[39m]\u001b[38;5;250m \u001b[39m\u001b[38;5;241m*\u001b[39m\u001b[38;5;250m \u001b[39m\u001b[38;5;28mlen\u001b[39m(df_covid_daily_new\u001b[38;5;241m.\u001b[39mcolumns))\u001b[38;5;132;01m}\u001b[39;00m\u001b[38;5;124m)\u001b[39m\u001b[38;5;124m\"\u001b[39m\n\u001b[0;32m     18\u001b[0m     cursor\u001b[38;5;241m.\u001b[39mexecute(insert_query, \u001b[38;5;28mtuple\u001b[39m(row))\n\u001b[1;32m---> 19\u001b[0m     \u001b[43mcnxn\u001b[49m\u001b[38;5;241;43m.\u001b[39;49m\u001b[43mcommit\u001b[49m\u001b[43m(\u001b[49m\u001b[43m)\u001b[49m\n\u001b[0;32m     21\u001b[0m \u001b[38;5;66;03m# Cierra la conexión\u001b[39;00m\n\u001b[0;32m     22\u001b[0m cnxn\u001b[38;5;241m.\u001b[39mclose()\n",
                        "\u001b[1;31mError\u001b[0m: ('01000', '[01000] [Microsoft][ODBC SQL Server Driver][DBNETLIB]ConnectionWrite (send()). (10054) (SQLEndTran); [01000] [Microsoft][ODBC SQL Server Driver][DBNETLIB]General network error. Check your network documentation. (11)')"
                    ],
                    "ename": "Error",
                    "evalue": "('01000', '[01000] [Microsoft][ODBC SQL Server Driver][DBNETLIB]ConnectionWrite (send()). (10054) (SQLEndTran); [01000] [Microsoft][ODBC SQL Server Driver][DBNETLIB]General network error. Check your network documentation. (11)')",
                    "output_type": "error"
                }
            ],
            "execution_count": 34
        }
    ]
}