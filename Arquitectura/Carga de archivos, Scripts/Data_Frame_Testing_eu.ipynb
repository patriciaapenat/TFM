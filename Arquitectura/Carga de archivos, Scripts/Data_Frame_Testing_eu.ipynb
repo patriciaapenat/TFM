{
    "metadata": {
        "kernelspec": {
            "name": "python3",
            "display_name": "Python 3",
            "language": "python"
        },
        "language_info": {
            "name": "python",
            "version": "3.8.10",
            "mimetype": "text/x-python",
            "codemirror_mode": {
                "name": "ipython",
                "version": 3
            },
            "pygments_lexer": "ipython3",
            "nbconvert_exporter": "python",
            "file_extension": ".py"
        },
        "colab": {
            "provenance": [],
            "include_colab_link": true
        }
    },
    "nbformat_minor": 2,
    "nbformat": 4,
    "cells": [
        {
            "cell_type": "markdown",
            "source": [
                "<a href=\"https://colab.research.google.com/github/patriciaapenat/TFM/blob/main/Notebooks/Data_Frame_Testing_eu.ipynb\" target=\"_parent\"><img src=\"https://colab.research.google.com/assets/colab-badge.svg\" alt=\"Open In Colab\"/></a>"
            ],
            "metadata": {
                "id": "view-in-github",
                "colab_type": "text",
                "azdata_cell_guid": "d1d985fa-065a-4007-be6b-46455a4c0eba"
            }
        },
        {
            "cell_type": "code",
            "source": [
                "#! git clone https://github.com/patriciaapenat/TFM.git"
            ],
            "metadata": {
                "id": "dj98drOTkZX9",
                "outputId": "4b632388-900c-4e52-e838-659efd42b50a",
                "colab": {
                    "base_uri": "https://localhost:8080/"
                },
                "azdata_cell_guid": "67fca629-72e1-4267-ade7-547e18e7d5d7",
                "language": "python"
            },
            "outputs": [],
            "execution_count": 1
        },
        {
            "cell_type": "markdown",
            "source": [
                "# Data on testing for COVID-19 by week and country"
            ],
            "metadata": {
                "id": "a6261c9a",
                "azdata_cell_guid": "c2d52d89-986f-4ae0-ba1b-1932fcc6917e"
            }
        },
        {
            "cell_type": "markdown",
            "source": [
                "Las cifras que se muestran para la tasa de pruebas semanales por cada 100 000 habitantes y la positividad de las pruebas semanales (%) se basan en varias fuentes de datos.\n",
                "\n",
                "El número de casos semanales por utilizado para estimar la positividad de la prueba semanal por país o región subnacional se basa en los datos recopilados por ECDC Epidemic Intelligence. Las fuentes de información son Ministerios de Salud o Institutos Nacionales de Salud Pública (sitios web, cuentas oficiales de twitter o cuentas oficiales de Facebook), y los datos obtenidos se cotejan sistemáticamente con datos de OMS. Hay más información disponible en [este enlace](https://www.ecdc.europa.eu/en/covid-19/data-collection).\n",
                "\n",
                "La fuente principal del total de pruebas por país o región subnacional por semana son los datos agregados presentados por los Estados miembros a TESSy. Sin embargo, cuando no estaba disponible, como solía ser el caso antes de la pandemia, el ECDC recopiló datos de fuentes públicas en línea. Estos datos se han recuperado automática o manualmente (\"web-scraped\") diariamente de fuentes públicas en línea nacionales/oficiales de países de la UE/EEE. Cabe señalar que existen varias limitaciones para este tipo de datos. Los datos raspados no están disponibles para todas las variables y/o países debido a la variabilidad del contenido en los sitios web nacionales.\n",
                "\n",
                "Además, el proceso de recopilación de datos requiere una adaptación constante para evitar series temporales interrumpidas (es decir, debido a la modificación de las páginas del sitio web, tipos de datos).\n",
                "\n",
                "La tasa de notificación de 14 días de nuevos casos de COVID-19 se basa en los datos recopilados por ECDC Epidemic Intelligence de varias fuentes y se ve afectada por la estrategia de prueba local, la capacidad del laboratorio y la eficacia de los sistemas de vigilancia. Por lo tanto, la comparación de la situación epidemiológica de la COVID-19 entre países no debe basarse únicamente en estas tasas. Sin embargo, a nivel de país individual o regional, este indicador puede ser útil para monitorear la situación nacional a lo largo del tiempo.\n",
                "\n",
                "Las políticas de pruebas y el número de pruebas realizadas por cada 100 000 personas varían notablemente a lo largo del UE/EEE y presumiblemente aún más entre terceros países. Las pruebas más exhaustivas conducirán inevitablemente a la detección de más casos.\n",
                "\n",
                "La tasa de notificación de 14 días de nuevos casos de COVID-19 debe usarse en combinación con otros factores, incluidas las políticas de prueba, la cantidad de pruebas realizadas, la positividad de la prueba, el exceso de mortalidad y las tasas de ingresos hospitalarios y en la Unidad de Cuidados Intensivos (UCI), al analizar el epidemiológico situación en un país. La mayoría de estos indicadores se presentan para los Estados miembros de la UE/EEE en el informe Panorama general del país.\n",
                "\n",
                "Incluso cuando se utilizan varios indicadores en combinación, las comparaciones entre países deben hacerse con cautela y experiencia epidemiológica relevante.\n",
                "\n",
                "Información obtenida de: [Data dictionary on COVID-19 testing](https://www.ecdc.europa.eu/sites/default/files/documents/covid-19-variable-dictionary-and-disclaimer-weekly-testing-data.pdf).\n"
            ],
            "metadata": {
                "id": "7af50e62",
                "azdata_cell_guid": "a9566f01-e3e5-48b6-be10-6c6158425494"
            }
        },
        {
            "cell_type": "code",
            "source": [
                "data_dict = {\n",
                "    \"country\": \"String\",\n",
                "    \"country_code\": \"2-letter ISO country code\",\n",
                "    \"year_week\": \"yyyy-Www\",\n",
                "    \"level\": \"National (archived dataset with national subnational data to week 36, 2022 is available on ECDC’s website)\",\n",
                "    \"region\": \"2-letter ISO country code where level is national\",\n",
                "    \"region_name\": \"Country name where level is national\",\n",
                "    \"new_cases\": \"Number of new confirmed cases\",\n",
                "    \"tests_done\": \"Number of tests done\",\n",
                "    \"population\": \"Numeric\",\n",
                "    \"testing_rate\": \"Testing rate per 100,000 population\",\n",
                "    \"positivity_rate\": \"Weekly test positivity (%): 100 x Number of new confirmed cases/number of tests done per week\",\n",
                "    \"testing_data_source\": [\n",
                "        \"Country API\",\n",
                "        \"Country GitHub\",\n",
                "        \"Country website\",\n",
                "        \"Manual webscraping\",\n",
                "        \"Other\",\n",
                "        \"Survey\",\n",
                "        \"TESSy: data provided directly by Member States to ECDC via TESSy\"\n",
                "    ]\n",
                "}"
            ],
            "metadata": {
                "id": "ffe1a20b",
                "azdata_cell_guid": "5a972ca2-c1f3-4e6c-9695-e9af88b9e051",
                "language": "python"
            },
            "outputs": [],
            "execution_count": 2
        },
        {
            "cell_type": "markdown",
            "source": [
                "### Cargamos el dataset y configuramos el notebook"
            ],
            "metadata": {
                "id": "82e23f1c",
                "azdata_cell_guid": "34bbf7b4-28e8-4c10-b0dc-fdf08a9b2e23"
            }
        },
        {
            "cell_type": "code",
            "source": [
                "# importar paquetes\n",
                "import pandas as pd\n",
                "import numpy as np\n",
                "import datetime as dt"
            ],
            "metadata": {
                "id": "dca8f647",
                "azdata_cell_guid": "85696748-341b-4503-8084-9ebbc705fe22",
                "language": "python"
            },
            "outputs": [],
            "execution_count": 3
        },
        {
            "cell_type": "code",
            "source": [
                "# Leer el archivo\n",
                "df_datos4 = pd.read_csv('https://opendata.ecdc.europa.eu/covid19/testing/csv/data.csv') #cargamos los datos\n",
                "df_datos4.head()"
            ],
            "metadata": {
                "id": "44927188",
                "outputId": "e60e9ce2-ac3a-40d4-d6ce-b61d193caff5",
                "colab": {
                    "base_uri": "https://localhost:8080/",
                    "height": 206
                },
                "azdata_cell_guid": "b7f54dc4-031e-4100-9ac3-fabcecdf57df",
                "language": "python"
            },
            "outputs": [
                {
                    "data": {
                        "text/plain": "   country country_code year_week     level region region_name  new_cases  \\\n0  Austria           AT  2020-W01  national     AT     Austria        NaN   \n1  Austria           AT  2020-W02  national     AT     Austria        NaN   \n2  Austria           AT  2020-W03  national     AT     Austria        NaN   \n3  Austria           AT  2020-W04  national     AT     Austria        NaN   \n4  Austria           AT  2020-W05  national     AT     Austria        NaN   \n\n   tests_done  population  testing_rate  positivity_rate testing_data_source  \n0         NaN     8978929           NaN              NaN                 NaN  \n1         NaN     8978929           NaN              NaN                 NaN  \n2         NaN     8978929           NaN              NaN                 NaN  \n3         NaN     8978929           NaN              NaN                 NaN  \n4         NaN     8978929           NaN              NaN                 NaN  ",
                        "text/html": "<div>\n<style scoped>\n    .dataframe tbody tr th:only-of-type {\n        vertical-align: middle;\n    }\n\n    .dataframe tbody tr th {\n        vertical-align: top;\n    }\n\n    .dataframe thead th {\n        text-align: right;\n    }\n</style>\n<table border=\"1\" class=\"dataframe\">\n  <thead>\n    <tr style=\"text-align: right;\">\n      <th></th>\n      <th>country</th>\n      <th>country_code</th>\n      <th>year_week</th>\n      <th>level</th>\n      <th>region</th>\n      <th>region_name</th>\n      <th>new_cases</th>\n      <th>tests_done</th>\n      <th>population</th>\n      <th>testing_rate</th>\n      <th>positivity_rate</th>\n      <th>testing_data_source</th>\n    </tr>\n  </thead>\n  <tbody>\n    <tr>\n      <th>0</th>\n      <td>Austria</td>\n      <td>AT</td>\n      <td>2020-W01</td>\n      <td>national</td>\n      <td>AT</td>\n      <td>Austria</td>\n      <td>NaN</td>\n      <td>NaN</td>\n      <td>8978929</td>\n      <td>NaN</td>\n      <td>NaN</td>\n      <td>NaN</td>\n    </tr>\n    <tr>\n      <th>1</th>\n      <td>Austria</td>\n      <td>AT</td>\n      <td>2020-W02</td>\n      <td>national</td>\n      <td>AT</td>\n      <td>Austria</td>\n      <td>NaN</td>\n      <td>NaN</td>\n      <td>8978929</td>\n      <td>NaN</td>\n      <td>NaN</td>\n      <td>NaN</td>\n    </tr>\n    <tr>\n      <th>2</th>\n      <td>Austria</td>\n      <td>AT</td>\n      <td>2020-W03</td>\n      <td>national</td>\n      <td>AT</td>\n      <td>Austria</td>\n      <td>NaN</td>\n      <td>NaN</td>\n      <td>8978929</td>\n      <td>NaN</td>\n      <td>NaN</td>\n      <td>NaN</td>\n    </tr>\n    <tr>\n      <th>3</th>\n      <td>Austria</td>\n      <td>AT</td>\n      <td>2020-W04</td>\n      <td>national</td>\n      <td>AT</td>\n      <td>Austria</td>\n      <td>NaN</td>\n      <td>NaN</td>\n      <td>8978929</td>\n      <td>NaN</td>\n      <td>NaN</td>\n      <td>NaN</td>\n    </tr>\n    <tr>\n      <th>4</th>\n      <td>Austria</td>\n      <td>AT</td>\n      <td>2020-W05</td>\n      <td>national</td>\n      <td>AT</td>\n      <td>Austria</td>\n      <td>NaN</td>\n      <td>NaN</td>\n      <td>8978929</td>\n      <td>NaN</td>\n      <td>NaN</td>\n      <td>NaN</td>\n    </tr>\n  </tbody>\n</table>\n</div>"
                    },
                    "metadata": {},
                    "execution_count": 4,
                    "output_type": "execute_result"
                }
            ],
            "execution_count": 4
        },
        {
            "cell_type": "markdown",
            "source": [
                "### Revisamos la información general"
            ],
            "metadata": {
                "id": "e302f8bd",
                "azdata_cell_guid": "aa585ed6-38e7-4cbc-b89a-10bc87767297"
            }
        },
        {
            "cell_type": "code",
            "source": [
                "df_datos4.info()"
            ],
            "metadata": {
                "id": "c2a84a45",
                "outputId": "710215ca-486a-4273-c794-a0e1a9372332",
                "colab": {
                    "base_uri": "https://localhost:8080/"
                },
                "azdata_cell_guid": "eab2e311-b35f-4f8d-b8fb-43a0d983255d",
                "language": "python"
            },
            "outputs": [
                {
                    "name": "stdout",
                    "text": "<class 'pandas.core.frame.DataFrame'>\nRangeIndex: 5910 entries, 0 to 5909\nData columns (total 12 columns):\n #   Column               Non-Null Count  Dtype  \n---  ------               --------------  -----  \n 0   country              5910 non-null   object \n 1   country_code         5910 non-null   object \n 2   year_week            5910 non-null   object \n 3   level                5910 non-null   object \n 4   region               5910 non-null   object \n 5   region_name          5910 non-null   object \n 6   new_cases            5654 non-null   float64\n 7   tests_done           4701 non-null   float64\n 8   population           5910 non-null   int64  \n 9   testing_rate         4701 non-null   float64\n 10  positivity_rate      4679 non-null   float64\n 11  testing_data_source  4701 non-null   object \ndtypes: float64(4), int64(1), object(7)\nmemory usage: 554.2+ KB\n",
                    "output_type": "stream"
                }
            ],
            "execution_count": 5
        },
        {
            "cell_type": "code",
            "source": [
                "# Revisamos si hay duplicados\n",
                "df_datos4.duplicated().sum().any()"
            ],
            "metadata": {
                "id": "10564f68",
                "outputId": "4fc5ab15-aac8-41bc-e019-a0cd436e685e",
                "colab": {
                    "base_uri": "https://localhost:8080/"
                },
                "azdata_cell_guid": "216fd734-adb7-45af-b44a-1bf275103f66",
                "language": "python"
            },
            "outputs": [
                {
                    "data": {
                        "text/plain": "False"
                    },
                    "metadata": {},
                    "execution_count": 6,
                    "output_type": "execute_result"
                }
            ],
            "execution_count": 6
        },
        {
            "cell_type": "code",
            "source": [
                "# Revisamos si hay nulos\n",
                "df_datos4.isna().sum().any()"
            ],
            "metadata": {
                "id": "3c2a081e",
                "outputId": "b39c9a30-2281-4807-aa45-3891037d62e8",
                "colab": {
                    "base_uri": "https://localhost:8080/"
                },
                "azdata_cell_guid": "bd918d5d-01cf-416d-be24-652d9adf2876",
                "language": "python"
            },
            "outputs": [
                {
                    "data": {
                        "text/plain": "True"
                    },
                    "metadata": {},
                    "execution_count": 7,
                    "output_type": "execute_result"
                }
            ],
            "execution_count": 7
        },
        {
            "cell_type": "code",
            "source": [
                "# Revisamos donde están los nulos\n",
                "df_datos4.isna().sum()"
            ],
            "metadata": {
                "id": "bf8bd6f9",
                "outputId": "50108821-4f7c-4082-df61-d98aaacbe00c",
                "colab": {
                    "base_uri": "https://localhost:8080/"
                },
                "azdata_cell_guid": "2f836c24-5d23-4683-8748-c2439191f632",
                "language": "python"
            },
            "outputs": [
                {
                    "data": {
                        "text/plain": "country                   0\ncountry_code              0\nyear_week                 0\nlevel                     0\nregion                    0\nregion_name               0\nnew_cases               256\ntests_done             1209\npopulation                0\ntesting_rate           1209\npositivity_rate        1231\ntesting_data_source    1209\ndtype: int64"
                    },
                    "metadata": {},
                    "execution_count": 8,
                    "output_type": "execute_result"
                }
            ],
            "execution_count": 8
        },
        {
            "cell_type": "markdown",
            "source": [
                "### Modificamos columnas"
            ],
            "metadata": {
                "id": "aecb6b2a",
                "azdata_cell_guid": "f910e522-1b2f-4c4c-9b92-78f14cf9d0e8"
            }
        },
        {
            "cell_type": "code",
            "source": [
                "# Modificar categoría\n",
                "df_datos4['testing_data_source'] = df_datos4['testing_data_source'].astype('category'); assert df_datos4['testing_data_source'].dtype == 'category'"
            ],
            "metadata": {
                "id": "64c368f9",
                "azdata_cell_guid": "93381069-6ef7-4702-b0e3-7a6e0664c357",
                "language": "python"
            },
            "outputs": [],
            "execution_count": 9
        },
        {
            "cell_type": "code",
            "source": [
                "# Convertir la columna 'year_week' a tipo datetime\n",
                "df_datos4['year_week'] = pd.to_datetime(df_datos4['year_week'] + '-1', format='%Y-W%W-%w')\n",
                "# Extraer el número de semana y el año\n",
                "df_datos4['year_week'] = df_datos4['year_week'].dt.strftime('%Y-%W')"
            ],
            "metadata": {
                "id": "e9f1bb76",
                "azdata_cell_guid": "a0fe28cc-0f97-4ec4-83c3-0ad2ef4ba317",
                "language": "python"
            },
            "outputs": [],
            "execution_count": 10
        },
        {
            "cell_type": "code",
            "source": [
                "# Sabemos que disponemos del nombre del país en inglés\n",
                "df_datos4['country']"
            ],
            "metadata": {
                "id": "73fc2d3b",
                "outputId": "20ef255a-15e5-4c0f-bb1e-cd45abece2b8",
                "colab": {
                    "base_uri": "https://localhost:8080/"
                },
                "azdata_cell_guid": "72a5d5d1-9747-4334-97ec-7c97d933826b",
                "language": "python"
            },
            "outputs": [
                {
                    "data": {
                        "text/plain": "0       Austria\n1       Austria\n2       Austria\n3       Austria\n4       Austria\n         ...   \n5905     Sweden\n5906     Sweden\n5907     Sweden\n5908     Sweden\n5909     Sweden\nName: country, Length: 5910, dtype: object"
                    },
                    "metadata": {},
                    "execution_count": 11,
                    "output_type": "execute_result"
                }
            ],
            "execution_count": 11
        },
        {
            "cell_type": "markdown",
            "source": [
                "    Podemos hacer una función para obtener ISO3"
            ],
            "metadata": {
                "id": "d222320c",
                "azdata_cell_guid": "c655c82a-a673-4240-a267-8710d162bed1"
            }
        },
        {
            "cell_type": "code",
            "source": [
                "import pycountry\n",
                "\n",
                "def obtener_iso3(country):\n",
                "    try:\n",
                "        pais = pycountry.countries.get(name=country)\n",
                "        if pais is not None:\n",
                "            return pais.alpha_3\n",
                "    except LookupError:\n",
                "        pass\n",
                "    return None\n",
                "\n",
                "# Obtener el código ISO 3 correspondiente a los nombres de país en la columna 'country'\n",
                "df_datos4.insert(1, 'iso3', df_datos4['country'].apply(obtener_iso3))"
            ],
            "metadata": {
                "id": "a14333df",
                "azdata_cell_guid": "1b1524d2-cc68-4104-9130-413606e524e4",
                "language": "python"
            },
            "outputs": [],
            "execution_count": 12
        },
        {
            "cell_type": "code",
            "source": [
                "df_datos4['iso3']"
            ],
            "metadata": {
                "id": "aa21fc77",
                "outputId": "eac0891a-67ae-4efa-d75a-5c5b56520d34",
                "colab": {
                    "base_uri": "https://localhost:8080/"
                },
                "azdata_cell_guid": "6697ceb5-ad0f-4655-bb65-8fcf739f8f32",
                "language": "python"
            },
            "outputs": [
                {
                    "data": {
                        "text/plain": "0       AUT\n1       AUT\n2       AUT\n3       AUT\n4       AUT\n       ... \n5905    SWE\n5906    SWE\n5907    SWE\n5908    SWE\n5909    SWE\nName: iso3, Length: 5910, dtype: object"
                    },
                    "metadata": {},
                    "execution_count": 13,
                    "output_type": "execute_result"
                }
            ],
            "execution_count": 13
        },
        {
            "cell_type": "markdown",
            "source": [
                "### Y por último limpiamos"
            ],
            "metadata": {
                "id": "a4f5177e",
                "azdata_cell_guid": "3fb67bb1-880e-4d0b-8e9e-236433c71987"
            }
        },
        {
            "cell_type": "code",
            "source": [
                "# Revisamos donde están los nulos\n",
                "df_datos4.isna().any()"
            ],
            "metadata": {
                "id": "4426541d",
                "outputId": "d665d939-46e1-488f-e2e8-28cb56ea33c2",
                "colab": {
                    "base_uri": "https://localhost:8080/"
                },
                "azdata_cell_guid": "11b9ed48-b8c0-422b-abab-2882507f5aad",
                "language": "python"
            },
            "outputs": [
                {
                    "data": {
                        "text/plain": "country                False\niso3                   False\ncountry_code           False\nyear_week              False\nlevel                  False\nregion                 False\nregion_name            False\nnew_cases               True\ntests_done              True\npopulation             False\ntesting_rate            True\npositivity_rate         True\ntesting_data_source     True\ndtype: bool"
                    },
                    "metadata": {},
                    "execution_count": 14,
                    "output_type": "execute_result"
                }
            ],
            "execution_count": 14
        },
        {
            "cell_type": "code",
            "source": [
                "# Eliminar nulos\n",
                "df_datos4.dropna(subset=['new_cases', 'tests_done', 'testing_rate', 'positivity_rate', 'testing_data_source'], inplace=True)"
            ],
            "metadata": {
                "id": "79e0fb38",
                "azdata_cell_guid": "48bfad21-d108-456b-a05c-0acdf14f4e23",
                "language": "python"
            },
            "outputs": [],
            "execution_count": 15
        },
        {
            "cell_type": "markdown",
            "source": [
                "#### Eliminamos columnas que no utilizaremos"
            ],
            "metadata": {
                "id": "1d2fb527",
                "azdata_cell_guid": "b6b48dbd-7bad-4da6-89d5-3d38455c87b7"
            }
        },
        {
            "cell_type": "code",
            "source": [
                "df_datos4"
            ],
            "metadata": {
                "id": "76da532b",
                "outputId": "25feb196-cba5-4755-dd71-f673aacac3a8",
                "colab": {
                    "base_uri": "https://localhost:8080/",
                    "height": 424
                },
                "azdata_cell_guid": "437fe8c1-d808-428b-bc92-2c78e4454b3c",
                "language": "python"
            },
            "outputs": [
                {
                    "data": {
                        "text/plain": "      country iso3 country_code year_week     level region region_name  \\\n40    Austria  AUT           AT   2020-41  national     AT     Austria   \n41    Austria  AUT           AT   2020-42  national     AT     Austria   \n42    Austria  AUT           AT   2020-43  national     AT     Austria   \n43    Austria  AUT           AT   2020-44  national     AT     Austria   \n44    Austria  AUT           AT   2020-45  national     AT     Austria   \n...       ...  ...          ...       ...       ...    ...         ...   \n5905   Sweden  SWE           SE   2023-36  national     SE      Sweden   \n5906   Sweden  SWE           SE   2023-37  national     SE      Sweden   \n5907   Sweden  SWE           SE   2023-38  national     SE      Sweden   \n5908   Sweden  SWE           SE   2023-39  national     SE      Sweden   \n5909   Sweden  SWE           SE   2023-40  national     SE      Sweden   \n\n      new_cases  tests_done  population  testing_rate  positivity_rate  \\\n40       7487.0    124663.0     8978929   1388.394986         6.005792   \n41       9898.0    129647.0     8978929   1443.902719         7.634577   \n42      18262.0    158997.0     8978929   1770.779121        11.485751   \n43      31613.0    167926.0     8978929   1870.223052        18.825554   \n44      44772.0    199567.0     8978929   2222.614746        22.434571   \n...         ...         ...         ...           ...              ...   \n5905      664.0      4781.0    10452326     45.741015        13.888308   \n5906      656.0      4843.0    10452326     46.334184        13.545323   \n5907      676.0      4921.0    10452326     47.080430        13.737045   \n5908      594.0      4717.0    10452326     45.128711        12.592750   \n5909      698.0      4834.0    10452326     46.248079        14.439388   \n\n     testing_data_source  \n40        TESSy COVID-19  \n41        TESSy COVID-19  \n42        TESSy COVID-19  \n43        TESSy COVID-19  \n44        TESSy COVID-19  \n...                  ...  \n5905      TESSy COVID-19  \n5906      TESSy COVID-19  \n5907      TESSy COVID-19  \n5908      TESSy COVID-19  \n5909      TESSy COVID-19  \n\n[4679 rows x 13 columns]",
                        "text/html": "<div>\n<style scoped>\n    .dataframe tbody tr th:only-of-type {\n        vertical-align: middle;\n    }\n\n    .dataframe tbody tr th {\n        vertical-align: top;\n    }\n\n    .dataframe thead th {\n        text-align: right;\n    }\n</style>\n<table border=\"1\" class=\"dataframe\">\n  <thead>\n    <tr style=\"text-align: right;\">\n      <th></th>\n      <th>country</th>\n      <th>iso3</th>\n      <th>country_code</th>\n      <th>year_week</th>\n      <th>level</th>\n      <th>region</th>\n      <th>region_name</th>\n      <th>new_cases</th>\n      <th>tests_done</th>\n      <th>population</th>\n      <th>testing_rate</th>\n      <th>positivity_rate</th>\n      <th>testing_data_source</th>\n    </tr>\n  </thead>\n  <tbody>\n    <tr>\n      <th>40</th>\n      <td>Austria</td>\n      <td>AUT</td>\n      <td>AT</td>\n      <td>2020-41</td>\n      <td>national</td>\n      <td>AT</td>\n      <td>Austria</td>\n      <td>7487.0</td>\n      <td>124663.0</td>\n      <td>8978929</td>\n      <td>1388.394986</td>\n      <td>6.005792</td>\n      <td>TESSy COVID-19</td>\n    </tr>\n    <tr>\n      <th>41</th>\n      <td>Austria</td>\n      <td>AUT</td>\n      <td>AT</td>\n      <td>2020-42</td>\n      <td>national</td>\n      <td>AT</td>\n      <td>Austria</td>\n      <td>9898.0</td>\n      <td>129647.0</td>\n      <td>8978929</td>\n      <td>1443.902719</td>\n      <td>7.634577</td>\n      <td>TESSy COVID-19</td>\n    </tr>\n    <tr>\n      <th>42</th>\n      <td>Austria</td>\n      <td>AUT</td>\n      <td>AT</td>\n      <td>2020-43</td>\n      <td>national</td>\n      <td>AT</td>\n      <td>Austria</td>\n      <td>18262.0</td>\n      <td>158997.0</td>\n      <td>8978929</td>\n      <td>1770.779121</td>\n      <td>11.485751</td>\n      <td>TESSy COVID-19</td>\n    </tr>\n    <tr>\n      <th>43</th>\n      <td>Austria</td>\n      <td>AUT</td>\n      <td>AT</td>\n      <td>2020-44</td>\n      <td>national</td>\n      <td>AT</td>\n      <td>Austria</td>\n      <td>31613.0</td>\n      <td>167926.0</td>\n      <td>8978929</td>\n      <td>1870.223052</td>\n      <td>18.825554</td>\n      <td>TESSy COVID-19</td>\n    </tr>\n    <tr>\n      <th>44</th>\n      <td>Austria</td>\n      <td>AUT</td>\n      <td>AT</td>\n      <td>2020-45</td>\n      <td>national</td>\n      <td>AT</td>\n      <td>Austria</td>\n      <td>44772.0</td>\n      <td>199567.0</td>\n      <td>8978929</td>\n      <td>2222.614746</td>\n      <td>22.434571</td>\n      <td>TESSy COVID-19</td>\n    </tr>\n    <tr>\n      <th>...</th>\n      <td>...</td>\n      <td>...</td>\n      <td>...</td>\n      <td>...</td>\n      <td>...</td>\n      <td>...</td>\n      <td>...</td>\n      <td>...</td>\n      <td>...</td>\n      <td>...</td>\n      <td>...</td>\n      <td>...</td>\n      <td>...</td>\n    </tr>\n    <tr>\n      <th>5905</th>\n      <td>Sweden</td>\n      <td>SWE</td>\n      <td>SE</td>\n      <td>2023-36</td>\n      <td>national</td>\n      <td>SE</td>\n      <td>Sweden</td>\n      <td>664.0</td>\n      <td>4781.0</td>\n      <td>10452326</td>\n      <td>45.741015</td>\n      <td>13.888308</td>\n      <td>TESSy COVID-19</td>\n    </tr>\n    <tr>\n      <th>5906</th>\n      <td>Sweden</td>\n      <td>SWE</td>\n      <td>SE</td>\n      <td>2023-37</td>\n      <td>national</td>\n      <td>SE</td>\n      <td>Sweden</td>\n      <td>656.0</td>\n      <td>4843.0</td>\n      <td>10452326</td>\n      <td>46.334184</td>\n      <td>13.545323</td>\n      <td>TESSy COVID-19</td>\n    </tr>\n    <tr>\n      <th>5907</th>\n      <td>Sweden</td>\n      <td>SWE</td>\n      <td>SE</td>\n      <td>2023-38</td>\n      <td>national</td>\n      <td>SE</td>\n      <td>Sweden</td>\n      <td>676.0</td>\n      <td>4921.0</td>\n      <td>10452326</td>\n      <td>47.080430</td>\n      <td>13.737045</td>\n      <td>TESSy COVID-19</td>\n    </tr>\n    <tr>\n      <th>5908</th>\n      <td>Sweden</td>\n      <td>SWE</td>\n      <td>SE</td>\n      <td>2023-39</td>\n      <td>national</td>\n      <td>SE</td>\n      <td>Sweden</td>\n      <td>594.0</td>\n      <td>4717.0</td>\n      <td>10452326</td>\n      <td>45.128711</td>\n      <td>12.592750</td>\n      <td>TESSy COVID-19</td>\n    </tr>\n    <tr>\n      <th>5909</th>\n      <td>Sweden</td>\n      <td>SWE</td>\n      <td>SE</td>\n      <td>2023-40</td>\n      <td>national</td>\n      <td>SE</td>\n      <td>Sweden</td>\n      <td>698.0</td>\n      <td>4834.0</td>\n      <td>10452326</td>\n      <td>46.248079</td>\n      <td>14.439388</td>\n      <td>TESSy COVID-19</td>\n    </tr>\n  </tbody>\n</table>\n<p>4679 rows × 13 columns</p>\n</div>"
                    },
                    "metadata": {},
                    "execution_count": 16,
                    "output_type": "execute_result"
                }
            ],
            "execution_count": 16
        },
        {
            "cell_type": "code",
            "source": [
                "df_datos4.drop(['country_code', 'region_name', 'region', 'country'], axis=1, inplace=True)"
            ],
            "metadata": {
                "id": "dbcd995b",
                "azdata_cell_guid": "f96cce32-1fb0-49bd-b55e-16f5d66e7174",
                "language": "python"
            },
            "outputs": [],
            "execution_count": 17
        },
        {
            "cell_type": "code",
            "source": [
                "df_datos4.info()"
            ],
            "metadata": {
                "scrolled": false,
                "id": "1f365bd9",
                "outputId": "27597b73-c9c4-465b-cdc6-84e5454031fb",
                "colab": {
                    "base_uri": "https://localhost:8080/"
                },
                "azdata_cell_guid": "bdbcca72-c483-4184-b8d2-4418a435ffb3",
                "language": "python"
            },
            "outputs": [
                {
                    "name": "stdout",
                    "text": "<class 'pandas.core.frame.DataFrame'>\nIndex: 4679 entries, 40 to 5909\nData columns (total 9 columns):\n #   Column               Non-Null Count  Dtype   \n---  ------               --------------  -----   \n 0   iso3                 4679 non-null   object  \n 1   year_week            4679 non-null   object  \n 2   level                4679 non-null   object  \n 3   new_cases            4679 non-null   float64 \n 4   tests_done           4679 non-null   float64 \n 5   population           4679 non-null   int64   \n 6   testing_rate         4679 non-null   float64 \n 7   positivity_rate      4679 non-null   float64 \n 8   testing_data_source  4679 non-null   category\ndtypes: category(1), float64(4), int64(1), object(3)\nmemory usage: 333.7+ KB\n",
                    "output_type": "stream"
                }
            ],
            "execution_count": 18
        },
        {
            "cell_type": "code",
            "source": [
                "df_datos4 = df_datos4.reindex(columns =['iso3','year_week','level','new_cases','tests_done','population','testing_rate','positivity_rate','testing_data_source'])"
            ],
            "metadata": {
                "language": "python",
                "azdata_cell_guid": "b973ec03-6b85-4086-aa05-0206d45992df"
            },
            "outputs": [],
            "execution_count": 19
        },
        {
            "cell_type": "code",
            "source": [
                "df_datos4.columns=['PAIS_ISO3','ANY_SEMANA','NIVEL','CASOS_NUEVOS','N_TESTS_REALIZADOS','POBLACION','RATIO_TESTS','RATIO_POSITIVO','FUENTES_TESTS']"
            ],
            "metadata": {
                "language": "python",
                "azdata_cell_guid": "8d3201b0-f16f-423e-8011-81a6e1dd2bab"
            },
            "outputs": [],
            "execution_count": 20
        },
        {
            "cell_type": "markdown",
            "source": [
                "# Establecemos **Conexión a BBDD y Carga de Ficheros** (Azure Data Studio)"
            ],
            "metadata": {
                "id": "20fa6a94",
                "azdata_cell_guid": "7edcbcc2-a68b-47d6-82ad-c8d0f349b629"
            },
            "attachments": {}
        },
        {
            "cell_type": "code",
            "source": [
                "import pyodbc\r\n",
                "server = 'servidortfmcovid-v2.database.windows.net'\r\n",
                "database = 'basedatostfmcovid-v2'\r\n",
                "username = 'admintfmcovid_v2'\r\n",
                "password = 'TFMcovid2023!_v2'\r\n",
                "cnxn = pyodbc.connect('DRIVER={SQL Server};SERVER='+server+';DATABASE='+database+';UID='+username+';PWD='+ password)\r\n",
                "cursor = cnxn.cursor()\r\n",
                "\r\n",
                "# Nombre de la tabla en la base de datos\r\n",
                "nombre_de_tabla = 'dbo.TESTING_COVID_EU'  # Reemplaza 'MiTabla' por el nombre de tu tabla\r\n",
                "\r\n",
                "# Eliminar registros\r\n",
                "cursor.execute(f\"DELETE FROM {nombre_de_tabla}\")\r\n",
                "\r\n",
                "# Inserta los datos del DataFrame en la tabla\r\n",
                "for index, row in df_datos4.iterrows():\r\n",
                "    insert_query = f\"INSERT INTO {nombre_de_tabla} ({', '.join(df_datos4.columns)}) VALUES ({', '.join(['?'] * len(df_datos4.columns))})\"\r\n",
                "    cursor.execute(insert_query, tuple(row))\r\n",
                "    cnxn.commit()\r\n",
                "\r\n",
                "# Cierra la conexión\r\n",
                "cnxn.close()"
            ],
            "metadata": {
                "language": "python",
                "azdata_cell_guid": "dd7a2b8d-e407-48bb-a95c-26ee3cd76feb"
            },
            "outputs": [],
            "execution_count": 21
        }
    ]
}