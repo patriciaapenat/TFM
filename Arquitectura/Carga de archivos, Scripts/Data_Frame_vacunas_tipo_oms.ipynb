{
    "metadata": {
        "kernelspec": {
            "name": "python3",
            "display_name": "Python 3",
            "language": "python"
        },
        "language_info": {
            "name": "python",
            "version": "3.8.10",
            "mimetype": "text/x-python",
            "codemirror_mode": {
                "name": "ipython",
                "version": 3
            },
            "pygments_lexer": "ipython3",
            "nbconvert_exporter": "python",
            "file_extension": ".py"
        },
        "colab": {
            "name": "Cleaning_data_Python.ipynb",
            "provenance": [],
            "include_colab_link": true
        }
    },
    "nbformat_minor": 2,
    "nbformat": 4,
    "cells": [
        {
            "cell_type": "markdown",
            "source": [
                "<a href=\"https://colab.research.google.com/github/patriciaapenat/TFM/blob/main/Notebooks/Data_Frame_vacunas_tipo_oms.ipynb\" target=\"_parent\"><img src=\"https://colab.research.google.com/assets/colab-badge.svg\" alt=\"Open In Colab\"/></a>"
            ],
            "metadata": {
                "id": "view-in-github",
                "colab_type": "text",
                "azdata_cell_guid": "f4533677-8871-435b-b233-96147c164f2c"
            }
        },
        {
            "cell_type": "markdown",
            "source": [
                "Clonación del Repositorio GitHub de TFM"
            ],
            "metadata": {
                "id": "eqRaga0aSbr0",
                "azdata_cell_guid": "8d2deed5-69d5-4f4a-a922-e88d2ceb37bf"
            }
        },
        {
            "cell_type": "code",
            "source": [
                "#! git clone https://github.com/patriciaapenat/TFM.git"
            ],
            "metadata": {
                "language": "python",
                "azdata_cell_guid": "ced9c698-7a6f-4b2b-ba44-3ac9548e8bb2"
            },
            "outputs": [],
            "execution_count": 1
        },
        {
            "cell_type": "code",
            "source": [
                "import pandas as pd\n",
                "import numpy as np"
            ],
            "metadata": {
                "id": "fHcQjk1xSQjB",
                "azdata_cell_guid": "07e4af3b-0b1e-47e0-b3f9-5617eae96a61",
                "language": "python"
            },
            "outputs": [],
            "execution_count": 2
        },
        {
            "cell_type": "markdown",
            "source": [
                "Instalo nuevas versiones del Módulo pycountry"
            ],
            "metadata": {
                "id": "dNPFU8pIUXck",
                "azdata_cell_guid": "c2416236-dc32-45ea-a7a8-80dead881ce0"
            }
        },
        {
            "cell_type": "code",
            "source": [
                "!pip install pycountry==20.7.3\n",
                "!pip install pycountry-convert==0.7.2"
            ],
            "metadata": {
                "id": "4NORMs-ZSQjF",
                "azdata_cell_guid": "e2ce6dc2-df4a-4688-b921-04a9e781bc2b",
                "language": "python"
            },
            "outputs": [
                {
                    "name": "stdout",
                    "text": "Requirement already satisfied: pycountry==20.7.3 in c:\\users\\joschava\\azuredatastudio-python\\lib\\site-packages (20.7.3)\n",
                    "output_type": "stream"
                },
                {
                    "name": "stderr",
                    "text": "WARNING: You are using pip version 21.1.1; however, version 23.3 is available.\nYou should consider upgrading via the 'c:\\users\\joschava\\azuredatastudio-python\\python.exe -m pip install --upgrade pip' command.\n",
                    "output_type": "stream"
                },
                {
                    "name": "stdout",
                    "text": "Requirement already satisfied: pycountry-convert==0.7.2 in c:\\users\\joschava\\azuredatastudio-python\\lib\\site-packages (0.7.2)\nRequirement already satisfied: pytest>=3.4.0 in c:\\users\\joschava\\azuredatastudio-python\\lib\\site-packages (from pycountry-convert==0.7.2) (7.4.2)\nRequirement already satisfied: pycountry>=16.11.27.1 in c:\\users\\joschava\\azuredatastudio-python\\lib\\site-packages (from pycountry-convert==0.7.2) (20.7.3)\nRequirement already satisfied: repoze.lru>=0.7 in c:\\users\\joschava\\azuredatastudio-python\\lib\\site-packages (from pycountry-convert==0.7.2) (0.7)\nRequirement already satisfied: pytest-mock>=1.6.3 in c:\\users\\joschava\\azuredatastudio-python\\lib\\site-packages (from pycountry-convert==0.7.2) (3.12.0)\nRequirement already satisfied: pytest-cov>=2.5.1 in c:\\users\\joschava\\azuredatastudio-python\\lib\\site-packages (from pycountry-convert==0.7.2) (4.1.0)\nRequirement already satisfied: wheel>=0.30.0 in c:\\users\\joschava\\azuredatastudio-python\\lib\\site-packages (from pycountry-convert==0.7.2) (0.41.2)\nRequirement already satisfied: pprintpp>=0.3.0 in c:\\users\\joschava\\azuredatastudio-python\\lib\\site-packages (from pycountry-convert==0.7.2) (0.4.0)\nRequirement already satisfied: pluggy<2.0,>=0.12 in c:\\users\\joschava\\azuredatastudio-python\\lib\\site-packages (from pytest>=3.4.0->pycountry-convert==0.7.2) (1.3.0)\nRequirement already satisfied: colorama in c:\\users\\joschava\\appdata\\roaming\\python\\python38\\site-packages (from pytest>=3.4.0->pycountry-convert==0.7.2) (0.4.6)\nRequirement already satisfied: tomli>=1.0.0 in c:\\users\\joschava\\azuredatastudio-python\\lib\\site-packages (from pytest>=3.4.0->pycountry-convert==0.7.2) (2.0.1)\nRequirement already satisfied: iniconfig in c:\\users\\joschava\\azuredatastudio-python\\lib\\site-packages (from pytest>=3.4.0->pycountry-convert==0.7.2) (2.0.0)\nRequirement already satisfied: exceptiongroup>=1.0.0rc8 in c:\\users\\joschava\\appdata\\roaming\\python\\python38\\site-packages (from pytest>=3.4.0->pycountry-convert==0.7.2) (1.1.3)\nRequirement already satisfied: packaging in c:\\users\\joschava\\appdata\\roaming\\python\\python38\\site-packages (from pytest>=3.4.0->pycountry-convert==0.7.2) (23.2)\nRequirement already satisfied: coverage[toml]>=5.2.1 in c:\\users\\joschava\\azuredatastudio-python\\lib\\site-packages (from pytest-cov>=2.5.1->pycountry-convert==0.7.2) (7.3.2)\n",
                    "output_type": "stream"
                },
                {
                    "name": "stderr",
                    "text": "WARNING: You are using pip version 21.1.1; however, version 23.3 is available.\nYou should consider upgrading via the 'c:\\users\\joschava\\azuredatastudio-python\\python.exe -m pip install --upgrade pip' command.\n",
                    "output_type": "stream"
                }
            ],
            "execution_count": 3
        },
        {
            "cell_type": "markdown",
            "source": [
                "# Acceso al dataset de la OMS que a partir de ahora se llamará **df_vacunation_Meta**\n",
                "\n"
            ],
            "metadata": {
                "id": "svOA53yrSQjE",
                "azdata_cell_guid": "92da94dc-1aa2-43ab-9b17-2d0a9f9a5374"
            }
        },
        {
            "cell_type": "code",
            "source": [
                "df_vacunation_Meta =pd.read_csv ('https://covid19.who.int/who-data/vaccination-metadata.csv')\n",
                "df_vacunation_Meta.head()"
            ],
            "metadata": {
                "colab": {
                    "base_uri": "https://localhost:8080/",
                    "height": 206
                },
                "id": "07n6rKQNSQjF",
                "outputId": "e0ab8eff-500f-4772-d9e4-eed1e15fff59",
                "azdata_cell_guid": "5211179d-a35c-4845-b55e-a46fbb13f44b",
                "language": "python"
            },
            "outputs": [
                {
                    "data": {
                        "text/plain": "  ISO3                 VACCINE_NAME PRODUCT_NAME     COMPANY_NAME  \\\n0  SHN        AstraZeneca - AZD1222      AZD1222      AstraZeneca   \n1  GRL          Moderna - mRNA-1273    mRNA-1273          Moderna   \n2  FRO          Moderna - mRNA-1273    mRNA-1273          Moderna   \n3  FRO  Pfizer BioNTech - Comirnaty    Comirnaty  Pfizer BioNTech   \n4  JEY          Moderna - mRNA-1273    mRNA-1273          Moderna   \n\n  AUTHORIZATION_DATE START_DATE  END_DATE  COMMENT DATA_SOURCE  \n0                NaN        NaN       NaN      NaN        OWID  \n1                NaN        NaN       NaN      NaN        OWID  \n2                NaN        NaN       NaN      NaN        OWID  \n3                NaN        NaN       NaN      NaN        OWID  \n4                NaN        NaN       NaN      NaN        OWID  ",
                        "text/html": "<div>\n<style scoped>\n    .dataframe tbody tr th:only-of-type {\n        vertical-align: middle;\n    }\n\n    .dataframe tbody tr th {\n        vertical-align: top;\n    }\n\n    .dataframe thead th {\n        text-align: right;\n    }\n</style>\n<table border=\"1\" class=\"dataframe\">\n  <thead>\n    <tr style=\"text-align: right;\">\n      <th></th>\n      <th>ISO3</th>\n      <th>VACCINE_NAME</th>\n      <th>PRODUCT_NAME</th>\n      <th>COMPANY_NAME</th>\n      <th>AUTHORIZATION_DATE</th>\n      <th>START_DATE</th>\n      <th>END_DATE</th>\n      <th>COMMENT</th>\n      <th>DATA_SOURCE</th>\n    </tr>\n  </thead>\n  <tbody>\n    <tr>\n      <th>0</th>\n      <td>SHN</td>\n      <td>AstraZeneca - AZD1222</td>\n      <td>AZD1222</td>\n      <td>AstraZeneca</td>\n      <td>NaN</td>\n      <td>NaN</td>\n      <td>NaN</td>\n      <td>NaN</td>\n      <td>OWID</td>\n    </tr>\n    <tr>\n      <th>1</th>\n      <td>GRL</td>\n      <td>Moderna - mRNA-1273</td>\n      <td>mRNA-1273</td>\n      <td>Moderna</td>\n      <td>NaN</td>\n      <td>NaN</td>\n      <td>NaN</td>\n      <td>NaN</td>\n      <td>OWID</td>\n    </tr>\n    <tr>\n      <th>2</th>\n      <td>FRO</td>\n      <td>Moderna - mRNA-1273</td>\n      <td>mRNA-1273</td>\n      <td>Moderna</td>\n      <td>NaN</td>\n      <td>NaN</td>\n      <td>NaN</td>\n      <td>NaN</td>\n      <td>OWID</td>\n    </tr>\n    <tr>\n      <th>3</th>\n      <td>FRO</td>\n      <td>Pfizer BioNTech - Comirnaty</td>\n      <td>Comirnaty</td>\n      <td>Pfizer BioNTech</td>\n      <td>NaN</td>\n      <td>NaN</td>\n      <td>NaN</td>\n      <td>NaN</td>\n      <td>OWID</td>\n    </tr>\n    <tr>\n      <th>4</th>\n      <td>JEY</td>\n      <td>Moderna - mRNA-1273</td>\n      <td>mRNA-1273</td>\n      <td>Moderna</td>\n      <td>NaN</td>\n      <td>NaN</td>\n      <td>NaN</td>\n      <td>NaN</td>\n      <td>OWID</td>\n    </tr>\n  </tbody>\n</table>\n</div>"
                    },
                    "metadata": {},
                    "execution_count": 4,
                    "output_type": "execute_result"
                }
            ],
            "execution_count": 4
        },
        {
            "cell_type": "code",
            "source": [
                "df_vacunation_Meta.shape"
            ],
            "metadata": {
                "colab": {
                    "base_uri": "https://localhost:8080/"
                },
                "id": "N3uUM2yGSQjF",
                "outputId": "37ee6421-7e81-4b74-e409-2f916cb10ee9",
                "azdata_cell_guid": "adc97cbf-a833-4ec4-81ae-a824df031de4",
                "language": "python"
            },
            "outputs": [
                {
                    "data": {
                        "text/plain": "(1103, 9)"
                    },
                    "metadata": {},
                    "execution_count": 5,
                    "output_type": "execute_result"
                }
            ],
            "execution_count": 5
        },
        {
            "cell_type": "code",
            "source": [
                "df_vacunation_Meta.info()"
            ],
            "metadata": {
                "colab": {
                    "base_uri": "https://localhost:8080/"
                },
                "id": "BjVCmNhpSQjG",
                "outputId": "60eeaa22-ee75-418a-d407-89756a055696",
                "azdata_cell_guid": "92b79aba-0604-4caa-882c-b65ff38bea25",
                "language": "python"
            },
            "outputs": [
                {
                    "name": "stdout",
                    "text": "<class 'pandas.core.frame.DataFrame'>\nRangeIndex: 1103 entries, 0 to 1102\nData columns (total 9 columns):\n #   Column              Non-Null Count  Dtype  \n---  ------              --------------  -----  \n 0   ISO3                1103 non-null   object \n 1   VACCINE_NAME        1103 non-null   object \n 2   PRODUCT_NAME        1102 non-null   object \n 3   COMPANY_NAME        1054 non-null   object \n 4   AUTHORIZATION_DATE  490 non-null    object \n 5   START_DATE          817 non-null    object \n 6   END_DATE            0 non-null      float64\n 7   COMMENT             0 non-null      float64\n 8   DATA_SOURCE         1103 non-null   object \ndtypes: float64(2), object(7)\nmemory usage: 77.7+ KB\n",
                    "output_type": "stream"
                }
            ],
            "execution_count": 6
        },
        {
            "cell_type": "markdown",
            "source": [
                "Transformamos los **campos de fecha** que aparecen con tipo de datos cadena de caracteres a formato fecha<br>\n",
                "\n",
                "1.- AUTHORIZATION_DATE<br>\n",
                "2.- START_DATE<br>\n",
                "3.- END_DATE<br>"
            ],
            "metadata": {
                "id": "PVCf8GGDSQjG",
                "azdata_cell_guid": "9b869fd0-a688-4d35-b419-25cfbf5c64e0"
            }
        },
        {
            "cell_type": "code",
            "source": [
                "df_vacunation_Meta['AUTHORIZATION_DATE']= pd.to_datetime(df_vacunation_Meta['AUTHORIZATION_DATE']).dt.strftime('%d-%m-%Y')\n",
                "df_vacunation_Meta['START_DATE']= pd.to_datetime(df_vacunation_Meta['START_DATE']).dt.strftime('%d-%m-%Y')\n",
                "df_vacunation_Meta['END_DATE']= pd.to_datetime(df_vacunation_Meta['END_DATE']).dt.strftime('%d-%m-%Y')"
            ],
            "metadata": {
                "id": "w5VpLWmwSQjG",
                "azdata_cell_guid": "1158b581-04f2-46b1-bab2-726f7a5bf114",
                "language": "python"
            },
            "outputs": [],
            "execution_count": 7
        },
        {
            "cell_type": "markdown",
            "source": [
                "Verificamos que se han modificado el tipo de datos en ambas variables de fecha"
            ],
            "metadata": {
                "id": "o7hsV7CISQjG",
                "azdata_cell_guid": "d52c6e9b-8f63-474b-a866-645df928f74f"
            }
        },
        {
            "cell_type": "code",
            "source": [
                "df_vacunation_Meta.info()"
            ],
            "metadata": {
                "scrolled": true,
                "colab": {
                    "base_uri": "https://localhost:8080/"
                },
                "id": "yQP8q0SpSQjG",
                "outputId": "cf444443-2fd7-4825-8081-446fc4bad808",
                "azdata_cell_guid": "5fefa851-0abb-4a80-9359-5db396d2cc74",
                "language": "python"
            },
            "outputs": [
                {
                    "name": "stdout",
                    "text": "<class 'pandas.core.frame.DataFrame'>\nRangeIndex: 1103 entries, 0 to 1102\nData columns (total 9 columns):\n #   Column              Non-Null Count  Dtype  \n---  ------              --------------  -----  \n 0   ISO3                1103 non-null   object \n 1   VACCINE_NAME        1103 non-null   object \n 2   PRODUCT_NAME        1102 non-null   object \n 3   COMPANY_NAME        1054 non-null   object \n 4   AUTHORIZATION_DATE  490 non-null    object \n 5   START_DATE          817 non-null    object \n 6   END_DATE            0 non-null      object \n 7   COMMENT             0 non-null      float64\n 8   DATA_SOURCE         1103 non-null   object \ndtypes: float64(1), object(8)\nmemory usage: 77.7+ KB\n",
                    "output_type": "stream"
                }
            ],
            "execution_count": 8
        },
        {
            "cell_type": "markdown",
            "source": [
                "Transformamos los **campos numéricos** que aparecen como tipo de datos cadena de caracteres \"Object\" a formato numérico <br>"
            ],
            "metadata": {
                "id": "QMwBv1O7SQjG",
                "azdata_cell_guid": "e6629c38-7768-44e7-95d9-15c4df41dc28"
            }
        },
        {
            "cell_type": "code",
            "source": [
                "#df_vacunation['TOTAL_VACCINATIONS']= pd.to_numeric(df_vacunation['TOTAL_VACCINATIONS'], downcast='signed')"
            ],
            "metadata": {
                "id": "GE82jwvPSQjH",
                "azdata_cell_guid": "37349647-10ff-4271-942b-58b50733d397",
                "language": "python"
            },
            "outputs": [],
            "execution_count": 9
        },
        {
            "cell_type": "markdown",
            "source": [
                "Verificamos que se ha modificado el tipo de datos a numérico."
            ],
            "metadata": {
                "id": "7yd6tuPpSQjH",
                "azdata_cell_guid": "b31b1a84-1ce1-4bea-87bb-a89efbd06106"
            }
        },
        {
            "cell_type": "code",
            "source": [
                "df_vacunation_Meta.info()"
            ],
            "metadata": {
                "colab": {
                    "base_uri": "https://localhost:8080/"
                },
                "id": "BM75RrcLSQjH",
                "outputId": "15fb688a-8416-4d67-f64e-a67254761426",
                "azdata_cell_guid": "abff95e8-2b24-4d82-9cc1-d70b92e86eee",
                "language": "python"
            },
            "outputs": [
                {
                    "name": "stdout",
                    "text": "<class 'pandas.core.frame.DataFrame'>\nRangeIndex: 1103 entries, 0 to 1102\nData columns (total 9 columns):\n #   Column              Non-Null Count  Dtype  \n---  ------              --------------  -----  \n 0   ISO3                1103 non-null   object \n 1   VACCINE_NAME        1103 non-null   object \n 2   PRODUCT_NAME        1102 non-null   object \n 3   COMPANY_NAME        1054 non-null   object \n 4   AUTHORIZATION_DATE  490 non-null    object \n 5   START_DATE          817 non-null    object \n 6   END_DATE            0 non-null      object \n 7   COMMENT             0 non-null      float64\n 8   DATA_SOURCE         1103 non-null   object \ndtypes: float64(1), object(8)\nmemory usage: 77.7+ KB\n",
                    "output_type": "stream"
                }
            ],
            "execution_count": 10
        },
        {
            "cell_type": "markdown",
            "source": [
                "Observamos que no hay **ningún valor duplicado**"
            ],
            "metadata": {
                "id": "pdqm8pYPSQjH",
                "azdata_cell_guid": "008baba6-3701-4ab2-a03e-837958514429"
            }
        },
        {
            "cell_type": "code",
            "source": [
                "df_vacunation_Meta.duplicated().values.any()"
            ],
            "metadata": {
                "colab": {
                    "base_uri": "https://localhost:8080/"
                },
                "id": "-tR-jxG_SQjH",
                "outputId": "b288260e-bf55-40f1-9f96-fe3f4ffee47f",
                "azdata_cell_guid": "71cef028-0cf9-4904-ad42-f52059d13321",
                "language": "python"
            },
            "outputs": [
                {
                    "data": {
                        "text/plain": "False"
                    },
                    "metadata": {},
                    "execution_count": 11,
                    "output_type": "execute_result"
                }
            ],
            "execution_count": 11
        },
        {
            "cell_type": "markdown",
            "source": [
                "Elimino las variables **END_DATE** y **COMMENT** por estar vacías en su totalidad"
            ],
            "metadata": {
                "id": "2fkaE2R3T2Tz",
                "azdata_cell_guid": "59c4b090-b850-480c-ab20-df4f1b613436"
            }
        },
        {
            "cell_type": "code",
            "source": [
                "df_vacunation= df_vacunation_Meta.drop(['END_DATE','COMMENT'], axis=1, inplace= True)"
            ],
            "metadata": {
                "id": "h2aXzZy0SQjI",
                "azdata_cell_guid": "df85cf78-ee91-45b2-a886-26b52449440d",
                "language": "python"
            },
            "outputs": [],
            "execution_count": 12
        },
        {
            "cell_type": "markdown",
            "source": [
                "Observamos que hay **944 valores nulos**"
            ],
            "metadata": {
                "id": "aZekvGR5SQjI",
                "azdata_cell_guid": "904d6300-7bfd-4b29-9164-744f0ce7f249"
            }
        },
        {
            "cell_type": "code",
            "source": [
                "df_vacunation_Meta.isnull().values.sum()"
            ],
            "metadata": {
                "scrolled": true,
                "colab": {
                    "base_uri": "https://localhost:8080/"
                },
                "id": "P-wwtIlMSQjI",
                "outputId": "9cf1d6d3-5e67-4bfb-e708-2ac6adc0bd04",
                "azdata_cell_guid": "a1dda23e-cb61-4a46-9cc9-4d23a80d4975",
                "language": "python"
            },
            "outputs": [
                {
                    "data": {
                        "text/plain": "949"
                    },
                    "metadata": {},
                    "execution_count": 13,
                    "output_type": "execute_result"
                }
            ],
            "execution_count": 13
        },
        {
            "cell_type": "markdown",
            "source": [
                "Identificamos en que **Variable** y la **suma de valores nulos**"
            ],
            "metadata": {
                "id": "PEOpshZNSQjI",
                "azdata_cell_guid": "b4874e29-fee5-49ab-895e-8d4f4bd61b5f"
            }
        },
        {
            "cell_type": "code",
            "source": [
                "df_vacunation_Meta.isnull().sum()"
            ],
            "metadata": {
                "scrolled": false,
                "colab": {
                    "base_uri": "https://localhost:8080/"
                },
                "id": "POZy-MYaSQjI",
                "outputId": "4accc608-c6f1-4719-fa29-d5a86d99c514",
                "azdata_cell_guid": "f600170e-bdbb-4962-8fce-c5c28c237eb0",
                "language": "python"
            },
            "outputs": [
                {
                    "data": {
                        "text/plain": "ISO3                    0\nVACCINE_NAME            0\nPRODUCT_NAME            1\nCOMPANY_NAME           49\nAUTHORIZATION_DATE    613\nSTART_DATE            286\nDATA_SOURCE             0\ndtype: int64"
                    },
                    "metadata": {},
                    "execution_count": 14,
                    "output_type": "execute_result"
                }
            ],
            "execution_count": 14
        },
        {
            "cell_type": "markdown",
            "source": [
                "Identificamos **el/los registros** donde se ecuentran los **valores nulos**<br>\n",
                "\n",
                "1.-PRODUCT_NAME<br>\n",
                "2.-COMPANY_NAME<br>\n",
                "3.-AUTHORIZATION_DATE<br>\n",
                "4.-START_DATE<br>"
            ],
            "metadata": {
                "id": "bkqco2V5SQjJ",
                "azdata_cell_guid": "2b2be887-212c-4f11-b2f1-1e2b3f6fed9c"
            }
        },
        {
            "cell_type": "code",
            "source": [
                "df_vacunation_Meta[df_vacunation_Meta['PRODUCT_NAME'].isnull()]"
            ],
            "metadata": {
                "colab": {
                    "base_uri": "https://localhost:8080/",
                    "height": 81
                },
                "id": "HBFwbExvSQjJ",
                "outputId": "5b976ee5-8ecb-4819-bb7e-4d4b992bb350",
                "azdata_cell_guid": "aa576f2c-13b6-4bca-80c8-fc43f0ac9f7c",
                "language": "python"
            },
            "outputs": [
                {
                    "data": {
                        "text/plain": "   ISO3 VACCINE_NAME PRODUCT_NAME COMPANY_NAME AUTHORIZATION_DATE START_DATE  \\\n12  TUR     Turkovac          NaN          NaN                NaN        NaN   \n\n   DATA_SOURCE  \n12        OWID  ",
                        "text/html": "<div>\n<style scoped>\n    .dataframe tbody tr th:only-of-type {\n        vertical-align: middle;\n    }\n\n    .dataframe tbody tr th {\n        vertical-align: top;\n    }\n\n    .dataframe thead th {\n        text-align: right;\n    }\n</style>\n<table border=\"1\" class=\"dataframe\">\n  <thead>\n    <tr style=\"text-align: right;\">\n      <th></th>\n      <th>ISO3</th>\n      <th>VACCINE_NAME</th>\n      <th>PRODUCT_NAME</th>\n      <th>COMPANY_NAME</th>\n      <th>AUTHORIZATION_DATE</th>\n      <th>START_DATE</th>\n      <th>DATA_SOURCE</th>\n    </tr>\n  </thead>\n  <tbody>\n    <tr>\n      <th>12</th>\n      <td>TUR</td>\n      <td>Turkovac</td>\n      <td>NaN</td>\n      <td>NaN</td>\n      <td>NaN</td>\n      <td>NaN</td>\n      <td>OWID</td>\n    </tr>\n  </tbody>\n</table>\n</div>"
                    },
                    "metadata": {},
                    "execution_count": 15,
                    "output_type": "execute_result"
                }
            ],
            "execution_count": 15
        },
        {
            "cell_type": "code",
            "source": [
                "df_vacunation_Meta[df_vacunation_Meta['COMPANY_NAME'].isnull()]"
            ],
            "metadata": {
                "colab": {
                    "base_uri": "https://localhost:8080/",
                    "height": 1000
                },
                "id": "9DPdtuiRSQjJ",
                "outputId": "a2d97591-9c8b-4897-f4e1-b2c2ec19ffd1",
                "azdata_cell_guid": "14ae2a3d-4a73-41e9-aa51-aab70cd789d3",
                "language": "python"
            },
            "outputs": [
                {
                    "data": {
                        "text/plain": "     ISO3                                       VACCINE_NAME  \\\n12    TUR                                           Turkovac   \n1055  SYC                                Julphar - Hayat-Vax   \n1056  PRY                                Julphar - Hayat-Vax   \n1057  PHL                                Julphar - Hayat-Vax   \n1058  IRN                            Shifa - COVIran Barakat   \n1059  MCO                                  Novavax - Covavax   \n1060  THA                                      SII - Covovax   \n1061  IND                                      SII - Covovax   \n1062  FRA  Moderna – Spikevax Bivalent Original/Omicron BA.1   \n1063  LUX  Moderna – Spikevax Bivalent Original/Omicron BA.1   \n1064  ITA  Moderna – Spikevax Bivalent Original/Omicron BA.1   \n1065  LVA  Moderna – Spikevax Bivalent Original/Omicron BA.1   \n1066  AUT  Moderna – Spikevax Bivalent Original/Omicron BA.1   \n1067  EST  Moderna – Spikevax Bivalent Original/Omicron BA.1   \n1068  PRT  Moderna – Spikevax Bivalent Original/Omicron BA.1   \n1069  CZE  Moderna – Spikevax Bivalent Original/Omicron BA.1   \n1070  CHE  Moderna – Spikevax Bivalent Original/Omicron BA.1   \n1071  FRA  Moderna – Spikevax Bivalent Original/Omicron B...   \n1072  ITA  Moderna – Spikevax Bivalent Original/Omicron B...   \n1073  EST  Moderna – Spikevax Bivalent Original/Omicron B...   \n1074  PRT  Moderna – Spikevax Bivalent Original/Omicron B...   \n1075  CZE  Moderna – Spikevax Bivalent Original/Omicron B...   \n1076  LUX  Pfizer BioNTech - Comirnaty Bivalent Original/...   \n1077  HUN  Pfizer BioNTech - Comirnaty Bivalent Original/...   \n1078  ITA  Pfizer BioNTech - Comirnaty Bivalent Original/...   \n1079  LVA  Pfizer BioNTech - Comirnaty Bivalent Original/...   \n1080  GRC  Pfizer BioNTech - Comirnaty Bivalent Original/...   \n1081  AUT  Pfizer BioNTech - Comirnaty Bivalent Original/...   \n1082  EST  Pfizer BioNTech - Comirnaty Bivalent Original/...   \n1083  PRT  Pfizer BioNTech - Comirnaty Bivalent Original/...   \n1084  CZE  Pfizer BioNTech - Comirnaty Bivalent Original/...   \n1085  CHE  Pfizer BioNTech - Comirnaty Bivalent Original/...   \n1086  FRA  Pfizer BioNTech - Comirnaty Bivalent Original/...   \n1087  LUX  Pfizer BioNTech - Comirnaty Bivalent Original/...   \n1088  AND  Pfizer BioNTech - Comirnaty Bivalent Original/...   \n1089  ITA  Pfizer BioNTech - Comirnaty Bivalent Original/...   \n1090  LVA  Pfizer BioNTech - Comirnaty Bivalent Original/...   \n1091  GRC  Pfizer BioNTech - Comirnaty Bivalent Original/...   \n1092  AUT  Pfizer BioNTech - Comirnaty Bivalent Original/...   \n1093  ALB  Pfizer BioNTech - Comirnaty Bivalent Original/...   \n1094  EST  Pfizer BioNTech - Comirnaty Bivalent Original/...   \n1095  PRT  Pfizer BioNTech - Comirnaty Bivalent Original/...   \n1096  CZE  Pfizer BioNTech - Comirnaty Bivalent Original/...   \n1097  DEU  Moderna – Spikevax Bivalent Original/Omicron  ...   \n1098  TJK  Moderna – Spikevax Bivalent Original/Omicron  ...   \n1099  SVN  Moderna – Spikevax Bivalent Original/Omicron  ...   \n1100  DEU  Pfizer BioNTech - Comirnaty Bivalent Original/...   \n1101  TJK  Pfizer BioNTech - Comirnaty Bivalent Original/...   \n1102  SVN  Pfizer BioNTech - Comirnaty Bivalent Original/...   \n\n                                           PRODUCT_NAME COMPANY_NAME  \\\n12                                                  NaN          NaN   \n1055                                          Hayat-Vax          NaN   \n1056                                          Hayat-Vax          NaN   \n1057                                          Hayat-Vax          NaN   \n1058                                    COVIran Barakat          NaN   \n1059                                            Covavax          NaN   \n1060                                            Covovax          NaN   \n1061                                            Covovax          NaN   \n1062            Spikevax Bivalent Original/Omicron BA.1          NaN   \n1063            Spikevax Bivalent Original/Omicron BA.1          NaN   \n1064            Spikevax Bivalent Original/Omicron BA.1          NaN   \n1065            Spikevax Bivalent Original/Omicron BA.1          NaN   \n1066            Spikevax Bivalent Original/Omicron BA.1          NaN   \n1067            Spikevax Bivalent Original/Omicron BA.1          NaN   \n1068            Spikevax Bivalent Original/Omicron BA.1          NaN   \n1069            Spikevax Bivalent Original/Omicron BA.1          NaN   \n1070            Spikevax Bivalent Original/Omicron BA.1          NaN   \n1071       Spikevax Bivalent Original/Omicron BA.4/BA.5          NaN   \n1072       Spikevax Bivalent Original/Omicron BA.4/BA.5          NaN   \n1073       Spikevax Bivalent Original/Omicron BA.4/BA.5          NaN   \n1074       Spikevax Bivalent Original/Omicron BA.4/BA.5          NaN   \n1075       Spikevax Bivalent Original/Omicron BA.4/BA.5          NaN   \n1076           Comirnaty Bivalent Original/Omicron BA.1          NaN   \n1077           Comirnaty Bivalent Original/Omicron BA.1          NaN   \n1078           Comirnaty Bivalent Original/Omicron BA.1          NaN   \n1079           Comirnaty Bivalent Original/Omicron BA.1          NaN   \n1080           Comirnaty Bivalent Original/Omicron BA.1          NaN   \n1081           Comirnaty Bivalent Original/Omicron BA.1          NaN   \n1082           Comirnaty Bivalent Original/Omicron BA.1          NaN   \n1083           Comirnaty Bivalent Original/Omicron BA.1          NaN   \n1084           Comirnaty Bivalent Original/Omicron BA.1          NaN   \n1085           Comirnaty Bivalent Original/Omicron BA.1          NaN   \n1086      Comirnaty Bivalent Original/Omicron BA.4/BA.5          NaN   \n1087      Comirnaty Bivalent Original/Omicron BA.4/BA.5          NaN   \n1088      Comirnaty Bivalent Original/Omicron BA.4/BA.5          NaN   \n1089      Comirnaty Bivalent Original/Omicron BA.4/BA.5          NaN   \n1090      Comirnaty Bivalent Original/Omicron BA.4/BA.5          NaN   \n1091      Comirnaty Bivalent Original/Omicron BA.4/BA.5          NaN   \n1092      Comirnaty Bivalent Original/Omicron BA.4/BA.5          NaN   \n1093      Comirnaty Bivalent Original/Omicron BA.4/BA.5          NaN   \n1094      Comirnaty Bivalent Original/Omicron BA.4/BA.5          NaN   \n1095      Comirnaty Bivalent Original/Omicron BA.4/BA.5          NaN   \n1096      Comirnaty Bivalent Original/Omicron BA.4/BA.5          NaN   \n1097  Moderna – Spikevax Bivalent Original/Omicron  ...          NaN   \n1098  Moderna – Spikevax Bivalent Original/Omicron  ...          NaN   \n1099  Moderna – Spikevax Bivalent Original/Omicron  ...          NaN   \n1100  Pfizer BioNTech - Comirnaty Bivalent Original/...          NaN   \n1101  Pfizer BioNTech - Comirnaty Bivalent Original/...          NaN   \n1102  Pfizer BioNTech - Comirnaty Bivalent Original/...          NaN   \n\n     AUTHORIZATION_DATE  START_DATE DATA_SOURCE  \n12                  NaN         NaN        OWID  \n1055                NaN         NaN   REPORTING  \n1056         30-12-2020  24-05-2021   REPORTING  \n1057         11-08-2021  25-08-2021   REPORTING  \n1058                NaN         NaN   REPORTING  \n1059                NaN  30-03-2022   REPORTING  \n1060         27-04-2022         NaN   REPORTING  \n1061                NaN         NaN   REPORTING  \n1062                NaN  28-09-2022   REPORTING  \n1063                NaN  14-09-2022   REPORTING  \n1064                NaN  09-02-2022   REPORTING  \n1065                NaN  14-09-2022   REPORTING  \n1066                NaN  10-02-2021   REPORTING  \n1067                NaN  12-10-2022   REPORTING  \n1068                NaN  31-03-2021   REPORTING  \n1069                NaN  23-11-2022   REPORTING  \n1070                NaN  30-12-2020   REPORTING  \n1071                NaN  01-02-2023   REPORTING  \n1072                NaN  14-12-2022   REPORTING  \n1073                NaN  18-01-2023   REPORTING  \n1074                NaN  04-08-2021   REPORTING  \n1075                NaN  25-01-2023   REPORTING  \n1076                NaN  07-09-2022   REPORTING  \n1077                NaN  07-09-2022   REPORTING  \n1078                NaN  05-01-2022   REPORTING  \n1079                NaN  14-09-2022   REPORTING  \n1080                NaN  28-09-2022   REPORTING  \n1081                NaN  30-12-2020   REPORTING  \n1082                NaN  28-09-2022   REPORTING  \n1083                NaN  30-12-2020   REPORTING  \n1084                NaN  14-09-2022   REPORTING  \n1085                NaN  13-01-2021   REPORTING  \n1086                NaN  05-10-2022   REPORTING  \n1087                NaN  12-10-2022   REPORTING  \n1088                NaN  22-03-2023   REPORTING  \n1089                NaN  28-09-2022   REPORTING  \n1090                NaN  05-10-2022   REPORTING  \n1091                NaN  05-10-2022   REPORTING  \n1092                NaN  13-01-2021   REPORTING  \n1093                NaN  29-03-2023   REPORTING  \n1094                NaN  28-09-2022   REPORTING  \n1095                NaN  10-02-2021   REPORTING  \n1096                NaN  05-10-2022   REPORTING  \n1097                NaN  14-09-2022   REPORTING  \n1098                NaN  15-03-2023   REPORTING  \n1099                NaN  30-11-2022   REPORTING  \n1100                NaN  07-09-2022   REPORTING  \n1101                NaN  19-04-2023   REPORTING  \n1102                NaN  03-08-2022   REPORTING  ",
                        "text/html": "<div>\n<style scoped>\n    .dataframe tbody tr th:only-of-type {\n        vertical-align: middle;\n    }\n\n    .dataframe tbody tr th {\n        vertical-align: top;\n    }\n\n    .dataframe thead th {\n        text-align: right;\n    }\n</style>\n<table border=\"1\" class=\"dataframe\">\n  <thead>\n    <tr style=\"text-align: right;\">\n      <th></th>\n      <th>ISO3</th>\n      <th>VACCINE_NAME</th>\n      <th>PRODUCT_NAME</th>\n      <th>COMPANY_NAME</th>\n      <th>AUTHORIZATION_DATE</th>\n      <th>START_DATE</th>\n      <th>DATA_SOURCE</th>\n    </tr>\n  </thead>\n  <tbody>\n    <tr>\n      <th>12</th>\n      <td>TUR</td>\n      <td>Turkovac</td>\n      <td>NaN</td>\n      <td>NaN</td>\n      <td>NaN</td>\n      <td>NaN</td>\n      <td>OWID</td>\n    </tr>\n    <tr>\n      <th>1055</th>\n      <td>SYC</td>\n      <td>Julphar - Hayat-Vax</td>\n      <td>Hayat-Vax</td>\n      <td>NaN</td>\n      <td>NaN</td>\n      <td>NaN</td>\n      <td>REPORTING</td>\n    </tr>\n    <tr>\n      <th>1056</th>\n      <td>PRY</td>\n      <td>Julphar - Hayat-Vax</td>\n      <td>Hayat-Vax</td>\n      <td>NaN</td>\n      <td>30-12-2020</td>\n      <td>24-05-2021</td>\n      <td>REPORTING</td>\n    </tr>\n    <tr>\n      <th>1057</th>\n      <td>PHL</td>\n      <td>Julphar - Hayat-Vax</td>\n      <td>Hayat-Vax</td>\n      <td>NaN</td>\n      <td>11-08-2021</td>\n      <td>25-08-2021</td>\n      <td>REPORTING</td>\n    </tr>\n    <tr>\n      <th>1058</th>\n      <td>IRN</td>\n      <td>Shifa - COVIran Barakat</td>\n      <td>COVIran Barakat</td>\n      <td>NaN</td>\n      <td>NaN</td>\n      <td>NaN</td>\n      <td>REPORTING</td>\n    </tr>\n    <tr>\n      <th>1059</th>\n      <td>MCO</td>\n      <td>Novavax - Covavax</td>\n      <td>Covavax</td>\n      <td>NaN</td>\n      <td>NaN</td>\n      <td>30-03-2022</td>\n      <td>REPORTING</td>\n    </tr>\n    <tr>\n      <th>1060</th>\n      <td>THA</td>\n      <td>SII - Covovax</td>\n      <td>Covovax</td>\n      <td>NaN</td>\n      <td>27-04-2022</td>\n      <td>NaN</td>\n      <td>REPORTING</td>\n    </tr>\n    <tr>\n      <th>1061</th>\n      <td>IND</td>\n      <td>SII - Covovax</td>\n      <td>Covovax</td>\n      <td>NaN</td>\n      <td>NaN</td>\n      <td>NaN</td>\n      <td>REPORTING</td>\n    </tr>\n    <tr>\n      <th>1062</th>\n      <td>FRA</td>\n      <td>Moderna – Spikevax Bivalent Original/Omicron BA.1</td>\n      <td>Spikevax Bivalent Original/Omicron BA.1</td>\n      <td>NaN</td>\n      <td>NaN</td>\n      <td>28-09-2022</td>\n      <td>REPORTING</td>\n    </tr>\n    <tr>\n      <th>1063</th>\n      <td>LUX</td>\n      <td>Moderna – Spikevax Bivalent Original/Omicron BA.1</td>\n      <td>Spikevax Bivalent Original/Omicron BA.1</td>\n      <td>NaN</td>\n      <td>NaN</td>\n      <td>14-09-2022</td>\n      <td>REPORTING</td>\n    </tr>\n    <tr>\n      <th>1064</th>\n      <td>ITA</td>\n      <td>Moderna – Spikevax Bivalent Original/Omicron BA.1</td>\n      <td>Spikevax Bivalent Original/Omicron BA.1</td>\n      <td>NaN</td>\n      <td>NaN</td>\n      <td>09-02-2022</td>\n      <td>REPORTING</td>\n    </tr>\n    <tr>\n      <th>1065</th>\n      <td>LVA</td>\n      <td>Moderna – Spikevax Bivalent Original/Omicron BA.1</td>\n      <td>Spikevax Bivalent Original/Omicron BA.1</td>\n      <td>NaN</td>\n      <td>NaN</td>\n      <td>14-09-2022</td>\n      <td>REPORTING</td>\n    </tr>\n    <tr>\n      <th>1066</th>\n      <td>AUT</td>\n      <td>Moderna – Spikevax Bivalent Original/Omicron BA.1</td>\n      <td>Spikevax Bivalent Original/Omicron BA.1</td>\n      <td>NaN</td>\n      <td>NaN</td>\n      <td>10-02-2021</td>\n      <td>REPORTING</td>\n    </tr>\n    <tr>\n      <th>1067</th>\n      <td>EST</td>\n      <td>Moderna – Spikevax Bivalent Original/Omicron BA.1</td>\n      <td>Spikevax Bivalent Original/Omicron BA.1</td>\n      <td>NaN</td>\n      <td>NaN</td>\n      <td>12-10-2022</td>\n      <td>REPORTING</td>\n    </tr>\n    <tr>\n      <th>1068</th>\n      <td>PRT</td>\n      <td>Moderna – Spikevax Bivalent Original/Omicron BA.1</td>\n      <td>Spikevax Bivalent Original/Omicron BA.1</td>\n      <td>NaN</td>\n      <td>NaN</td>\n      <td>31-03-2021</td>\n      <td>REPORTING</td>\n    </tr>\n    <tr>\n      <th>1069</th>\n      <td>CZE</td>\n      <td>Moderna – Spikevax Bivalent Original/Omicron BA.1</td>\n      <td>Spikevax Bivalent Original/Omicron BA.1</td>\n      <td>NaN</td>\n      <td>NaN</td>\n      <td>23-11-2022</td>\n      <td>REPORTING</td>\n    </tr>\n    <tr>\n      <th>1070</th>\n      <td>CHE</td>\n      <td>Moderna – Spikevax Bivalent Original/Omicron BA.1</td>\n      <td>Spikevax Bivalent Original/Omicron BA.1</td>\n      <td>NaN</td>\n      <td>NaN</td>\n      <td>30-12-2020</td>\n      <td>REPORTING</td>\n    </tr>\n    <tr>\n      <th>1071</th>\n      <td>FRA</td>\n      <td>Moderna – Spikevax Bivalent Original/Omicron B...</td>\n      <td>Spikevax Bivalent Original/Omicron BA.4/BA.5</td>\n      <td>NaN</td>\n      <td>NaN</td>\n      <td>01-02-2023</td>\n      <td>REPORTING</td>\n    </tr>\n    <tr>\n      <th>1072</th>\n      <td>ITA</td>\n      <td>Moderna – Spikevax Bivalent Original/Omicron B...</td>\n      <td>Spikevax Bivalent Original/Omicron BA.4/BA.5</td>\n      <td>NaN</td>\n      <td>NaN</td>\n      <td>14-12-2022</td>\n      <td>REPORTING</td>\n    </tr>\n    <tr>\n      <th>1073</th>\n      <td>EST</td>\n      <td>Moderna – Spikevax Bivalent Original/Omicron B...</td>\n      <td>Spikevax Bivalent Original/Omicron BA.4/BA.5</td>\n      <td>NaN</td>\n      <td>NaN</td>\n      <td>18-01-2023</td>\n      <td>REPORTING</td>\n    </tr>\n    <tr>\n      <th>1074</th>\n      <td>PRT</td>\n      <td>Moderna – Spikevax Bivalent Original/Omicron B...</td>\n      <td>Spikevax Bivalent Original/Omicron BA.4/BA.5</td>\n      <td>NaN</td>\n      <td>NaN</td>\n      <td>04-08-2021</td>\n      <td>REPORTING</td>\n    </tr>\n    <tr>\n      <th>1075</th>\n      <td>CZE</td>\n      <td>Moderna – Spikevax Bivalent Original/Omicron B...</td>\n      <td>Spikevax Bivalent Original/Omicron BA.4/BA.5</td>\n      <td>NaN</td>\n      <td>NaN</td>\n      <td>25-01-2023</td>\n      <td>REPORTING</td>\n    </tr>\n    <tr>\n      <th>1076</th>\n      <td>LUX</td>\n      <td>Pfizer BioNTech - Comirnaty Bivalent Original/...</td>\n      <td>Comirnaty Bivalent Original/Omicron BA.1</td>\n      <td>NaN</td>\n      <td>NaN</td>\n      <td>07-09-2022</td>\n      <td>REPORTING</td>\n    </tr>\n    <tr>\n      <th>1077</th>\n      <td>HUN</td>\n      <td>Pfizer BioNTech - Comirnaty Bivalent Original/...</td>\n      <td>Comirnaty Bivalent Original/Omicron BA.1</td>\n      <td>NaN</td>\n      <td>NaN</td>\n      <td>07-09-2022</td>\n      <td>REPORTING</td>\n    </tr>\n    <tr>\n      <th>1078</th>\n      <td>ITA</td>\n      <td>Pfizer BioNTech - Comirnaty Bivalent Original/...</td>\n      <td>Comirnaty Bivalent Original/Omicron BA.1</td>\n      <td>NaN</td>\n      <td>NaN</td>\n      <td>05-01-2022</td>\n      <td>REPORTING</td>\n    </tr>\n    <tr>\n      <th>1079</th>\n      <td>LVA</td>\n      <td>Pfizer BioNTech - Comirnaty Bivalent Original/...</td>\n      <td>Comirnaty Bivalent Original/Omicron BA.1</td>\n      <td>NaN</td>\n      <td>NaN</td>\n      <td>14-09-2022</td>\n      <td>REPORTING</td>\n    </tr>\n    <tr>\n      <th>1080</th>\n      <td>GRC</td>\n      <td>Pfizer BioNTech - Comirnaty Bivalent Original/...</td>\n      <td>Comirnaty Bivalent Original/Omicron BA.1</td>\n      <td>NaN</td>\n      <td>NaN</td>\n      <td>28-09-2022</td>\n      <td>REPORTING</td>\n    </tr>\n    <tr>\n      <th>1081</th>\n      <td>AUT</td>\n      <td>Pfizer BioNTech - Comirnaty Bivalent Original/...</td>\n      <td>Comirnaty Bivalent Original/Omicron BA.1</td>\n      <td>NaN</td>\n      <td>NaN</td>\n      <td>30-12-2020</td>\n      <td>REPORTING</td>\n    </tr>\n    <tr>\n      <th>1082</th>\n      <td>EST</td>\n      <td>Pfizer BioNTech - Comirnaty Bivalent Original/...</td>\n      <td>Comirnaty Bivalent Original/Omicron BA.1</td>\n      <td>NaN</td>\n      <td>NaN</td>\n      <td>28-09-2022</td>\n      <td>REPORTING</td>\n    </tr>\n    <tr>\n      <th>1083</th>\n      <td>PRT</td>\n      <td>Pfizer BioNTech - Comirnaty Bivalent Original/...</td>\n      <td>Comirnaty Bivalent Original/Omicron BA.1</td>\n      <td>NaN</td>\n      <td>NaN</td>\n      <td>30-12-2020</td>\n      <td>REPORTING</td>\n    </tr>\n    <tr>\n      <th>1084</th>\n      <td>CZE</td>\n      <td>Pfizer BioNTech - Comirnaty Bivalent Original/...</td>\n      <td>Comirnaty Bivalent Original/Omicron BA.1</td>\n      <td>NaN</td>\n      <td>NaN</td>\n      <td>14-09-2022</td>\n      <td>REPORTING</td>\n    </tr>\n    <tr>\n      <th>1085</th>\n      <td>CHE</td>\n      <td>Pfizer BioNTech - Comirnaty Bivalent Original/...</td>\n      <td>Comirnaty Bivalent Original/Omicron BA.1</td>\n      <td>NaN</td>\n      <td>NaN</td>\n      <td>13-01-2021</td>\n      <td>REPORTING</td>\n    </tr>\n    <tr>\n      <th>1086</th>\n      <td>FRA</td>\n      <td>Pfizer BioNTech - Comirnaty Bivalent Original/...</td>\n      <td>Comirnaty Bivalent Original/Omicron BA.4/BA.5</td>\n      <td>NaN</td>\n      <td>NaN</td>\n      <td>05-10-2022</td>\n      <td>REPORTING</td>\n    </tr>\n    <tr>\n      <th>1087</th>\n      <td>LUX</td>\n      <td>Pfizer BioNTech - Comirnaty Bivalent Original/...</td>\n      <td>Comirnaty Bivalent Original/Omicron BA.4/BA.5</td>\n      <td>NaN</td>\n      <td>NaN</td>\n      <td>12-10-2022</td>\n      <td>REPORTING</td>\n    </tr>\n    <tr>\n      <th>1088</th>\n      <td>AND</td>\n      <td>Pfizer BioNTech - Comirnaty Bivalent Original/...</td>\n      <td>Comirnaty Bivalent Original/Omicron BA.4/BA.5</td>\n      <td>NaN</td>\n      <td>NaN</td>\n      <td>22-03-2023</td>\n      <td>REPORTING</td>\n    </tr>\n    <tr>\n      <th>1089</th>\n      <td>ITA</td>\n      <td>Pfizer BioNTech - Comirnaty Bivalent Original/...</td>\n      <td>Comirnaty Bivalent Original/Omicron BA.4/BA.5</td>\n      <td>NaN</td>\n      <td>NaN</td>\n      <td>28-09-2022</td>\n      <td>REPORTING</td>\n    </tr>\n    <tr>\n      <th>1090</th>\n      <td>LVA</td>\n      <td>Pfizer BioNTech - Comirnaty Bivalent Original/...</td>\n      <td>Comirnaty Bivalent Original/Omicron BA.4/BA.5</td>\n      <td>NaN</td>\n      <td>NaN</td>\n      <td>05-10-2022</td>\n      <td>REPORTING</td>\n    </tr>\n    <tr>\n      <th>1091</th>\n      <td>GRC</td>\n      <td>Pfizer BioNTech - Comirnaty Bivalent Original/...</td>\n      <td>Comirnaty Bivalent Original/Omicron BA.4/BA.5</td>\n      <td>NaN</td>\n      <td>NaN</td>\n      <td>05-10-2022</td>\n      <td>REPORTING</td>\n    </tr>\n    <tr>\n      <th>1092</th>\n      <td>AUT</td>\n      <td>Pfizer BioNTech - Comirnaty Bivalent Original/...</td>\n      <td>Comirnaty Bivalent Original/Omicron BA.4/BA.5</td>\n      <td>NaN</td>\n      <td>NaN</td>\n      <td>13-01-2021</td>\n      <td>REPORTING</td>\n    </tr>\n    <tr>\n      <th>1093</th>\n      <td>ALB</td>\n      <td>Pfizer BioNTech - Comirnaty Bivalent Original/...</td>\n      <td>Comirnaty Bivalent Original/Omicron BA.4/BA.5</td>\n      <td>NaN</td>\n      <td>NaN</td>\n      <td>29-03-2023</td>\n      <td>REPORTING</td>\n    </tr>\n    <tr>\n      <th>1094</th>\n      <td>EST</td>\n      <td>Pfizer BioNTech - Comirnaty Bivalent Original/...</td>\n      <td>Comirnaty Bivalent Original/Omicron BA.4/BA.5</td>\n      <td>NaN</td>\n      <td>NaN</td>\n      <td>28-09-2022</td>\n      <td>REPORTING</td>\n    </tr>\n    <tr>\n      <th>1095</th>\n      <td>PRT</td>\n      <td>Pfizer BioNTech - Comirnaty Bivalent Original/...</td>\n      <td>Comirnaty Bivalent Original/Omicron BA.4/BA.5</td>\n      <td>NaN</td>\n      <td>NaN</td>\n      <td>10-02-2021</td>\n      <td>REPORTING</td>\n    </tr>\n    <tr>\n      <th>1096</th>\n      <td>CZE</td>\n      <td>Pfizer BioNTech - Comirnaty Bivalent Original/...</td>\n      <td>Comirnaty Bivalent Original/Omicron BA.4/BA.5</td>\n      <td>NaN</td>\n      <td>NaN</td>\n      <td>05-10-2022</td>\n      <td>REPORTING</td>\n    </tr>\n    <tr>\n      <th>1097</th>\n      <td>DEU</td>\n      <td>Moderna – Spikevax Bivalent Original/Omicron  ...</td>\n      <td>Moderna – Spikevax Bivalent Original/Omicron  ...</td>\n      <td>NaN</td>\n      <td>NaN</td>\n      <td>14-09-2022</td>\n      <td>REPORTING</td>\n    </tr>\n    <tr>\n      <th>1098</th>\n      <td>TJK</td>\n      <td>Moderna – Spikevax Bivalent Original/Omicron  ...</td>\n      <td>Moderna – Spikevax Bivalent Original/Omicron  ...</td>\n      <td>NaN</td>\n      <td>NaN</td>\n      <td>15-03-2023</td>\n      <td>REPORTING</td>\n    </tr>\n    <tr>\n      <th>1099</th>\n      <td>SVN</td>\n      <td>Moderna – Spikevax Bivalent Original/Omicron  ...</td>\n      <td>Moderna – Spikevax Bivalent Original/Omicron  ...</td>\n      <td>NaN</td>\n      <td>NaN</td>\n      <td>30-11-2022</td>\n      <td>REPORTING</td>\n    </tr>\n    <tr>\n      <th>1100</th>\n      <td>DEU</td>\n      <td>Pfizer BioNTech - Comirnaty Bivalent Original/...</td>\n      <td>Pfizer BioNTech - Comirnaty Bivalent Original/...</td>\n      <td>NaN</td>\n      <td>NaN</td>\n      <td>07-09-2022</td>\n      <td>REPORTING</td>\n    </tr>\n    <tr>\n      <th>1101</th>\n      <td>TJK</td>\n      <td>Pfizer BioNTech - Comirnaty Bivalent Original/...</td>\n      <td>Pfizer BioNTech - Comirnaty Bivalent Original/...</td>\n      <td>NaN</td>\n      <td>NaN</td>\n      <td>19-04-2023</td>\n      <td>REPORTING</td>\n    </tr>\n    <tr>\n      <th>1102</th>\n      <td>SVN</td>\n      <td>Pfizer BioNTech - Comirnaty Bivalent Original/...</td>\n      <td>Pfizer BioNTech - Comirnaty Bivalent Original/...</td>\n      <td>NaN</td>\n      <td>NaN</td>\n      <td>03-08-2022</td>\n      <td>REPORTING</td>\n    </tr>\n  </tbody>\n</table>\n</div>"
                    },
                    "metadata": {},
                    "execution_count": 16,
                    "output_type": "execute_result"
                }
            ],
            "execution_count": 16
        },
        {
            "cell_type": "code",
            "source": [
                "df_vacunation_Meta[df_vacunation_Meta['AUTHORIZATION_DATE'].isnull()]"
            ],
            "metadata": {
                "colab": {
                    "base_uri": "https://localhost:8080/",
                    "height": 423
                },
                "id": "nLKmTAm0SQjJ",
                "outputId": "2ebbe1eb-ec82-4ac7-98a2-9094fb9e7afc",
                "azdata_cell_guid": "847f1d50-2e58-446f-8a7b-6110a3338509",
                "language": "python"
            },
            "outputs": [
                {
                    "data": {
                        "text/plain": "     ISO3                                       VACCINE_NAME  \\\n0     SHN                              AstraZeneca - AZD1222   \n1     GRL                                Moderna - mRNA-1273   \n2     FRO                                Moderna - mRNA-1273   \n3     FRO                        Pfizer BioNTech - Comirnaty   \n4     JEY                                Moderna - mRNA-1273   \n...   ...                                                ...   \n1098  TJK  Moderna – Spikevax Bivalent Original/Omicron  ...   \n1099  SVN  Moderna – Spikevax Bivalent Original/Omicron  ...   \n1100  DEU  Pfizer BioNTech - Comirnaty Bivalent Original/...   \n1101  TJK  Pfizer BioNTech - Comirnaty Bivalent Original/...   \n1102  SVN  Pfizer BioNTech - Comirnaty Bivalent Original/...   \n\n                                           PRODUCT_NAME     COMPANY_NAME  \\\n0                                               AZD1222      AstraZeneca   \n1                                             mRNA-1273          Moderna   \n2                                             mRNA-1273          Moderna   \n3                                             Comirnaty  Pfizer BioNTech   \n4                                             mRNA-1273          Moderna   \n...                                                 ...              ...   \n1098  Moderna – Spikevax Bivalent Original/Omicron  ...              NaN   \n1099  Moderna – Spikevax Bivalent Original/Omicron  ...              NaN   \n1100  Pfizer BioNTech - Comirnaty Bivalent Original/...              NaN   \n1101  Pfizer BioNTech - Comirnaty Bivalent Original/...              NaN   \n1102  Pfizer BioNTech - Comirnaty Bivalent Original/...              NaN   \n\n     AUTHORIZATION_DATE  START_DATE DATA_SOURCE  \n0                   NaN         NaN        OWID  \n1                   NaN         NaN        OWID  \n2                   NaN         NaN        OWID  \n3                   NaN         NaN        OWID  \n4                   NaN         NaN        OWID  \n...                 ...         ...         ...  \n1098                NaN  15-03-2023   REPORTING  \n1099                NaN  30-11-2022   REPORTING  \n1100                NaN  07-09-2022   REPORTING  \n1101                NaN  19-04-2023   REPORTING  \n1102                NaN  03-08-2022   REPORTING  \n\n[613 rows x 7 columns]",
                        "text/html": "<div>\n<style scoped>\n    .dataframe tbody tr th:only-of-type {\n        vertical-align: middle;\n    }\n\n    .dataframe tbody tr th {\n        vertical-align: top;\n    }\n\n    .dataframe thead th {\n        text-align: right;\n    }\n</style>\n<table border=\"1\" class=\"dataframe\">\n  <thead>\n    <tr style=\"text-align: right;\">\n      <th></th>\n      <th>ISO3</th>\n      <th>VACCINE_NAME</th>\n      <th>PRODUCT_NAME</th>\n      <th>COMPANY_NAME</th>\n      <th>AUTHORIZATION_DATE</th>\n      <th>START_DATE</th>\n      <th>DATA_SOURCE</th>\n    </tr>\n  </thead>\n  <tbody>\n    <tr>\n      <th>0</th>\n      <td>SHN</td>\n      <td>AstraZeneca - AZD1222</td>\n      <td>AZD1222</td>\n      <td>AstraZeneca</td>\n      <td>NaN</td>\n      <td>NaN</td>\n      <td>OWID</td>\n    </tr>\n    <tr>\n      <th>1</th>\n      <td>GRL</td>\n      <td>Moderna - mRNA-1273</td>\n      <td>mRNA-1273</td>\n      <td>Moderna</td>\n      <td>NaN</td>\n      <td>NaN</td>\n      <td>OWID</td>\n    </tr>\n    <tr>\n      <th>2</th>\n      <td>FRO</td>\n      <td>Moderna - mRNA-1273</td>\n      <td>mRNA-1273</td>\n      <td>Moderna</td>\n      <td>NaN</td>\n      <td>NaN</td>\n      <td>OWID</td>\n    </tr>\n    <tr>\n      <th>3</th>\n      <td>FRO</td>\n      <td>Pfizer BioNTech - Comirnaty</td>\n      <td>Comirnaty</td>\n      <td>Pfizer BioNTech</td>\n      <td>NaN</td>\n      <td>NaN</td>\n      <td>OWID</td>\n    </tr>\n    <tr>\n      <th>4</th>\n      <td>JEY</td>\n      <td>Moderna - mRNA-1273</td>\n      <td>mRNA-1273</td>\n      <td>Moderna</td>\n      <td>NaN</td>\n      <td>NaN</td>\n      <td>OWID</td>\n    </tr>\n    <tr>\n      <th>...</th>\n      <td>...</td>\n      <td>...</td>\n      <td>...</td>\n      <td>...</td>\n      <td>...</td>\n      <td>...</td>\n      <td>...</td>\n    </tr>\n    <tr>\n      <th>1098</th>\n      <td>TJK</td>\n      <td>Moderna – Spikevax Bivalent Original/Omicron  ...</td>\n      <td>Moderna – Spikevax Bivalent Original/Omicron  ...</td>\n      <td>NaN</td>\n      <td>NaN</td>\n      <td>15-03-2023</td>\n      <td>REPORTING</td>\n    </tr>\n    <tr>\n      <th>1099</th>\n      <td>SVN</td>\n      <td>Moderna – Spikevax Bivalent Original/Omicron  ...</td>\n      <td>Moderna – Spikevax Bivalent Original/Omicron  ...</td>\n      <td>NaN</td>\n      <td>NaN</td>\n      <td>30-11-2022</td>\n      <td>REPORTING</td>\n    </tr>\n    <tr>\n      <th>1100</th>\n      <td>DEU</td>\n      <td>Pfizer BioNTech - Comirnaty Bivalent Original/...</td>\n      <td>Pfizer BioNTech - Comirnaty Bivalent Original/...</td>\n      <td>NaN</td>\n      <td>NaN</td>\n      <td>07-09-2022</td>\n      <td>REPORTING</td>\n    </tr>\n    <tr>\n      <th>1101</th>\n      <td>TJK</td>\n      <td>Pfizer BioNTech - Comirnaty Bivalent Original/...</td>\n      <td>Pfizer BioNTech - Comirnaty Bivalent Original/...</td>\n      <td>NaN</td>\n      <td>NaN</td>\n      <td>19-04-2023</td>\n      <td>REPORTING</td>\n    </tr>\n    <tr>\n      <th>1102</th>\n      <td>SVN</td>\n      <td>Pfizer BioNTech - Comirnaty Bivalent Original/...</td>\n      <td>Pfizer BioNTech - Comirnaty Bivalent Original/...</td>\n      <td>NaN</td>\n      <td>NaN</td>\n      <td>03-08-2022</td>\n      <td>REPORTING</td>\n    </tr>\n  </tbody>\n</table>\n<p>613 rows × 7 columns</p>\n</div>"
                    },
                    "metadata": {},
                    "execution_count": 17,
                    "output_type": "execute_result"
                }
            ],
            "execution_count": 17
        },
        {
            "cell_type": "code",
            "source": [
                "df_vacunation_Meta[df_vacunation_Meta['START_DATE'].isnull()]"
            ],
            "metadata": {
                "scrolled": true,
                "colab": {
                    "base_uri": "https://localhost:8080/",
                    "height": 423
                },
                "id": "vK9P28wQSQjJ",
                "outputId": "62ec0aaa-cac5-4f00-ecdb-416b8f691d4a",
                "azdata_cell_guid": "f1a93a09-d577-4a1b-8956-c2692827b7cf",
                "language": "python"
            },
            "outputs": [
                {
                    "data": {
                        "text/plain": "     ISO3                 VACCINE_NAME     PRODUCT_NAME  \\\n0     SHN        AstraZeneca - AZD1222          AZD1222   \n1     GRL          Moderna - mRNA-1273        mRNA-1273   \n2     FRO          Moderna - mRNA-1273        mRNA-1273   \n3     FRO  Pfizer BioNTech - Comirnaty        Comirnaty   \n4     JEY          Moderna - mRNA-1273        mRNA-1273   \n...   ...                          ...              ...   \n1053  IRQ     Gamaleya - Sputnik-Light    Sputnik-Light   \n1055  SYC          Julphar - Hayat-Vax        Hayat-Vax   \n1058  IRN      Shifa - COVIran Barakat  COVIran Barakat   \n1060  THA                SII - Covovax          Covovax   \n1061  IND                SII - Covovax          Covovax   \n\n                     COMPANY_NAME AUTHORIZATION_DATE START_DATE DATA_SOURCE  \n0                     AstraZeneca                NaN        NaN        OWID  \n1                         Moderna                NaN        NaN        OWID  \n2                         Moderna                NaN        NaN        OWID  \n3                 Pfizer BioNTech                NaN        NaN        OWID  \n4                         Moderna                NaN        NaN        OWID  \n...                           ...                ...        ...         ...  \n1053  Gamaleya Research Institute                NaN        NaN   REPORTING  \n1055                          NaN                NaN        NaN   REPORTING  \n1058                          NaN                NaN        NaN   REPORTING  \n1060                          NaN         27-04-2022        NaN   REPORTING  \n1061                          NaN                NaN        NaN   REPORTING  \n\n[286 rows x 7 columns]",
                        "text/html": "<div>\n<style scoped>\n    .dataframe tbody tr th:only-of-type {\n        vertical-align: middle;\n    }\n\n    .dataframe tbody tr th {\n        vertical-align: top;\n    }\n\n    .dataframe thead th {\n        text-align: right;\n    }\n</style>\n<table border=\"1\" class=\"dataframe\">\n  <thead>\n    <tr style=\"text-align: right;\">\n      <th></th>\n      <th>ISO3</th>\n      <th>VACCINE_NAME</th>\n      <th>PRODUCT_NAME</th>\n      <th>COMPANY_NAME</th>\n      <th>AUTHORIZATION_DATE</th>\n      <th>START_DATE</th>\n      <th>DATA_SOURCE</th>\n    </tr>\n  </thead>\n  <tbody>\n    <tr>\n      <th>0</th>\n      <td>SHN</td>\n      <td>AstraZeneca - AZD1222</td>\n      <td>AZD1222</td>\n      <td>AstraZeneca</td>\n      <td>NaN</td>\n      <td>NaN</td>\n      <td>OWID</td>\n    </tr>\n    <tr>\n      <th>1</th>\n      <td>GRL</td>\n      <td>Moderna - mRNA-1273</td>\n      <td>mRNA-1273</td>\n      <td>Moderna</td>\n      <td>NaN</td>\n      <td>NaN</td>\n      <td>OWID</td>\n    </tr>\n    <tr>\n      <th>2</th>\n      <td>FRO</td>\n      <td>Moderna - mRNA-1273</td>\n      <td>mRNA-1273</td>\n      <td>Moderna</td>\n      <td>NaN</td>\n      <td>NaN</td>\n      <td>OWID</td>\n    </tr>\n    <tr>\n      <th>3</th>\n      <td>FRO</td>\n      <td>Pfizer BioNTech - Comirnaty</td>\n      <td>Comirnaty</td>\n      <td>Pfizer BioNTech</td>\n      <td>NaN</td>\n      <td>NaN</td>\n      <td>OWID</td>\n    </tr>\n    <tr>\n      <th>4</th>\n      <td>JEY</td>\n      <td>Moderna - mRNA-1273</td>\n      <td>mRNA-1273</td>\n      <td>Moderna</td>\n      <td>NaN</td>\n      <td>NaN</td>\n      <td>OWID</td>\n    </tr>\n    <tr>\n      <th>...</th>\n      <td>...</td>\n      <td>...</td>\n      <td>...</td>\n      <td>...</td>\n      <td>...</td>\n      <td>...</td>\n      <td>...</td>\n    </tr>\n    <tr>\n      <th>1053</th>\n      <td>IRQ</td>\n      <td>Gamaleya - Sputnik-Light</td>\n      <td>Sputnik-Light</td>\n      <td>Gamaleya Research Institute</td>\n      <td>NaN</td>\n      <td>NaN</td>\n      <td>REPORTING</td>\n    </tr>\n    <tr>\n      <th>1055</th>\n      <td>SYC</td>\n      <td>Julphar - Hayat-Vax</td>\n      <td>Hayat-Vax</td>\n      <td>NaN</td>\n      <td>NaN</td>\n      <td>NaN</td>\n      <td>REPORTING</td>\n    </tr>\n    <tr>\n      <th>1058</th>\n      <td>IRN</td>\n      <td>Shifa - COVIran Barakat</td>\n      <td>COVIran Barakat</td>\n      <td>NaN</td>\n      <td>NaN</td>\n      <td>NaN</td>\n      <td>REPORTING</td>\n    </tr>\n    <tr>\n      <th>1060</th>\n      <td>THA</td>\n      <td>SII - Covovax</td>\n      <td>Covovax</td>\n      <td>NaN</td>\n      <td>27-04-2022</td>\n      <td>NaN</td>\n      <td>REPORTING</td>\n    </tr>\n    <tr>\n      <th>1061</th>\n      <td>IND</td>\n      <td>SII - Covovax</td>\n      <td>Covovax</td>\n      <td>NaN</td>\n      <td>NaN</td>\n      <td>NaN</td>\n      <td>REPORTING</td>\n    </tr>\n  </tbody>\n</table>\n<p>286 rows × 7 columns</p>\n</div>"
                    },
                    "metadata": {},
                    "execution_count": 18,
                    "output_type": "execute_result"
                }
            ],
            "execution_count": 18
        },
        {
            "cell_type": "markdown",
            "source": [
                "Sustituimos los valores NaN de las variables **PRODUCT_NAME** y **COMPANY_NAME** en  \"Sin Determinar\""
            ],
            "metadata": {
                "id": "rBm9bvXLXewF",
                "azdata_cell_guid": "533b1ce6-1660-436e-aa6b-5efcd1ba60cf"
            }
        },
        {
            "cell_type": "code",
            "source": [
                "df_vacunation_Meta['PRODUCT_NAME'].fillna('Sin Determinar', inplace=True)\n",
                "df_vacunation_Meta['COMPANY_NAME'].fillna('Sin Determinar', inplace=True)"
            ],
            "metadata": {
                "id": "QeAqjEWsWUNh",
                "azdata_cell_guid": "e00a669b-69b1-42d0-92cb-9b93a74984bf",
                "language": "python"
            },
            "outputs": [],
            "execution_count": 19
        },
        {
            "cell_type": "markdown",
            "source": [
                "Sustituimos los valores **NaN** por valores **0**<br>"
            ],
            "metadata": {
                "id": "cTGoa13PSQjK",
                "azdata_cell_guid": "94ef1e10-15cc-4de6-b22f-9bdbf79267ac"
            }
        },
        {
            "cell_type": "code",
            "source": [
                "df_vacunation_Meta=df_vacunation_Meta.fillna(0)\n",
                "df_vacunation_Meta.head()"
            ],
            "metadata": {
                "colab": {
                    "base_uri": "https://localhost:8080/",
                    "height": 206
                },
                "id": "cXuvSHXDSQjK",
                "outputId": "1dd2db8e-c019-4e9b-cc0b-e2ff6932ef17",
                "azdata_cell_guid": "44996c90-5618-4bd3-856e-390fd2e2e4c0",
                "language": "python"
            },
            "outputs": [
                {
                    "data": {
                        "text/plain": "  ISO3                 VACCINE_NAME PRODUCT_NAME     COMPANY_NAME  \\\n0  SHN        AstraZeneca - AZD1222      AZD1222      AstraZeneca   \n1  GRL          Moderna - mRNA-1273    mRNA-1273          Moderna   \n2  FRO          Moderna - mRNA-1273    mRNA-1273          Moderna   \n3  FRO  Pfizer BioNTech - Comirnaty    Comirnaty  Pfizer BioNTech   \n4  JEY          Moderna - mRNA-1273    mRNA-1273          Moderna   \n\n  AUTHORIZATION_DATE START_DATE DATA_SOURCE  \n0                  0          0        OWID  \n1                  0          0        OWID  \n2                  0          0        OWID  \n3                  0          0        OWID  \n4                  0          0        OWID  ",
                        "text/html": "<div>\n<style scoped>\n    .dataframe tbody tr th:only-of-type {\n        vertical-align: middle;\n    }\n\n    .dataframe tbody tr th {\n        vertical-align: top;\n    }\n\n    .dataframe thead th {\n        text-align: right;\n    }\n</style>\n<table border=\"1\" class=\"dataframe\">\n  <thead>\n    <tr style=\"text-align: right;\">\n      <th></th>\n      <th>ISO3</th>\n      <th>VACCINE_NAME</th>\n      <th>PRODUCT_NAME</th>\n      <th>COMPANY_NAME</th>\n      <th>AUTHORIZATION_DATE</th>\n      <th>START_DATE</th>\n      <th>DATA_SOURCE</th>\n    </tr>\n  </thead>\n  <tbody>\n    <tr>\n      <th>0</th>\n      <td>SHN</td>\n      <td>AstraZeneca - AZD1222</td>\n      <td>AZD1222</td>\n      <td>AstraZeneca</td>\n      <td>0</td>\n      <td>0</td>\n      <td>OWID</td>\n    </tr>\n    <tr>\n      <th>1</th>\n      <td>GRL</td>\n      <td>Moderna - mRNA-1273</td>\n      <td>mRNA-1273</td>\n      <td>Moderna</td>\n      <td>0</td>\n      <td>0</td>\n      <td>OWID</td>\n    </tr>\n    <tr>\n      <th>2</th>\n      <td>FRO</td>\n      <td>Moderna - mRNA-1273</td>\n      <td>mRNA-1273</td>\n      <td>Moderna</td>\n      <td>0</td>\n      <td>0</td>\n      <td>OWID</td>\n    </tr>\n    <tr>\n      <th>3</th>\n      <td>FRO</td>\n      <td>Pfizer BioNTech - Comirnaty</td>\n      <td>Comirnaty</td>\n      <td>Pfizer BioNTech</td>\n      <td>0</td>\n      <td>0</td>\n      <td>OWID</td>\n    </tr>\n    <tr>\n      <th>4</th>\n      <td>JEY</td>\n      <td>Moderna - mRNA-1273</td>\n      <td>mRNA-1273</td>\n      <td>Moderna</td>\n      <td>0</td>\n      <td>0</td>\n      <td>OWID</td>\n    </tr>\n  </tbody>\n</table>\n</div>"
                    },
                    "metadata": {},
                    "execution_count": 20,
                    "output_type": "execute_result"
                }
            ],
            "execution_count": 20
        },
        {
            "cell_type": "markdown",
            "source": [
                "Verificamos la instrucción y observamos que **no existen valores nulos**"
            ],
            "metadata": {
                "id": "H4GfY2VZSQjK",
                "azdata_cell_guid": "3d4c3efa-0e9c-4e45-942c-b7b146826e40"
            }
        },
        {
            "cell_type": "code",
            "source": [
                "df_vacunation_Meta.isnull().sum()"
            ],
            "metadata": {
                "scrolled": true,
                "colab": {
                    "base_uri": "https://localhost:8080/"
                },
                "id": "fSRTSnNdSQjK",
                "outputId": "2248ad8d-3d4f-46b9-b2af-821b54f9351b",
                "azdata_cell_guid": "8e041c9a-20f7-461f-a4d9-5f165c0d859e",
                "language": "python"
            },
            "outputs": [
                {
                    "data": {
                        "text/plain": "ISO3                  0\nVACCINE_NAME          0\nPRODUCT_NAME          0\nCOMPANY_NAME          0\nAUTHORIZATION_DATE    0\nSTART_DATE            0\nDATA_SOURCE           0\ndtype: int64"
                    },
                    "metadata": {},
                    "execution_count": 21,
                    "output_type": "execute_result"
                }
            ],
            "execution_count": 21
        },
        {
            "cell_type": "markdown",
            "source": [
                "Mediante la función **.columns** obtenemos el orden y el nombre de las columnas del **df_vacunation_Meta**"
            ],
            "metadata": {
                "id": "d-kwA7RzSQjK",
                "azdata_cell_guid": "dd54dea1-a7f9-4147-88d7-6d0057b51a41"
            }
        },
        {
            "cell_type": "code",
            "source": [
                "df_vacunation_Meta.columns"
            ],
            "metadata": {
                "scrolled": true,
                "colab": {
                    "base_uri": "https://localhost:8080/"
                },
                "id": "U6XDgOzOSQjL",
                "outputId": "37c80828-d541-491b-d2d0-3830bd26b1d1",
                "azdata_cell_guid": "51afed32-13f3-4a95-9959-7549c7fdfd42",
                "language": "python"
            },
            "outputs": [
                {
                    "data": {
                        "text/plain": "Index(['ISO3', 'VACCINE_NAME', 'PRODUCT_NAME', 'COMPANY_NAME',\n       'AUTHORIZATION_DATE', 'START_DATE', 'DATA_SOURCE'],\n      dtype='object')"
                    },
                    "metadata": {},
                    "execution_count": 22,
                    "output_type": "execute_result"
                }
            ],
            "execution_count": 22
        },
        {
            "cell_type": "code",
            "source": [
                "df_vacunation_Meta.shape"
            ],
            "metadata": {
                "colab": {
                    "base_uri": "https://localhost:8080/"
                },
                "id": "VxfOU5VLSQjL",
                "outputId": "2804a4fa-2f6b-4858-d4ad-45c7b266b4d3",
                "azdata_cell_guid": "aca1802e-6f99-44e0-9f79-7944c92f1eba",
                "language": "python"
            },
            "outputs": [
                {
                    "data": {
                        "text/plain": "(1103, 7)"
                    },
                    "metadata": {},
                    "execution_count": 23,
                    "output_type": "execute_result"
                }
            ],
            "execution_count": 23
        },
        {
            "cell_type": "markdown",
            "source": [
                "Renombramos el nombre de las Columnas del **df_vacunation_Meta**"
            ],
            "metadata": {
                "id": "DpQfqcvxSQjL",
                "azdata_cell_guid": "78055494-b091-4781-b3e7-c2e581eca8f2"
            }
        },
        {
            "cell_type": "code",
            "source": [
                "df_vacunation_Meta.columns=['PAIS_ISO3', 'NOMBRE_VACUNA', 'NOMBRE_TIPO_VACUNA', 'NOMBRE_COMPAÑIA',\n",
                "       'FECHA_AUTORIZACION', 'FECHA_INICIO_VACUNACION','FUENTE_DATOS']"
            ],
            "metadata": {
                "id": "TPvFDMhwSQjL",
                "azdata_cell_guid": "6d8e4bca-688e-4ec2-a17d-2bc806d01cf7",
                "language": "python"
            },
            "outputs": [],
            "execution_count": 24
        },
        {
            "cell_type": "code",
            "source": [
                "df_vacunation_Meta.columns\n",
                "df_vacunation_Meta.info()"
            ],
            "metadata": {
                "colab": {
                    "base_uri": "https://localhost:8080/"
                },
                "id": "LFjOy0WdSQjL",
                "outputId": "3d9943cd-f3b2-462a-9551-f38c1dbe7b1d",
                "azdata_cell_guid": "33bc67dd-0488-4cbc-a012-ec5fde5ae2cd",
                "language": "python"
            },
            "outputs": [
                {
                    "name": "stdout",
                    "text": "<class 'pandas.core.frame.DataFrame'>\nRangeIndex: 1103 entries, 0 to 1102\nData columns (total 7 columns):\n #   Column                   Non-Null Count  Dtype \n---  ------                   --------------  ----- \n 0   PAIS_ISO3                1103 non-null   object\n 1   NOMBRE_VACUNA            1103 non-null   object\n 2   NOMBRE_TIPO_VACUNA       1103 non-null   object\n 3   NOMBRE_COMPAÑIA          1103 non-null   object\n 4   FECHA_AUTORIZACION       1103 non-null   object\n 5   FECHA_INICIO_VACUNACION  1103 non-null   object\n 6   FUENTE_DATOS             1103 non-null   object\ndtypes: object(7)\nmemory usage: 60.4+ KB\n",
                    "output_type": "stream"
                }
            ],
            "execution_count": 25
        },
        {
            "cell_type": "code",
            "source": [
                "df_vacunation_Meta['PAIS_ISO3'].unique()\n",
                "len(df_vacunation_Meta['PAIS_ISO3'].unique())"
            ],
            "metadata": {
                "colab": {
                    "base_uri": "https://localhost:8080/"
                },
                "id": "UTHZTpLNSQjM",
                "outputId": "65a06a11-326a-4d19-a88d-1754625f3ce6",
                "azdata_cell_guid": "a889c8b8-c4c0-40c1-ad3e-942492d1bd43",
                "language": "python"
            },
            "outputs": [
                {
                    "data": {
                        "text/plain": "225"
                    },
                    "metadata": {},
                    "execution_count": 26,
                    "output_type": "execute_result"
                }
            ],
            "execution_count": 26
        },
        {
            "cell_type": "code",
            "source": [
                "df_vacunation_Meta['PAIS_ISO3']"
            ],
            "metadata": {
                "colab": {
                    "base_uri": "https://localhost:8080/"
                },
                "id": "--InaijHSQjM",
                "outputId": "2648081f-9c5b-48e3-85b1-35937829df6e",
                "azdata_cell_guid": "0085b50c-4e05-4f3d-bd87-1f1819b44ddc",
                "language": "python"
            },
            "outputs": [
                {
                    "data": {
                        "text/plain": "0       SHN\n1       GRL\n2       FRO\n3       FRO\n4       JEY\n       ... \n1098    TJK\n1099    SVN\n1100    DEU\n1101    TJK\n1102    SVN\nName: PAIS_ISO3, Length: 1103, dtype: object"
                    },
                    "metadata": {},
                    "execution_count": 27,
                    "output_type": "execute_result"
                }
            ],
            "execution_count": 27
        },
        {
            "cell_type": "markdown",
            "source": [
                "Con el módulo **pycountry** obtenemos datos adicionales para el dataframe y se renombran las columnas con la función **.columns**"
            ],
            "metadata": {
                "id": "MmQZFxa5SQjM",
                "azdata_cell_guid": "4f4f7f24-efe7-42b0-beca-3852a7f61e7c"
            }
        },
        {
            "cell_type": "code",
            "source": [
                "import pycountry_convert as pc\n",
                "\n",
                "def obtener_continente_ISO3(codigo_ISO3):\n",
                "    try:\n",
                "        continente_code = pc.country_alpha3_to_country_alpha2(codigo_ISO3)\n",
                "        continente = pc.country_alpha2_to_continent_code(continente_code)\n",
                "        continente_nombre = pc.convert_continent_code_to_continent_name(continente)\n",
                "        return continente_nombre, continente\n",
                "    except:\n",
                "        return None, None\n",
                "\n",
                "df_vacunation_Meta[['Continente', 'ISO_continente']] = df_vacunation_Meta['PAIS_ISO3'].apply(obtener_continente_ISO3).apply(pd.Series)\n",
                "\n",
                "indice_ISO3 = df_vacunation_Meta.columns.get_loc(\"PAIS_ISO3\")\n",
                "\n",
                "df_vacunation_Meta.insert(indice_ISO3 + 1, \"Continente\", df_vacunation_Meta.pop(\"Continente\"))\n",
                "df_vacunation_Meta.insert(indice_ISO3 + 2, \"ISO_continente\", df_vacunation_Meta.pop(\"ISO_continente\"))"
            ],
            "metadata": {
                "scrolled": false,
                "id": "y5f984MmSQjM",
                "azdata_cell_guid": "f18c7d45-9502-456c-8883-fd4bcb4f24ba",
                "language": "python"
            },
            "outputs": [],
            "execution_count": 28
        },
        {
            "cell_type": "code",
            "source": [
                "df_vacunation_Meta"
            ],
            "metadata": {
                "colab": {
                    "base_uri": "https://localhost:8080/",
                    "height": 676
                },
                "id": "kmcXShUxSQjM",
                "outputId": "5b452ee8-22b8-4f64-8449-23645d01dc56",
                "azdata_cell_guid": "a91cf495-31dc-4253-90d6-4e8ccfcd9620",
                "language": "python"
            },
            "outputs": [
                {
                    "data": {
                        "text/plain": "     PAIS_ISO3     Continente ISO_continente  \\\n0          SHN         Africa             AF   \n1          GRL  North America             NA   \n2          FRO         Europe             EU   \n3          FRO         Europe             EU   \n4          JEY         Europe             EU   \n...        ...            ...            ...   \n1098       TJK           Asia             AS   \n1099       SVN         Europe             EU   \n1100       DEU         Europe             EU   \n1101       TJK           Asia             AS   \n1102       SVN         Europe             EU   \n\n                                          NOMBRE_VACUNA  \\\n0                                 AstraZeneca - AZD1222   \n1                                   Moderna - mRNA-1273   \n2                                   Moderna - mRNA-1273   \n3                           Pfizer BioNTech - Comirnaty   \n4                                   Moderna - mRNA-1273   \n...                                                 ...   \n1098  Moderna – Spikevax Bivalent Original/Omicron  ...   \n1099  Moderna – Spikevax Bivalent Original/Omicron  ...   \n1100  Pfizer BioNTech - Comirnaty Bivalent Original/...   \n1101  Pfizer BioNTech - Comirnaty Bivalent Original/...   \n1102  Pfizer BioNTech - Comirnaty Bivalent Original/...   \n\n                                     NOMBRE_TIPO_VACUNA  NOMBRE_COMPAÑIA  \\\n0                                               AZD1222      AstraZeneca   \n1                                             mRNA-1273          Moderna   \n2                                             mRNA-1273          Moderna   \n3                                             Comirnaty  Pfizer BioNTech   \n4                                             mRNA-1273          Moderna   \n...                                                 ...              ...   \n1098  Moderna – Spikevax Bivalent Original/Omicron  ...   Sin Determinar   \n1099  Moderna – Spikevax Bivalent Original/Omicron  ...   Sin Determinar   \n1100  Pfizer BioNTech - Comirnaty Bivalent Original/...   Sin Determinar   \n1101  Pfizer BioNTech - Comirnaty Bivalent Original/...   Sin Determinar   \n1102  Pfizer BioNTech - Comirnaty Bivalent Original/...   Sin Determinar   \n\n     FECHA_AUTORIZACION FECHA_INICIO_VACUNACION FUENTE_DATOS  \n0                     0                       0         OWID  \n1                     0                       0         OWID  \n2                     0                       0         OWID  \n3                     0                       0         OWID  \n4                     0                       0         OWID  \n...                 ...                     ...          ...  \n1098                  0              15-03-2023    REPORTING  \n1099                  0              30-11-2022    REPORTING  \n1100                  0              07-09-2022    REPORTING  \n1101                  0              19-04-2023    REPORTING  \n1102                  0              03-08-2022    REPORTING  \n\n[1103 rows x 9 columns]",
                        "text/html": "<div>\n<style scoped>\n    .dataframe tbody tr th:only-of-type {\n        vertical-align: middle;\n    }\n\n    .dataframe tbody tr th {\n        vertical-align: top;\n    }\n\n    .dataframe thead th {\n        text-align: right;\n    }\n</style>\n<table border=\"1\" class=\"dataframe\">\n  <thead>\n    <tr style=\"text-align: right;\">\n      <th></th>\n      <th>PAIS_ISO3</th>\n      <th>Continente</th>\n      <th>ISO_continente</th>\n      <th>NOMBRE_VACUNA</th>\n      <th>NOMBRE_TIPO_VACUNA</th>\n      <th>NOMBRE_COMPAÑIA</th>\n      <th>FECHA_AUTORIZACION</th>\n      <th>FECHA_INICIO_VACUNACION</th>\n      <th>FUENTE_DATOS</th>\n    </tr>\n  </thead>\n  <tbody>\n    <tr>\n      <th>0</th>\n      <td>SHN</td>\n      <td>Africa</td>\n      <td>AF</td>\n      <td>AstraZeneca - AZD1222</td>\n      <td>AZD1222</td>\n      <td>AstraZeneca</td>\n      <td>0</td>\n      <td>0</td>\n      <td>OWID</td>\n    </tr>\n    <tr>\n      <th>1</th>\n      <td>GRL</td>\n      <td>North America</td>\n      <td>NA</td>\n      <td>Moderna - mRNA-1273</td>\n      <td>mRNA-1273</td>\n      <td>Moderna</td>\n      <td>0</td>\n      <td>0</td>\n      <td>OWID</td>\n    </tr>\n    <tr>\n      <th>2</th>\n      <td>FRO</td>\n      <td>Europe</td>\n      <td>EU</td>\n      <td>Moderna - mRNA-1273</td>\n      <td>mRNA-1273</td>\n      <td>Moderna</td>\n      <td>0</td>\n      <td>0</td>\n      <td>OWID</td>\n    </tr>\n    <tr>\n      <th>3</th>\n      <td>FRO</td>\n      <td>Europe</td>\n      <td>EU</td>\n      <td>Pfizer BioNTech - Comirnaty</td>\n      <td>Comirnaty</td>\n      <td>Pfizer BioNTech</td>\n      <td>0</td>\n      <td>0</td>\n      <td>OWID</td>\n    </tr>\n    <tr>\n      <th>4</th>\n      <td>JEY</td>\n      <td>Europe</td>\n      <td>EU</td>\n      <td>Moderna - mRNA-1273</td>\n      <td>mRNA-1273</td>\n      <td>Moderna</td>\n      <td>0</td>\n      <td>0</td>\n      <td>OWID</td>\n    </tr>\n    <tr>\n      <th>...</th>\n      <td>...</td>\n      <td>...</td>\n      <td>...</td>\n      <td>...</td>\n      <td>...</td>\n      <td>...</td>\n      <td>...</td>\n      <td>...</td>\n      <td>...</td>\n    </tr>\n    <tr>\n      <th>1098</th>\n      <td>TJK</td>\n      <td>Asia</td>\n      <td>AS</td>\n      <td>Moderna – Spikevax Bivalent Original/Omicron  ...</td>\n      <td>Moderna – Spikevax Bivalent Original/Omicron  ...</td>\n      <td>Sin Determinar</td>\n      <td>0</td>\n      <td>15-03-2023</td>\n      <td>REPORTING</td>\n    </tr>\n    <tr>\n      <th>1099</th>\n      <td>SVN</td>\n      <td>Europe</td>\n      <td>EU</td>\n      <td>Moderna – Spikevax Bivalent Original/Omicron  ...</td>\n      <td>Moderna – Spikevax Bivalent Original/Omicron  ...</td>\n      <td>Sin Determinar</td>\n      <td>0</td>\n      <td>30-11-2022</td>\n      <td>REPORTING</td>\n    </tr>\n    <tr>\n      <th>1100</th>\n      <td>DEU</td>\n      <td>Europe</td>\n      <td>EU</td>\n      <td>Pfizer BioNTech - Comirnaty Bivalent Original/...</td>\n      <td>Pfizer BioNTech - Comirnaty Bivalent Original/...</td>\n      <td>Sin Determinar</td>\n      <td>0</td>\n      <td>07-09-2022</td>\n      <td>REPORTING</td>\n    </tr>\n    <tr>\n      <th>1101</th>\n      <td>TJK</td>\n      <td>Asia</td>\n      <td>AS</td>\n      <td>Pfizer BioNTech - Comirnaty Bivalent Original/...</td>\n      <td>Pfizer BioNTech - Comirnaty Bivalent Original/...</td>\n      <td>Sin Determinar</td>\n      <td>0</td>\n      <td>19-04-2023</td>\n      <td>REPORTING</td>\n    </tr>\n    <tr>\n      <th>1102</th>\n      <td>SVN</td>\n      <td>Europe</td>\n      <td>EU</td>\n      <td>Pfizer BioNTech - Comirnaty Bivalent Original/...</td>\n      <td>Pfizer BioNTech - Comirnaty Bivalent Original/...</td>\n      <td>Sin Determinar</td>\n      <td>0</td>\n      <td>03-08-2022</td>\n      <td>REPORTING</td>\n    </tr>\n  </tbody>\n</table>\n<p>1103 rows × 9 columns</p>\n</div>"
                    },
                    "metadata": {},
                    "execution_count": 29,
                    "output_type": "execute_result"
                }
            ],
            "execution_count": 29
        },
        {
            "cell_type": "code",
            "source": [
                "df_vacunation_Meta.info()"
            ],
            "metadata": {
                "scrolled": true,
                "colab": {
                    "base_uri": "https://localhost:8080/"
                },
                "id": "u48q5a9BSQjN",
                "outputId": "ae3fa68b-fc43-4221-858c-d577e9dc2cc4",
                "azdata_cell_guid": "8ed06250-4935-42dc-b5e7-bc4e785d2689",
                "language": "python"
            },
            "outputs": [
                {
                    "name": "stdout",
                    "text": "<class 'pandas.core.frame.DataFrame'>\nRangeIndex: 1103 entries, 0 to 1102\nData columns (total 9 columns):\n #   Column                   Non-Null Count  Dtype \n---  ------                   --------------  ----- \n 0   PAIS_ISO3                1103 non-null   object\n 1   Continente               1093 non-null   object\n 2   ISO_continente           1093 non-null   object\n 3   NOMBRE_VACUNA            1103 non-null   object\n 4   NOMBRE_TIPO_VACUNA       1103 non-null   object\n 5   NOMBRE_COMPAÑIA          1103 non-null   object\n 6   FECHA_AUTORIZACION       1103 non-null   object\n 7   FECHA_INICIO_VACUNACION  1103 non-null   object\n 8   FUENTE_DATOS             1103 non-null   object\ndtypes: object(9)\nmemory usage: 77.7+ KB\n",
                    "output_type": "stream"
                }
            ],
            "execution_count": 30
        },
        {
            "cell_type": "markdown",
            "source": [
                "Hacemos una última revisión"
            ],
            "metadata": {
                "id": "GqxEfICxSQjN",
                "azdata_cell_guid": "fe66b831-de16-4637-96ed-005d8f9aee18"
            }
        },
        {
            "cell_type": "code",
            "source": [
                "df_vacunation_Meta.duplicated().values.any()"
            ],
            "metadata": {
                "colab": {
                    "base_uri": "https://localhost:8080/"
                },
                "id": "7730UXu5SQjN",
                "outputId": "d1e4e6c4-575b-44bb-e00c-3ebe4c4ab6f6",
                "azdata_cell_guid": "fb1ff15e-68c8-4274-9ed2-4764956e4563",
                "language": "python"
            },
            "outputs": [
                {
                    "data": {
                        "text/plain": "False"
                    },
                    "metadata": {},
                    "execution_count": 31,
                    "output_type": "execute_result"
                }
            ],
            "execution_count": 31
        },
        {
            "cell_type": "code",
            "source": [
                "df_vacunation_Meta.isnull().sum()"
            ],
            "metadata": {
                "scrolled": true,
                "colab": {
                    "base_uri": "https://localhost:8080/"
                },
                "id": "YjvvcmIVSQjN",
                "outputId": "a9671261-acfe-488d-f139-ee4dd7298b94",
                "azdata_cell_guid": "2f9cafa2-052e-4252-b0b4-48afa448d040",
                "language": "python"
            },
            "outputs": [
                {
                    "data": {
                        "text/plain": "PAIS_ISO3                   0\nContinente                 10\nISO_continente             10\nNOMBRE_VACUNA               0\nNOMBRE_TIPO_VACUNA          0\nNOMBRE_COMPAÑIA             0\nFECHA_AUTORIZACION          0\nFECHA_INICIO_VACUNACION     0\nFUENTE_DATOS                0\ndtype: int64"
                    },
                    "metadata": {},
                    "execution_count": 32,
                    "output_type": "execute_result"
                }
            ],
            "execution_count": 32
        },
        {
            "cell_type": "markdown",
            "source": [
                "Observo que aparecen 10 registros con el Campo de **Continente y ISO_continente** nulos"
            ],
            "metadata": {
                "id": "f7YmIOA5SQjN",
                "azdata_cell_guid": "2c73cbf2-6c19-4533-b387-15f0a469deac"
            }
        },
        {
            "cell_type": "code",
            "source": [
                "df_vacunation_Meta[df_vacunation_Meta['Continente'].isnull()]"
            ],
            "metadata": {
                "scrolled": true,
                "colab": {
                    "base_uri": "https://localhost:8080/",
                    "height": 476
                },
                "id": "nZys14HiSQjO",
                "outputId": "a38cfdda-ec15-49fc-f82e-021744a2540c",
                "azdata_cell_guid": "d45d4457-09f2-49d5-805d-691c9501bf70",
                "language": "python"
            },
            "outputs": [
                {
                    "data": {
                        "text/plain": "     PAIS_ISO3 Continente ISO_continente                NOMBRE_VACUNA  \\\n227        SXM       None           None      AstraZeneca - Vaxzevria   \n236        XKX       None           None      AstraZeneca - Vaxzevria   \n335        TLS       None           None      AstraZeneca - Vaxzevria   \n343        PCN       None           None      AstraZeneca - Vaxzevria   \n404        SXM       None           None  Pfizer BioNTech - Comirnaty   \n411        XKX       None           None  Pfizer BioNTech - Comirnaty   \n535        TLS       None           None  Pfizer BioNTech - Comirnaty   \n573        SXM       None           None           Moderna - Spikevax   \n840        TLS       None           None          Sinovac - CoronaVac   \n1010       TLS       None           None             SII - Covishield   \n\n     NOMBRE_TIPO_VACUNA           NOMBRE_COMPAÑIA FECHA_AUTORIZACION  \\\n227           Vaxzevria               AstraZeneca                  0   \n236           Vaxzevria               AstraZeneca                  0   \n335           Vaxzevria               AstraZeneca         23-02-2021   \n343           Vaxzevria               AstraZeneca         17-05-2021   \n404           Comirnaty           Pfizer BioNTech                  0   \n411           Comirnaty           Pfizer BioNTech                  0   \n535           Comirnaty           Pfizer BioNTech         27-08-2021   \n573            Spikevax                   Moderna                  0   \n840           Coronavac                   Sinovac         06-01-2021   \n1010         Covishield  Serum Institute of India         23-02-2021   \n\n     FECHA_INICIO_VACUNACION FUENTE_DATOS  \n227                        0    REPORTING  \n236               31-03-2021    REPORTING  \n335               07-04-2021    REPORTING  \n343               17-05-2021    REPORTING  \n404               22-02-2021    REPORTING  \n411               05-05-2021    REPORTING  \n535               27-10-2021    REPORTING  \n573                        0    REPORTING  \n840               14-06-2021    REPORTING  \n1010              07-04-2021    REPORTING  ",
                        "text/html": "<div>\n<style scoped>\n    .dataframe tbody tr th:only-of-type {\n        vertical-align: middle;\n    }\n\n    .dataframe tbody tr th {\n        vertical-align: top;\n    }\n\n    .dataframe thead th {\n        text-align: right;\n    }\n</style>\n<table border=\"1\" class=\"dataframe\">\n  <thead>\n    <tr style=\"text-align: right;\">\n      <th></th>\n      <th>PAIS_ISO3</th>\n      <th>Continente</th>\n      <th>ISO_continente</th>\n      <th>NOMBRE_VACUNA</th>\n      <th>NOMBRE_TIPO_VACUNA</th>\n      <th>NOMBRE_COMPAÑIA</th>\n      <th>FECHA_AUTORIZACION</th>\n      <th>FECHA_INICIO_VACUNACION</th>\n      <th>FUENTE_DATOS</th>\n    </tr>\n  </thead>\n  <tbody>\n    <tr>\n      <th>227</th>\n      <td>SXM</td>\n      <td>None</td>\n      <td>None</td>\n      <td>AstraZeneca - Vaxzevria</td>\n      <td>Vaxzevria</td>\n      <td>AstraZeneca</td>\n      <td>0</td>\n      <td>0</td>\n      <td>REPORTING</td>\n    </tr>\n    <tr>\n      <th>236</th>\n      <td>XKX</td>\n      <td>None</td>\n      <td>None</td>\n      <td>AstraZeneca - Vaxzevria</td>\n      <td>Vaxzevria</td>\n      <td>AstraZeneca</td>\n      <td>0</td>\n      <td>31-03-2021</td>\n      <td>REPORTING</td>\n    </tr>\n    <tr>\n      <th>335</th>\n      <td>TLS</td>\n      <td>None</td>\n      <td>None</td>\n      <td>AstraZeneca - Vaxzevria</td>\n      <td>Vaxzevria</td>\n      <td>AstraZeneca</td>\n      <td>23-02-2021</td>\n      <td>07-04-2021</td>\n      <td>REPORTING</td>\n    </tr>\n    <tr>\n      <th>343</th>\n      <td>PCN</td>\n      <td>None</td>\n      <td>None</td>\n      <td>AstraZeneca - Vaxzevria</td>\n      <td>Vaxzevria</td>\n      <td>AstraZeneca</td>\n      <td>17-05-2021</td>\n      <td>17-05-2021</td>\n      <td>REPORTING</td>\n    </tr>\n    <tr>\n      <th>404</th>\n      <td>SXM</td>\n      <td>None</td>\n      <td>None</td>\n      <td>Pfizer BioNTech - Comirnaty</td>\n      <td>Comirnaty</td>\n      <td>Pfizer BioNTech</td>\n      <td>0</td>\n      <td>22-02-2021</td>\n      <td>REPORTING</td>\n    </tr>\n    <tr>\n      <th>411</th>\n      <td>XKX</td>\n      <td>None</td>\n      <td>None</td>\n      <td>Pfizer BioNTech - Comirnaty</td>\n      <td>Comirnaty</td>\n      <td>Pfizer BioNTech</td>\n      <td>0</td>\n      <td>05-05-2021</td>\n      <td>REPORTING</td>\n    </tr>\n    <tr>\n      <th>535</th>\n      <td>TLS</td>\n      <td>None</td>\n      <td>None</td>\n      <td>Pfizer BioNTech - Comirnaty</td>\n      <td>Comirnaty</td>\n      <td>Pfizer BioNTech</td>\n      <td>27-08-2021</td>\n      <td>27-10-2021</td>\n      <td>REPORTING</td>\n    </tr>\n    <tr>\n      <th>573</th>\n      <td>SXM</td>\n      <td>None</td>\n      <td>None</td>\n      <td>Moderna - Spikevax</td>\n      <td>Spikevax</td>\n      <td>Moderna</td>\n      <td>0</td>\n      <td>0</td>\n      <td>REPORTING</td>\n    </tr>\n    <tr>\n      <th>840</th>\n      <td>TLS</td>\n      <td>None</td>\n      <td>None</td>\n      <td>Sinovac - CoronaVac</td>\n      <td>Coronavac</td>\n      <td>Sinovac</td>\n      <td>06-01-2021</td>\n      <td>14-06-2021</td>\n      <td>REPORTING</td>\n    </tr>\n    <tr>\n      <th>1010</th>\n      <td>TLS</td>\n      <td>None</td>\n      <td>None</td>\n      <td>SII - Covishield</td>\n      <td>Covishield</td>\n      <td>Serum Institute of India</td>\n      <td>23-02-2021</td>\n      <td>07-04-2021</td>\n      <td>REPORTING</td>\n    </tr>\n  </tbody>\n</table>\n</div>"
                    },
                    "metadata": {},
                    "execution_count": 33,
                    "output_type": "execute_result"
                }
            ],
            "execution_count": 33
        },
        {
            "cell_type": "markdown",
            "source": [
                "Sustituyo los valores nulos por los valores **Sin Determinar** y **Z9**"
            ],
            "metadata": {
                "id": "U0bVLpczSQjO",
                "azdata_cell_guid": "235eb068-3270-4451-897a-74bb0e963715"
            }
        },
        {
            "cell_type": "code",
            "source": [
                "df_vacunation_Meta['Continente'].fillna('Sin Determinar', inplace=True)\n",
                "df_vacunation_Meta['ISO_continente'].fillna('Z9', inplace=True)"
            ],
            "metadata": {
                "id": "1RjpzriRSQjO",
                "azdata_cell_guid": "72adfc0a-9183-401c-8c03-526d405379ea",
                "language": "python"
            },
            "outputs": [],
            "execution_count": 34
        },
        {
            "cell_type": "markdown",
            "source": [
                "Verifico los cambios"
            ],
            "metadata": {
                "id": "Jds2MSC0SQjO",
                "azdata_cell_guid": "3ce3c40b-72a9-44c0-be21-758dc31e752f"
            }
        },
        {
            "cell_type": "code",
            "source": [
                "df_vacunation_Meta[df_vacunation_Meta.ISO_continente == 'Z9']"
            ],
            "metadata": {
                "colab": {
                    "base_uri": "https://localhost:8080/",
                    "height": 580
                },
                "id": "BhGNmKt_SQjO",
                "outputId": "3c3a236b-fdd2-400e-9f94-0e791d27c00b",
                "azdata_cell_guid": "01774043-f70a-4bb6-807b-7a44dd4bd1f3",
                "language": "python"
            },
            "outputs": [
                {
                    "data": {
                        "text/plain": "     PAIS_ISO3      Continente ISO_continente                NOMBRE_VACUNA  \\\n227        SXM  Sin Determinar             Z9      AstraZeneca - Vaxzevria   \n236        XKX  Sin Determinar             Z9      AstraZeneca - Vaxzevria   \n335        TLS  Sin Determinar             Z9      AstraZeneca - Vaxzevria   \n343        PCN  Sin Determinar             Z9      AstraZeneca - Vaxzevria   \n404        SXM  Sin Determinar             Z9  Pfizer BioNTech - Comirnaty   \n411        XKX  Sin Determinar             Z9  Pfizer BioNTech - Comirnaty   \n535        TLS  Sin Determinar             Z9  Pfizer BioNTech - Comirnaty   \n573        SXM  Sin Determinar             Z9           Moderna - Spikevax   \n840        TLS  Sin Determinar             Z9          Sinovac - CoronaVac   \n1010       TLS  Sin Determinar             Z9             SII - Covishield   \n\n     NOMBRE_TIPO_VACUNA           NOMBRE_COMPAÑIA FECHA_AUTORIZACION  \\\n227           Vaxzevria               AstraZeneca                  0   \n236           Vaxzevria               AstraZeneca                  0   \n335           Vaxzevria               AstraZeneca         23-02-2021   \n343           Vaxzevria               AstraZeneca         17-05-2021   \n404           Comirnaty           Pfizer BioNTech                  0   \n411           Comirnaty           Pfizer BioNTech                  0   \n535           Comirnaty           Pfizer BioNTech         27-08-2021   \n573            Spikevax                   Moderna                  0   \n840           Coronavac                   Sinovac         06-01-2021   \n1010         Covishield  Serum Institute of India         23-02-2021   \n\n     FECHA_INICIO_VACUNACION FUENTE_DATOS  \n227                        0    REPORTING  \n236               31-03-2021    REPORTING  \n335               07-04-2021    REPORTING  \n343               17-05-2021    REPORTING  \n404               22-02-2021    REPORTING  \n411               05-05-2021    REPORTING  \n535               27-10-2021    REPORTING  \n573                        0    REPORTING  \n840               14-06-2021    REPORTING  \n1010              07-04-2021    REPORTING  ",
                        "text/html": "<div>\n<style scoped>\n    .dataframe tbody tr th:only-of-type {\n        vertical-align: middle;\n    }\n\n    .dataframe tbody tr th {\n        vertical-align: top;\n    }\n\n    .dataframe thead th {\n        text-align: right;\n    }\n</style>\n<table border=\"1\" class=\"dataframe\">\n  <thead>\n    <tr style=\"text-align: right;\">\n      <th></th>\n      <th>PAIS_ISO3</th>\n      <th>Continente</th>\n      <th>ISO_continente</th>\n      <th>NOMBRE_VACUNA</th>\n      <th>NOMBRE_TIPO_VACUNA</th>\n      <th>NOMBRE_COMPAÑIA</th>\n      <th>FECHA_AUTORIZACION</th>\n      <th>FECHA_INICIO_VACUNACION</th>\n      <th>FUENTE_DATOS</th>\n    </tr>\n  </thead>\n  <tbody>\n    <tr>\n      <th>227</th>\n      <td>SXM</td>\n      <td>Sin Determinar</td>\n      <td>Z9</td>\n      <td>AstraZeneca - Vaxzevria</td>\n      <td>Vaxzevria</td>\n      <td>AstraZeneca</td>\n      <td>0</td>\n      <td>0</td>\n      <td>REPORTING</td>\n    </tr>\n    <tr>\n      <th>236</th>\n      <td>XKX</td>\n      <td>Sin Determinar</td>\n      <td>Z9</td>\n      <td>AstraZeneca - Vaxzevria</td>\n      <td>Vaxzevria</td>\n      <td>AstraZeneca</td>\n      <td>0</td>\n      <td>31-03-2021</td>\n      <td>REPORTING</td>\n    </tr>\n    <tr>\n      <th>335</th>\n      <td>TLS</td>\n      <td>Sin Determinar</td>\n      <td>Z9</td>\n      <td>AstraZeneca - Vaxzevria</td>\n      <td>Vaxzevria</td>\n      <td>AstraZeneca</td>\n      <td>23-02-2021</td>\n      <td>07-04-2021</td>\n      <td>REPORTING</td>\n    </tr>\n    <tr>\n      <th>343</th>\n      <td>PCN</td>\n      <td>Sin Determinar</td>\n      <td>Z9</td>\n      <td>AstraZeneca - Vaxzevria</td>\n      <td>Vaxzevria</td>\n      <td>AstraZeneca</td>\n      <td>17-05-2021</td>\n      <td>17-05-2021</td>\n      <td>REPORTING</td>\n    </tr>\n    <tr>\n      <th>404</th>\n      <td>SXM</td>\n      <td>Sin Determinar</td>\n      <td>Z9</td>\n      <td>Pfizer BioNTech - Comirnaty</td>\n      <td>Comirnaty</td>\n      <td>Pfizer BioNTech</td>\n      <td>0</td>\n      <td>22-02-2021</td>\n      <td>REPORTING</td>\n    </tr>\n    <tr>\n      <th>411</th>\n      <td>XKX</td>\n      <td>Sin Determinar</td>\n      <td>Z9</td>\n      <td>Pfizer BioNTech - Comirnaty</td>\n      <td>Comirnaty</td>\n      <td>Pfizer BioNTech</td>\n      <td>0</td>\n      <td>05-05-2021</td>\n      <td>REPORTING</td>\n    </tr>\n    <tr>\n      <th>535</th>\n      <td>TLS</td>\n      <td>Sin Determinar</td>\n      <td>Z9</td>\n      <td>Pfizer BioNTech - Comirnaty</td>\n      <td>Comirnaty</td>\n      <td>Pfizer BioNTech</td>\n      <td>27-08-2021</td>\n      <td>27-10-2021</td>\n      <td>REPORTING</td>\n    </tr>\n    <tr>\n      <th>573</th>\n      <td>SXM</td>\n      <td>Sin Determinar</td>\n      <td>Z9</td>\n      <td>Moderna - Spikevax</td>\n      <td>Spikevax</td>\n      <td>Moderna</td>\n      <td>0</td>\n      <td>0</td>\n      <td>REPORTING</td>\n    </tr>\n    <tr>\n      <th>840</th>\n      <td>TLS</td>\n      <td>Sin Determinar</td>\n      <td>Z9</td>\n      <td>Sinovac - CoronaVac</td>\n      <td>Coronavac</td>\n      <td>Sinovac</td>\n      <td>06-01-2021</td>\n      <td>14-06-2021</td>\n      <td>REPORTING</td>\n    </tr>\n    <tr>\n      <th>1010</th>\n      <td>TLS</td>\n      <td>Sin Determinar</td>\n      <td>Z9</td>\n      <td>SII - Covishield</td>\n      <td>Covishield</td>\n      <td>Serum Institute of India</td>\n      <td>23-02-2021</td>\n      <td>07-04-2021</td>\n      <td>REPORTING</td>\n    </tr>\n  </tbody>\n</table>\n</div>"
                    },
                    "metadata": {},
                    "execution_count": 35,
                    "output_type": "execute_result"
                }
            ],
            "execution_count": 35
        },
        {
            "cell_type": "code",
            "source": [
                "df_vacunation_Meta.columns=['PAIS_ISO3', 'CONTINENTE','ISO_continente','NOMBRE_VACUNA', 'NOMBRE_TIPO_VACUNA', 'NOMBRE_COMPAÑIA',\n",
                "       'FECHA_AUTORIZACION', 'FECHA_INICIO_VACUNACION','FUENTE_DATOS']"
            ],
            "metadata": {
                "id": "NHKpYgozSQjP",
                "azdata_cell_guid": "d89a3926-4891-4e9c-8276-16c2eeabbe70",
                "language": "python"
            },
            "outputs": [],
            "execution_count": 36
        },
        {
            "cell_type": "markdown",
            "source": [
                "Exporto el fichero depurado\n",
                "\n"
            ],
            "metadata": {
                "id": "2R9C8SqaSQjR",
                "azdata_cell_guid": "14d045b0-1818-4fad-9c20-7c8754019682"
            }
        },
        {
            "cell_type": "code",
            "source": [
                "#df_vacunation_Meta.to_csv('df_vacunation_tipo.csv', index=False)"
            ],
            "metadata": {
                "id": "xe2os9ySSQjR",
                "azdata_cell_guid": "a14160d0-ff70-4a80-8227-50fc9b2d141a",
                "language": "python"
            },
            "outputs": [],
            "execution_count": 37
        },
        {
            "cell_type": "markdown",
            "source": [
                "# Establecemos **Conexión a BBDD y Carga de Ficheros** (Azure Data Studio)"
            ],
            "metadata": {
                "language": "python",
                "azdata_cell_guid": "0c07e1c1-ff59-49f4-b1db-2a27bbe5a6a8"
            },
            "attachments": {}
        },
        {
            "cell_type": "code",
            "source": [
                "import pyodbc\r\n",
                "server = 'servidortfmcovid-v2.database.windows.net'\r\n",
                "database = 'basedatostfmcovid-v2'\r\n",
                "username = 'admintfmcovid_v2'\r\n",
                "password = 'TFMcovid2023!_v2'\r\n",
                "cnxn = pyodbc.connect('DRIVER={SQL Server};SERVER='+server+';DATABASE='+database+';UID='+username+';PWD='+ password)\r\n",
                "cursor = cnxn.cursor()\r\n",
                "\r\n",
                "# Nombre de la tabla en la base de datos\r\n",
                "nombre_de_tabla = 'dbo.VACUNAS_TIPOS'  # Reemplaza 'MiTabla' por el nombre de tu tabla\r\n",
                "\r\n",
                "# Eliminar registros\r\n",
                "cursor.execute(f\"DELETE FROM {nombre_de_tabla}\")\r\n",
                "\r\n",
                "# Inserta los datos del DataFrame en la tabla\r\n",
                "for index, row in df_vacunation_Meta.iterrows():\r\n",
                "    insert_query = f\"INSERT INTO {nombre_de_tabla} ({', '.join(df_vacunation_Meta.columns)}) VALUES ({', '.join(['?'] * len(df_vacunation_Meta.columns))})\"\r\n",
                "    cursor.execute(insert_query, tuple(row))\r\n",
                "    cnxn.commit()\r\n",
                "\r\n",
                "# Cierra la conexión\r\n",
                "cnxn.close()"
            ],
            "metadata": {
                "language": "python",
                "azdata_cell_guid": "19e60db3-ed4b-4c87-af82-316ee195ad06"
            },
            "outputs": [],
            "execution_count": null
        }
    ]
}